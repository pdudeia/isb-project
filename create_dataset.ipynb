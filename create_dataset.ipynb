{
 "cells": [
  {
   "cell_type": "code",
   "execution_count": 1,
   "metadata": {},
   "outputs": [],
   "source": [
    "import pickle\n",
    "import nltk\n",
    "from glob import glob\n",
    "from gensim.models import KeyedVectors\n",
    "from tqdm import tqdm\n",
    "import numpy as np\n",
    "import matplotlib.pyplot as plt\n",
    "import random\n",
    "import copy\n",
    "import time\n",
    "import torch\n",
    "import torch.nn as nn\n",
    "import torch.nn.functional as F\n",
    "import torchtext.vocab as vocab\n",
    "from torch.utils.data import Dataset,DataLoader\n",
    "from torch.nn.utils.rnn import pad_packed_sequence, pack_padded_sequence\n",
    "from sklearn.metrics import confusion_matrix\n",
    "import pandas as pd\n",
    "import seaborn as sn"
   ]
  },
  {
   "cell_type": "code",
   "execution_count": 2,
   "metadata": {},
   "outputs": [
    {
     "name": "stderr",
     "output_type": "stream",
     "text": [
      "C:\\Users\\Owner\\Anaconda3\\envs\\cs231n\\lib\\site-packages\\ipykernel_launcher.py:2: DeprecationWarning: Call to deprecated `wv` (Attribute will be removed in 4.0.0, use self instead).\n",
      "  \n"
     ]
    }
   ],
   "source": [
    "gensim_model = KeyedVectors.load_word2vec_format('models/1200_1507.txt')\n",
    "model_vocab = gensim_model.wv.vocab"
   ]
  },
  {
   "cell_type": "code",
   "execution_count": 3,
   "metadata": {},
   "outputs": [],
   "source": [
    "class vocabulary():\n",
    "    \n",
    "    def __init__(self,model_vocab):\n",
    "        self.word2idx = {word:model_vocab[word].index+1 for word in list(model_vocab)}\n",
    "        self.pad_token = 0\n",
    "        self.word2idx['<padtoken>'] = self.pad_token\n",
    "        self.idx2word = {value:key for key,value in self.word2idx.items()}\n",
    "        self.unkid = len(self.word2idx)+1\n",
    "        \n",
    "    def __len__(self):\n",
    "        return len(self.word2idx)\n",
    "\n",
    "    def __getitem__(self, word):\n",
    "        return self.word2idx.get(word, self.unkid)\n",
    "\n",
    "    def __contains__(self, word):\n",
    "        return word in self.word2idx\n",
    "    \n",
    "    def id2word(self, wid):\n",
    "        return self.idx2word[wid]\n",
    "    \n",
    "    def words2indices(self, sents):\n",
    "        if type(sents[0]) == list:\n",
    "            return [[self[w] for w in s] for s in sents]\n",
    "        else:\n",
    "            return [self[w] for w in sents]\n",
    "\n",
    "    def indices2words(self, word_ids):\n",
    "        return [self.idx2word[w_id] for w_id in word_ids]\n",
    "\n",
    "    def pad_sents(self,sents, pad_token):\n",
    "        sents_padded = []\n",
    "        sents_lens = [len(sentence) for sentence in sents]\n",
    "        max_sent_len = max(sents_lens)\n",
    "        for sentence in sents:\n",
    "            sents_padded.append(sentence)\n",
    "            for _ in range(max_sent_len-len(sentence)):\n",
    "                sents_padded[-1].append(pad_token)\n",
    "        return sents_padded\n",
    "    \n",
    "    def to_input_tensor(self,sents,device=torch.device('cuda:0')):\n",
    "#         word_ids = self.words2indices(sents)\n",
    "        word_ids = sents\n",
    "        sents_t = self.pad_sents(word_ids, self['<padtoken>'])\n",
    "        sents_var = torch.tensor(sents_t, dtype=torch.long, device=device)\n",
    "        return torch.t(sents_var)"
   ]
  },
  {
   "cell_type": "code",
   "execution_count": 4,
   "metadata": {},
   "outputs": [],
   "source": [
    "all_comps = pd.read_csv('Reports_2008.csv')"
   ]
  },
  {
   "cell_type": "code",
   "execution_count": 5,
   "metadata": {},
   "outputs": [
    {
     "data": {
      "text/html": [
       "<div>\n",
       "<style scoped>\n",
       "    .dataframe tbody tr th:only-of-type {\n",
       "        vertical-align: middle;\n",
       "    }\n",
       "\n",
       "    .dataframe tbody tr th {\n",
       "        vertical-align: top;\n",
       "    }\n",
       "\n",
       "    .dataframe thead th {\n",
       "        text-align: right;\n",
       "    }\n",
       "</style>\n",
       "<table border=\"1\" class=\"dataframe\">\n",
       "  <thead>\n",
       "    <tr style=\"text-align: right;\">\n",
       "      <th></th>\n",
       "      <th>cik</th>\n",
       "      <th>Tables</th>\n",
       "      <th>Images</th>\n",
       "      <th>Text</th>\n",
       "    </tr>\n",
       "  </thead>\n",
       "  <tbody>\n",
       "    <tr>\n",
       "      <th>0</th>\n",
       "      <td>1000180</td>\n",
       "      <td>165.0</td>\n",
       "      <td>1.0</td>\n",
       "      <td>10-K 1 f38194e10vk.htm FORM 10-K  e10vk Washin...</td>\n",
       "    </tr>\n",
       "    <tr>\n",
       "      <th>1</th>\n",
       "      <td>1000697</td>\n",
       "      <td>128.0</td>\n",
       "      <td>1.0</td>\n",
       "      <td>10-K 1 b68112wce10vk.htm WATERS CORPORATION  e...</td>\n",
       "    </tr>\n",
       "    <tr>\n",
       "      <th>2</th>\n",
       "      <td>1001250</td>\n",
       "      <td>77.0</td>\n",
       "      <td>0.0</td>\n",
       "      <td>10-K 1 a08-22004_110k.htm 10-K Table of Conten...</td>\n",
       "    </tr>\n",
       "    <tr>\n",
       "      <th>3</th>\n",
       "      <td>1001288</td>\n",
       "      <td>184.0</td>\n",
       "      <td>1.0</td>\n",
       "      <td>10-K 1 l29751ae10vk.htm LEXMARK INTERNATIONAL,...</td>\n",
       "    </tr>\n",
       "    <tr>\n",
       "      <th>4</th>\n",
       "      <td>1002047</td>\n",
       "      <td>142.0</td>\n",
       "      <td>1.0</td>\n",
       "      <td>10-K 1 f38790e10vk.htm FORM 10-K  e10vk Washin...</td>\n",
       "    </tr>\n",
       "  </tbody>\n",
       "</table>\n",
       "</div>"
      ],
      "text/plain": [
       "       cik  Tables  Images                                               Text\n",
       "0  1000180   165.0     1.0  10-K 1 f38194e10vk.htm FORM 10-K  e10vk Washin...\n",
       "1  1000697   128.0     1.0  10-K 1 b68112wce10vk.htm WATERS CORPORATION  e...\n",
       "2  1001250    77.0     0.0  10-K 1 a08-22004_110k.htm 10-K Table of Conten...\n",
       "3  1001288   184.0     1.0  10-K 1 l29751ae10vk.htm LEXMARK INTERNATIONAL,...\n",
       "4  1002047   142.0     1.0  10-K 1 f38790e10vk.htm FORM 10-K  e10vk Washin..."
      ]
     },
     "execution_count": 5,
     "metadata": {},
     "output_type": "execute_result"
    }
   ],
   "source": [
    "all_comps.head()"
   ]
  },
  {
   "cell_type": "code",
   "execution_count": 6,
   "metadata": {},
   "outputs": [
    {
     "data": {
      "text/plain": [
       "'10-K 1 f38194e10vk.htm FORM 10-K  e10vk Washington, D.C. 20549 Indicate by check mark if the registrant is a well-known seasoned issuer, as defined in Rule 405 of the Securities Act.  Yes þ     No o Indicate by check mark if the registrant is not required to file reports pursuant to Section 13 or Section 15d of the Exchange Act.  Yes o     No þ Indicate by check mark whether the registrant 1 has filed all reports required to be filed by Section 13 or 15d of the Securities Exchange Act of 1934 during the preceding 12 months or for such shorter period that the registrant was required to file such reports, and 2 has been subject to such filing requirements for the past 90 days.  Yes þ     No o Indicate by check mark if disclosure of delinquent filers pursuant to Item 405 of Regulation S-K is not contained herein, and will not be contained, to the best of registrants knowledge, in definitive proxy or information statements incorporated by reference in Part III of this Form 10-K or any amendment to this Form 10-K.  o Indicate by check mark whether the registrant is a large accelerated filer, an accelerated filer, a non-accelerated filer, or a smaller reporting company. See definitions of large accelerated filer, accelerated filer, and smaller reporting company in Rule 12b-2 of the Exchange Act. Check one: Do not check if a smaller reporting company Indicate by check mark whether the registrant is a shell company as defined in Rule 12b-2 of the Exchange Act.  Yes o     No þ As of June 29, 2007, the aggregate market value of the registrants common stock held by non-affiliates of the registrant was $3,674,024,078 based on the closing sale price as reported on the NASDAQ Global Select Market. Indicate the number of shares outstanding of each of the issuers classes of common stock, as of the latest practicable date. looking statements within the meaning of the federal securities laws. These statements may contain words such as expects, anticipates, intends, plans, believes, seeks, estimates or other wording indicating future results or expectations. Forward-looking statements are subject to risks and uncertainties. Our actual results may differ materially from the results discussed in these forward-looking statements. Factors that could cause our actual results to differ materially include, but are not limited to, those discussed in Risk Factors in Item  1A of this report, and elsewhere in this report. Our business, financial condition or results of operations could be materially adversely affected by any of these factors. We undertake no obligation to revise or update any forward-looking statements to reflect any event or circumstance that arises after the date of this report. References in this report to SanDisk, we, our, and us, collectively refer to SanDisk Corporation, a Delaware corporation, and its subsidiaries. All references to years or annual periods are references to our fiscal years, which consisted of 52 weeks in 2007, 2006 and 2005._ worldwide leader in NAND-based flash storage cards. Flash storage technology allows data to be stored using limited power in a durable, compact format that retains the data after the power has been turned off. Our mission is to provide simple, reliable and affordable storage for consumer use in portable devices. We sell SanDisk branded products for consumer electronics through broad global retail and original equipment manufacturer, or OEM, distribution channels. We design, develop and manufacture products and solutions in a variety of form factors using our flash memory, controller and firmware technologies. We source the vast majority of our flash memory supply through our significant flash venture relationships with Toshiba Corporation, or Toshiba, which provide us with leading edge low-cost memory wafers. Our cards are used in a wide range of consumer electronics devices such as mobile phones, digital cameras, gaming devices and laptop computers. We also produce Universal Serial Bus, or USB, drives, MP3 players and other flash storage products that are embedded in a variety of systems for the enterprise, industrial, military and other markets. of flash storage solutions and to develop large scale high-growth markets for flash storage products. We maintain our technology leadership by investing in flash memory fabrication capacity and advanced technologies in order to produce leading-edge, low cost flash memory for use in end-products that we design. We are a one-stop-shop for our retail and OEM customers, selling all major flash storage card formats for our target markets in high volumes. Our revenues are driven by the sale of our products and the licensing of our intellectual property. We believe the market for flash storage is price elastic. From fiscal years 2006 to 2007, we increased the number of megabytes sold by 190 in large measure due to a decrease of 60 in our average selling price per megabyte over the same period. This price decline is largely enabled by rapid technology innovation which significantly reduces our cost per megabyte. Our management team believes that more applications for flash storage will be created through the continued increase in the number of megabytes a consumer can purchase at a given price point. Price declines that drove increased volume resulted, in part, in an increase in our product revenues from $2.9 billion in fiscal year 2006 to $3.4 billion in fiscal year 2007. In addition, our license revenue increased from $331 million in fiscal year 2006 to $450 million in fiscal year 2007 as a result of continued adoption of flash technologies and increased sales by our licensees. We enable new markets for NAND flash memory through a variety of embedded and removable card form factors, and we are founders or co-founders of most major form factors of flash storage cards in the market today. We pioneered the Secure Digital, or SDtm, card, together with a subsidiary of Toshiba and Matsushita Electric Industries, Ltd., or Matsushita, which owns the Panasonic brand. The SD card is currently the most popular form factor of flash storage cards used in digital cameras. Subsequent to pioneering the SD card, we worked with mobile network operators and handset manufacturers to develop the miniSDtm card and microSDtm card to satisfy the need for even smaller form factor memory cards. The microSD card has become the leading card format for mobile phones. With Sony Corporation, or Sony, we co-own the Memory Stick PROtm format and co-developed the SxS memory card specification for high capacity, high speed file transfer in professional camcorders. We also worked with Canon, Inc. to co-found the CompactFlash, or CF, standard. Through our internal development and technology obtained through acquisitions, we also hold key intellectual property for USB drives. We plan to continue to work with leading mobile communications and digital consumer device companies to discover new markets for flash storage products. Our team has a deep understanding of flash memory technology and we develop and own leading-edge technology and patents for the design, manufacture and operation of flash memory and data storage cards. One of the key technologies that we have patented and successfully commercialized is multi-level cell technology, or MLC, which allows a flash memory cell to be programmed to store two or more bits of data in approximately the same area of silicon that is typically required to store one bit of data. We have an extensive patent portfolio that has been licensed by several leading semiconductor companies. Our cumulative license and royalty revenues over the last three fiscal years were more than $1.02 billion. We continue to invest with Toshiba in high volume, state-of-the-art flash manufacturing facilities in Japan. Our commitment takes the form of capital investments and loans to the flash ventures with Toshiba, credit enhancements of these ventures leases of semiconductor manufacturing equipment, commitments, on a take-or-pay basis, to purchase 50 of the output of these flash ventures with Toshiba at manufacturing cost plus a mark-up and sharing in the cost of SanDisk-Toshiba joint research and development activities related to flash memory. We supplement our sourcing of flash memory from the flash ventures with Toshiba with purchases of memory on favorable terms primarily from Samsung Electronics Co., Ltd., or Samsung, and Toshiba. Additionally, we design in-house and fabricate at third-party foundries the controllers that interface between flash memory and digital consumer devices. Our flash memory products are assembled in our in-house assembly and test facility in Shanghai, China, and through our network of contract manufacturers. We sell our products globally to retail and OEM customers. We continue to expand our retail customer base to new geographic regions as well as to new outlets such as mobile storefronts, supermarkets and drug stores. In North America, we sell our products principally through retailers such as Best Buy Co., Inc., or Best Buy, Circuit City Stores, Inc., Costco Wholesale Corporation and Wal-Mart Stores, Inc. In Europe and Asia, some of our key customers include Duttenhofer GmbH  Co. KG, Hama GmbH  Co. KG, Nokia Corporation, Sony Ericsson Mobile Communications AB, Twinmos Technologies Inc. and Zenitron Corporation. There are now more than 222,000 worldwide retail storefronts offering SanDisk products. We also sell directly and through distributors to OEM customers, which include mobile phone and digital camera manufacturers, that include our products with their products when sold to end users. This strategy allows us to leverage the market position, geographic footprint and brand strength of our customers to achieve broad market penetration for our products. under the name SunDisk Corporation and changed our name to SanDisk Corporation in August 1995. We file reports and other information with the Securities and Exchange Commission, or SEC, including annual reports on Form 10-K, quarterly reports on Form 10-Q, current reports on Form 8-K and proxy or information statements. Those reports and statements and all amendments to those documents filed or furnished pursuant to Section 13a or 15d of the Securities Exchange Act 1 may be read and copied at the SECs Public Reference Room at 100 F Street, N.E., Washington, D.C. 20549, 2 are available at the SECs internet site http:www.sec.gov, which contains reports, proxy and information statements and other information regarding issuers that file electronically with the SEC and 3 are available free of charge through our website as soon as reasonably practicable after electronic filing with, or furnishing to, the SEC. Information regarding the operation of the SECs Public Reference Room may be obtained by calling the SEC at 1-800-SEC-0330. Our website address is www.sandisk.com. Information on our website is not incorporated by reference nor otherwise included in this report. Our principal executive offices are located at 601 McCarthy Blvd., Milpitas, CA 95035 and our telephone number is 408 801-1000. SanDisk is a trademark of SanDisk Corporation, and is registered in the United States, or U.S., and other countries. Other brand names mentioned herein are for identification purposes only and may be the trademarks of their respective holders. encompasses traditional personal computers, or PCs, consumer electronics, communications and industrial products. Our products use flash memory to store digital information for devices such as mobile phones, digital cameras, digital video camcorders, gaming devices, portable digital audiovideo players, PCs, blade servers and global positioning system, or GPS, devices. These applications require storage that is small in form factor, portable and removable, highly reliable, high capacity, low in power consumption, and capable of withstanding high levels of shock vibration and temperature fluctuations. The flash memory market is primarily comprised of NOR and NAND technologies. NOR is traditionally used for code storage and is characterized by fast read speeds. NOR generally costs more per megabyte and has lower storage capacities than NAND. NAND flash memory is traditionally used for embedded and removable data storage and is characterized by fast write speeds and high capacities. We internally develop flash memory technologies, produce the flash memory primarily through the flash ventures with Toshiba and utilize this production output in products that we design and sell to our various end markets. than 222,000 worldwide retail storefronts and also by bundling data storage cards with host products or by embedding our data storage products in host devices sold by our OEM customers. Our sales are made through the following channels: We have a separate distribution network focused on the mobile phone market. Our distributors provide us access to mobile network operator branded storefronts as well as other retailers with significant mobile communications offerings. We support our retail sales channels with both direct sales representatives and independent manufacturers representatives. We have organized our sales activities into four regional territories: Americas, Europe, Middle East and Africa, or EMEA, Asia Pacific, or APAC, and Japan. As of the end of fiscal years 2007 and 2006, our backlog was $224 million and $177 million, respectively. Due to industry practice that allows customers to change or cancel orders with limited advance notice prior to shipment, we do not believe that backlog, as of any particular date, is indicative of future sales. Our revenues are seasonally higher in our fourth quarter due to the holiday buying season. Our first and third quarters have sometimes been seasonally lower than the preceding quarters. 10 customers and licensees accounted for approximately 46, 52 and 50 of our total revenues, respectively. In fiscal years 2007 and 2006, no single customer or licensee accounted for greater than 10 of our total revenues. In fiscal year 2005, Best Buy accounted for 11 of our total revenues. The composition of our major customer base has changed over time, and we expect this pattern to continue as our markets and strategies evolve. Sales to our customers are generally made pursuant to purchase orders rather than long-term contracts. variety of form factors and include the following: and standardization efforts on developing highly reliable, high-performance, cost-effective flash memory storage products in small form factors to address a variety of emerging markets. We have been actively involved in all aspects of this development, including flash memory process development, module integration, chip design, controller development and system-level integration, to help ensure the creation of fully-integrated, broadly interoperable products that are compatible with both existing and newly developed system platforms. We intend to start limited production on 3-bitscell technology, or X3, in fiscal year 2008 and we are also investing in the development of 4-bitscell, or X4, storage technologies. In addition, we are investing in the development of three-dimensional, or 3D, memory architecture with multiple read-write capabilities. We have also initiated, defined and developed standards to meet new market needs and to promote wide acceptance of these standards through interoperability and ease-of-use. We believe our core technical competencies are in: To achieve compatibility with various electronic platforms regardless of the host processors or operating systems used, we developed new capabilities in flash memory chip design and created intelligent controllers. We also developed an architecture that can leverage advances in process technology designed for scaleable, high-yielding, cost-effective and highly reliable manufacturing processes. We design our products to be compatible with industry-standard interfaces used in standard operating systems for personal computers, mobile phones, gaming devices, digital media players and other consumer and industrial products. Our patented intelligent controller technology, with its advanced defect management system, permits our flash storage card products to achieve a high level of reliability and longevity. Each one of our flash devices contains millions of flash memory cells. For example, our 4 gigabyte cards may contain as many as 35 billion storage cells. A failure in any one of these cells can result in loss of data such as picture files, and this can occur several years into the life of a flash storage card. The controller chip inside our cards is designed to detect such defects and recover data under most standard conditions. copyright and trade secret laws, confidentiality procedures and licensing arrangements to protect our intellectual property rights. See Item 1A, Risk Factors. As of the end of fiscal year 2007, we owned, or had rights to, more than 860 United States patents and more than 550 foreign patents. We had more than 1,440 patent applications pending in the United States, and had foreign counterparts pending on many of the applications in multiple jurisdictions. We continually seek additional international and United States patents on our technology. We have various patent licenses with several companies including, among others, Hynix Semiconductor, Inc., or Hynix, Intel Corporation, or Intel, Lexar Media, Inc., or Lexar, a subsidiary of Micron Technology, Inc., or Micron, Matsushita, Renesas Technology Corporation, or Renesas, Samsung, Sharp Electronics KK, or Sharp, Sony and Toshiba. From time-to-time, we have also entered into discussions with other companies regarding potential license agreements for our patents. Trade secrets and other confidential information are also important to our business. We protect our trade secrets through confidentiality and invention assignment agreements. Toshiba foundry relationship. This represents captive memory supply, and we are obligated to take the output from the flash ventures with Toshiba. See Ventures with Toshiba. We also purchase non-captive NAND memory supply primarily from Samsung and Hynix, and source our 3D one-time programmable, or OTP, memory on a foundry basis at Taiwan Semiconductor Manufacturing Corporation, or TSMC. We are guaranteed a certain amount of the total output from Samsung and Hynix, but we are not obligated to use the guaranteed supply until we give them an order for future purchases. Our controller wafers are currently supplied by Semiconductor Manufacturing International Corporation, or SMIC, TSMC, Tower Semiconductor Ltd., or Tower, and United Microelectronics Corporation, or UMC. We have a foundry agreement with Tower on a purchase order basis. See Item 1A, Risk Factors. We and Toshiba have entered into several business ventures. In May 2000, we formed FlashVision Ltd., or FlashVision, which produces 200-millimeter NAND flash memory wafers. In September 2004, we and Toshiba formed Flash Partners Ltd., or Flash Partners, or Fab 3, which produces 300-millimeter NAND flash wafers and ramped to a full production capacity of approximately 150,000 wafers per month during fiscal year 2007. In July 2006, we and Toshiba formed Flash Alliance Ltd., or Flash Alliance, or Fab 4, a new 300-millimeter wafer fabrication facility which began initial production in the third quarter of fiscal year 2007 and is expected to expand to approximately 110,000 wafers per month by mid-fiscal year 2008. Full capacity is expected to reach approximately 210,000 wafers per month, with the timeframe to reach this capacity to be mutually agreed upon by the parties. We are in preliminary discussions with Toshiba regarding the potential wind-down of the 200-millimeter FlashVision venture. We and Toshiba have also signed a non- binding memorandum of understanding to form a new memory wafer fab in Japan. See Note 19 Subsequent Events to our consolidated financial statements included in Item 8 of this report. With the FlashVision, Flash Partners and Flash Alliance ventures located at Toshibas Yokkaichi Japan operations, we and Toshiba collaborate in the development and manufacture of NAND flash memory products using the semiconductor manufacturing equipment owned or leased by each venture entity. We hold a 49.9 ownership position in each of the current Toshiba and SanDisk venture entities. Each venture entity purchases wafers from Toshiba at cost and then resells those wafers to us and Toshiba at cost plus a mark-up. We are committed to purchase, and entitled to, half of each ventures NAND wafer supply and are committed to fund 49.9 of each ventures costs to the extent that the ventures revenues from wafer sales to us and Toshiba are insufficient to cover these costs. The investments in each venture entity are shared equally between us and Toshiba. In addition, we purchase wafers from Toshiba on a foundry basis. We face competition from numerous semiconductor manufacturers and manufacturers and resellers of flash memory cards, USB drives, digital audio players and other consumer electronic devices. We also face competition from manufacturers of hard disk drives and from new technologies. See Item 1A, Risk Factors. currently include Hynix, IM Flash Technologies LLC, or IM Flash a company formed by Micron and Intel, Micron, Samsung, STMicroelectronics N.V., or STMicro, and Toshiba. drive competitors currently include, among others, A-Data Technology Co., Ltd., or A-Data, Buffalo Technology, Inc., or Buffalo, Chips and More GmbH, or CN Memory, Dane-Elec Memory, or Dane-Elec, Elecom Co., Ltd., or Elecom, FUJIFILM Corporation, or FUJI, Hagiwara Sys-Com Co., Ltd., or Hagiwara, Hama Corporation, Inc., or Hama, Imation Corporation, or Imation, and its division Memorex Products, Inc., or Memorex, IO Data Device, Inc., or IO Data, Kingmax, Inc., or KingMax, Kingston Technology Company, Inc., or Kingston, Eastman Kodak Company, or Kodak, Lexar Media, Inc., or Lexar, Matsushita Electric Industrial Co., Ltd. which owns the Panasonic brands, or Panasonic, Netac Technology Co., or Netac, PNY Technologies, Inc., or PNY, RITEK Corporation, or RITEK, Samsung, Sony, Toshiba, Tradebrands International, or Tradebrands, Transcend Information, Inc., or Transcend, and Verbatim Corporation, or Verbatim. face strong competition from products offered by other companies, including Apple Inc., or Apple, ARCHOS Technology, or ARCHOS, Creative Technologies, Ltd., or Creative, Microsoft Corporation, or Microsoft, Samsung and Sony. and many companies are attempting to develop memory cells that use different designs and materials in order to reduce memory costs. These potential competitive technologies include phase-change technology, charge-trap flash and millipedesprobes. As of December 30, 2007, we had 3,172 full-time employees, including 1,255 in research and development, 506 in sales and marketing, 470 in general and administration, and 941 in operations. None of our employees are represented by a collective bargaining agreement and we have never experienced any work stoppage. We believe that our employee relations are satisfactory. Our executive officers, who are elected by and serve at the discretion of our board of directors, are as follows all ages are as of February 15, 2008: Dr. Eli Harari, the founder of SanDisk, has served as Chief Executive Officer and as a director of SanDisk since June 1988. He was appointed Chairman of the Board in June 2006. Dr. Harari also served as President from June 1988 to June 2006. Dr. Harari founded Waferscale Integration, Inc., a privately held semiconductor company, in 1983 and was its President and Chief Executive Officer from 1983 to 1986, and Chairman and Chief Technical Officer from 1986 to 1988. From 1973 to 1983, Dr. Harari held various management positions with Honeywell Inc., Intel Corporation and Hughes Microelectronics Ltd. Dr. Harari holds a Ph.D. in Solid State Sciences from Princeton University and has more than 100 patents issued in the field of non-volatile memories and storage systems. Dr. Harari is a board member of Tower. Sanjay Mehrotra co-founded SanDisk in 1988 and has been our President since June 2006. He continues to serve as our Chief Operating Officer, a position he has held since 2001, and he has previously served as our Executive Vice President, Vice President of Engineering, Vice President of Product Development, and Director of Memory Design and Product Engineering. Mr. Mehrotra has more than 25 years of experience in the non-volatile semiconductor memory industry including engineering and engineering management positions at Intel Corporation, Seeq Technology, Integrated Device Technology and Atmel Corporation. Mr. Mehrotra earned B.S. and M.S. degrees in Electrical Engineering and Computer Sciences from the University of California, Berkeley. He also holds several patents and has published articles in the area of non- volatile memory design and flash memory systems. Judy Bruner has been our Chief Financial Officer and Executive Vice President Administration since June 2004. She served as a member of our board of directors from July 2002 to July 2004. Ms. Bruner has over 25 years of financial management experience, including serving as Senior Vice President and Chief Financial Officer of Palm, Inc., a provider of handheld computing and communications solutions, from September 1999 until June 2004. Prior to Palm, Inc., Ms. Bruner held financial management positions with 3Com Corporation, Ridge Computers and Hewlett-Packard Company. Ms. Bruner also serves on the board of directors of Vermillion, Inc. Ms. Bruner holds a B.A. degree in Economics from the University of California, Los Angeles and an M.B.A. degree from Santa Clara University. Dr. Randhir Thakur has been our Executive Vice President, Technology and Worldwide Operations since September 2005. Prior to joining us, Dr. Thakur was group Vice President and General Manager of the Front End Products Group at Applied Materials, Inc. He joined Applied Materials in 2000 as Chief Technical Officer of the Transistor and Capacitor Products Business Group. Previously, from 1997 to 2000, Dr. Thakur was Vice President of Research and Development at AG Associates and Chief Technology Officer and General Manager at Steag Electronic Systems after its acquisition of AG Associates. He also held various technical and management positions at Micron Technology from 1991 to 1997. Dr. Thakur has extensive experience in semiconductor manufacturing, holds more than 250 patents and has published more than 200 technical publications. Dr. Thakur received his B.S. degree honors in Electronics and Telecommunications Engineering from the Regional Engineering College, Kurukshetra, India, and an M.S. degree in Electrical Engineering from the University of Saskatchewan, Canada. Dr. Thakur received his Ph.D. in Electrical Engineering from the University of Oklahoma. Yoram Cedar is our Executive Vice President, Mobile Business and Corporate Engineering. Prior to October 2005, Mr. Cedar served as our Senior Vice President of Engineering and Emerging Market Business Development. Mr. Cedar began his career at SanDisk in 1998 when he joined as Vice President of Systems Engineering. He has extensive experience working in product definition, marketing and development of systems and embedded flash-based semiconductors. Prior to SanDisk, he was the Vice President of New Business Development at Waferscale Integration and has more than 27 years of experience in design and engineering management of electronic systems. Mr. Cedar earned B.S. and M.S. degrees in Electrical Engineering and Computer Architecture from Technion, Israel Institute of Technology, Haifa, Israel. our financial condition and our stock price._   Our quarterly and annual operating results have fluctuated significantly in the past and we expect that they will continue to fluctuate in the future. This fluctuation could result from a variety of factors, including, among others: reductions due to industry or SanDisk excess supply, competitive pricing pressures or strategic price reductions initiated by us or our competitors._ The market for NAND flash products is competitive and characterized by rapid price declines. As an example, our average selling price per megabyte for product revenues declined 60 in fiscal year 2007 compared to fiscal year 2006. Price declines may be influenced by, among other factors, supply in excess of demand, technology transitions, including adoption of MLC technology by other competitors, conversion of industry DRAM capacity to NAND and new technologies or other strategic actions by competitors to gain market share. If our technology transitions take longer or are more costly than anticipated to complete, or our cost reductions fail to keep pace with the rate of price declines, our gross margins and operating results will be negatively impacted, which could generate quarterly or annual net losses. Over our history, price decreases have generally been more than offset by increased unit demand and demand for products with increased storage capacity. However, in the recent past, price declines have outpaced growth in demand for higher capacities for some products resulting in reduced revenue growth. There can be no assurance that current and future price reductions will result in sufficient demand for increased product capacity or unit sales, which could harm our margins and revenue growth. revenues, and if we were to lose one of our major licensees or customers or experience any material reduction in orders from any of our customers, our revenues and operating results would suffer._   In fiscal years 2007, 2006 and 2005, revenues from our top 10 customers and licensees accounted for approximately 46, 52 and 50 of our total revenues, respectively. In fiscal years 2007 and 2006, no single customer or licensee accounted for greater than 10 of our total revenues. In fiscal year 2005, Best Buy accounted for 11 of our total revenues. The composition of our major customer base has changed over time, and we expect this pattern to continue as our markets and strategies evolve. If we were to lose one of our major customers or licensees, or experience any material reduction in orders from any of our customers or in sales of licensed products by our licensees, our revenues and operating results would suffer. Additionally, our license and royalty revenues may decline significantly in the future as our existing license agreements and key patents expire or if licensees fail to perform on a portion or all of their contractual obligations. Our sales are generally made from standard purchase orders rather than long-term contracts. Accordingly, our customers may generally terminate or reduce their purchases from us at any time without notice or penalty. In addition, the composition of our major customer base changes from year-to-year as we enter new markets, making our revenues from these major customers less predictable from year-to-year. distributors, and if our retailers and distributors are not successful, we could experience substantial product returns, which would negatively impact our business, financial condition and results of operations._   A significant portion of our sales are made through retailers, either directly or through distributors. Sales through these channels typically include rights to return unsold inventory and protection against price declines. As a result, we do not recognize revenue until after the product has been sold through to the end user, in the case of sales to retailers, or to our distributors customers, in the case of sales to distributors. If our retailers and distributors are not successful, due to, for example, the negative impact on consumer retail demand caused by a decline in consumer confidence, economic weakness, or other factors, we could experience reduced sales as well as substantial product returns or price protection claims, which would harm our business, financial condition and results of operations. Availability of sell-through data varies throughout the retail channel, which makes it difficult for us to forecast retail product revenues. Our arrangements with our retailers and distributors also provide them price protection against declines in our recommended selling prices, which has the effect of reducing our deferred revenues and eventually our revenues. Except in limited circumstances, we do not have exclusive relationships with our retailers or distributors, and therefore, must rely on them to effectively sell our products over those of our competitors. customers._   A significant portion of our sales are to OEMs, which either bundle or embed our flash memory products with their products, such as mobile phones, GPS devices and computers. Our sales to these customers are dependent upon the OEMs choosing our products over those of our competitors and on the OEMs ability to create, introduce, market and sell their products successfully in their markets. Should our OEM customers be unsuccessful in selling their current or future products that include our products, or should they decide to discontinue utilizing our products, our results of operation and financial condition could be harmed. of new markets and products for NAND flash._   Our growth will be increasingly dependent on development of new markets, new applications and new products for NAND flash memory. Historically, the digital camera market provided the majority of our revenues, but it is now a more mature market representing a declining percentage of our total revenues, and the mobile handset market has emerged as the largest segment of our revenues and driver of growth. Other markets for flash memory include digital audio and video players, USB drives and solid state drives. There can be no assurance that the use of flash memory in mobile handsets or other existing markets and products will continue to develop and grow fast enough, or that new markets will adopt NAND flash technologies in general or our products in particular, to enable us to continue our growth. In addition, there can be no assurance that the increase in average product capacity and unit demand in response to price reductions will generate revenue growth for us as it has in the past. Our growth is also dependent on continued geographic expansion and we may face difficulties entering or maintaining sales in international markets. Recently, our international sales have grown faster than in North America and we have gained international market share. Some international markets are subject to a higher degree of commodity pricing than in North America, subjecting us to increased risk of pricing and margin pressure. our competitors are able to produce products at lower costs or if industry supply exceeds demand._   We secure captive sources of NAND through our significant investments in manufacturing capacity. We believe that by investing in captive sources of NAND, we are able to develop and obtain supply at the lowest cost and access supply during periods of high demand. Our significant investments in manufacturing capacity may require us to obtain and guarantee capital equipment leases and use available cash, which could be used for other corporate purposes. To the extent we secure manufacturing capacity and supply that is in excess of demand, or our cost is not competitive with other NAND suppliers, we may not achieve an adequate return on our significant investments and our revenues, gross margins and related market share may be negatively impacted. We may also incur increased inventory or impairment charges related to our captive manufacturing investments and may not be able to exit those investments without significant cost to us. In addition, if we finance these manufacturing investments with debt, our return may not be sufficient to finance the related debt payments or we may need to raise additional funding, which could be difficult to obtain or may only be available at rates and other terms that are unfavorable. standards, which may not be widely adopted by consumers or, if adopted, may reduce demand by consumers for our older products; and our competitors seek to develop new standards which could reduce demand for our products._   We continually devote significant resources to the development of new applications, products and standards and the enhancement of existing products and standards with higher memory capacities and other enhanced features. Any new applications, products, technologies, standards or enhancements we develop may not be commercially successful. The success of new product introductions is dependent on a number of factors, including market acceptance, our ability to manage risks associated with new products and production ramp issues. New applications, such as the adoption of flash-based solid state drives, or SSDs, that are designed to replace hard disk drives in devices such as computers and servers, can take several years to develop. We cannot guarantee that manufacturers will adopt SSDs or that this market will grow as we anticipate. For the SSD market to become sizeable, the cost of flash memory must decline significantly so that the cost to consumers is competitive with the cost of hard disk drives, and we believe that we will need to implement MLC technology into our SSDs, which will require us to develop new controllers. There can be no assurance that our MLC-based SSDs will be able to meet the specifications required to gain customer qualification and acceptance. Other new products, such as the Sansa Connecttm, Sansa Clip, Sansa View, Sansa Shakertm, TakeTVtm and pre-recorded flash memory cards may not gain market acceptance, and we may not be successful in penetrating the new markets that we target. New applications such as our Fanfaretm content gateway, which represents our first significant content initiative, may require significant up-front investment with no assurance of long-term commercial success or profitability. The content we provide may be supplied by third parties and to the extent that the third parties do not deliver as expected or disputes arise related to, among other things, third-party royalties from the distribution of content, our product offerings may be negatively impacted. Unauthorized distribution of third-party content that we host could restrict us from continuing to provide content or limit access to new content. As we introduce new standards or technologies, it can take time for these new standards or technologies to be adopted, for consumers to accept and transition to these new standards or technologies and for significant sales to be generated from these new standards or technologies, if this happens at all. Competitors or other market participants could seek to develop new standards for flash memory products which, if accepted by device manufacturers or consumers, could reduce demand for our products. For example, certain handset manufacturers and flash memory chip producers are currently advocating the development of a new standard, referred to as Universal Flash Storage, or UFS, for flash memory cards used in mobile phones. Intel and Micron have also developed a new specification for a NAND flash interface, called ONFI, which would be used primarily in computing devices. Broad acceptance of new standards, technologies or products may reduce demand for some of our products. If this decreased demand is not offset by increased demand for new form factors or products that we offer, our results of operations could be harmed. Alternative storage solutions such as high bandwidth wireless or internet- based storage could reduce the need for physical flash storage within electronic devices. These alternative technologies could negatively impact the overall market for flash-based products, which could seriously harm our results of operations. Consumer devices that use NAND flash memory do so in either a removable card or an embedded format. We offer NAND flash memory products in both categories; however, our market share is strongest for removable flash memory products. If designers and manufacturers of consumer devices, including mobile phones, increase their usage of embedded flash memory, we may not be able to sustain our market share. In addition, if NAND flash memory is used in an embedded format, we would have less opportunity to influence the capacity of the NAND flash products and we would not have the opportunity for additional after- market retail sales related to these consumer devices or mobile phones. Any loss of market share or reduction in the average capacity of our product sales or any loss in our retail after-market opportunity could harm our operating results and business condition. We are developing the next generations of MLC technology, including 3-bits per cell, or X3, and 4-bits per cell, or X4. We believe the successful introduction of X3 and X4 technology may be required in order to achieve the level of future cost reductions for the further adoption of flash memory in consumer applications. The performance, reliability, yields and time-to-market of X3 and X4 technologies are uncertain, and there can be no assurance of the commercial success of these technologies. In addition, we are investing in future alternative technologies, such as our three-dimensional semiconductor memory, which currently is limited to one-time programmable applications. We are investing significant resources to develop this technology for multiple read-write applications; however, there can be no assurance that we will be successful in developing these alternative technologies or that we will be able to achieve the yields, quality or capacity required for this technology to be cost competitive with new or other alternative memory technologies. using flash memory, as well as from manufacturers of new and alternative technologies, and if we cannot compete effectively, our results of operations and financial condition will suffer._   Our competitors include many large companies that may have greater advanced wafer manufacturing capacity and substantially greater financial, technical, marketing and other resources than we do, which allows them to produce flash memory chips in high volumes at low costs and to sell these flash memory chips themselves or to our flash card competitors at a low cost. Some of our competitors may sell their flash memory chips at or below their true manufacturing costs to gain market share and to cover their fixed costs. Such practices occurred in the DRAM industry during periods of excess supply and resulted in substantial losses in the DRAM industry. Our primary semiconductor competitors include Hynix, IM Flash, Micron, Samsung, STMicro and Toshiba. We, along with Hynix, IM Flash, Samsung and Toshiba, are aggressively increasing NAND output and are expected to continue to produce significant NAND output in the future. In addition, current and future competitors produce or could produce alternative flash or other memory technologies that compete against our NAND flash memory technology or our alternative technologies, which may reduce demand or accelerate price declines for NAND. Furthermore, the future rate of scaling of the NAND flash technology design that we employ may slow down significantly, which would slow down cost reductions that are fundamental to the adoption of flash memory technology in new applications. If the scaling of NAND slows down or alternative technologies prove to be more economical, the investments in our captive fabrication facilities could be impaired and our results of operations and financial condition will suffer. We also compete with flash memory card manufacturers and resellers. These companies purchase or have a captive supply of flash memory components and assemble memory cards. Our primary competitors currently include, among others, A-Data, Buffalo, CN Memory, Dane-Elec, Elecom, FUJI, Hagiwara, Hama, Imation, IO Data, Kingmax, Kingston, Kodak, Lexar, Memorex, Netac, Panasonic, PNY, RITEK, Samsung, Sony, Toshiba, Tradebrands, Transcend and Verbatim. Some of our competitors have substantially greater resources than we do, have well recognized brand names or have the ability to operate their business on lower margins than we do. The success of our competitors may adversely affect our future revenues or margins and may result in the loss of our key customers. For example, Toshiba and other manufacturers have increased their market share of flash memory cards for mobile phones, including the microSD card, which have been a significant driver of our growth. In the digital audio market, we face competition from well established companies such as Apple, ARCHOS, Creative, Microsoft, Samsung and Sony. In the USB flash drive market, we face competition from a large number of competitors, including Imation, Kingston, Lexar, Memorex, PNY, Sony, Trek 2000 International Ltd. and Verbatim. In the market for solid state drives, we may face competition from large NAND flash producers such as Samsung and Intel, as well as from hard drive manufacturers, such as Seagate Technology, Hitachi, Ltd., and others, who have established relationships with computer manufacturers. Furthermore, many companies are pursuing new or alternative technologies or alternative forms of NAND, such as phase-change technology, charge-trap flash and millipedesprobes, which may compete with flash memory. For example, our competitors are developing new technologies such as charge-trap flash and three-dimensional technology which if successful and if we are unable to scale our technology on an equivalent basis, could provide an advantage to these competitors. These new or alternative technologies may enable products that are smaller size, higher capacity, lower cost, lower power consumption or have other advantages. If we cannot compete effectively, our results of operations and financial condition will suffer. We believe that our ability to compete successfully depends on a number of factors, including: While we believe we are well-positioned to compete in the marketplace based on the foregoing factors, there can be no assurance that we will be able to compete successfully in the future. harmed our business, financial condition and results of operations in the past and may do so in the future._   The semiconductor industry is highly cyclical and is characterized by constant and rapid technological change, rapid product obsolescence and price declines, evolving standards, short product life cycles and wide fluctuations in product supply and demand. The industry has experienced significant downturns, often in connection with, or in anticipation of, maturing product cycles of both semiconductor companies and their customers products and declines in general economic conditions. These downturns have been characterized by reduced product demand, production overcapacity, high inventory levels and accelerated declines in selling prices. For example, the flash memory industry experienced excess supply and a rapid decline in prices in the first half of fiscal year 2007 and industry analysts expect this to occur again in the first quarter of fiscal year 2008. We have experienced these conditions in our business in the past and may experience such downturns in the future. fluctuations in supply and demand and our commitments to our flash ventures with Toshiba may result in periods of significant excess inventory._   The start of production at Fab 4 at the end of fiscal year 2007 has further increased our captive supply. Our obligation to purchase 50 of the supply from the flash ventures with Toshiba could harm our business and results of operations if our committed supply exceeds demand for our products. The adverse effects could include, among other things, significant decreases in our product prices, and significant excess, obsolete or lower of cost or market inventory write-downs, which would harm our gross margins and could result in the impairment of our investments in the flash ventures with Toshiba. These effects could be magnified if the new memory wafer fab with Toshiba is completed and commences production. For example, product gross margin decreased to 21.8 for the year ended December 30, 2007 compared to 31.0 for the year ended December 31, 2006, in part due to significant decreases in our product prices. Any future excess supply or price declines in excess of cost declines could have a material adverse effect on our business, financial condition and results of operations. shortage in our supply from these sources will reduce our revenues, earnings and gross margins._   All of our flash memory products require silicon supply for the memory and controller components. The substantial majority of our flash memory is currently supplied by the flash ventures with Toshiba and to a lesser extent by Samsung and Hynix. Any disruption or shortage in supply of flash memory from our captive or non-captive sources would harm our operating results. The risks of supply disruption are magnified at Toshibas Yokkaichi, Japan operations, where the flash ventures with Toshiba are operated and Toshibas foundry capacity is located. Earthquakes and power outages have resulted in production line stoppage and loss of wafers in Yokkaichi and similar stoppages and losses may occur in the future. For example, in the first quarter of fiscal year 2006, a brief power outage occurred at Fab 3, which resulted in a loss of wafers and significant costs associated with bringing the fab back on line. In addition, the Yokkaichi location is often subject to earthquakes, which could result in production stoppage, a loss of wafers and the incurrence of significant costs. Moreover, Toshibas employees that produce the flash ventures with Toshibas products are covered by collective bargaining agreements and any strike or other job action by those employees could interrupt our wafer supply for the flash ventures with Toshiba. Furthermore, if the Fab 4 production ramp is delayed or not completed, we fail to enter into definitive agreements for the new memory wafer fab with Toshiba, fail to commence production at the new memory wafer fab as planned, we fail to make timely investments in future capacity additions, or our non-captive sources fail to supply wafers in the amounts and at the times we expect, we may not have sufficient supply to meet demand and our operating results could be harmed. Currently, our controller wafers are manufactured by Tower, UMC, TSMC and SMIC. The Tower fabrication facility, from which we source controller wafers, is continuing to face financial challenges and is located in Israel, an area of political and military turmoil. Any disruption in the manufacturing operations of Tower or one of our other controller wafer vendors would result in delivery delays, adversely affect our ability to make timely shipments of our products and harm our operating results until we could qualify an alternate source of supply for our controller wafers, which could take several quarters to complete. In times of significant growth in global demand for flash memory, demand from our customers may outstrip the supply of flash memory and controllers available to us from our current sources. If our silicon vendors are unable to satisfy our requirements on competitive terms or at all, we may lose potential sales and our business, financial condition and operating results may suffer. Any disruption or delay in supply from our silicon sources could significantly harm our business, financial condition and results of operations. result in increased costs and product shortages._   The fabrication of our products requires wafers to be produced in a highly controlled and ultra clean environment. Semiconductor manufacturing yields and product reliability are a function of both design technology and manufacturing process technology and production delays may be caused by equipment malfunctions, fabrication facility accidents or human errors. Yield problems may not be identified or improved until an actual product is made and can be tested. As a result, yield problems may not be identified until the wafers are well into the production process. We have from time-to-time experienced yields that have adversely affected our business and results of operations. We have experienced adverse yields on more than one occasion when we have transitioned to new generations of products. If actual yields are low, we will experience higher costs and reduced product supply, which could harm our business, financial condition and results of operations. For example, if the production ramp andor yield of 56-nanometer X3 technology wafers and 43-nanometer X2 technology wafers do not increase as expected in fiscal year 2008, we may not have enough supply to meet demand and our cost competitiveness, business, financial condition and results of operations will be harmed. if our subcontractors do not perform as planned._   We rely on third-party subcontractors for much of our wafer testing, IC assembly, packaged testing, product assembly, product testing and order fulfillment. From time-to-time, our subcontractors have experienced difficulty meeting our requirements. If we are unable to increase the capacity of our current subcontractors or qualify and engage additional subcontractors, we may not be able to meet demand for our products. We do not have long-term contracts with our existing subcontractors nor do we expect to have long-term contracts with any new subcontract suppliers. We do not have exclusive relationships with any of our subcontractors, and therefore, cannot guarantee that they will devote sufficient resources to manufacturing our products. We are not able to directly control product delivery schedules. Furthermore, we manufacture on a turnkey basis with some of our subcontract suppliers. In these arrangements, we do not have visibility and control of their inventories of purchased parts necessary to build our products or of the progress of our products through their assembly line. Any significant problems that occur at our subcontractors, or their failure to perform at the level we expect, could lead to product shortages or quality assurance problems, either of which would have adverse effects on our operating results. facility in China._   We commenced production at our captive assembly and test manufacturing facility in the Zizhu Science-Based Park near Shanghai, China in the third quarter of fiscal year 2007. We expect to continue to depend on our third-party subcontractors for the majority of our test and assembly needs; however, any delays or interruptions in the production ramp or targeted yields or any quality issues at our captive facility could harm our results of operations and financial condition. production and market acceptance risks that may cause significant product delays, cost overruns or performance issues that could harm our business._ Successive generations of our products have incorporated semiconductors with greater memory capacity per chip. The transition to new generations of products, such as products containing 43-nanometer X2 technology or 56-nanometer X3 technology, is highly complex and requires new controllers, new test procedures and modifications of numerous aspects of manufacturing, as well as extensive qualification of the new products by both us and our OEM customers. There can be no assurance that this transition or future technology transitions will occur on schedule or at the yields or costs that we anticipate. If Flash Partners or Flash Alliance encounters difficulties in transitioning to new technologies, our cost per megabyte may not remain competitive with the costs achieved by other flash memory producers. Any material delay in a development or qualification schedule could delay deliveries and adversely impact our operating results. We periodically have experienced significant delays in the development and volume production ramp- up of our products. Similar delays could occur in the future and could harm our business, financial condition and results of operations. rejection of our products, product recalls, damage to our reputation, lost revenues, diverted development resources and increased service costs and warranty claims and litigation._   Our products are complex, must meet stringent user requirements, may contain errors or defects and the majority of our products are warrantied for one to five years. Errors or defects in our products may be caused by, among other things, errors or defects in the memory or controller components, including components we procure from non-captive sources. In addition, in fiscal year 2007, approximately 95 of our NAND memory purchases were from our captive flash ventures with Toshiba and if the wafers contain errors or defects, our overall supply could be adversely affected. These factors could result in the rejection of our products, damage to our reputation, lost revenues, diverted development resources, increased customer service and support costs and warranty claims and litigation. We record an allowance for warranty and similar costs in connection with sales of our products, but actual warranty and similar costs may be significantly higher than our recorded estimate and result in an adverse effect on our results of operations and financial condition. Our new products have from time-to-time been introduced with design and production errors at a rate higher than the error rate in our established products. We must estimate warranty and similar costs for new products without historical information and actual costs may significantly exceed our recorded estimates. Underestimation of our warranty and similar costs would have an adverse effect on our results of operations and financial condition. the Flash Alliance business venture as well as form a new venture, for which we will make substantial capital investments, which could adversely impact our operating results._   We and Toshiba commenced manufacturing at Fab 4 in September 2007, and together we intend to continue to make substantial investments in new capital assets to expand the wafer fabrication capacity of Fab 4 to 210,000 wafers per month. We expect to invest over $4 billion for our share in equipping and expanding Fab 4. In addition, we and Toshiba signed a non-binding memorandum of understanding for a new memory wafer fab in Japan and target production start-up in 2010. Our significant investments in manufacturing capacity may require us to obtain and guarantee capital equipment leases and use available cash, which could otherwise be used for other corporate purposes. Moreover, each time that we and Toshiba add substantial new wafer fabrication capacity, we will experience significant initial design and development and start-up costs as a result of the delay between the time of the investment and the time qualified products are manufactured and sold in volume quantities. For several quarters, we will incur initial design and development costs and start-up costs which will increase our expenses and reduce our gross margins. In addition, if we are ultimately unable to utilize our full share of the expanded output, we would be faced with excess inventory and potential impairment of our investments. Any excess inventory or investment impairment would negatively impact our gross margins, results of operations and financial condition. manufacturing assets that we expect will no longer be cost effective in fiscal year 2008._  Through the FlashVision venture with Toshiba, we have an investment of approximately $159 million in 200-millimeter wafer manufacturing assets. We believe that in fiscal year 2008, NAND produced on 200-millimeter wafers will no longer be cost effective for our products and, as a result, we expect to dispose of our 200-millimeter wafer manufacturing assets during fiscal year 2008. In the fourth quarter of fiscal year 2007, we recorded a $10 million impairment charge related to our equity investment in FlashVision. We are currently in negotiations with Toshiba regarding the future of the FlashVision venture which may include Toshiba purchasing our shares, sale and distribution of the ventures equipment and underlying assets or a combination thereof. The impairment charge is based upon the expected outcome of these negotiations and related cash flows. There can be no assurance of a positive outcome to these negotiations and we may be required to record additional impairment charges. related to the flash ventures with Toshiba._   Toshiba has guaranteed FlashVisions lease arrangement with third-party lessors. The total minimum remaining lease payments as of December 30, 2007 were 3.6 billion Japanese yen, or approximately $32 million based upon the exchange rate at December 30, 2007. If Toshiba makes payments under its guarantee, we have agreed to indemnify Toshiba for 49.9 of its costs, subject to certain limitations and exclusions. From fiscal year 2004 through December 30, 2007, Flash Partners entered into and drew down five equipment master lease facilities totaling approximately 275.0 billion Japanese yen, or approximately $2.44 billion based upon the exchange rate at December 30, 2007, of which 220.0 billion Japanese yen, or approximately $1.95 billion based upon the exchange rate at December 30, 2007, net of accumulated lease payments, were outstanding at December 30, 2007. As of December 30, 2007, our cumulative guarantee under these equipment leases, net of cumulative lease payments, was approximately 110.0 billion Japanese yen, or approximately $974 million based on the exchange rate at December 30, 2007. In fiscal year 2007, Flash Alliance entered into an equipment master lease facility totaling approximately 100.0 billion Japanese yen, or approximately $886 million based upon the exchange rate at December 30, 2007, of which 30.0 billion Japanese yen, or approximately $266 million based upon the exchange rate at December 30, 2007, was drawn and outstanding at December 30, 2007. As of December 30, 2007, our cumulative guarantee under this equipment lease was approximately 15.0 billion Japanese yen, or approximately $133 million based on the exchange rate at December 30, 2007. In addition, on February 19, 2008, Flash Alliance drew down on the 100 billion Japanese yen master lease agreement an additional 30 billion Japanese yen, or approximately $133 million based on the exchange rate at December 30, 2007. These leases contain numerous default clauses which, if triggered, could cause us to repay the amounts due under our guarantees. We and Toshiba have also agreed to mutually contribute to, and indemnify each other, Flash Partners and Flash Alliance for environmental remediation costs or liability resulting from Flash Partners and Flash Alliances manufacturing operations in certain circumstances. In addition, we and Toshiba entered into a Patent Indemnification Agreement under which in certain cases we may share in the expenses associated with the defense and cost of settlement associated with such claims. This agreement provides limited protection for us against third-party claims that NAND flash memory products manufactured and sold by Flash Partners or Flash Alliance infringe third-party patents. None of the foregoing obligations are reflected as liabilities on our Consolidated Balance Sheets. If we have to perform our obligations under these agreements, our business will be harmed and our financial condition and results of operations will be adversely affected. forecast our product purchase requirements._   Sales of our products in the consumer electronics market are subject to seasonality. For example, sales have typically increased significantly in the fourth quarter of each fiscal year, sometimes followed by significant declines in the first quarter of the following fiscal year. This seasonality was particularly pronounced in the fourth quarter of fiscal year 2006 and the first quarter of fiscal year 2007 during which we experienced a larger than average sequential increase in retail unit sales in the fourth quarter of fiscal year 2006, followed by a larger than average sequential decrease in retail unit sales in the first quarter of fiscal year 2007. We may experience the same seasonality between the fourth quarter of fiscal year 2007 and the first quarter of fiscal year 2008. This seasonality may become even more pronounced if we increase the mix of our sales coming from consumer products such as our Sansa digital audio players. This seasonality makes it more difficult for us to forecast our business. If our forecasts are inaccurate, we may lose market share or procure excess inventory or inappropriately increase or decrease our operating expenses, any of which could harm our business, financial condition and results of operations. This seasonality also may lead to higher volatility in our stock price, the need for significant working capital investments in receivables and inventory and our need to build inventory levels in advance of our most active selling seasons. inventory, or underestimate our requirements and have a shortage of supply, either of which harm our financial results._   The majority of our products are sold into consumer markets, which are difficult to accurately forecast. Also, a substantial majority of our quarterly sales are from orders received and fulfilled in that quarter. Additionally, we depend upon timely reporting from our retail and distributor customers as to their inventory levels and sales of our products in order to forecast demand for our products. We have in the past significantly over-forecasted or under-forecasted actual demand for our products. The failure to accurately forecast demand for our products will result in lost sales or excess inventory, both of which will have an adverse effect on our business, financial condition and results of operations. In addition, at times inventory may increase in anticipation of increased demand or as captive wafer capacity ramps. If demand does not materialize, we may be forced to write-down excess inventory which may harm our financial condition and results of operations. Under conditions of tight flash memory supply, we may be unable to adequately increase our production volumes or secure sufficient supply in order to maintain our market share. If we are unable to maintain market share, our results of operations and financial condition could be harmed. Conversely, during periods of excess supply in the market for our flash memory products, we may lose market share to competitors who aggressively lower their prices and we may be forced to write-down inventory, which is in excess of forecasted demand or must be sold below cost. If we lose market share due to price competition or we must write-down inventory, our results of operations and financial condition could be harmed. Our ability to respond to changes in market conditions from our forecast is limited by our purchasing arrangements with our silicon sources. Some of these arrangements provide that the first three months of our rolling six-month projected supply requirements are fixed and we may make only limited percentage changes in the second three months of the period covered by our supply requirement projections. We have some non-silicon components which have long lead times requiring us to place orders several months in advance of our anticipated demand. The extended period of time to secure these long lead time parts increases our risk that forecasts will vary substantially from actual demand, which could lead to excess inventory or loss of sales. of a back-up supplier exposes our supply chain to unanticipated disruptions._ We rely on our vendors, some of which are a sole source of supply, for many of our critical components, such as certain controllers for our CompactFlash and USB products. We do not have long-term supply agreements with most of these vendors. Our business, financial condition and operating results could be significantly harmed by delays or reductions in shipments if we are unable to obtain sufficient quantities of these components or develop alternative sources of supply. third-party subcontractors are subject to risks for which we may not be adequately insured._   Our global operations are subject to many risks including errors and omissions, infrastructure disruptions, such as large- scale outages or interruptions of service from utilities or telecommunications providers, supply chain interruptions, third-party liabilities and fires or natural disasters. No assurance can be given that we will not incur losses beyond the limits of, or outside the scope of, coverage of our insurance policies. From time-to-time, various types of insurance have not been available on commercially acceptable terms or, in some cases, have been unavailable. We cannot assure you that in the future we will be able to maintain existing insurance coverage or that premiums will not increase substantially. We maintain limited insurance coverage and in some cases no coverage for natural disasters and sudden and accidental environmental damages as these types of insurance are sometimes not available or available only at a prohibitive cost. Accordingly, we may be subject to an uninsured or under- insured loss in such situations. We depend upon Toshiba to obtain and maintain sufficient property, business interruption and other insurance for the flash ventures with Toshiba. If Toshiba fails to do so, we could suffer significant unreimbursable losses, and such failure could also put the flash ventures with Toshiba in breach of various financing covenants. In addition, we insure against property loss and business interruption resulting from the risks incurred at our third-party subcontractors; however, we have limited control as to how those sub-contractors run their operations and manage their risks, and as a result we may not be adequately insured. purchases of NAND flash memory from the flash ventures with Toshiba and our investments in, and other transactions related to, those ventures are denominated in Japanese yen. In recent months, the Japanese yen has appreciated relative to the U.S. dollar and this will increase our costs of NAND flash wafers. Further, most of our products are manufactured in China and significant fluctuations in Chinese renminbi, or RMB, could increase our product costs. We expect over time to increase the percentage of our sales denominated in currencies other than the U.S. dollar. Management of foreign exchange exposures is complex and we do not currently hedge many of these exposures. If we do not successfully manage our foreign exchange exposures, our business, results of operations and financial condition could be harmed. harm our business, financial condition and results of operations._   We rely on a combination of patents, trademarks, copyright and trade secret laws, confidentiality procedures and licensing arrangements to protect our intellectual property rights. In the past, we have been involved in significant and expensive disputes regarding our intellectual property rights and those of others, including claims that we may be infringing third-parties patents, trademarks and other intellectual property rights. We expect that we may be involved in similar disputes in the future. We cannot assure you that: In addition, our competitors may be able to design their products around our patents and other proprietary rights. We also have patent cross-license agreements with several of our leading competitors. Under these agreements, we have enabled competitors to manufacture and sell products that incorporate technology covered by our patents. While we obtain license and royalty revenue or other consideration for these licenses, if we continue to license our patents to our competitors, competition may increase and may harm our business, financial condition and results of operations. There are both flash memory producers and flash memory card manufacturers who we believe may require a license from us. Enforcement of our rights often requires litigation. If we bring a patent infringement action and are not successful, our competitors would be able to use similar technology to compete with us. Moreover, the defendant in such an action may successfully countersue us for infringement of their patents or assert a counterclaim that our patents are invalid or unenforceable. If we do not prevail in the defense of patent infringement claims, we could be required to pay substantial damages, cease the manufacture, use and sale of infringing products, expend significant resources to develop non-infringing technology, discontinue the use of specific processes or obtain licenses to the infringing technology. On October 24, 2007, we initiated two patent infringement actions in the United States District Court for the Western District of Wisconsin and one action in the United States International Trade Commission against 25 companies that manufacture, sell and import USB flash drives, CompactFlash cards, multimedia cards, MP3media players andor other removable flash storage products. There can be no assurance that we will be successful in this litigation or that we will not face counterclaims of the nature described above. needed, or renew existing licenses, which could expose us to liability for damages, reduce our royalty revenues, increase our costs or limit or prohibit us from selling products._   If we incorporate third-party technology into our products or if we are found to infringe others intellectual property, we could be required to license intellectual property from a third party. We may also need to license some of our intellectual property to others in order to enable us to obtain important cross-licenses to third-party patents. We cannot be certain that licenses will be offered when we need them, that the terms offered will be acceptable, or that these licenses will help our business. If we do obtain licenses from third parties, we may be required to pay license fees or royalty payments. In addition, if we are unable to obtain a license that is necessary to manufacture our products, we could be required to suspend the manufacture of products or stop our product suppliers from using processes that may infringe the rights of third parties. We may not be successful in redesigning our products, or the necessary licenses may not be available under reasonable terms. Our license and royalty revenues comprise the majority of our cash provided by operating activities. For the year ended December 30, 2007 license revenue was $450 million, or approximately 12 of our total revenue. If our existing licensees do not renew their licenses upon expiration and we are not successful in signing new licensees in the future, our license revenue, profitability, and cash provided by operating activities would be adversely impacted. For example, our current license agreement with Samsung expires in August 2009, and to the extent that we are unable to renew this agreement under similar terms or if we are unable to renew at all, our financial results may be adversely impacted, and we may incur additional patent litigation costs to renew Samsung as a licensee. litigation regarding our intellectual property rights or those of third parties, which may be costly, may divert the efforts of our key personnel and could result in adverse court rulings, which could materially harm our business._   We are involved in a number of lawsuits, including among others, several cases involving our patents and the patents of third parties. We are the plaintiff in some of these actions and the defendant in other of these actions. Some of the actions seek injunctions against the sale of our products andor substantial monetary damages, which if granted or awarded, could have a material adverse effect on our business, financial condition and results of operations. We and other companies have been sued in the United States District Court of the Northern District of California in purported consumer class actions alleging a conspiracy to fix, raise, maintain or stabilize the pricing of flash memory, and concealment thereof, in violation of state and federal laws. The lawsuits purport to be on behalf of classes of purchasers of flash memory. The lawsuits seek restitution, injunction and damages, including treble damages, in an unspecified amount. In addition, in September 2007, we and Dr. Eli Harari, our founder, chairman and chief executive officer, received grand jury subpoenas issued from the United States District Court for the Northern District of California indicating a Department of Justice investigation into possible antitrust violations in the NAND flash memory industry. We also received a notice from the Canadian Competition Bureau that the Bureau has commenced an industry-wide investigation with respect to alleged anti-competitive activity regarding the conduct of companies engaged in the supply of NAND flash memory chips to Canada and requesting that we preserve any records relevant to such investigation. We intend to cooperate in these investigations. We are unable to predict the outcome of these lawsuits and investigations. The cost of discovery and defense in these actions as well as the final resolution of these alleged violations of antitrust laws could result in significant liability and may harm our business, financial condition and results of operations. For additional information concerning these proceedings, see Item 3, Legal Proceedings. Litigation is subject to inherent risks and uncertainties that may cause actual results to differ materially from our expectations. Factors that could cause litigation results to differ include, but are not limited to, the discovery of previously unknown facts, changes in the law or in the interpretation of laws, and uncertainties associated with the judicial decision-making process. If we receive an adverse judgment in any litigation, we could be required to pay substantial damages andor cease the manufacture, use and sale of products. Litigation, including intellectual property litigation, can be complex, can extend for a protracted period of time, and can be very expensive. Litigation initiated by us could also result in counter-claims against us, which could increase the costs associated with the litigation and result in our payment of damages or other judgments against us. In addition, litigation may divert the efforts and attention of some of our key personnel. We have been, and expect to continue to be, subject to claims and legal proceedings regarding alleged infringement by us of the patents, trademarks and other intellectual property rights of third parties. From time-to-time we have sued, and may in the future sue, third parties in order to protect our intellectual property rights. Parties that we have sued and that we may sue for patent infringement may countersue us for infringing their patents. If we are held to infringe the intellectual property of others, we may need to spend significant resources to develop non-infringing technology or obtain licenses from third parties, but we may not be able to develop such technology or acquire such licenses on terms acceptable to us or at all. We may also be required to pay significant damages andor discontinue the use of certain manufacturing or design processes. In addition, we or our suppliers could be enjoined from selling some or all of our respective products in one or more geographic locations. If we or our suppliers are enjoined from selling any of our respective products or if we are required to develop new technologies or pay significant monetary damages or are required to make substantial royalty payments, our business would be harmed. We may be obligated to indemnify our current or former directors or employees, or former directors or employees of companies that we have acquired, in connection with litigation or regulatory or Department of Justice investigations. These liabilities could be substantial and may include, among other things, the costs of defending lawsuits against these individuals; the cost of defending any shareholder derivative suits; the cost of governmental, law enforcement or regulatory investigations; civil or criminal fines and penalties; legal and other expenses; and expenses associated with the remedial measures, if any, which may be imposed. Moreover, from time-to-time we agree to indemnify certain of our suppliers and customers for alleged patent infringement. The scope of such indemnity varies but generally includes indemnification for direct and consequential damages and expenses, including attorneys fees. We may from time-to-time be engaged in litigation as a result of these indemnification obligations. Third-party claims for patent infringement are excluded from coverage under our insurance policies. A future obligation to indemnify our customers or suppliers may have a material adverse effect on our business, financial condition and results of operations. For additional information concerning legal proceedings, see Item 3, Legal Proceedings. numerous international laws and regulations, and we are vulnerable to political instability and other risks related to international operations._ Currently, a large portion of our revenues is derived from our international operations, and all of our products are produced overseas in China, Israel, Japan, South Korea and Taiwan. We are, therefore, affected by the political, economic, labor, environmental, public health and military conditions in these countries. For example, China does not currently have a comprehensive and highly developed legal system, particularly with respect to the protection of intellectual property rights. This results, among other things, in the prevalence of counterfeit goods in China. The enforcement of existing and future laws and contracts remains uncertain, and the implementation and interpretation of such laws may be inconsistent. Such inconsistency could lead to piracy and degradation of our intellectual property protection. Although we engage in efforts to prevent counterfeit products from entering the market, those efforts may not be successful. Our results of operations and financial condition could be harmed by the sale of counterfeit products. Our international business activities could also be limited or disrupted by any of the following factors: significant portion of our controller wafers from its Fab 2 facility and is currently a sole source of supply for some of our controllers. Towers Fab 2 is operational and in the process of expanding capacity and our ability to continue to obtain sufficient supply on a cost-effective basis may be dependent upon completion of this capacity expansion. Towers continued expansion of Fab 2 requires sufficient funds to operate in the short-term and raising the funds required to implement the current ramp-up plan. If Tower fails to comply with the financial ratios and covenants contained in the amended credit facility agreement with its banks, fails to attract additional customers, fails to operate its Fab 2 facility in a cost-effective manner, fails to secure additional financing, fails to meet the conditions to receive government grants and tax benefits approved for Fab 2, or fails to obtain the approval of the Israeli Investment Center for a new expansion program, Towers continued operations could be at risk. If this occurs, we will be forced to source our controllers from another supplier and our business, financial condition and results of operations may be harmed. Specifically, our ability to supply a number of products would be disrupted until we were able to transition manufacturing and qualify a new foundry with respect to controllers that are currently sole sourced at Tower, which could take three or more quarters to complete. As of December 30, 2007, we have recognized cumulative losses of approximately $55.4 million as a result of the other-than-temporary decline in the value of our investment in Tower ordinary shares, $12.2 million as a result of the impairment in value on our prepaid wafer credits and $1.3 million of losses on our warrant to purchase Tower ordinary shares. We are subject to certain regulations or restrictions on the transfer of our approximately 14.1 million Tower ordinary shares. It is possible that we will record further write-downs of our investment, which was carried on our consolidated balance sheet at $20.1 million at December 30, 2007, which would harm our results of operations and financial condition. result in investors losing all or part of their investments._   The market price of our stock has fluctuated significantly in the past and may continue to fluctuate in the future. We believe that such fluctuations will continue as a result of many factors, including future announcements concerning us, our competitors or our principal customers regarding financial results or expectations, technological innovations, industry supply or demand dynamics, new product introductions, governmental regulations, the commencement or results of litigation or changes in earnings estimates by analysts. In addition, in recent years the stock market has experienced significant price and volume fluctuations and the market prices of the securities of high technology and semiconductor companies have been especially volatile, often for reasons outside the control of the particular companies. These fluctuations as well as general economic, political and market conditions may have an adverse affect on the market price of our common stock as well as the price of our outstanding convertible notes and could impact the likelihood of those notes being converted into our common stock, which would cause further dilution to our stockholders. stockholders, result in unanticipated accounting charges or otherwise adversely affect our results of operations, and result in difficulties in assimilating and integrating the operations, personnel, technologies, products and information systems of acquired companies or businesses._   We continually evaluate and explore strategic opportunities as they arise, including business combinations, strategic partnerships, collaborations, capital investments and the purchase, licensing or sale of assets. If we issue equity securities in connection with an acquisition, the issuance may be dilutive to our existing stockholders. Alternatively, acquisitions made entirely or partially for cash would reduce our cash reserves. Acquisitions may require significant capital infusions, typically entail many risks and could result in difficulties in assimilating and integrating the operations, personnel, technologies, products and information systems of acquired companies. We may experience delays in the timing and successful integration of acquired technologies and product development through volume production, unanticipated costs and expenditures, changing relationships with customers, suppliers and strategic partners, or contractual, intellectual property or employment issues. In addition, key personnel of an acquired company may decide not to work for us. The acquisition of another company or its products and technologies may also result in our entering into a geographic or business market in which we have little or no prior experience. These challenges could disrupt our ongoing business, distract our management and employees, harm our reputation, subject us to an increased risk of intellectual property and other litigation and increase our expenses. These challenges are magnified as the size of the acquisition increases, and we cannot assure you that we will realize the intended benefits of any acquisition. Acquisitions may require large one-time charges and can result in increased debt or contingent liabilities, adverse tax consequences, substantial depreciation or deferred compensation charges, the amortization of identifiable purchased intangible assets or impairment of goodwill, any of which could have a material adverse effect on our business, financial condition or results of operations. Mergers and acquisitions of high-technology companies are inherently risky and subject to many factors outside of our control, and no assurance can be given that our previous or future acquisitions will be successful and will not materially adversely affect our business, operating results, or financial condition. Failure to manage and successfully integrate acquisitions could materially harm our business and operating results. Even when an acquired company has already developed and marketed products, there can be no assurance that such products will be successful after the closing, will not cannibalize sales of our existing products, that product enhancements will be made in a timely fashion or that pre-acquisition due diligence will have identified all possible issues that might arise with respect to such company. Failed business combinations, or the efforts to create a business combination, can also result in litigation. the loss of whom could disrupt our business._   Our success greatly depends on the continued contributions of our senior management and other key research and development, sales, marketing and operations personnel, including Dr. Eli Harari, our founder, chairman and chief executive officer. We do not have employment agreements with any of our executive officers and they are free to terminate their employment with us at any time. Our success will also depend on our ability to recruit additional highly skilled personnel. We may not be successful in hiring or retaining key personnel. negatively impact our operations, revenues, costs and stock price._ Terrorist attacks, U.S. military responses to these attacks, war, threats of war and any corresponding decline in consumer confidence could have a negative impact on consumer retail demand, which is the largest channel for our products. Any of these events may disrupt our operations or those of our customers and suppliers and may affect the availability of materials needed to manufacture our products or the means to transport those materials to manufacturing facilities and finished products to customers. Any of these events could also increase volatility in the United States and world financial markets, which could harm our stock price and may limit the capital resources available to us and our customers or suppliers, or adversely affect consumer confidence. We have substantial operations in Israel including a development center in Northern Israel, near the border with Lebanon, areas that have recently experienced significant violence and political unrest. Tower, which supplies a significant portion of our controller wafers, is also located in Israel. Continued turmoil and unrest in Israel or the Middle East could cause delays in the development or production of our products. This could harm our business and results of operations. or subcontractors operate could negatively impact our operations._   Our operations, including those of our suppliers and subcontractors, are concentrated in Milpitas, California; Yokkaichi, Japan; Hsinchu and Taichung, Taiwan; and Dongguan, Shanghai and Shenzen, China. In the past, these areas have been affected by natural disasters such as earthquakes, tsunamis, floods and typhoons, and some areas have been affected by epidemics, such as avian flu. If a natural disaster or epidemic were to occur in one or more of these areas, our operations could be significantly impaired and our business may be harmed. This is magnified by the fact that we do not have insurance for most natural disasters, including earthquakes. This could harm our business and results of operations. and procedures. We have experienced and may continue to experience rapid growth, which has placed, and could continue to place a significant strain on our managerial, financial and operations resources and personnel._   Our business and number of employees have increased significantly over the last several years. We must continually enhance our operational, accounting and financial systems to accommodate the growth and increasing complexity of our business. For example, we have recently decided to replace our enterprise resource planning, or ERP, system. This project will require significant investment, the re-engineering of many processes used to run our business, and the attention of many employees and managers who would otherwise be focused on other aspects of our business. The design and implementation of the new ERP system could also take longer than anticipated and put further strain on our ability to run our business on the older, existing ERP system. Any design flaws or delays in the new ERP system or any distraction of our workforce from competing business requirements could harm our business or results of operations. We must also continue to enhance our controls and procedures and workforce training. If we do not manage our growth effectively or adapt our systems, processes and procedures to our growing business and organization, our business and results of operations could be harmed. obtain, and which if not obtained in satisfactory amounts may prevent us from funding flash ventures with Toshiba or other third parties, increasing our wafer supply, developing or enhancing our products, taking advantage of future opportunities, growing our business or responding to competitive pressures or unanticipated industry changes, any of which could harm our business._   We currently believe that we have sufficient cash resources to fund our operations as well as our anticipated investments in ventures with third parties for at least the next twelve months; however, we may in the future raise additional funds, including funds to meet our obligations with respect to Flash Partners and Flash Alliance, or with respect to the potential new memory wafer fab, and we cannot be certain that we will be able to obtain additional financing on favorable terms, if at all. From time-to-time, we may decide to raise additional funds through public or private debt, equity or lease financings. If we issue additional equity securities, our stockholders will experience dilution and the new equity securities may have rights, preferences or privileges senior to those of existing holders of common stock. If we raise funds through debt or lease financing, we will have to pay interest and may be subject to restrictive covenants, which could harm our business. If our corporate rating is significantly downgraded by any rating agency, it may impair the ability of our flash ventures with Toshiba to obtain future equipment lease financings on terms consistent with current leases and would cause a default under certain current leases, either of which could harm our business and financial condition. If we cannot raise funds on acceptable terms, if and when needed, we may not be able to develop or enhance our products, fulfill our obligations to Flash Partners and Flash Alliance, take advantage of future opportunities, grow our business or respond to competitive pressures or unanticipated industry changes, any of which could have a negative impact on our business. and in Delaware law could discourage or delay a change in control and, as a result, negatively impact our stockholders._   We have taken a number of actions that could have the effect of discouraging a takeover attempt. For example, we have a stockholders rights plan that would cause substantial dilution to a stockholder, and substantially increase the cost paid by a stockholder, who attempts to acquire us on terms not approved by our board of directors. This could discourage an acquisition of us. In addition, our certificate of incorporation grants our board of directors the authority to fix the rights, preferences and privileges of and issue up to 4,000,000 shares of preferred stock without stockholder action 2,000,000 of which have already been reserved under our stockholder rights plan. Issuing preferred stock could have the effect of making it more difficult and less attractive for a third party to acquire a majority of our outstanding voting stock. Preferred stock may also have other rights, including economic rights senior to our common stock that could have a material adverse effect on the market value of our common stock. In addition, we are subject to the anti-takeover provisions of Section 203 of the Delaware General Corporation Law. This section provides that a corporation may not engage in any business combination with any interested stockholder during the three-year period following the time that a stockholder became an interested stockholder. This provision could have the effect of delaying or discouraging a change of control of SanDisk. tax liabilities could affect our profitability._   We are subject to income tax in the United States and numerous foreign jurisdictions. Our tax liabilities are affected by the amounts we charge for inventory, services, licenses, funding and other items in intercompany transactions. We are subject to ongoing tax audits in various jurisdictions. Tax authorities may disagree with our intercompany charges or other matters and assess additional taxes. We regularly assess the likely outcomes of these audits in order to determine the appropriateness of our tax provision. However, there can be no assurance that we will accurately predict the outcomes of these audits, and the actual outcomes of these audits could have a material impact on our net income or financial condition. In addition, our effective tax rate in the future could be adversely affected by changes in the mix of earnings in countries with differing statutory tax rates, changes in the valuation of deferred tax assets and liabilities, changes in tax laws, and the discovery of new information in the course of our tax return preparation process. In particular, the carrying value of deferred tax assets, which are predominantly in the United States, is dependent on our ability to generate future taxable income in the United States. Any of these changes could affect our profitability. Declining product margins can cause reduced profits in our manufacturing entities which are primarily located in relatively low tax rate jurisdictions. Continued product margin declines could have a material adverse impact on our effective tax rate. Furthermore, our tax provisions could be adversely affected as a result of any further interpretative accounting guidance related to accounting for uncertain tax positions. Production and marketing of products in certain states and countries may subject us to environmental and other regulations including, in some instances, the responsibility for environmentally safe disposal or recycling. Such laws and regulations have recently been passed in several jurisdictions in which we operate, including Japan and certain states within the United States. Although we do not anticipate any material adverse effects in the future based on the nature of our operations and the focus of such laws, there is no assurance such existing laws or future laws will not have a material adverse effect on our financial condition, liquidity or results of operations. internal controls, or if our internal controls over financial reporting are not effective, our business could suffer._   In connection with our certification process under Section 404 of Sarbanes-Oxley, we have identified in the past and will from time-to-time identify deficiencies in our internal control over financial reporting. We cannot assure you that individually or in the aggregate these deficiencies would not be deemed to be a material weakness. Furthermore, we may not be able to implement enhancements on a timely basis, including any enhancements necessary to integrate msystems operations, in order to prevent a failure of our internal controls or enable us to furnish future unqualified certifications. A material weakness or deficiency in internal control over financial reporting could materially impact our reported financial results and the market price of our stock could significantly decline. Additionally, adverse publicity related to the disclosure of a material weakness or deficiency in internal controls could have a negative impact on our reputation, business and stock price. Any internal control or procedure, no matter how well designed and operated, can only provide reasonable assurance of achieving desired control objectives and cannot prevent intentional misconduct or fraud. 1 Senior Convertible Notes due 2013 and the 1 Convertible Notes due 2035 are outstanding, we are obligated to pay to the holders thereof approximately $12.3 million per year in interest. If we issue other debt securities in the future, our debt service obligations will increase. If we are unable to generate sufficient cash to meet these obligations and must instead use our existing cash or investments, we may have to reduce, curtail or terminate other business activities. We intend to fulfill our debt service obligations from cash generated by our operations, if any, and from our existing cash and investments. Our indebtedness could have significant negative consequences. For example, it could: settlement, such as our 1  Senior Convertible Notes due 2013 may be subject to change._  The Financial Accounting Standards Board, or FASB, issued a proposed FASB Staff Position FSP No. APB 14-a, _Accounting for Convertible Debt Instruments That May Be Settled in Cash Upon Conversion Including Partial Cash Settlement_. The proposed accounting method for net share settled convertible securities would be to bifurcate and account for the net settled convertible securities as if they were a separate debt and equity security. In November 2007, the FASB announced it is expected to begin its redeliberations of the proposed FSP in February 2008. Therefore, final guidance will not be issued until at least the end of the first quarter of 2008, and earlier application would not be permitted. The guidance in the proposed FSP would be applied retrospectively to all periods presented. While the proposed FSP has not yet been finalized by the FASB, our initial estimate based upon the current interpretations by the FASB, is that we would be required to report an additional before tax, non-cash interest expense of approximately $400 million over the life of the 1 Senior Convertible Notes due 2013, including approximately $50 million to $55 million in fiscal 2008. However, these amounts are subject to material changes based upon finalization of the proposed FSP. These impacts could adversely affect our financial results, the trading price of our common stock and negatively impact the trading price of the notes. Toshiba, which could impact our ability to comply with our obligations under our 1  Senior Convertible Notes due 2013 and our 1 Convertible Notes due 2035._  We have entered into agreements to guarantee, indemnify or provide financial support with respect to lease and certain other obligations of the flash ventures with Toshiba in which we have a 49.9 ownership interest. In addition, we may enter into future agreements to increase manufacturing capacity, including the expansion of Fab 4. As of December 30, 2007, we had indemnification and guarantee obligations for these ventures of approximately $1.14 billion. As of December 30, 2007, we had unfunded commitments of approximately $1.8 billion to fund our various obligations under the Flash Partners and Flash Alliance ventures with Toshiba. Due to these and our other commitments, we may not have sufficient funds to make payments under or repurchase the notes. may have adverse consequences._  The 1 Senior Convertible Notes due 2013 are subject to net share settlement, which means that we will satisfy our conversion obligation to holders by paying cash in settlement of the lesser of the principal amount and the conversion value of the 1 Senior Convertible Notes due 2013 and by delivering shares of our common stock in settlement of any and all conversion obligations in excess of the daily conversion values. Our failure to convert the 1 Senior Convertible Notes due 2013 into cash or a combination of cash and common stock upon exercise of a holders conversion right in accordance with the provisions of the indenture would constitute a default under the indenture. We may not have the financial resources or be able to arrange for financing to pay such principal amount in connection with the surrender of the 1 Senior Convertible Notes due 2013 for conversion. While we currently only have debt related to the 1 Senior Convertible Notes due 2013 and the 1 Convertible Notes due 2035 and we do not have other agreements that would restrict our ability to pay the principal amount of the 1 Senior Convertible Notes due 2013 in cash, we may enter into such an agreement in the future, which may limit or prohibit our ability to make any such payment. In addition, a default under the indenture could lead to a default under existing and future agreements governing our indebtedness. If, due to a default, the repayment of related indebtedness were to be accelerated after any applicable notice or grace periods, we may not have sufficient funds to repay such indebtedness and amounts owing in respect of the conversion of any 1 Senior Convertible Notes due 2013. may affect the value of the notes and our common stock._   We have entered into convertible note hedge transactions with Morgan Stanley  Co. International Limited and Goldman, Sachs  Co., or the dealers. These transactions are expected to reduce the potential dilution upon conversion of the 1 Senior Convertible Notes due 2013. We used approximately $67.3 million of the net proceeds of funds received from the 1 Senior Convertible Notes due 2013 to pay the net cost of the convertible note hedge in excess of the warrant transactions. These transactions were accounted for as an adjustment to our stockholders equity. In connection with hedging these transactions, the dealers or their affiliates: The dealers or their affiliates are likely to modify their hedge positions from time-to-time prior to conversion or maturity of the notes by purchasing and selling shares of our common stock, our securities or other instruments they may wish to use in connection with such hedging. In particular, such hedging modification may occur during any observation period for a conversion of the 1 Senior Convertible Notes due 2013, which may have a negative effect on the value of the consideration received in relation to the conversion of those notes. In addition, we intend to exercise options we hold under the convertible note hedge transactions whenever notes are converted. To unwind their hedge positions with respect to those exercised options, the dealers or their affiliates expect to sell shares of our common stock in secondary market transactions or unwind various over-the-counter derivative transactions with respect to our common stock during the observation period, if any, for the converted notes. The effect, if any, of any of these transactions and activities on the market price of our common stock or the 1 Senior Convertible Notes due 2013 will depend in part on market conditions and cannot be ascertained at this time, but any of these activities could adversely affect the value of our common stock and the value of the 1 Senior Convertible Notes due 2013 and, as a result, the amount of cash and the number of shares of common stock, if any, holders will receive upon the conversion of the notes. actions on behalf of msystems and its shareholders were filed against us and msystems prior to the closing of the merger. See Item 3, Legal Proceedings. We may be required to expend significant resources, including management time, to defend these actions and could be subject to damages or settlement costs related to these actions. We are responsible for liabilities associated with these and any other class and derivative actions, including indemnification of directors and certain members of management of msystems. Not applicable. Our principal facilities are located in Milpitas, California. We lease four adjacent buildings comprising approximately 444,000 square feet. These facilities house our corporate offices, the majority of our engineering team, as well as a portion of our sales, marketing, operations and corporate services organizations. We occupy this space under lease agreements that expire in 2011 and 2013. In addition, we own two buildings comprising approximately 157,000 square feet located in Kfar Saba, Israel, that house administrative offices, research, development and manufacturing facilities, and we also own a vacant land plot of approximately 70,000 square feet adjacent to our property located in Kfar Saba, Israel, which is reserved for further expansion. Our subsidiary, Microelectronica Espanola S.L.U., leases office and manufacturing space of approximately 8,800 square feet and manufacturing space of approximately 7,000 square feet in Madrid, Spain. In December 2006, we acquired a 50-year land lease in Shanghai, China, of approximately 653,000 square feet on which we built our advanced testing and assembly facility of approximately 363,000 square feet. We also lease sales and marketing offices in the United States, China, France, Germany, India, Ireland, Israel, Japan, Korea, Scotland, Singapore, Spain, Sweden and Taiwan; operation support offices in Taichung, Taiwan; Hong Kong, Shanghai and Shenzhen, China; Bangalore, India; and design centers in Omer and Tefen, Israel; Edinburgh, Scotland and Madrid, Spain. From time-to-time, it has been and may continue to be necessary to initiate or defend litigation against third parties. These and other parties could bring suit against us. In each case listed below where we are the defendant, we intend to vigorously defend the action. At this time, the Company does not believe it is reasonably possible that losses related to the litigation described below have occurred beyond the amounts, if any, that have been accrued. On October 31, 2001, the Company filed a complaint for patent infringement in the United States District Court for the Northern District of California against Memorex Products, Inc. Memorex, Pretec Electronics Corporation Pretec, RITEK Corporation RITEK, and Power Quotient International Co., Ltd PQI. In the suit, captioned SanDisk Corp. v. Memorex Products, Inc., et al., Civil Case No. CV 01 4063 VRW, the Company seeks damages and injunctions against these companies from making, selling, importing or using flash memory cards that infringe its U.S. Patent No. 5,602,987. On May 6, 2003, the District Court entered a stipulated consent judgment against PQI. The District Court granted summary judgment of non-infringement in favor of defendants RITEK, Pretec and Memorex and entered judgment on May 17, 2004. On June 2, 2004, the Company filed a notice of appeal of the summary judgment rulings to the United States Court of Appeals for the Federal Circuit. On July 8, 2005, the Federal Circuit held in favor of the Company, vacating the judgment of non-infringement and remanding the case back to the District Court. The District Court issued an order on claim construction on February 22, 2007. On June 29, 2007, defendant RITEK entered into a settlement agreement and cross-license with the Company. In light of the agreement, the Company agreed to dismiss all current patent infringement litigation against RITEK. A stipulated dismissal with prejudice between the Company and RITEK was entered on July 23, 2007. On August 30, 2007, the Company entered into a settlement agreement with Memorex regarding the accused products. On September 7, 2007, in light of the settlement between the Company and Memorex, the Court entered a stipulation dismissing the Companys claims against Memorex. On October 25, 2007, the Court Clerk entered a default against Pretec. On January 14, 2008, the Company filed a motion for default judgment against Pretec. The Court scheduled a hearing regarding the Companys motion for April 3, 2008. On February 20, 2004, the Company and a number of other manufacturers of flash memory products were sued in the Superior Court of the State of California for the City and County of San Francisco in a purported consumer class action captioned Willem Vroegh et al. v. Dane-Electric Corp. USA, et al., Civil Case No. GCG 04 428953, alleging false advertising, unfair business practices, breach of contract, fraud, deceit, misrepresentation and violation of the California Consumers Legal Remedy Act. The lawsuit purports to be on behalf of a class of purchasers of flash memory products and claims that the defendants overstated the size of the memory storage capabilities of such products. The lawsuit seeks restitution, injunction and damages in an unspecified amount. The parties have reached a settlement of the case, which received final approval from the Court on November 20, 2006. Four objectors to the settlement filed appeals from the Courts order granting final approval. On November 30, 2007, the First District of the California Court of Appeal affirmed in full the trial courts judgment and final approval of the settlement. The objectors then filed petitions for the Court of Appeal to rehear the matter en banc, which petitions were denied on December 21, 2007. The objectors have now filed petitions with the California Supreme Court, currently pending in Case No. S159760, asking the Supreme Court to review of the decision of the Court of Appeal. On October 15, 2004, the Company filed a complaint for patent infringement and declaratory judgment of non-infringement and patent invalidity against STMicroelectronics N.V. and STMicroelectronics, Inc. collectively, ST in the United States District Court for the Northern District of California, captioned SanDisk Corporation v. STMicroelectronics, Inc., et al., Civil Case No. C 04 04379 JF. The complaint alleges that STs products infringe one of the Companys U.S. patents, U.S. Patent No. 5,172,338 the 338 patent, and also alleges that several of STs patents are invalid and not infringed. On June 18, 2007, the Company filed an amended complaint, removing several of the Companys declaratory judgment claims. A case management conference was conducted on June 29, 2007. At that conference, the parties agreed that the remaining declaratory judgment claims will be dismissed, pursuant to a settlement agreement in two matters being litigated in the Eastern District of Texas Civil Case No. 4:05CV44 and Civil Case No. 4:05CV45, discussed below. The parties also agreed that the 338 patent and a second Company patent, presently at issue in Civil Case No. C0505021 JF discussed below, will be litigated together in this case. ST filed an answer and counterclaims on September 6, 2007. STs counterclaims included assertions of antitrust violations. On October 19, 2007, the Company filed a motion to dismiss STs antitrust counterclaims. On December 20, 2007, the Court entered a stipulated order staying all procedural deadlines until the Court resolves the Companys motion to dismiss. On January 25, 2008, the Court held a hearing on the Companys motion. At the hearing, the Court converted the Companys Motion to Dismiss into a Motion for Summary Judgment. The Court scheduled a hearing on the Companys Motion for Summary Judgment for May 30, 2008. The trial is currently scheduled for summer of 2008. This trial date, however, may be moved depending on the Courts ruling on the Companys Motion for Summary Judgment. On October 14, 2005, STMicro filed a complaint against the Company and the Companys CEO, Dr. Eli Harari, in the Superior Court of the State of California for the County of Alameda, captioned STMicroelectronics, Inc. v. Harari, Case No. HG 05237216 the Harari Matter. The complaint alleges that STMicro, as the successor to Wafer Scale Integration, Inc.s WSI legal rights, has an ownership interest in several Company patents that were issued from applications filed by Dr. Harari, a former WSI employee. The complaint seeks the assignment or co-ownership of certain inventions and patents conceived of by Dr. Harari, including some of the patents asserted by the Company in its litigations against STMicro, as well as damages in an unspecified amount. On November 15, 2005, Dr. Harari and the Company removed the case to the U.S. District Court for the Northern District of California, where it was assigned case number C05-04691. On December 13, 2005, STMicro filed a motion to remand the case back to the Superior Court of Alameda County. The case was remanded to the Superior Court of Alameda County on July 18, 2006, after briefing and oral argument on a motion by STMicro for reconsideration of an earlier order denying STMicros request for remand. Due to the remand, the District Court did not rule upon a summary judgment motion previously filed by the Company. In the Superior Court of Alameda County, the Company filed a Motion to Transfer Venue to Santa Clara County on August 10, 2006, which was denied on September 12, 2006. On October 6, 2006, the Company filed a Petition for Writ of Mandate with the First District Court of Appeal, which asks that the Superior Courts September 12, 2006 Order be vacated, and the case transferred to Santa Clara County. On October 20, 2006, the Court of Appeal requested briefing on the Companys petition for a writ of mandate and stayed the action during the pendency of the writ proceedings. On January 17, 2007, the Court of Appeal issued an alternative writ directing the Superior Court to issue a new order granting the Companys venue transfer motion or to show cause why a writ of mandate should not issue compelling such an order. On January 23, 2007, the Superior Court of Alameda transferred the case to Santa Clara County as a result of the writ proceeding at the Court of Appeal. The Company also filed a special motion to strike STMicros unfair competition claim, which the Superior Court denied on September 11, 2006. The Company has appealed the denial of that motion, and the proceedings at the Superior Court were stayed during the pendency of the appeal. On August 7, 2007, the First District Court of Appeal affirmed the Superior Courts decision. The California Supreme Court subsequently denied the Companys petition for review of the Court of Appeals decision. The Superior Court scheduled a case management conference for April 10, 2008. On December 6, 2005, the Company filed a complaint for patent infringement in the United States District Court for the Northern District of California against ST Case No. C0505021 JF. In the suit, the Company seeks damages and injunctions against ST from making, selling, importing or using flash memory chips or products that infringe the Companys U.S. Patent No. 5,991,517 the 517 patent. As discussed above, the 517 patent will be litigated together with the 338 patent in Civil Case No. C 04 04379JF. On August 7, 2006, two purported shareholder class and derivative actions, captioned Capovilla v. SanDisk Corp., No. 106 CV 068760, and Dashiell v. SanDisk Corp., No. 106 CV 068759, were filed in the Superior Court of California in Santa Clara County, California. On August 9, 2006 and August 17, 2006, respectively, two additional purported shareholder class and derivative actions, captioned Lopiccolo v. SanDisk Corp., No. 106 CV 068946, and Sachs v. SanDisk Corp., No. 106 CV 069534, were filed in that court. These four lawsuits were subsequently consolidated under the caption In re msystems Ltd. Shareholder Litigation, No. 106 CV 068759 and on October 27, 2006, a consolidated amended complaint was filed that superseded the four original complaints. The lawsuit was brought by purported shareholders of msystems Ltd. msystems, and named as defendants the Company and each of msystems former directors, including its President and Chief Executive Officer, and its former Chief Financial Officer, and named msystems as a nominal defendant. The lawsuit asserted purported class action and derivative claims. The alleged derivative claims asserted, among other things, breach of fiduciary duties, abuse of control, constructive fraud, corporate waste, unjust enrichment and gross mismanagement with respect to past stock option grants. The alleged class and derivative claims also asserted claims for breach of fiduciary duty by msystems board, which the Company was alleged to have aided and abetted, with respect to allegedly inadequate consideration for the merger, and allegedly false or misleading disclosures in proxy materials relating to the merger. The complaints sought, among other things, equitable relief, including enjoining the proposed merger, and compensatory and punitive damages. In January 2008, the court granted, without prejudice, the Companys and msystems motion to dismiss. On September 11, 2006, Mr. Rabbi, a shareholder of msystems filed a derivative action and a motion to permit him to file the derivative action against four directors of msystems and msystems, arguing that options were allegedly allocated to officers and employees of msystems in violation of applicable law. Mr. Rabbi claimed that the aforementioned actions allegedly caused damage to msystems. On January 25, 2007, msystems filed a motion to dismiss the motion to seek leave to file the derivative action and the derivative action on the grounds, inter alia, that Mr. Rabbi ceased to be a shareholder of msystems after the merger between msystems and the Company. msystems received an extension to file its comprehensive response to the motion, to be submitted 30 days after the decision of the court in its motion to dismiss. On February 16, 2007, Texas MP3 Technologies, Ltd. Texas MP3 filed suit against the Company, Samsung Electronics Co., Ltd., Samsung Electronics America, Inc. and Apple Inc., Case No. 2:07-CV-52, in the Eastern District of Texas, Marshall Division, alleging infringement of U.S. Patent 7,065,417 the 417 patent. On June 19, 2007, the Company filed an answer and counterclaim: a denying infringement; b seeking a declaratory judgment that the 417 patent is invalid, unenforceable and not infringed by the Company. On July 31, 2007, Texas MP3 filed an amended complaint against the Company and the other parties named in the original complaint, alleging infringement of the 417 patent. On August 1, 2007, defendant Apple, Inc. filed a motion to stay the litigation pending completion of an inter-partes reexamination of the 417 patent by the U.S. Patent and Trademark Office. That motion was denied. On August 10, 2007, the Company filed an answer to the amended complaint and a counterclaim: a denying infringement; b seeking a declaratory judgment that the 417 patent is invalid, unenforceable and not infringed by the Company. A status conference in the case was held on November 2, 2007. A Markman hearing has been scheduled for March 12, 2009 and jury selection for July 6, 2009. Discovery is proceeding. On or about May 11, 2007, the Company received written notice from Alcatel- Lucent, S.A., Lucent, alleging that the Companys digital music players require a license to U.S. Patent No. 5,341,457 the 457 patent and U.S. Patent No. RE 39,080 the 080 patent. On July 13, 2007, the Company filed a complaint for a declaratory judgment of non-infringement and patent invalidity against Lucent Technologies Inc. and Lucent in the United States District Court for the Northern District of California, captioned SanDisk Corporation v. Lucent Technologies Inc., et al., Civil Case No. C 07 03618. The complaint seeks a declaratory judgment that the Company does not infringe the two patents asserted by Lucent against the Companys digital music players. The complaint further seeks a judicial determination and declaration that Lucents patents are invalid. Defendants have answered and defendant Lucent has asserted a counterclaim of infringement in connection with the 080 patent. Defendants have also moved to dismiss the case without prejudice andor stay the case pending their appeal of a judgment involving the same patents in suit entered by the United States District Court for the Southern District of California. The Company has moved for summary judgment on its claims for declaratory relief, and has moved to dismiss defendant Lucents counterclaim for infringement of the 080 patent as a matter of law. All motions are presently pending before the Court. On August 10, 2007, Lonestar Invention, L.P. Lonestar filed suit against the Company in the Eastern District of Texas, Civil Action No. 6:07-CV-00374-LED. The complaint alleges that a memory controller used in the Companys flash memory devices infringes U.S. Patent No. 5,208,725. Lonestar is seeking a permanent injunction, actual damages, treble damages for willful infringement, and costs and attorney fees. The Company has answered Lonestars complaint, denying Lonestars allegations. On September 11, 2007 the Company and the Companys CEO, Dr. Eli Harari, received grand jury subpoenas issued from the United States District Court for the Northern District of California indicating a Department of Justice investigation into possible antitrust violations in the NAND flash memory industry. The Company also received a notice from the Canadian Competition Bureau Bureau that the Bureau has commenced an industry-wide investigation with respect to alleged anti-competitive activity regarding the conduct of companies engaged in the supply of NAND flash memory chips to Canada and requesting that the Company preserve any records relevant to such investigation. The Company is cooperating in these investigations. On September 11, 2007, Premier International Associates LLC Premier filed suit against the Company and 19 other named defendants, including Microsoft Corporation, Verizon Communications Inc. and ATT Inc., in the United States District Court for the Eastern District of Texas Marshall Division. The suit, Case No. 2-07-CV-396, alleges infringement of Premiers U.S. Patents 6,243,725 the 725 and 6,763,345 the 345 by certain of the Companys portable digital music players, and seeks an injunction and damages in an unspecified amount. On December 10, 2007, an amended complaint was filed. On February 5, 2008, the Company filed an answer to the amended complaint and counterclaims: a denying infringement; b seeking a declaratory judgment that the 725 and 345 patents are invalid, unenforceable and not infringed by the Company. On February 5, 2008, the Company along with the other defendants in the action filed a motion to stay the litigation pending completion of reexaminations of the 725 and 345 patents by the U.S. Patent and Trademark Office. This motion is pending. A trial date has not been set. On October 24, 2007, the Company filed a complaint under Section 337 of the Tariff Act of 1930 as amended Inv. No. 337-TA-619 titled, In the matter of flash memory controllers, drives, memory cards, and media players and products containing same in the ITC hereinafter, the 619 Investigation, naming the following companies as respondents: Phison Electronics Corp. Phison; Silicon Motion Technology Corporation, Silicon Motion, Inc. located in Taiwan, Silicon Motion, Inc. located in California, and Silicon Motion International, Inc. collectively, Silicon Motion; USBest Technology, Inc. USBest; Skymedi Corporation Skymedi; Chipsbrand Microelectronics HK Co., Ltd., Chipsbank Technology Shenzhen Co., Ltd., and Chipsbank Microelectronics Co., Ltd., collectively, Chipsbank; Zotek Electronic Co., Ltd., dba Zodata Technology Ltd. collectively, Zotek; Infotech Logistic LLC Infotech, Power Quotient International Co., Ltd., and PQI Corp. collectively, PQI; Power Quotient International HK Co., Ltd.; Syscom Development Co. Ltd.; PNY Technologies, Inc. PNY; Kingston Technology Co., Inc., Kingston Technology Corp., Payton Technology Corp., and MemoSun, Inc. collectively, Kingston; Buffalo, Inc., Melco Holdings, Inc., and Buffalo Technology USA, Inc. collectively, Buffalo; Verbatim Corp. Verbatim; Transcend Information Inc. located in Taiwan, Transcend Information Inc. located in California, and Transcend Information Maryland, Inc., collectively, Transcend; Imation; Add-On Computer Peripherals, Inc., Add-On Computer Peripherals, LLC, and Add-On Technology Co. collectively, Add-On; A-Data Technology Co., Ltd., and A-Data Technology USA Co., Ltd., collectively, A-DATA; Apacer Technology Inc. and Apacer Memory America, Inc. collectively, Apacer; Acer, Inc. Acer; Behavior Tech Computer Corp. and Behavior Tech Computer USA Corp. collectively, Behavior; Emprex Technologies Corp.; Corsair Memory, Inc. Corsair; Dane-Elec Memory S.A., and Dane-Elec Corp. USA, collectively, Dane-Elec; Deantusaiocht Dane-Elec TEO; EDGE Tech Corp. EDGE; Interactive Media Corp, Interactive; Kaser Corporation Kaser; LG Electronics, Inc., and LG Electronics U.S.A., Inc., collectively, LG; TSR Silicon Resources Inc. TSR; and Welldone Co. Welldone. In the complaint, the Company alleges that respondents flash memory products, such as USB flash drives, Compact Flash cards, and flash media players, infringe the following: U.S. Patent No. 5,719,808 the 808 patent; U.S. Patent No. 6,763,424 the 424 patent; U.S. Patent No. 6,426,893 the 893 patent; U.S. Patent No. 6,947,332 the 332 patent; and U.S. Patent No. 7,137,011 the 011 patent. The Company seeks an order excluding the respondents flash memory controllers, drives, memory cards, and media players from entry into the United States as well as a permanent cease and desist order against the respondents. On December 6, 2007, the Commission instituted an investigation based on the Companys complaint. The target date for completing the investigation was originally set for March 12, 2009. Since filing its complaint, the Company has reached settlement agreements with Add-On Computer Peripherals, Inc., Add-On Computer Peripherals, LLC, EDGE, Infotech, Interactive, Kaser, PNY, TSR, and Welldone. The parties moved to terminate the investigation as to these respondents in light of the settlement agreements. Most of the respondents that have not settled with the Company have responded to the complaint. Among other things, these respondents deny infringement or that the Company has a domestic industry in the asserted patents. In responding to the complaint, these respondents have also raised several affirmative defenses including, among others, invalidity, unenforceability, express license, implied license, patent exhaustion, waiver, acquiescence, latches, estoppel and unclean hands. On January 23, 2008, the Administrative Law Judge issued an initial determination extending the target date by three months to June 12, 2009, proposing a Markman hearing for May 6-7, 2008 and tentatively scheduling the evidentiary hearing to begin on October 27, 2008. On October 24, 2007, the Company filed a complaint for patent infringement in the United States District Court for the Western District of Wisconsin against the following defendants: Phison, Silicon Motion, Synergistic Sales, Inc. Synergistic, USBest, Skymedi, Chipsbank, Infotech, Zotek, PQI, PNY, Kingston, Buffalo, Verbatim, Transcend, Imation, Add-On, A-DATA, Apacer, Behavior, Corsair, Dane-Elec, EDGE, Interative, LG, TSR and Welldone. In this action, Case No. 07-C-0607-C, the Company asserts that the defendants infringe the 808 patent, the 424 patent, the 893 patent, the 332 patent and the 011 patent. The Company seeks damages and injunctive relief. In light of the above mentioned settlement agreements, the Company dismissed its claims against Add-On Computer Peripherals, Inc., Add-On Computer Peripherals, LLC, EDGE, Infotech, Interactive, PNY, TSR, and Welldone. The Company also voluntarily dismissed its claims against Acer and Synergistic without prejudice. On November 21, 2007, defendant Kingston filed a motion to stay this action. Several defendants joined in Kingstons motion. On December 19, 2007, the Court issued an order staying the case in its entirety until the 619 Investigation becomes final. On January 14, 2008, the Court issued an order clarifying that the entire case is stayed for all parties. On October 24, 2007, the Company filed a complaint for patent infringement in the United States District Court for the Western District of Wisconsin against the following defendants: Phison, Silicon Motion, Synergistic, USBest, Skymedi, Zotek, Infortech, PQI, PNY, Kingston, Buffalo, Verbatim, Transcend, Imation, A-DATA, Apacer, Behavior, and Dane-Elec. In this action, Case No. 07-C-0605-C, the Company asserts that the defendants infringe U.S. Patent No. 6,149,316 the 316 patent and U.S. Patent No. 6,757,842 the 842 patent. The Company seeks damages and injunctive relief. In light of above mentioned settlement agreements, the Company dismissed its claims against Infotech and PNY. The Company also voluntarily dismissed its claims against Acer and Synergistic without prejudice. On November 21, 2007, defendant Kingston filed a motion to consolidate and stay this action. Several defendants joined in Kingstons motion. On December 17, 2007, the Company filed an opposition to Kingstons motion. That same day, several defendants filed another motion to stay this action. On January 7, 2008, the Company opposed the defendants second motion to stay. On January 22, 2008, defendants Phison, Skymedi and Behavior filed motions to dismiss the Companys complaint for lack of personal jurisdiction. That same day, defendants Phison, Silicon Motion, USBest, Skymedi, PQI, Kingston, Buffalo, Verbatim, Transcend, A-DATA, Apacer, and Dane-Elec answered the Companys complaint denying infringement and raising several affirmative defenses. These defenses included, among others, lack of personal jurisdiction, improper venue, lack of standing, invalidity, unenforceability, express license, implied license, patent exhaustion, waiver, latches, and estoppel. On January 24, 2008, Silicon Motion filed a motion to dismiss the Companys complaint for lack of personal jurisdiction. On January 25, 2008, Dane-Elec also filed a motion to dismiss the Companys complaint for lack of personal jurisdiction. On January 28, 2008, the Court issued an order staying the case in its entirety with respect to all parties until the proceeding in the 619 Investigation become final. In its order, the Court also consolidated this action Case Nos. 07-C-0605-C with the action discussed in the preceding paragraph 07-C-0607-C. Between August 31, 2007 and December 14, 2007, the Company along with a number of other manufacturers of flash memory products was sued in the Northern District of California, in eight purported class action complaints. On February 7, 2008 all of the civil complaints were consolidated into two complaints, one on behalf of direct purchasers and one on behalf of indirect purchasers, in the Northern District of California in a purported class action captioned In re Flash Memory Antitrust Litigation, Civil Case No. C07-0086. Plaintiffs allege the Company and a number of other manufacturers of flash memory products conspired to fix, raise, maintain, and stabilize the price of NAND flash memory in violation of state and federal laws. The lawsuits purport to be on behalf of purchasers of flash memory between January 1, 1999 through the present. The lawsuits seek an injunction, damages, restitution, fees, costs, and disgorgement of profits. No matters were submitted to a vote of security holders during the fourth quarter of fiscal year 2007. Global Select Market under the symbol SNDK. The following table summarizes the high and low sale prices for our common stock as reported by the NASDAQ Global Select Market. record. stock and do not expect to pay cash dividends on our common stock in the foreseeable future. information about our purchases of equity securities registered pursuant to Section 12 of the Exchange Act during the three months ended December 30, 2007. cumulative total stockholder return on our common stock with that of the Standard  Poors SP 500 Stock Index, a broad market index published by SP, a selected SP Semiconductor Company stock index compiled by Morgan Stanley  Co. Incorporated and the Philadelphia Semiconductor Index for the five-year period ended December 30, 2007. These indices, which reflect formulas for dividend reinvestment and weighting of individual stocks, do not necessarily reflect returns that could be achieved by an individual investor. The comparison for each of the periods assumes that $100 was invested on December 27, 2002 in our common stock, the stocks included in the SP 500 Stock Index, the stocks included in the SP Semiconductor Company Stock Index and the stocks included in the PHLX Semiconductor Sector, and assumes all dividends are reinvested. For each reported year, our reported dates are the last trading dates of our fiscal year which ends on the Sunday closest to December 31, and the SP 500 Stock Index, SP Semiconductor Company Stock Index and Philadelphia Semiconductor Index the dates are the last trading dates of December. We are the inventor of and worldwide leader in NAND-based flash storage cards. Our mission is to provide simple, reliable and affordable storage for consumer use in portable devices. We sell SanDisk branded products for consumer electronics through broad global retail and original equipment manufacturer, or OEM, distribution channels. We design, develop and manufacture products and solutions in a variety of form factors using our flash memory, controller and firmware technologies. We source the vast majority of our flash memory supply through our significant venture relationships with Toshiba Corporation, or Toshiba, which provide us with leading edge low-cost memory wafers. Our cards are used in a wide range of consumer electronics devices such as mobile phones, digital cameras, gaming devices and laptop computers. We also produce Universal Serial Bus, or USB, drives, MP3 players and other flash storage products that are embedded in a variety of systems for the enterprise, industrial, military and other markets. Our results are primarily driven by worldwide demand for flash storage devices, which in turn depends on end-user demand for electronic products. We believe the market for flash storage is price elastic. Accordingly, we expect that as we reduce the price of our flash devices, consumers will demand an increasing number of megabytes andor units of memory and that over time, new markets will emerge. In order to profitably capitalize on price elasticity of demand in the market for flash storage products, we must reduce our cost per megabyte at a rate similar to the change in selling price per megabyte to the consumer and the average capacity of our products must grow enough to offset price declines. We seek to achieve these cost reductions through technology improvements primarily by increasing the amount of memory stored in a given area of silicon. We adopted Financial Accounting Standards Board, or FASB, Interpretation No. 48, or FIN 48, _Accounting for Uncertainty in Income Taxes, an interpretation of FASB Statement No.  109_, at the beginning of fiscal year 2007. FIN 48 prescribes a recognition threshold and measurement attribute for the financial statement recognition and measurement of a tax position taken or expected to be taken in a tax return. FIN 48 also provides guidance on derecognition, classification, interest and penalties, accounting in interim periods, disclosure and transition. Adoption of FIN 48 did not have a significant impact on our financial position and result of operations. For further discussion on adoption of FIN 48, please refer to Note 10, Income Taxes, to our consolidated financial statements included in Item 8 of this report. Our discussion and analysis of our financial condition and results of operations is based upon our consolidated financial statements, which have been prepared in accordance with accounting principles generally accepted in the United States, or U.S. GAAP. us to make estimates and judgments that affect the reported amounts of assets, liabilities, revenues and expenses, and related disclosure of contingent liabilities. On an ongoing basis, we evaluate our estimates, including, among others, those related to customer programs and incentives, product returns, bad debts, inventories and related reserves, investments, income taxes, warranty obligations, stock compensation, contingencies and litigation. We base our estimates on historical experience and on other assumptions that we believe are reasonable under the circumstances, the results of which form the basis for our judgments about the carrying values of assets and liabilities when those values are not readily apparent from other sources. Estimates have historically approximated actual results. However, future results will differ from these estimates under different assumptions and conditions. Programs._   We recognize revenues when the earnings process is complete, as evidenced by an agreement with the customer, transfer of title and acceptance, if applicable, fixed pricing and reasonable assurance of realization. Sales made to distributors and retailers are generally under agreements allowing price protection andor right of return and, therefore, the sales and related costs of these transactions are deferred until the retailers or distributors sell the merchandise to their end customer, or the rights of return expire. At December 30, 2007 and December 31, 2006, deferred income from sales to distributors and retailers was $167.3 million and $169.9 million, respectively. Estimated sales returns are provided for as a reduction to product revenue and deferred revenue and were not material for any period presented in our consolidated financial statements. We record estimated reductions to revenue or to deferred revenue for customer and distributor incentive programs and offerings, including price protection, promotions, co-op advertising, and other volume-based incentives and expected returns. Additionally, we have incentive programs that require us to estimate, based on historical experience, the number of customers who will actually redeem the incentive. All sales incentive programs are recorded as an offset to product revenues or deferred revenues. In calculating the value of sales incentive programs, actual and estimated activity is used based upon reported weekly sell-through data from our customers. The timing and resolution of these claims could materially impact product revenues or deferred revenues. However, actual returns and rebates in any future period could differ from our estimates, which could impact the revenue we report. of cost first-in, first-out or market. Market value is based upon an estimated average selling price reduced by estimated costs of disposal. The determination of market value involves numerous judgments including estimating average selling prices based upon recent sales volumes, industry trends, existing customer orders, current contract prices, industry analysis of supply and demand and seasonal factors. Should actual market conditions differ from our estimates, our future results of operations could be materially affected. The valuation of inventory also requires us to estimate obsolete or excess inventory. The determination of obsolete or excess inventory requires us to estimate the future demand for our products within specific time horizons, generally six to twelve months. To the extent our demand forecast for specific products is less than our product on hand and our noncancelable orders, we could be required to record additional inventory reserves, which would have a negative impact on our gross margin. which we have invested are variable interest entities within the definition of the Financial Accounting Standards Board, or FASB, Interpretation No. 46R, or FIN 46R, _Accounting for Variable Interest Entities._ If those entities are variable interest entities, or VIEs, we then determine whether we are the primary beneficiary of that entity by reference to our contractual and business arrangements with respect to expected gains and losses. The assessment of the primary beneficiary includes an analysis of the forecast and contractual stipulations of the VIE. Determining whether we would consolidate or apply the equity method to a particular VIE requires review of the VIEs forecast, which involves analysis of company specific data, industry data, known trends and uncertainties, which are inherently subjective. Consolidating a VIE under FIN 46R rather than using the equity method can materially impact revenue, gross margin and operating income trends. tax expense for financial statement purposes. These estimates occur in the calculation of certain tax assets and liabilities, which arise from differences in the timing of recognition of revenue and expense for tax and financial statement purposes. In determining the need for and amount of our valuation allowance, we assess the likelihood that we will be able to recover our deferred tax assets using historical levels of income, estimates of future income and tax planning strategies. While we have been profitable over the last several years, we compete in an industry with recurring average selling price declines. These price declines require us to apply judgment related to our forecast of future profitability and our recoverability of net deferred tax assets. Unanticipated downturns, alternative technologies or other negative factors in a continually changing high technology industry could result in declining future profitability and have an adverse impact on the recoverability of deferred tax assets. Our estimates for tax uncertainties require substantial judgment based upon the period of occurrence, complexity of the matter, available federal tax case law, interpretation of foreign laws and regulations and other estimates. There is no assurance that domestic or international tax authorities will agree with the tax positions we have taken which could materially impact future results. Purchase Plans._  Accounting for share-based compensation awards and accounting for Employee Stock Purchase Plan, or ESPP, shares are based upon the provisions of Statement of Financial Accounting Standards No. 123R, or SFAS 123R, _Share-Based Payments_ , which requires the recognition of the fair value of share-based compensation. The fair value of share-based awards and ESPP shares was estimated using a Black-Scholes-Merton closed-form option valuation model. The Black-Scholes-Merton model requires the input of assumptions in implementing SFAS 123R, including expected stock price volatility, expected term and estimated forfeitures of each award. The parameters used in the model are reviewed and adjusted on a quarterly basis. We recognized compensation expense for the fair values of these awards, which have graded vesting, on a straight-line basis over the requisite service period of each of these awards, net of estimated forfeitures at a rate of 7.59. We make quarterly assessments of the adequacy of the APIC credit pool generated by previous share-based compensation excess tax benefits to determine if there are any tax deficiencies which require recognition in the consolidated statements of income. The fair value of restricted stock units was calculated based upon the fair market value of our common stock on the date of grant. Financial Accounting Standards No. 141, or SFAS 141, _Business Combinations_ , we allocate the purchase price of acquired companies to the tangible and intangible assets acquired, liabilities assumed, and in-process research and development based on their estimated fair values. Management makes significant estimates and assumptions, which are believed to be reasonable, in determining the fair values of certain assets acquired and liabilities assumed, especially with respect to intangible assets. These estimates are based on historical experience and information obtained from the management of the acquired companies and are inherently uncertain. Critical estimates in valuing certain of the intangible assets include but are not limited to future expected cash flows from product sales, customer relationships, acquired developed technologies and patents, expected costs to develop the in-process research and development into commercially viable products and estimated cash flows from the projects when completed, expected life of the core technology and discount rates. Unanticipated events and circumstances may occur which may affect the accuracy or validity of such assumptions, estimates or actual results. The increase in our fiscal year 2007 product revenues was comprised of a 190 increase in the number of megabytes sold, partially offset by a 60 reduction in average selling price per megabyte. Our unit sales increased 75 compared to fiscal year 2006 with the strongest unit growth coming from cards for mobile phones. OEM revenue particularly benefited from higher sales of mobile cards and embedded products to mobile handset vendors. Retail revenue growth benefited from the growing market for cards for mobile phones as well as increased sales of USB flash drives. The increase in our fiscal year 2006 product revenues was comprised of a 246 increase in the number of megabytes sold, partially offset by a 59 reduction in our average selling price per megabyte. The markets that we sell to have experienced price elasticity of demand. In fiscal year 2006, as the price per megabyte decreased, the average memory density of our products sold increased by 67. Our unit sales also increased by 106 with the growth in our unit sales primarily attributable to growth in sales of cards for mobile phones and flash-based digital audio players. OEM revenues particularly benefited from higher sales of mobile cards to mobile phone manufacturers, 3D gaming cards and from our acquisition of msystems Ltd., or msystems, which accounted for an additional $115 million of revenue. Retail revenue growth benefited primarily from higher sales of mobile cards, flash-based digital audio players and USB flash drives. In fiscal year 2007, revenue growth was strong in both APAC and EMEA primarily as a result of increased sales to OEM mobile handset vendors and the growth of mobile card and USB sales in international retail channels. Japan revenue increased from fiscal year 2006 to fiscal year 2007 primarily as a result of product revenue from our msystems acquisition in November 2006. Unit sales in United States increased 41 over fiscal year 2006; however total revenues in United States were lower by 2 due primarily to aggressive price reductions in fiscal year 2007. In fiscal year 2006, on an absolute basis, revenues in all regions increased year-over-year. Revenue from other foreign countries, which is primarily Asia, increased the most, primarily reflecting increased sales to mobile phone manufacturers and their related contract manufacturers. Sales in Japan increased primarily from higher sales of 3D gaming cards from our acquisition of Matrix Semiconductor, Inc., or Matrix. The increase in sales in United States was due primarily to sales of our flash-based digital audio players, sales of cards for mobile phones and USB drives. The increase in our fiscal year 2007 license and royalty revenues was primarily due to new license agreements as well as increased royalty-bearing sales by our existing licensees. The increase in our fiscal year 2006 license and royalty revenues was primarily due to increased royalty-bearing sales by our licensees. Product gross margins in fiscal year 2007 decreased 9.2 percentage points compared to fiscal year 2006 due to excess industry supply which led to price per megabyte declining faster than cost per megabyte and also led to lower-of- cost-or-market inventory charges. Gross margin was also negatively impacted by charges for excess inventory of certain products and Flash Alliance venture costs, partially offset by insurance proceeds related to claims on a fab power outage that occurred in the first quarter of fiscal year 2006. In addition, cost of product increased due to amortization of acquisition-related intangible assets of $65 million, which accounted for approximately 1.4 percentage points. The fiscal year 2006 product gross margin decreased from fiscal year 2005 by 4.5 percentage points. Approximately 2.9 percentage points of the gross margin decline was due to average selling prices declining at a faster rate than our product cost. In addition, our margins were negatively impacted by approximately 0.8 due to the acquisition of msystems, whose business in the fourth quarter was primarily based on non-captive memory supply. In addition, cost of product increased due to amortization of acquisition-related intangible assets of $28 million and share-based compensation expense related to implementation of SFAS 123R of $8 million, which combined accounted for approximately 0.8 of the decrease in the product gross margins over fiscal year 2005. Our fiscal year 2007 research and development expense growth was primarily due to an increase in payroll and payroll-related expenses of $43 million associated with headcount growth and our acquisition of msystems, higher consultant and outside service costs of $17 million, higher non-recurring engineering and material costs of $11 million and share-based compensation expense of $8 million related to increased headcount. In addition, in fiscal year 2007, we recognized Flash Alliance start-up costs of $18 million. Our fiscal year 2006 research and development expense growth was primarily due to an increase in payroll, payroll-related expenses and facility-related expenses of approximately $57 million associated with headcount growth. Share- based compensation expense related to implementation of SFAS 123R accounted for $41 million of the research and development expense growth. In addition, research and development expense growth included initial design and development of 56-nanometer technology. Our fiscal year 2007 sales and marketing expense growth included increased advertising and promotional costs on a worldwide basis of approximately $41 million. In addition, payroll and payroll-related expenses increased $31 million and share-based compensation expense increased $9 million, both related to full-year increased headcount and our acquisition of msystems. Our fiscal year 2006 sales and marketing expense growth was primarily related to increased payroll and payroll-related expenses of approximately $22 million associated with headcount growth, share-based compensation expense related to implementation of SFAS 123R of $22 million, increased merchandising on a worldwide basis of approximately $17 million and increased marketing efforts, all in support of our higher revenue base. Our fiscal year 2007 general and administrative expense increases were primarily related to increased payroll, payroll-related expenses and share- based compensation expense associated with headcount increases including our acquisition of msystems in November 2006. Our fiscal year 2006 general and administrative expense increases were primarily related to increased payroll and payroll-related expenses of approximately $22 million associated with headcount increases, share-based compensation expense related to SFAS 123R of $30 million, higher legal expenses associated with litigation to defend our intellectual property and consulting expenses related to our acquisition of Matrix and msystems. As part of the Matrix acquisition in the first quarter of fiscal year 2006 and the msystems acquisition in the fourth quarter of fiscal year 2006, a portion of each purchase price was allocated to acquired in-process technology, which was determined through established valuation techniques in the high-technology industry and written-off at the date of acquisition because technological feasibility had not been established and no alternative future uses existed. The value was determined by estimating the net cash flows and discounting forecasted net cash flows to their present values. As of December 30, 2007, it was estimated that the remaining in-process projects related to the msystems acquisition would be completed over the next three years at an estimated total cost of $14 million. For further discussion on write-off of acquired in- process technology, please refer to Note 14, Business Acquisitions to our consolidated financial statements included in Item 8 of this report. The increase of amortization of acquisition-related intangible assets for the year ended December 31, 2007 was directly related to twelve months of amortization in fiscal year 2007 from our acquisition of msystems compared to less than two months of amortization in fiscal year 2006. Our expense from the amortization of acquisition-related intangible assets for the year ended December 31, 2006 was directly related to our acquisition of Matrix in January 2006 and msystems in November 2006. During the first quarter of fiscal year 2007, we implemented a restructuring plan which included reductions of our workforce in all functions of the organization worldwide and closure of redundant facilities in order to reduce our cost structure. A restructuring charge of $7 million was recorded, of which $6 million related to severance and benefits to 149 terminated employees and the remaining was primarily for excess lease obligations. This restructuring resulted in a reduction to our annual expenses of approximately $22 million in operations, research and development, sales and marketing, and general and administrative expense. We do not expect additional charges relating to this restructuring plan. For further discussion on our restructuring plans, please refer to Note 9, Restructuring, to our consolidated financial statements included in Item 8 of this report. The increase in other income from fiscal year 2006 to fiscal year 2007 was primarily due to interest income of $133 million offset by full year interest expense of $17 million resulting from our $1.15 billion debt offering in May 2006 and the acquired msystems $75 million debt offering, and an impairment charge of $10 million to our FlashVision investment included in Income loss in equity investments. Other income for fiscal year 2006 was comprised primarily of interest income of $101 million offset by interest expense of $11 million resulting from our $1.15 billion debt offering in May 2006. See Note 5, Financing Arrangements, to our consolidated financial statements included in Item 8 of this report. Our fiscal year 2007 effective tax rate decreased from fiscal year 2006 primarily due to the fiscal year 2006 write-off of acquired in-process technology and higher tax-exempt interest income in fiscal year 2007. This decrease was partially offset by foreign losses not benefited and non- deductible share-based compensation expenses. We adopted FIN 48 at the beginning of fiscal year 2007. As a result of the adoption, we recognized approximately a $1 million increase in the liability for unrecognized tax benefits, which was accounted for as a reduction to retained earnings as of January 1, 2007. See Note 10, Income Taxes, to our consolidated financial statements included in Item 8 of this report for further discussion on the impact of FIN 48. Our fiscal year 2006 effective tax rate increased over fiscal year 2005 primarily due to the write-off of acquired in-process technology and non- deductible share-based compensation expenses, which was partially offset by foreign earnings at other than U.S. rates. the fiscal year ended December 30, 2007. The primary sources of operating cash flow for the fiscal year ended December 30, 2007 were: 1 net income, adjusted to exclude the effect of non-cash charges including depreciation, amortization, share-based compensation, loss on equity investments and deferred taxes, and 2 changes in balance sheet accounts including a decrease in accounts receivable and increases in accounts payable trade and accounts payable to related parties, which were partially offset by increases in inventory and other assets and a decrease in other liabilities. Operating activities generated $598.1 million of cash during the fiscal year ended December 31, 2006. The primary sources of operating cash flow for the fiscal year ended December 31, 2006 were: 1 net income, adjusted to exclude the effect of non-cash charges including depreciation, amortization, share- based compensation and write-off of acquired in-process technology, which were partially offset by lower deferred taxes and gain on investment in foundries, and 2 increases in accounts payable to related parties and other liabilities, which were partially offset by increases in accounts receivables, inventory and other assets and decreases in accounts payable trade. We used $1.22 billion for investing activities during the fiscal year ended December 30, 2007. Purchases of short and long-term investments, net of proceeds from sales and maturities of short-term investments, totaled $318.3 million. Capital expenditures for the year were $259.0 million and investments and notes to the flash ventures with Toshiba were $613.3 million, net of repayments. We used $978.1 million for investing activities during the fiscal year ended December 31, 2006. Purchases of short and long-term investments, net of proceeds from sales and maturities of short-term investments, totaled $638.9 million. Capital expenditures totaling $176.5 million and investments and notes to the flash ventures with Toshiba of $204.1 million, net of repayments was partially offset by cash acquired of $51.8 million as a result of our acquisition of Matrix and msystems. We used $181.0 million of cash for financing activities during the fiscal year ended December 30, 2007 comprised primarily of $299.6 million to purchase treasury shares pursuant to our share repurchase program, partially offset by cash received from exercises of share-based awards of $100.3 million. Additionally, during the fiscal year ended December 30, 2007, we received a tax benefit of $18.4 million on employee stock programs. In fiscal year 2006, we generated $1.20 billion of cash from financing activities including $1.13 billion from the issuance of the 1 Convertible Senior Notes, net of issuance costs, partially offset by the purchase of the convertible bond hedge of $386.1 million. We received $308.7 million from the issuance of warrants and $96.3 million from exercises of share-based awards. Additionally, during the fiscal year ended December 31, 2006, we received a tax benefit of $57.4 million on employee stock programs. short-term investments of $1.84 billion. was $2.39 billion. We do not expect any liquidity constraints over the next twelve months. We expect our loans and investments in the flash ventures with Toshiba as well as our investments in property, plant and equipment to be approximately $1.0 billion in fiscal year 2008. decide to make additional investments, which could be substantial, in wafer fabrication foundry capacity and assembly and test manufacturing equipment to support our business in the future. We may also make equity investments in other companies or engage in merger or acquisition transactions. These activities may require us to raise additional financing, which could be difficult to obtain, and which if not obtained in satisfactory amounts may prevent us from funding the flash ventures with Toshiba; increasing our wafer supply; developing or enhancing our products; taking advantage of future opportunities; engaging in investments in or acquisitions of companies; growing our business or responding to competitive pressures or unanticipated industry changes; any of which could harm our business. aggregate principal amount of 1 Notes due 2013. The 1 Notes were issued at par and pay interest at a rate of 1 per annum. The 1 Notes may be converted into our common stock, under certain circumstances, based on an initial conversion rate of 12.1426 shares per $1,000 principal amount of notes which represents an initial conversion price of approximately $82.36 per share. The conversion price will be subject to adjustment in some events but will not be adjusted for accrued interest. The net proceeds to us from the offering of the 1 Notes were $1.13 billion. Concurrently with the issuance of the 1 Notes, we purchased a convertible bond hedge and sold warrants. The separate convertible bond hedge and warrant transactions are structured to reduce the potential future economic dilution associated with the conversion of the 1 Notes and to increase the initial conversion price to $95.03 per share. In November 2006, we assumed through our acquisition of msystems, their $75 million in aggregate principal amount of 1 Convertible Senior Notes due 2035, or the 1 Notes due 2035. The 1 Notes due 2035 pay interest at a rate of 1 per annum. The 1 Notes due 2035 may be converted into our common stock, under certain circumstances, based on an initial conversion rate of 26.8302 shares of common stock per $1,000 principal amount of notes which represents an initial conversion price of approximately $37.27 per share. The conversion price will be subject to adjustment in some events but will not be adjusted for accrued interest. See Note 5, Financing Arrangements, to our consolidated financial statements in Item 8 of this report. Partners and Flash Alliance, or collectively referred to as Flash Ventures, our business ventures with Toshiba to develop and manufacture NAND flash memory products. These NAND flash memory products are manufactured by Toshiba at Toshibas Yokkaichi, Japan operations using the semiconductor manufacturing equipment owned or leased by Flash Ventures. This equipment is funded or will be funded by investments in or loans to the ventures from us and Toshiba. Flash Ventures purchase wafers from Toshiba at cost and then resells those wafers to us and Toshiba at cost plus a markup. We are contractually obligated to purchase half of Flash Ventures NAND wafer supply. We are not able to estimate our total wafer purchase obligations beyond our rolling three month purchase commitment because the price is determined by reference to the future cost to produce the semiconductor wafers. In addition to the semiconductor assets owned or leased by Flash Ventures, we directly own certain semiconductor manufacturing equipment in Toshibas Yokkaichi, Japan operations from which we receive 100 of the output. See Note 13, Related Parties and Strategic Investments, to our consolidated financial statements in Item 8 of this report. From time-to-time, we and Toshiba mutually approve increases in the wafer supply capacity of Flash Ventures that may contractually obligate us to increase capital funding. As of December 30, 2007, Flash Partners Fab 3 had reached full capacity of approximately 150,000 wafers per month; however, we expect to continue to invest in Flash Partners in order to convert to the next technology node. The capacity of Flash Alliances Fab 4 at full expansion is expected to be approximately 210,000 wafers per month, and the timeframe to reach full capacity is to be mutually agreed upon by both parties. In fiscal year 2008, we expect to invest approximately $2 billion in Flash Ventures, which we expect will be funded through additional investments, loans, lease guarantees and working capital contributions to Flash Ventures. On February 19, 2008, we signed a non-binding memorandum of understanding with Toshiba for a new memory wafer fab in Japan. No specific investment amount has been determined by the parties. However, we expect in fiscal year 2009 and beyond to be required to make investments, loans and guarantees related to our portion of the equipment and start-up costs, should a definitive agreement be signed. See Note 12, Commitments, Contingencies and Guarantees, to our consolidated financial statements in Item 8 of this report. The cost of the wafers we purchase from Flash Ventures is recorded in inventory and ultimately cost of sales. Flash Ventures are variable interest entities, and we are not the primary beneficiary of these ventures because we are entitled to less than a majority of expected gains and losses with respect to each venture. Accordingly, we account for our investments under the equity method and do not consolidate. Under Flash Ventures agreements, we agreed to share in Toshibas costs associated with NAND product development and its common semiconductor research and development activities. As of December 30, 2007, we had accrued liabilities related to those expenses of $8.0 million. Our common research and development obligation related to Flash Ventures is variable but capped at fixed quarterly amounts through fiscal year 2008. In addition to general NAND product development and common semiconductor research performed by Toshiba, both parties perform direct research and development activities specific to Flash Ventures, and our contribution is based on a variable computation. We and Toshiba each pay the cost of our own design teams and 50 of the wafer processing and similar costs associated with this direct design and development of flash memory. For semiconductor fixed assets that are leased by Flash Ventures, we andor Toshiba guaranteed, in whole or in part, a portion of the outstanding lease payments under each of those leases through various methods. These obligations are denominated in Japanese yen and are noncancelable. Under the terms of the FlashVision lease, Toshiba guaranteed these commitments on behalf of FlashVision and we agreed to indemnify Toshiba for certain liabilities Toshiba incurs as a result of its guarantee of the FlashVision equipment lease arrangement. As of December 30, 2007, the maximum amount of our contingent indemnification obligation, which reflects payments and any lease adjustments, was approximately 3.6 billion Japanese yen, or approximately $32 million based upon the exchange rate at December 30, 2007. Under the terms of Flash Partners and Flash Alliance leases, we guaranteed on an unsecured and several basis 50 of Flash Partners and Flash Alliances lease obligations under master lease agreements entered into from December 2004 through November 2007. Our total lease obligation guarantee, net of lease payments as of December 30, 2007, was 125.0 billion Japanese yen, or approximately $1.11 billion based upon the exchange rate at December 30, 2007. Our contractual obligations and off-balance sheet arrangements at December 30, 2007, and the effect those contractual obligations are expected to have on our liquidity and cash flow over the next five years is presented in textual and tabular format in Note 12, Commitments, Contingencies and Guarantees, to our consolidated financial statements included in Item 8 of this report. Exchange rate fluctuations could have a material adverse effect on our business, financial condition and results of operations. We have not used financial instruments to hedge our economic exposures related to costs or revenue denominated in currencies other than the U.S. dollar. Our most significant foreign currency exposure is to the Japanese yen in which we purchase the vast majority of our NAND flash wafers. In addition, we also have significant expenses denominated in the Chinese renminbi, or RMB, and the Israeli New Israel shekel, or ILS. We do not enter into derivatives for speculative or trading purposes. In fiscal years 2007 and 2006, we used foreign currency forward contracts to mitigate transaction gains and losses generated by certain monetary assets and liabilities denominated in currencies other than the U.S. dollar. Our derivative instruments are recorded at fair value with changes recorded in other income expense or accumulated other income. See Note 12, Commitments, Contingencies and Guarantees to our consolidated financial statements included in Item 8 of this report. For a discussion of foreign operating risks and foreign currency risks, see Item 1A, Risk Factors. See Note 2, Recent Accounting Pronouncements to our consolidated financial statements included in Item 8 of this report. We are exposed to financial market risks, including changes in interest rates, foreign currency exchange rates and marketable equity security prices. rates relates primarily to our investment portfolio. The primary objective of our investment activities is to preserve principal while maximizing yields without significantly increasing risk. This is accomplished by investing in widely diversified marketable securities, consisting primarily of investment grade securities. As of December 30, 2007, a hypothetical 50 basis point increase in interest rates would result in an approximate $12.7 million decline less than 0.49 in the fair value of our available-for-sale debt securities. capital purchasing activity is transacted in U.S. dollars. However, we do enter into transactions in other currencies, primarily the Japanese yen. Movements in currency exchange rates, especially the Japanese yen, could cause variability in our revenues, expenses, or other income expense, net. We had net forward exchange contracts in place to sell the U.S. dollar equivalent of approximately $538 million in foreign currencies based upon the exchange rate at December 30, 2007 and approximately $72 million as of December 31, 2006. The effect of an immediate 10 adverse change in exchange rates on forward exchange contracts would result in an approximate $64 million loss. However, as we utilize foreign currency instruments for mitigating anticipated balance sheet exposures, a loss in fair value for those instruments is generally offset by increases in the functional currency value of the underlying non- functional currency-denominated monetary assets and liabilities. See Item 1A, Risk Factors and Note 12, Commitments, Contingencies and Guarantees, to our consolidated financial statements included in Item 8 of this report. semiconductor wafer manufacturing companies. As of December 30, 2007, a reduction in prices of 10 of these marketable equity securities would result in a decrease in the fair value of our investments in marketable equity securities of approximately $2 million. All of the potential changes noted above are based on sensitivity analysis performed on our financial position at December 30, 2007. Actual results may differ materially. The information required by this item is set forth beginning at page F-1. Not applicable. and with the participation of our management, including our principal executive officer and principal financial officer, we conducted an evaluation of the effectiveness of the design and operation of our disclosure controls and procedures, as defined in Rules 13a-15e and 15d-15e under the Securities Exchange Act of 1934 as of the end of the period covered by this report the Evaluation Date. Based upon the evaluation, our principal executive officer and principal financial officer concluded as of the Evaluation Date that our disclosure controls and procedures were effective. Disclosure controls are controls and procedures designed to reasonably ensure that information required to be disclosed in our reports filed under the Exchange Act, such as this report, is recorded, processed, summarized and reported within the time periods specified in the SECs rules and forms. Disclosure controls include controls and procedures designed to reasonably ensure that such information is accumulated and communicated to our management, including our chief executive officer and chief financial officer, as appropriate to allow timely decisions regarding required disclosure. Our quarterly evaluation of disclosure controls and procedures includes an evaluation of some components of our internal control over financial reporting, and internal control over financial reporting is also separately evaluated on an annual basis for purposes of providing the management report which is set forth below. management is responsible for establishing and maintaining a comprehensive system of internal control over financial reporting to provide reasonable assurance of the proper authorization of transactions, the safeguarding of assets and the reliability of the financial records. Our internal control system was designed to provide reasonable assurance to our management and board of directors regarding the preparation and fair presentation of published financial statements. The system of internal control over financial reporting provides for appropriate division of responsibility and is documented by written policies and procedures that are communicated to employees. The framework upon which management relied in evaluating the effectiveness of our internal control over financial reporting was set forth in _Internal Controls   Integrated Framework _published by the Committee of Sponsoring Organizations of the Treadway Commission. Based on the results of our evaluation, our management concluded that our internal control over financial reporting was effective as of December 30, 2007. However, projections of any evaluation of effectiveness to future periods are subject to the risk that controls may become inadequate because of changes in our business or other conditions, or that the degree of compliance with our policies or procedures may deteriorate. Our independent registered public accounting firm has audited the financial statements included in Item 8 of this report and has issued an attestation report on the Companys internal control over financial reporting which is included at page F-3. Control over Financial Reporting._   It should be noted that any system of controls, however well designed and operated, can provide only reasonable, and not absolute, assurance that the objectives of the system will be met. In addition, the design of any control system is based in part upon certain assumptions about the likelihood of future events. changes in our internal control over financial reporting as defined in Exchange Act Rule 13a-15f during the quarter ended December 30, 2007 that have materially affected, or are reasonably likely to materially affect, our internal control over financial reporting. Not applicable. The information required by this item is set forth under Business-Executive Officers in this report and under Election of Directors and Compliance with Section 16a of the Securities Exchange Act of 1934 in our Proxy Statement for our 2008 Annual Meeting of Stockholders, and is incorporated herein by reference. We have adopted a code of ethics that applies to our principal executive officer and principal financial and accounting officer. This code of ethics, which consists of the SanDisk Code of Ethics for Financial Executives section of our code of ethics that applies to employees generally, is posted on our website, www.sandisk.com. Our code of ethics may be found on our website as follows: We intend to satisfy the disclosure requirement under Item 5.05 of Form 8-K regarding an amendment to, or waiver from, a provision of this code of ethics by posting the required information on our website, at the address and location specified above. The information required by this item is set forth under Director Compensation - Fiscal 2007, Report of the Compensation Committee, Compensation Discussion and Analysis, Summary Compensation Table - Fiscal 2007, Outstanding Equity Awards at Fiscal 2007 Year-End and Option Exercises and Stock Vested in Fiscal 2007 in our Proxy Statement for our 2008 Annual Meeting of Stockholders, and is incorporated herein by reference. The information required by this item is set forth under Security Ownership of Certain Beneficial Owners and Management and Related Stockholder Matters and Equity Compensation Information for Plans or Individual Arrangements with Employees and Non-Employees in our Proxy Statement for our 2008 Annual Meeting of Stockholders, and is incorporated herein by reference. The information required by this item is set forth under Compensation Committee Interlocks and Insider Participation, Certain Transactions and Relationships, and under Election of Directors in our Proxy Statement for our 2008 Annual Meeting of Stockholders, and is incorporated herein by reference. The information required by this item is set forth under the caption Principal Accountant Fees and Services and Report of the Audit Committee in our Proxy Statement for our 2008 Annual Meeting of Stockholders, and is incorporated herein by reference. All other schedules have been omitted because the required information is not present or not present in amounts sufficient to require submission of the schedules, or because the information required is included in the consolidated financial statements or notes thereto. The information required by this item is set forth on the exhibit index which follows the signature page of this report. F-1 The Board of Directors and Stockholders of SanDisk Corporation We have audited the accompanying consolidated balance sheets of SanDisk Corporation as of December 30, 2007 and December 31, 2006, and the related consolidated statements of income, stockholders equity, and cash flows for each of the three years in the period ended December 30, 2007. These financial statements are the responsibility of the Companys management. Our responsibility is to express an opinion on these financial statements based on our audits. We conducted our audits in accordance with the standards of the Public Company Accounting Oversight Board United States. Those standards require that we plan and perform the audit to obtain reasonable assurance about whether the financial statements are free of material misstatement. An audit includes examining, on a test basis, evidence supporting the amounts and disclosures in the financial statements. An audit also includes assessing the accounting principles used and significant estimates made by management, as well as evaluating the overall financial statement presentation. We believe that our audits provide a reasonable basis for our opinion. In our opinion, the financial statements referred to above present fairly, in all material respects, the consolidated financial position of SanDisk Corporation at December 30, 2007 and December 31, 2006, and the consolidated results of their operations and their cash flows for each of the three years in the period ended December 30, 2007, in conformity with U.S. generally accepted accounting principles. As discussed in Note 8 to the consolidated financial statements, on January 2, 2006, SanDisk Corporation adopted Statement of Financial Accounting Standards No. 123 revised 2004, _Share Based Payment_. As discussed in Note 10 to the consolidated financial statements, on January 1, 2007, SanDisk Corporation adopted FASB Interpretation No. 48 FIN 48, _Accounting for Uncertainty in Income Taxes, an interpretation of FASB Statement No.  109._ We also have audited, in accordance with the standards of the Public Company Accounting Oversight Board United States, the effectiveness of SanDisk Corporations internal control over financial reporting as of December 30, 2007, based on criteria established in Internal Control  Integrated Framework issued by the Committee of Sponsoring Organizations of the Treadway Commission the COSO criteria and our report, dated February 19, 2008, expressed an unqualified opinion thereon. s  Ernst  Young LLP San Jose, California February 19, 2008 F-2 PUBLIC ACCOUNTING FIRM The Board of Directors and Stockholders of SanDisk Corporation We have audited SanDisk Corporations internal control over financial reporting as of December 30, 2007, based on criteria established in Internal Control  Integrated Framework issued by the Committee of Sponsoring Organizations of the Treadway Commission the COSO criteria. SanDisk Corporations management is responsible for maintaining effective internal control over financial reporting and for its assessment of the effectiveness of internal control over financial reporting included in the accompanying Report of Management on Internal Control Over Financial Reporting. Our responsibility is to express an opinion on the Companys internal control over financial reporting based on our audit. We conducted our audit in accordance with the standards of the Public Company Accounting Oversight Board United States. Those standards require that we plan and perform the audit to obtain reasonable assurance about whether effective internal control over financial reporting was maintained in all material respects. Our audit included obtaining an understanding of internal control over financial reporting, assessing the risk that a material weakness exists, testing and evaluating the design and operating effectiveness of internal control based on the assessed risk, and performing such other procedures as we considered necessary in the circumstances. We believe that our audit provides a reasonable basis for our opinion. A companys internal control over financial reporting is a process designed to provide reasonable assurance regarding the reliability of financial reporting and the preparation of financial statements for external purposes in accordance with generally accepted accounting principles. A companys internal control over financial reporting includes those policies and procedures that 1 pertain to the maintenance of records that, in reasonable detail, accurately and fairly reflect the transactions and dispositions of the assets of the company; 2 provide reasonable assurance that transactions are recorded as necessary to permit preparation of financial statements in accordance with generally accepted accounting principles, and that receipts and expenditures of the company are being made only in accordance with authorizations of management and directors of the company; and 3 provide reasonable assurance regarding prevention or timely detection of unauthorized acquisition, use, or disposition of the companys assets that could have a material effect on the financial statements. Because of its inherent limitations, internal control over financial reporting may not prevent or detect misstatements. Also, projections of any evaluation of effectiveness to future periods are subject to the risk that controls may become inadequate because of changes in conditions, or that the degree of compliance with the policies or procedures may deteriorate. In our opinion, SanDisk Corporation maintained, in all material respects, effective internal control over financial reporting as of December 30, 2007, based on the COSO criteria. We also have audited, in accordance with the standards of the Public Company Accounting Oversight Board United States, the consolidated balance sheets of SanDisk Corporation as of December 30, 2007 and December 31, 2006, and the related consolidated statements of income, stockholders equity, and cash flows for each of the three years in the period ended December 30, 2007 of SanDisk Corporation and our report dated February 19, 2008 expressed an unqualified opinion thereon. s  Ernst  Young LLP San Jose, California February 19, 2008 F-3 The accompanying notes are an integral part of these consolidated financial statements. F-4 The accompanying notes are an integral part of these consolidated financial statements. F-5 The accompanying notes are an integral part of these consolidated financial statements. F-6 The accompanying notes are an integral part of these consolidated financial statements. F-7 its subsidiaries, the Company was incorporated in Delaware on June 1, 1988. The Company designs, develops, markets and manufactures flash storage card products used in a wide variety of consumer electronics products. The Company operates in one segment, flash memory storage products. closest to December 31. Fiscal years 2007, 2006 and 2005 each consisted of 52 weeks. the accounts of the Company and its majority-owned subsidiaries. All intercompany balances and transactions have been eliminated. Minority interest represents the minority shareholders proportionate share of the net assets and results of operations of the Companys majority-owned subsidiaries. The consolidated financial statements also include the results of companies acquired by the Company from the date of each acquisition. conform to the current period presentation, including the reclassification of publicly traded unrestricted equity securities from other current assets to short-term investments. with generally accepted accounting principles in the United States U.S. GAAP, requires management to make estimates and assumptions that affect the amounts reported in the financial statements and accompanying notes. The estimates and judgments affect the reported amounts of assets, liabilities, revenues and expenses, and related disclosure of contingent liabilities. On an ongoing basis, the Company evaluates its estimates, including those related to customer programs and incentives, product returns, bad debts, inventories and related impairment, investments, income taxes, warranty obligations, restructuring and contingencies, share-based compensation and litigation. The Company bases estimates on historical experience and on other assumptions that its management believes are reasonable under the circumstances. These estimates form the basis for making judgments about the carrying values of assets and liabilities when those values are not readily apparent from other sources. Actual results could differ from these estimates. Programs._   The Company recognizes revenues when the earnings process is complete, as evidenced by an agreement with the customer, transfer of title and acceptance, if applicable, fixed or determinable pricing and reasonable assurance of realization. Sales made to distributors and retailers are generally under agreements allowing price protection andor a right of return and, therefore, the revenues and related costs of these transactions are deferred until the retailers or distributors sell-through the merchandise to their end customer, or the rights of return expire. Estimated sales returns are provided for as a reduction to product revenue and were not material for any period presented in the accompanying consolidated financial statements. The cost of shipping products to customers is included in cost of product revenues. The Company recognizes expenses related to sales commissions in the period in which they are earned. Revenue from patent licensing arrangements is recognized when earned and estimable. The timing of revenue recognition is dependent on the terms of each license agreement and on the timing of sales of licensed products. The Company generally recognizes royalty revenue when it is reported to the Company by its licensees, which is generally one quarter in arrears from the licensees sales. For licensing fees that are not determined by the number of licensed units sold, the Company recognizes license fee revenue on a straight-line basis over the life of the license. The Company records estimated reductions of revenue for customer and distributor incentive programs and offerings, including price protection, promotions, co-op advertising and other volume-based incentives and expected returns. Additionally, the Company has incentive programs that require it to estimate, based on historical experience, the number of customers who will actually redeem the incentive. All sales incentive programs are recorded as an offset to product revenues or deferred revenues. Marketing development programs are recorded as a reduction to revenue in compliance with Emerging Issues Task Force No. 01-9, EITF 01-9, _Accounting for Consideration Given by a Vendor to a Customer Including a Reseller of the Vendors Products_. F-8 receivable include amounts owed by geographically dispersed distributors, retailers and OEM customers. No collateral is required. Provisions are provided for sales returns and credit losses. The Company estimates the collectibility of its accounts receivable based on a combination of factors. In circumstances where the Company is aware of a specific customers inability to meet its financial obligations to the Company e.g., bankruptcy filings or substantial down-grading of credit ratings, the Company provides allowance for bad debts against amounts due to reduce the net recognized receivable to the amount it reasonably believes will be collected. liability approach, which requires recognition of deferred tax assets and liabilities for the expected future tax consequences of events that have been recognized in the Companys consolidated financial statements, but have not been reflected in the Companys taxable income. A valuation allowance is established to reduce deferred tax assets to their estimated realizable value. Therefore, the Company provides a valuation allowance to the extent that the Company does not believe it is more likely than not that it will generate sufficient taxable income in future periods to realize the benefit of its deferred tax assets. In July 2006 the Financial Accounting Standards Board FASB issued Interpretation No. 48 FIN 48, _Accounting for Uncertainty in Income Taxes  An Interpretation of FASB Statement No. 109. _FIN 48 provides detailed guidance for the financial statement recognition, measurement and disclosure of uncertain tax positions recognized in an enterprises financial statements in accordance with SFAS 109. Income tax positions must meet a more-likely- than-not recognition threshold at the effective date to be recognized upon the adoption of FIN 48 and in subsequent periods. The Company adopted FIN 48 effective January 1, 2007 and the provisions of FIN 48 have been applied to all income tax positions commencing from that date. The Company recognizes interest and penalties related to unrecognized tax benefits in income tax expense. The cumulative effect of applying the provisions of FIN 48 has been reported as an adjustment to the opening balance of our retained earnings as of January 1, 2007. parent company and each of its subsidiaries by reviewing the currencies in which their respective operating activities occur. Transaction gains and losses arising from activities in other than the applicable functional currency are calculated using average exchange rates for the applicable period and reported in net income as a non-operating item in each period. Non- monetary balance sheet items denominated in a currency other than the applicable functional currency are translated using the exchange rate in effect on the balance sheet date and any gains and losses are included in cumulative translation adjustment. The Company continuously evaluates its foreign currency exposures and may continue to enter into hedges or other risk mitigating arrangements in the future. Aggregate gross foreign currency transaction gain loss prior to corresponding foreign exchange hedge offset recorded to net income was $15.6 million, $2.5 million and $5.1 million in fiscal years 2007, 2006 and 2005, respectively. consist of short-term, highly liquid financial instruments with insignificant interest rate risk that are readily convertible to cash and have maturities of three months or less from the date of purchase. Short and long-term fixed income investments consist of commercial paper, United States U.S. government and agency obligations, corporatemunicipal notes and bonds, auction rate securities and variable rate demand notes, all with high-credit quality. Both short and long-term investments also include investments in certain equity securities. The fair market value, based on quoted market prices, of cash equivalents, short and long-term investments at December 30, 2007 approximated their carrying value. Cost of securities sold is based on a first-in, first-out method. In determining if and when a decline in market value below cost of these investments is other-than-temporary, the Company evaluates both quantitative and qualitative information including the market conditions, offering prices, trends of earnings, price multiples and other key measures. When such a decline in value is deemed to be other-than-temporary, the Company recognizes an impairment loss in the current period operating results to the extent of the decline. F-9 less accumulated depreciation, estimated residual value, if any, and amortization. Depreciation and amortization are computed using the straight- line method over the estimated useful lives of the assets or the remaining lease term, whichever is shorter, ranging from two to twenty-five years. investments to determine whether any investee is a variable interest entity within the meaning of the FASB Interpretation No. 46R, FIN 46R, investee is a variable interest entity, the Company evaluates its expected gains and losses of such investee to determine whether the Company is the primary beneficiary of the investee. If the Company is the primary beneficiary of a variable interest entity, the Company consolidates such entity and reflects the minority interest of other beneficiaries of that entity. If the Company concludes that an investee is not a variable interest entity, the Company does not consolidate the investee. securities of other entities, including variable interest entities that are not consolidated, under the cost method of accounting if investments in voting equity interests of the investee is less than 20. The equity method of accounting is used if its investment in voting stock is greater than or equal to 20 but less than a majority. In considering the accounting method for investments less than 20, the Company also considers other factors such as its ability to exercise significant influence over operating and financial policies of the investee. If certain factors are present, the Company could account for investments for which it has less than a 20 ownership under the equity method of accounting. Certain of the Companys investments carry restrictions on immediate disposition. Investments in public companies with restrictions of less than one year are classified as available-for-sale and are adjusted to their fair market value with unrealized gains and losses recorded as a component of accumulated other comprehensive income. Investments in public companies with restrictions greater than one year are carried at cost. Investments in public and non-public companies are reviewed on a quarterly basis to determine if their value has been impaired and adjustments are recorded as necessary. Upon disposition of these investments, the specific identification method is used to determine the cost basis in computing realized gains or losses. Declines in value that are judged to be other-than- temporary are reported in other income expense in the accompanying Consolidated Statements of Income. of cost first-in, first-out or market. Market value is based upon an estimated average selling price reduced by estimated costs of disposal. Should actual market conditions differ from the Companys estimates, the Companys future results of operations could be materially affected. Reductions in inventory valuation are included in cost of product revenues in the accompanying Consolidated Statements of Income. The Companys inventory impairment charges permanently establish a new cost basis and are not subsequently reversed to income even if circumstances later suggest that increased carrying amounts are recoverable. Rather these amounts are reversed into income only if, as and when the inventory is sold. The Company reduces the carrying value of its inventory to a new basis for estimated obsolescence or unmarketable inventory by an amount equal to the difference between the cost of the inventory and the estimated market value based upon assumptions about future demand and market conditions, including assumptions about changes in average selling prices. If actual market conditions are less favorable than those projected by management, additional reductions in inventory valuation may be required. The Companys finished goods inventory includes consigned inventory held at customer locations as well as at third-party fulfillment centers and subcontractors. other long-lived assets are tested for impairment in accordance with Statement of Financial Accounting Standards No. 144 SFAS 144, _Accounting for Impairment of Disposal of Long-Lived Assets._ The Company assesses the carrying value of long-lived assets, whenever events or changes in circumstances indicate that the carrying value of these long-lived assets may not be recoverable. Factors the Company considers important which could result in an impairment review include 1 significant under-performance relative to the historical or projected future operating results, 2 significant changes in the manner of use of assets, 3 significant negative industry or economic trends, and 4 significant changes in the Companys market capitalization relative to net book value. Any changes in key assumptions about F-10 the business or prospects, or changes in market conditions, could result in an impairment charge and such a charge could have a material adverse effect on the Companys consolidated results of operations. financial instruments, including accounts receivable, short-term investments and accounts payable, the carrying amounts approximate fair market value due to their short maturities. For those financial instruments where the carrying amounts differ from fair market value, the following table represents the related cost basis and the estimated fair values, which are based on quoted market prices in millions: Company receives, or will receive, an identifiable benefit goods or services in exchange for the amount paid to its customer and the Company can reasonably estimate the fair value of the benefit it receives for the customer incentive payment, are classified, when granted, as marketing expense. Advertising expenses not meeting this criteria are classified as a reduction to product revenue. Any other advertising expenses not meeting these conditions are expensed as incurred. Advertising expenses were $35.5 million, $24.8 million and $15.2 million in fiscal years 2007, 2006 and 2005, respectively. are expensed as incurred. Accounting Standards No. 160 SFAS 160, _Noncontrolling Interests in Consolidated Financial Statements, an amendment of ARB No.  51_. The standard changes the accounting for noncontrolling minority interests in consolidated financial statements including the requirements to classify noncontrolling interests as a component of consolidated stockholders equity, to identify earnings attributable to noncontrolling interests reported as part of consolidated earnings, and to measure gain or loss on the deconsolidated subsidiary based upon the fair value of the noncontrolling equity investment. Additionally, SFAS 160 revises the accounting for both increases and decreases in a parents controlling ownership interest. SFAS 160 is effective for fiscal years beginning after December 15, 2008, with early adoption prohibited. The Company is assessing the impact of SFAS 160 to its consolidated results of operations and financial position. Financial Accounting Standards No. 141 revised SFAS 141R, _Business Combinations_. The standard changes the accounting for business combinations by requiring that an acquiring entity measure and recognize identifiable assets acquired and liabilities assumed at the acquisition date fair value with limited exceptions. The changes include the treatment of acquisition- related transaction costs, the valuation of any noncontrolling interest at acquisition date fair value, the recording of acquired contingent liabilities at acquisition date fair value and the subsequent re-measurement of such liabilities after the acquisition date, the recognition of capitalized in- process research and development, the accounting for acquisition-related restructuring cost accruals subsequent to the acquisition date, and the recognition of changes in the acquirers income tax valuation allowance. SFAS 141R is effective for fiscal years beginning after December 15, 2008, with early adoption prohibited. The accounting treatment related to pre-acquisition uncertain tax positions will change when SFAS 141R becomes effective, which will be in the first quarter of the Companys fiscal year 2009. At such time, any changes to the recognition or measurement of uncertain tax positions related to pre-acquisition periods will be recorded through income tax expense, whereas currently the accounting treatment would require any adjustment to be recognized through the purchase price. The Company expects SFAS 141R will have an impact on its consolidated financial statements when effective, but the nature and magnitude of the specific F-11 effects will depend upon the nature, terms and size of the acquisitions the Company consummates after the effective date. The Company is assessing the impact of SFAS 141R to its future consolidated financial statements. Accounting Standards No. 157 SFAS 157, _Fair Value Measurements_. SFAS 157 defines fair value, establishes a market-based framework or hierarchy for measuring fair value, and expands disclosures about fair value measurements. SFAS 157 is applicable whenever another accounting pronouncement requires or permits assets and liabilities to be measured at fair value. SFAS 157 does not expand or require any new fair value measures. The provisions of SFAS 157 are to be applied prospectively and are effective for financial statements issued for fiscal years beginning after November 15, 2007. The Company will adopt SFAS 157 beginning in the first quarter of fiscal year 2008 and does not expect the adoption of SFAS 157 to have a material impact to its consolidated results of operations and financial position. In February 2008, the FASB issued Staff Position No. FAS 157-1 FSP FAS 157-1, _Application of FASB Statement No.  157 to FASB Statement No. 13 and Other Accounting Pronouncements That Address Fair Value Measurements for Purposes of Lease Classification or Measurement Under Statement 13 _and Staff Position No. FAS 157-2 FSP FAS 157-2, _Effective Date of FASB Statement No.  157_. FSP FAS 157-1 excludes Statement of Financial Accounting Standards No. 13 SFAS 13, _Accounting for Leases_ , as well as other accounting pronouncements that address fair value measurements on lease classification or measurement under SFAS 13 from the scope of SFAS 157. FSP FAS 157-2 delays the effective date of SFAS 157 for all nonrecurring fair value measurements of nonfinancial assets and nonfinancial liabilities until fiscal years beginning after November 15, 2008. Both FSP FAS 157-1 and FSP FAS 157-2 are effective upon an entitys initial adoption of SFAS 157, which is the Companys first quarter of fiscal year 2008. Accounting Standards No. 159 SFAS 159, _Establishing the Fair Value Option for Financial Assets and Liabilities_. The FASB has issued SFAS 159 to permit all entities to elect, at specified election dates, to measure eligible financial instruments at fair value. An entity shall report unrealized gains and losses on items for which the fair value option has been elected in earnings at each subsequent reporting date, and recognize upfront costs and fees related to those items in earnings as incurred and not deferred. SFAS 159 applies to fiscal years beginning after November 15, 2007, with early adoption permitted for an entity that has also elected to apply the provisions of SFAS 157. An entity is prohibited from retrospectively applying SFAS 159, unless it chooses early adoption. SFAS 159 also applies to eligible items existing at November 15, 2007 or early adoption date. The Company will adopt SFAS 159 beginning in the first quarter of fiscal year 2008 and does not expect SFAS 159 to have a material impact to its consolidated results of operations and financial condition. Force EITF, reached a final consensus on EITF Issue No. 07-3 EITF 07-3, _Accounting for Advance Payments for Goods or Services to be Received for Use in Future Research and Development Activities._ The consensus requires companies to defer and capitalize prepaid, nonrefundable research and development payments to third parties over the period that the research and development activities are performed or the services are provided, subject to an assessment of recoverability. EITF 07-3 is effective for new contracts entered into in fiscal years beginning after December 15, 2007, including interim periods within those fiscal years. The Company will adopt this pronouncement beginning in the first quarter of fiscal year 2008 and does not expect the adoption of EITF 07-3 to have a material impact on its consolidated results of operations and financial condition. No. APB 14-a, _Accounting for Convertible Debt Instruments That May Be Settled in Cash Upon Conversion Including Partial Cash Settlement_. The proposed FSP would require the issuer to separately account for the liability and equity components of the instrument in a manner that reflects the issuers economic interest cost. Further, the proposed FSP would require bifurcation of a component of the debt, classification of that component to equity, and then accretion of the resulting discount on the debt to result in the economic interest cost being reflected in the statement of operations. In November 2007, the FASB announced it is expected to begin its redeliberations of the proposed FSP in February 2008. Therefore, final guidance will not be issued until at least the end of the first quarter of 2008, and earlier F-12 application would not be permitted. The guidance in the proposed FSP would be applied retrospectively to all periods presented. While the proposed FSP has not yet been finalized by the FASB, the Companys initial estimate based upon the current interpretations by the FASB, is that the Company would be required to report an additional before tax, non-cash interest expense of approximately $400 million over the life of the 1 Senior Convertible Notes due 2013, including approximately $50 million to $55 million in fiscal year 2008. However, these amounts are subject to material change based upon finalization of the proposed FSP. fiscal years ended December 30, 2007 and December 31, 2006 were as follows in thousands: A summary of the carrying values and balance sheet classification for the fiscal years ended December 30, 2007 and December 31, 2006 were as follows in thousands: The following table summarizes at December 30, 2007, those securities that have been in an unrealized loss position, the fair value and gross unrealized losses on the available-for-sale investments aggregated by type of investment instrument, and the length of time that individual securities have been in a continuous unrealized loss position. All unrealized losses on available-for- sale securities have been in a continuous unrealized loss position for less than 12 months. Available-for-sale securities that were in an unrealized gain position have been excluded from the table in thousands: The gross unrealized losses related to fixed income securities were primarily due to changes in interest rates. The gross unrealized loss related to publicly traded equity securities were due to changes in market prices. Gross unrealized losses on all available-for-sale securities at December 30, 2007 are considered temporary in nature. Factors considered in determining whether a loss is temporary include the length of time and extent to which fair F-13 value has been less than the cost basis, the financial condition and near-term prospects of the investee, and the Companys intent and ability to hold an investment for a period of time sufficient to allow for any anticipated recovery in market value. Gross realized gains and losses on sales of available-for-sale securities during the fiscal year ended December 30, 2007 were immaterial. Debt securities at December 30, 2007 by contractual maturity are shown below in thousands. Actual maturities may differ from contractual maturities because issuers of the securities may have the right to prepay obligations. product revenues, net, were as follows in thousands: See Note 13, Related Parties and Strategic Investments, for additional information on related party accounts receivable. doubtful accounts was as follows in thousands: F-14 in thousands: Depreciation expense of property, plant and equipment totaled $146.8 million, $102.5 million and $63.1 million in fiscal years 2007, 2006 and 2005, respectively. receivable and investments in the flash ventures with Toshiba were as follows in thousands: In the fourth quarter of fiscal year 2007, the Company recorded a $10.0 million impairment charge related to its equity investment in FlashVision. The Company is currently in negotiations with Toshiba regarding the future of the FlashVision venture which may include Toshiba purchasing the Companys shares, sale and distribution of the ventures equipment and underlying assets or a combination thereof. The impairment charge is based upon the expected outcome of these negotiations and related cash flows. There can be no assurance of a positive outcome to these negotiations which could lead to additional impairment charges. F-15 as follows in thousands: thousands: liabilities in the accompanying consolidated balance sheets and the activity was as follows in thousands: The majority of the Companys products have a warranty ranging from one to five years. A provision for the estimated future cost related to warranty expense is recorded at the time of customer invoice. The Companys warranty liability is affected by customer and consumer returns, product failures and repair or replacement costs incurred. Should actual product failure rates, or repair or replacement costs differ from the Companys estimates, increases or decreases to its warranty liability would be required. income presented in the accompanying consolidated balance sheets consists of the foreign currency translation and unrealized gains and losses on available- for-sale investments, net of taxes, for all periods presented in thousands: The amount of income tax expense allocated to unrealized gain loss on available-for-sale investments was immaterial at December 30, 2007 and December 31, 2006, respectively. F-16 The goodwill adjustment for the year ended December 30, 2007 was primarily the result of purchase price adjustments related to the msystems Ltd. msystems acquisition and to a lesser extent from the Matrix Semiconductor, Inc. Matrix acquisition. See Note 14, Business Acquisitions. In accordance with Statement of Financial Accounting Standards No. 142, SFAS 142, _Goodwill and Other Intangible Assets_ , goodwill is not amortized, but instead is reviewed and tested for impairment at least annually and whenever events or circumstances occur which indicate that goodwill might be impaired. Impairment of goodwill is tested at the Companys reporting unit level by comparing the carrying amount, including goodwill, to the fair value. In performing the analysis, the Company uses the best information available, including reasonable and supportable assumptions and projections. If the carrying amount of the Company exceeds its implied fair value, goodwill is considered impaired and a second step is performed to measure the amount of impairment loss, if any. The Company performs an annual goodwill impairment test with an effective date of the first day of the fourth fiscal quarter. below in thousands: Other intangible assets increased by $31.9 million in the fiscal year ended December 30, 2007, primarily due to technology licenses and patents purchased from third parties. Amortization expense of intangible assets totaled $98.9 million, $29.8 million and $2.7 million in fiscal years 2007, 2006 and 2005, respectively. F-17 The annual expected amortization expense of other intangible assets as of December 30, 2007 is presented below: The following table reflects the carrying value of our long-term borrowings as of December 30, 2007 and December 31, 2006: sold $1.15 billion in aggregate principal amount of 1 Convertible Senior Notes due 2013 the 1 Notes due 2013 at par. The 1 Notes due 2013 may be converted, under certain circumstances described below, based on an initial conversion rate of 12.1426 shares of common stock per $1,000 principal amount of notes which represents an initial conversion price of approximately $82.36 per share. The net proceeds to the Company from the offering of the 1 Notes due 2013 were $1.13 billion. The 1 Notes due 2013 may be converted prior to the close of business on the scheduled trading day immediately preceding February 15, 2013, in multiples of $1,000 principal amount at the option of the holder under any of the following circumstances: 1 during the five business-day period after any five consecutive trading-day period the measurement period in which the trading price per note for each day of such measurement period was less than 98 of the product of the last reported sale price of the Companys common stock and the conversion rate on each such day; 2 during any calendar quarter after the calendar quarter ending June 30, 2006, if the last reported sale price of the Companys common stock for 20 or more trading days in a period of 30 consecutive trading days ending on the last trading day of the immediately preceding calendar quarter exceeds 120 of the applicable conversion price in effect on the last trading day of the immediately preceding calendar quarter; or 3 upon the occurrence of specified corporate transactions. On and after February 15, 2013 until the close of business on the scheduled trading day immediately preceding the maturity date of May 15, 2013, holders may convert their notes at any time, regardless of the foregoing circumstances. Upon conversion, a holder will receive the conversion value of the 1 Notes due 2013 to be converted equal to the conversion rate multiplied by the volume weighted average price of the Companys common stock during a specified period following the conversion date. The conversion value of each 1 Notes due 2013 will be paid in: 1 cash equal to the lesser of the principal amount of the note or the conversion value, as defined, and 2 to the extent the conversion value exceeds the principal amount of the note, a combination of common stock and cash. The conversion price will be subject to adjustment in some events but will not be adjusted for accrued interest. In addition, upon a fundamental change at any time, as defined, the holders may require the Company to repurchase for F-18 cash all or a portion of their notes upon a designated event at a price equal to 100 of the principal amount of the notes being repurchased plus accrued and unpaid interest, if any. The Company will pay cash interest at an annual rate of 1, payable semi- annually on May 15 and November 15 of each year, beginning November 15, 2006. Debt issuance costs of approximately $24.5 million are being amortized to interest expense over the term of the 1 Notes due 2013. Concurrently with the issuance of the 1 Notes due 2013, the Company purchased a convertible bond hedge and sold warrants. The separate convertible bond hedge and warrant transactions are structured to reduce the potential future economic dilution associated with the conversion of the 1 Notes due 2013 and to increase the initial conversion price to $95.03 per share. Each of these components are discussed separately below: aggregate principal amount of $75.0 million 1 Convertible Senior Notes due March 2035 the 1 Notes due 2035 from msystems. The Company is obligated to pay interest on the 1 Notes due 2035 semi-annually on March 15 and September 15 commencing March 15, 2007. The 1 Notes due 2035 are convertible, at the option of the holders at any time before the maturity date, into shares of the Company at a conversion rate of 26.8302 shares per one thousand dollars principal amount of the 1 Notes due 2035, representing a conversion price of approximately $37.27 per share. Beginning on March 15, 2008 and until March 14, 2010, the Company may redeem for cash the notes, in whole or in part at any time at a redemption price equal to 100 of the principal amount of the notes to be redeemed, plus accrued but unpaid interest, if any, to but excluding the redemption date, if the last reported sales price of the Company ordinary shares has exceeded 130 of the conversion price for at least 20 trading days in any consecutive 30-day trading period ending on the trading day prior to the date of mailing of the notice of redemption. At any time on or after March 15, 2010, the Company may redeem the notes in whole or in part at a redemption price equal to 100 of the principal amount of the notes to be redeemed, plus accrued and unpaid interest, if any, to but excluding the optional redemption date. F-19 Holders of the notes have the right to require the Company to purchase all or a portion of their notes on March 15, 2010, March 15, 2015, March 15, 2020, March 15, 2025 and March 15, 2030. The purchase price payable will be equal to 100 of the principal amount of the notes to be purchased, plus accrued and unpaid interest, if any, to but excluding the purchase date. In accordance with Accounting Principle Board Opinion No. 14, APBO 14, , the Company determined the existence of a substantial premium over par value for the 1 Notes due 2035 based upon quoted market prices at the msystems acquisition date and recorded the notes at par value with the resulting excess of fair value over par the substantial premium recorded in Capital in excess of par value in Shareholders Equity in the amount of $26.4 million. During the fourth quarter of fiscal 2006, the Companys board of directors authorized the repurchase of up to $300 million of the Companys common stock in the open market over two years following the date of authorization. During the year ended December 30, 2007, the Company repurchased 7.5 million shares, for an aggregate purchase price of approximately $300 million, all of which are held as treasury stock and accounted for using the cost method. At December 30, 2007, the Company had completed the share repurchase program as authorized by the Companys board of directors. flash-based memory products in the United States and in foreign countries through its sales personnel, dealers, distributors, retailers and subsidiaries. The Companys Chief Operating Decision Maker, the President and Chief Operating Officer, evaluates performance of the Company and makes decisions regarding allocation of resources based on total Company results. Since the Company operates in one segment, all financial segment information can be found in the accompanying consolidated financial statements. Other than sales in the United States, Japan, Europe, Middle East and Africa, or EMEA, and Asia Pacific, or APAC, international sales were not material individually in any other international locality. Intercompany sales between geographic areas have been eliminated. Information regarding geographic areas for fiscal years 2007, 2006 and 2005 are as follows in thousands: F-20 Revenues are attributed to countries based on the geographic location of the customers. Long-lived assets are attributed to the geographic location in which they are located. The Company includes in long-lived assets, property plant and equipment, long-term investment in foundry, and equity investments and attributes those investments to the location of the investees primary operations. licensees have accounted for a substantial portion of the Companys revenues. Revenues from the Companys top 10 customers or licensees accounted for approximately 46, 52 and 50 of the Companys revenues for the fiscal years ended December 30, 2007, December 31, 2006 and January 1, 2006, respectively. All customers were less than 10 of the Companys total revenues in fiscal years 2007 and 2006. In 2005, Best Buy Co., Inc., accounted for 11 of the Companys revenues and all other customers were less than 10 of the Companys revenues. All of the Companys flash memory card products require silicon wafers for the memory components and the controller components. The substantial majority of the Companys memory wafers or components are currently supplied from FlashVision Ltd., or FlashVision, Flash Partners Ltd., or Flash Partners, and Flash Alliance Ltd., or Flash Alliance, collectively Flash Ventures and to a lesser extent by Samsung and Hynix Semiconductor, Inc. The Companys controller wafers are primarily manufactured by Semiconductor Manufacturing International Corporation, Taiwan Semiconductor Manufacturing Corporation, Tower Semiconductor Ltd. Tower and United Microelectronics Corp. UMC, or controller chips are purchased from other third party suppliers. The failure of any of these sources to deliver silicon wafers could have a material adverse effect on the Companys business, financial condition and results of operations. Moreover, Toshibas employees that produce Flash Ventures products are covered by collective bargaining agreements and any strike or other job action by those employees could interrupt the Companys wafer supply from Toshibas Yokkaichi, Japan operations. In addition, key components are purchased from single source vendors for which alternative sources are currently not available. Shortages could occur in these essential materials due to an interruption of supply or increased demand in the industry. If the Company were unable to procure certain of such materials, it would be required to reduce its manufacturing operations, which could have a material adverse effect upon its results of operations. The Company also relies on third-party subcontractors to assemble and test its products. The Company has no long-term contracts with these subcontractors and cannot directly control product delivery schedules. This could lead to product shortages or quality assurance problems that could increase the manufacturing costs of its products and have material adverse effects on the Companys operating results. consists principally of cash, cash equivalents, short and long-term investments and trade receivables. The Companys investment policy restricts investments to high-credit quality investments and limits the amounts invested with any one issuer. The Company sells to original equipment manufacturers, retailers and distributors in the United States, Japan, EMEA and non-Japan Asia-Pacific, performs ongoing credit evaluations of its customers financial condition, and generally requires no collateral. F-21 obligations. See Note 12, Commitments, Contingencies and Guarantees. the 2005 Stock Incentive Plan, which was amended in May 2006 and renamed the 2005 Incentive Plan 2005 Plan. Shares of the Companys common stock may be issued under the 2005 Plan pursuant to three separate equity incentive programs: i the discretionary grant program under which stock options and stock appreciation rights may be granted to officers and other employees, non- employee board members and independent consultants, ii the stock issuance program under which shares may be awarded to such individuals through restricted stock or restricted stock unit awards or as a stock bonus for services rendered to the Company, and iii an automatic grant program for the non-employee board members pursuant to which such individuals will receive option grants or other stock awards at designated intervals over their period of board service. The 2005 Plan also includes a performance-based cash bonus awards program for employees classified under Section 16. Grants and awards under the discretionary grant program generally vest as follows: 25 of the shares will vest on the first anniversary of the vesting commencement date and the remaining 75 will vest proportionately each quarter over the next 36 months of continued service. Awards under the stock issuance program generally vest in equal annual installments over a 4-year period. Grants under the automatic grant program will vest in accordance with the specific vesting provisions set forth in that program. A total of 21,850,877 shares of the Companys common stock have been reserved for issuance under this plan. The share reserve may increase by up to an additional 10,000,000 shares of common stock to the extent that outstanding options under the 1995 Stock Option Plan and the 1995 Non-Employee Directors Stock Option Plan expire or terminate unexercised, of which as of December 30, 2007, 1,150,877 shares of common stock has been added to the 2005 Plan reserve. All options granted under the 2005 Plan were granted with an exercise price equal to the fair market value of the common stock on the date of grant and will expire seven years from the date of grant. Through December 30, 2007, awards to purchase a total of 12,526,531 shares of common stock were granted to employees under the 2005 Plan, net of cancellations. For years ended December 30, 2007 and December 31, 2006, awards of 4,738,804 and 6,103,534 shares of common stock, respectively, were granted to employees under the 2005 Plan, net of cancellations. Both of these plans terminated on May 27, 2005, and no further option grants were made under the plans after that date. However, options that were outstanding under these plans on May 27, 2005 will continue to be governed by their existing terms and may be exercised for shares of the Companys common stock at any time prior to the expiration of the ten-year option term or any earlier termination of those options in connection with the optionees cessation of service with the Company. Grants and awards under these plans generally vest as follows: 25 of the shares will vest on the first anniversary of the vesting commencement date and the remaining 75 will vest proportionately each quarter over the next 36 months of continued service. As of December 30, 2007, options had been granted, net of cancellations, to purchase 37,947,162 and 1,616,000 shares of common stock under the 1995 Stock Option Plan and the 1995 Non-Employee Directors Stock Option Plan, respectively. ESPP, was approved by the stockholders on May 27, 2005. The ESPP plan consists of two components: a component for employees residing in the United States and an international component for employees who are non-United States residents. The ESPP plan allows eligible employees to purchase shares of the Companys common stock at the end of each six-month offering period at a purchase price equal to 85 of the lower of the fair market value per share on the start date of the offering period or the fair market value per share on the purchase date. The ESPP plan had an original authorization of 5,000,000 shares to be issued, of which 4,349,035 shares were available to be issued as of December 30, 2007. In the fiscal years ended December 30, 2007 and December 31, 2006, a total of 385,989 and 264,976 shares of common stock, respectively, have been issued under this plan. F-22 Stock Option and Restricted Stock Incentive Plan._  The msystems Ltd. 1996 Section 102 Stock OptionStock Purchase Plan and 2003 Stock Option and Restricted Stock Incentive Plan acquired through the Companys acquisition of msystems Ltd. msystems, were terminated on November 19, 2006, and no further grants were made under these plans after that date. However, awards grants that were outstanding under these plans on November 19, 2006 will continue to be governed by their existing terms and may be exercised for shares of the Companys common stock at any time prior to the expiration of the ten-year option term or any earlier termination of those options in connection with the optionees cessation of service with the Company. Awards granted under these plans generally vest as follows: 50 of the shares will vest on the second anniversary of the vesting commencement date and the remaining 50 will vest proportionately each quarter over the next 24 months of continued service. As of December 30, 2007, there were equity awards outstanding to purchase 312,868 and 4,558,268 shares of common stock under the msystems 1996 Section 102 Stock OptionStock Purchase Plan and 2003 Stock Option and Restricted Stock Incentive Plan, respectively. 1998 Long-term Incentive Plan._   The Matrix Semiconductor, Inc. 2005 Stock Incentive Plan, 1999 Stock Plan and the Rhombus, Inc. 1998 Long-term Incentive Plan Matrix Stock Plans, acquired through SanDisks acquisition of Matrix Semiconductor, Inc. Matrix, were terminated on January 13, 2006, and no further option grants were made under these plans after that date. However, award grants that were outstanding under these plans on January 13, 2006 will continue to be governed by their existing terms and may be exercised for shares of the Companys common stock at any time prior to the expiration of the ten-year option term or any earlier termination of those options in connection with the optionees cessation of service with the Company. Awards granted under these plans generally vest as follows: 148 of the shares will vest proportionately each month over the next 48 months of continued service or 160 of the shares will vest proportionately each month over the next 60 months of continued service. As of December 30, 2007, there were equity awards outstanding to purchase 539,486 shares of common stock under the Matrix Stock Plans. Effective January 2, 2006, the Company adopted the fair value recognition provisions of Statement of Financial Accounting Standards No. 123R SFAS 123R, _Share-Based Payment_ , using the modified-prospective transition method, and therefore, has not restated its financial statements for prior periods. For awards expected to vest, compensation cost recognized in the year ended December 30, 2007 includes the following: a compensation cost, based on the grant-date estimated fair value and expense attribution method under Statement of Financial Accounting Standards No. 123 SFAS 123, _Accounting for Stock-Based Compensation_ , related to any share-based awards granted through, but not yet vested as of January 1, 2006, and b compensation cost for any share-based awards granted on or subsequent to January 2, 2006, based on the grant-date fair value estimated in accordance with the provisions of SFAS 123R. The Company recognizes compensation expense for the fair values of these awards, which have graded vesting, on a straight-line basis over the requisite service period of each of these awards, net of estimated forfeitures. Prior to the implementation of SFAS 123R, the Company accounted for stock awards and ESPP shares under the provisions of Accounting Principles Board Opinion No. 25, _Accounting for Stock Issued to Employees_ , and made pro forma footnote disclosures as required by Statement of Financial Accounting Standards No. 148 SFAS 148, _Accounting For Stock-Based Compensation   Transition and Disclosure_, which amended Statement of Financial Accounting Standards No. 123, _Accounting For Stock-Based Compensation_. Pro forma net income and pro forma net income per share disclosed in the footnotes to the consolidated financial statements were estimated using a Black-Scholes-Merton closed-form option valuation model to determine the estimated fair value and by attributing such fair value over the requisite service period on a straight-line basis for those awards that actually vested. The Company estimates the fair value of stock options granted using the Black- Scholes-Merton option-pricing formula and a single-option award approach. The Companys expected term represents the period that the Companys share-based awards are expected to be outstanding and was determined based on historical experience regarding similar awards, giving consideration to the contractual terms of the share-based awards. The Companys F-23 expected volatility is based on the implied volatility of its traded options in accordance with the guidance provided by the United States Securities and Exchange Commissions Staff Accounting Bulletin No. 107 to place exclusive reliance on implied volatilities to estimate the Companys stock volatility over the expected term of its awards. The Company has historically not paid dividends and has no foreseeable plans to issue dividends. The risk-free interest rate is based on the yield from U.S. Treasury zero-coupon bonds with an equivalent term. granted to employees, officers and non-employee board members and Employee Stock Purchase Plans ESPP shares granted to employees for the years ended December 30, 2007, December 31, 2006 and January 1, 2006 was estimated using the following weighted average assumptions: F-24 SARs activity under all of the Companys share-based compensation plans as of December 30, 2007 and changes during the fiscal year ended December 30, 2007 is presented below: At December 30, 2007, the total compensation cost related to options and SARs granted to employees under the Companys share-based compensation plans but not yet recognized was approximately $200.7 million, net of estimated forfeitures. This cost will be amortized on a straight-line basis over a weighted average period of approximately 2.6 years. Options and SARs valuation assumptions related to Matrix and msystems acquisitions are discussed in Note 14, Business Acquisitions. into shares of the Companys common stock upon vesting on a one-for-one basis. Typically, vesting of RSUs is subject to the employees continuing service to the Company. The cost of these awards is determined using the fair value of the Companys common stock on the date of the grant, and compensation is recognized on a straight-line basis over the requisite vesting period. F-25 A summary of the changes in RSUs outstanding under the Companys share-based compensation plan during the fiscal year ended December 30, 2007 is presented below in thousands, except for weighted average grant date fair value: As of December 30, 2007, the Company had $21.5 million of total unrecognized compensation expense, net of estimated forfeitures, related to RSUs, which will be recognized over a weighted average estimated remaining life of 2.3 years. million of total unrecognized compensation cost related to the ESPP that is expected to be recognized over a period of approximately 0.1 years. $100.6 million of share-based compensation for the fiscal years ended December 30, 2007 and December 31, 2006, respectively, that included the following: Share-based compensation expense of $3.7 million and $3.2 million related to manufacturing personnel was capitalized into inventory as of December 30, 2007 and December 31, 2006, respectively. F-26 Prior to fiscal year 2006, the Company followed the disclosure-only provisions of SFAS 123, as amended. The following table illustrates the effect on net income and earnings per share for the year ended January 1, 2006, if the fair value recognition provisions of SFAS 123, as amended, had been applied to options granted under the Companys share-based compensation plans. For purposes of this pro forma disclosure, the estimated value of the share-based compensation is recognized over the vesting periods. If the Company had recognized the expense of share-based compensation in the consolidated statement of income, capital in excess of par would have increased by a corresponding amount, net of applicable taxes. During the first quarter of fiscal year 2007, the Company implemented a restructuring plan which included reductions in workforce in all functions of the organization worldwide and closures of redundant facilities in order to reduce the Companys cost structure. A restructuring charge of $6.7 million was recorded during the year ended December 30, 2007, of which $6.0 million related to severance and benefits to 149 terminated employees and the remaining was primarily for excess lease obligations. All expenses, including adjustments, associated with the Companys restructuring plans are included in Restructuring in the Consolidated Statements of Income. The following table sets forth an analysis of the components of the restructuring charge and payments made against the reserve for the year ended December 30, 2007 in thousands: The Company anticipates that the remaining restructuring reserve balance will be paid out in cash through the first quarter of fiscal year 2010 in connection with long-term facility leases. F-27 The provision for income taxes consists of the following in thousands: Current foreign income taxes includes $66.5 million, $59.2 million and $28.3 million of taxes withheld on royalties received for the fiscal years ended December 30, 2007, December 31, 2006 and January 1, 2006, respectively. Income before provision for income taxes consisted of the following in thousands: The Companys provision for income taxes differs from the amount computed by applying the federal statutory rates to income before taxes as follows: Deferred income taxes reflect the net tax effects of temporary differences between the carrying amounts of assets and liabilities for financial reporting purposes and the amounts used for income tax return reporting purposes. F-28 Significant components of the Companys deferred tax assets as of December 30, 2007 and December 31, 2006 were as follows in thousands: Valuation allowance of $67.4 million and $60.1 million was provided on gross deferred tax assets at December 30, 2007 and December 31, 2006, respectively, based upon available evidence that it is more likely than not that some of the deferred tax assets may not be realized. The valuation allowance increased $7.3 million in fiscal year 2007 from fiscal year 2006, primarily due to tax credits and net operating losses in jurisdictions where realization is not more likely than not. Should the Company have the ability to benefit from the valuation allowance in future periods, approximately $48 million would be credited to goodwill while the remainder would benefit the provision for income taxes. The Company has federal, state before federal benefit, and foreign net operating loss carryforwards of approximately $83 million, $28 million and $50 million, respectively. Some net operating losses will begin to expire in fiscal year 2010, if not utilized. The Company also has federal and state research credit carryforwards of approximately $9 million and $10 million before federal benefit, respectively. Some credit carryforwards will begin to expire in fiscal year 2008, if not utilized. Some of these carryforwards are subject to annual limitations, including Section 382 of the Internal Revenue Code of 1986, as amended, for United States tax purposes and similar state provisions. No provision has been made for United States income taxes or foreign withholding taxes on approximately $95 million of cumulative unremitted earnings of certain foreign subsidiaries as of December 30, 2007, since the Company intends to indefinitely reinvest these earnings outside the United States. If these earnings were distributed to the United States, the Company would be subject to additional United States income taxes and foreign withholding taxes subject to adjustment for foreign tax credits. As of December 30, 2007, the unrecognized deferred tax liability for these earnings was approximately $31 million. The Company adopted FASB Interpretation No. 48 FIN 48, _Accounting for Uncertainty in Income Taxes, an interpretation of FASB Statement No.  109, _on January 1, 2007. As a result of the adoption, the Company recognized an increase of approximately $1.0 million in the liability for unrecognized tax benefits, which was F-29 accounted for as a reduction to the January 1, 2007 balance of retained earnings. A reconciliation of the beginning and ending amount of unrecognized tax benefits is as follows in thousands: The total amount of unrecognized tax positions that would impact the effective tax rate is approximately $54 million at December 30, 2007. The Company recognizes interest and penalties related to unrecognized tax benefits in income tax expense. The liability related to unrecognized tax benefits included accrued interest and penalties of approximately $10 million and $5 million at December 30, 2007 and December 31, 2006, respectively. Tax expense for the years ended December 30, 2007 and January 1, 2006 included approximately $3 million of interest expense in each year. Tax expense for the year ended December 31, 2006 included approximately $2 million of interest expense offset by interest benefit of approximately $3 million related to unrecognized tax benefits previously recognized resulting in a net benefit of approximately $1 million. It is reasonably possible that the unrecognized tax benefits could decrease by approximately $4 million within the next 12 months as a result of the expiration of statutes of limitation. The Company is currently under audit by several tax authorities. Because timing of the resolution andor closure of these audits is highly uncertain it is not possible to estimate other changes to the amount of unrecognized tax benefits for positions existing at December 30, 2007. The Company is subject to United States federal income tax as well as income taxes in many state and foreign jurisdictions. The federal statute of limitations on assessment remains open for the tax years 2004 through 2006, and the statutes of limitation in state jurisdictions remain open in general from tax years 2002 through 2006. The major foreign jurisdictions remain open for examination in general for tax years 2001 through 2006. The tax benefit associated with the exercise of stock options was credited to capital in excess of par value in the amount of $18.4 million, $61.5 million and $95.6 million in fiscal years 2007, 2006 and 2005, respectively. In fiscal years 2007 and 2006, the tax benefit associated with the exercise of stock options credited to goodwill was $0.6 million and $4.6 million, respectively. F-30 The following table sets forth the computation of basic and diluted net income per share in thousands, except per share amounts: Basic earnings per share exclude any dilutive effects of stock options, SARs, RSUs, warrants and convertible securities. Diluted earnings per share include the dilutive effects of stock options, SARs, RSUs, warrants and the 1 Convertible Notes due 2035. Certain common stock issuable under stock options, SARs, warrants and the 1 Senior Convertible Notes due 2013 have been omitted from the diluted net income per share calculation because their inclusion is considered anti-dilutive. Ltd. FlashVision, a business venture with Toshiba Corporation Toshiba which owns 50.1, formed in fiscal year 2000. In the venture, the Company and Toshiba have collaborated in the development and manufacture of NAND flash memory products. These NAND flash memory products are manufactured by Toshiba at its 200-millimeter wafer fabrication facilities located in Yokkaichi, Japan, using the semiconductor manufacturing equipment owned or leased by FlashVision. FlashVision purchases wafers from Toshiba at cost and then resells those wafers to the Company and Toshiba at cost plus a markup. The Company accounts for its 49.9 ownership position in FlashVision under the equity method of accounting. The terms of the FlashVision venture contractually obligate the Company to purchase its provided three-month forecast of FlashVisions NAND wafer supply, which generally equals 50 percent of the ventures output. The Company is not able to estimate its total wafer purchase commitment obligation beyond its rolling three F-31 month purchase commitment because the price is determined by reference to the future cost to produce the semiconductor wafers. In addition, the Company is committed to fund 49.9 of FlashVisions costs to the extent that FlashVisions revenues from wafer sales to the Company and Toshiba are insufficient to cover these costs. The Company agreed to indemnify Toshiba for certain liabilities Toshiba incurs as a result of Toshibas guarantee of the FlashVision equipment lease arrangement. If FlashVision fails to meet its lease commitments, and Toshiba fulfills these commitments under the terms of Toshibas guarantee, then the Company will be obligated to reimburse Toshiba for 49.9 of any claims and associated expenses under the lease, unless the claims result from Toshibas failure to meet its obligations to FlashVision or its covenants to the lenders. Because FlashVisions equipment lease arrangement is denominated in Japanese yen, the maximum amount of the Companys contingent indemnification obligation on a given date when converted to U.S. dollars will fluctuate based on the exchange rate in effect on that date. See Off-Balance Sheet Liabilities. Partners Ltd. Flash Partners, a business venture with Toshiba which owns 50.1, formed in fiscal year 2004. In the venture, the Company and Toshiba have collaborated in the development and manufacture of NAND flash memory products. These NAND flash memory products are manufactured by Toshiba at the 300-millimeter wafer fabrication facility Fab 3 located in Yokkaichi, Japan, using the semiconductor manufacturing equipment owned or leased by Flash Partners. Flash Partners purchases wafers from Toshiba at cost and then resells those wafers to the Company and Toshiba at cost plus a markup. The Company accounts for its 49.9 ownership position in Flash Partners under the equity method of accounting. The Company is committed to purchase its provided three-month forecast of Flash Partners NAND wafer supply, which generally equals 50 percent of the ventures output. The Company is not able to estimate its total wafer purchase commitment obligation beyond its rolling three month purchase commitment because the price is determined by reference to the future cost to produce the semiconductor wafers. In addition, the Company is committed to fund 49.9 of Flash Partners costs to the extent that Flash Partners revenues from wafer sales to the Company and Toshiba are insufficient to cover these costs. As of December 30, 2007, the Company had notes receivable from Flash Partners of 72.3 billion Japanese yen, or approximately $640 million based upon the exchange rate at December 30, 2007. These notes are secured by the equipment purchased by Flash Partners using the note proceeds. The Company has additional guarantee obligations to Flash Partners, see Off-Balance Sheet Liabilities. Alliance Ltd. Flash Alliance, a business venture with Toshiba which owns 50.1, formed in fiscal year 2006. In the venture, the Company and Toshiba have collaborated in the development and manufacture of NAND flash memory products. These NAND flash memory products are manufactured by Toshiba at its 300-millimeter wafer fabrication facility Fab 4 in Yokkaichi, Japan, using the semiconductor manufacturing equipment owned or leased by Flash Alliance. Flash Alliance purchases wafers from Toshiba at cost and then resells those wafers to the Company and Toshiba at cost plus a markup. The Company accounts for its 49.9 ownership position in Flash Alliance under the equity method of accounting. The Company is committed to purchase its provided three-month forecast of Flash Alliances NAND wafer supply, which generally equals 50 percent of the ventures output. The Company is not able to estimate its total wafer purchase commitment obligation beyond its rolling three month purchase commitment because the price is determined by reference to the future cost to produce the semiconductor wafers. In addition, the Company is committed to fund 49.9 of Flash Alliances costs to the extent that Flash Alliances revenues from wafer sales to the Company and Toshiba are insufficient to cover these costs. The Company has guarantee obligations to Flash Alliance, see Off-Balance Sheet Liabilities. As a part of the Flash Ventures agreements, the Company is required to fund direct and common research and development expenses related to the development of advanced NAND flash memory technologies. As of December 30, 2007 and December 31, 2006, the Company had accrued liabilities related to these expenses of $8.0 million and $5.9 million, respectively. F-32 capacity under a foundry arrangement with Toshiba. Under the terms of this agreement, the Company is required to provide Toshiba with a purchase order commitment based on a nine-month rolling forecast. Storage Limited Partnership TwinSys, a business venture with Toshiba, consisting of i 49.9 ownership in TwinSys and ii 0.2 interest held by TwinSys Ltd., in which the Company has a 51 ownership interest. The Company and Toshiba terminated the operations of TwinSys as of March 31, 2007. placed under Flash Ventures and the foundry arrangement with Toshiba for up to three months are binding and cannot be canceled. silicon wafers generally require the Company to provide purchase order commitments based on nine-month rolling forecasts. The purchase orders placed under these arrangements relating to the first three months of the nine-month forecast are generally binding and cannot be canceled. Outstanding purchase commitments for other sources of silicon wafers are included as part of the total Noncancelable production purchase commitments in the Contractual Obligations table below. subcontractors periodically procure production materials based on the forecast the Company provides to them. The Companys agreements with these subcontractors require that it reimburse them for materials that are purchased on the Companys behalf in accordance with such forecast. Accordingly, the Company may be committed to certain costs over and above its open noncancelable purchase orders with these subcontractors. Outstanding purchase commitments to subcontractors are included as part of the total Noncancelable production purchase commitments in the Contractual Obligations table below. The following table details the Companys portion of the remaining indemnification or guarantee obligations under each of Flash Ventures master lease facilities in both Japanese yen and U.S. dollar equivalent based upon the exchange rate at December 30, 2007. F-33 The following table details the breakdown of the Companys remaining indemnification or guarantee obligations between the principal amortization and the purchase option exercise price at the term of the leases, in annual installments as of December 30, 2007 in U.S. dollars based upon the exchange rate at December 30, 2007. approximately 15.0 billion Japanese yen, or approximately $133 million based upon the exchange rate at December 30, 2007, of which 7.3 billion Japanese yen, or approximately $64 million based upon the exchange rate at December 30, 2007, was outstanding as of December 30, 2007. Master lease payments are due quarterly and are scheduled to be completed in February 2009. Under the terms of the June 2006 master lease, Toshiba guaranteed these commitments on behalf of FlashVision. The Company agreed to indemnify Toshiba for certain liabilities Toshiba incurs as a result of Toshibas guarantee of the FlashVision equipment lease arrangement. If FlashVision fails to meet its lease commitments, and Toshiba fulfills these commitments under the terms of Toshibas guarantee, then the Company will be obligated to reimburse Toshiba for 49.9 of any claims and associated expenses under the lease, unless the claims result from Toshibas failure to meet its obligations to FlashVision or its covenants to the lenders. Because FlashVisions equipment lease arrangement is denominated in Japanese yen, the maximum amount of the Companys contingent indemnification obligation on a given date when converted to U.S. dollars will fluctuate based on the exchange rate in effect on that date. As of December 30, 2007, the maximum amount of the Companys contingent indemnification obligation, which reflects payments and any lease adjustments, was approximately 3.6 billion Japanese yen, or approximately $32 million based upon the exchange rate at December 30, 2007. financial institutions a portion of its tools and has entered into and drawn down five equipment master lease agreements totaling approximately 275.0 billion Japanese yen, or approximately $2.44 billion based upon the exchange rate at December 30, 2007, of which 220.0 billion Japanese yen, or approximately $1.95 billion based upon the exchange rate at December 30, 2007, was outstanding at December 30, 2007. The Company and Toshiba have each guaranteed, on a several basis, 50 of Flash Partners obligations under the master lease agreements. As of December 30, 2007, the maximum amount of the Companys guarantee obligation of the Flash Partners master lease agreements, which reflects payments and any lease adjustments, was approximately 110.0 billion Japanese yen, or approximately $974 million based upon the exchange rate at December 30, 2007. Master lease payments are due quarterly and semi- annually, and are scheduled to be completed in stages through fiscal year 2012. At the end of each of the lease terms, Flash Partners has the option of purchasing the tools from the lessors. Flash Partners is obligated to insure the equipment, maintain the equipment in accordance with the manufacturers recommendations and comply with other customary terms to protect the leased assets. The master lease agreements contain covenants, the most restrictive of which require the Company to maintain a minimum shareholder equity balance of $1.16 billion as well as a long-term loan rating of BB- or Ba3, based on a named independent rating service. In addition, the master lease agreements contain customary events of default for a Japanese lease facility. The fair value of the Companys guarantee of Flash Partners lease obligations was insignificant at inception of each of the guarantees. In addition, Flash Partners F-34 expects to secure additional equipment lease facilities over time, which the Company may be required to guarantee in whole or in part. financial institutions a portion of its tools and has entered into an equipment master lease agreement totaling approximately 100.0 billion Japanese yen, or approximately $886 million based upon the exchange rate at December 30, 2007, of which 30.0 billion Japanese yen, or approximately $266 million based upon the exchange rate at December 30, 2007, had been drawn and was outstanding as of December 30, 2007. The Company and Toshiba have each guaranteed, on a several basis, 50 of Flash Alliances obligation under the master lease agreement. As of December 30, 2007, the maximum amount of the Companys guarantee obligation of the Flash Alliance master lease agreement was approximately 15.0 billion Japanese yen, or approximately $133 million based upon the exchange rate at December 30, 2007. Remaining master lease payments are due semi-annually and are scheduled to be completed in fiscal year 2012. At the end of the lease term, Flash Alliance has the option of purchasing the tools from the lessors. Flash Alliance is obligated to insure the equipment, maintain the equipment in accordance with the manufacturers recommendations and comply with other customary terms to protect the leased assets. The master lease agreements contain covenants, the most restrictive of which require the Company to maintain a minimum shareholder equity balance of $1.51 billion as well as a long-term loan rating of BB, based on a named independent rating service. In addition, the master lease agreement contains customary events of default for a Japanese lease facility. The fair value of the Companys guarantee of Flash Alliances lease obligation was insignificant at inception of each of the guarantee. In addition, Flash Alliance expects to secure additional equipment lease facilities over time, which the Company may be required to guarantee in whole or in part. See also Note 19, Subsequent Events. and customers for alleged patent infringement. The scope of such indemnity varies, but may, in some instances, include indemnification for damages and expenses, including attorneys fees. The Company may periodically engage in litigation as a result of these indemnification obligations. The Companys insurance policies exclude coverage for third-party claims for patent infringement. Although the liability is not remote, the nature of the patent infringement indemnification obligations prevents the Company from making a reasonable estimate of the maximum potential amount it could be required to pay to its suppliers and customers. Historically, the Company has not made any significant indemnification payments under any such agreements. As of December 30, 2007, no amount had been accrued in the accompanying consolidated financial statements with respect to these indemnification guarantees. As permitted under Delaware law and the Companys charter and bylaws, the Company has agreements, or has assumed agreements in connection with its acquisitions, whereby it indemnifies certain of its officers, employees and each of its directors for certain events or occurrences while the officer, employee or director is, or was, serving at the Companys or the acquired companys request in such capacity. The term of the indemnification period is for the officers, employees or directors lifetime. The maximum potential amount of future payments the Company could be required to make under these indemnification agreements is generally unlimited; however, the Company has a Director and Officer insurance policy that may reduce its exposure and enable it to recover all or a portion of any future amounts paid. As a result of its insurance policy coverage, the Company believes the estimated fair value of these indemnification agreements is minimal. The Company has no liabilities recorded for these agreements as of December 30, 2007 or December 31, 2006, as this liability is not reasonably estimable even though liability under these agreements is not remote. The Company and Toshiba have agreed to mutually contribute to, and indemnify each other, Flash Partners and Flash Alliance, for environmental remediation costs or liability resulting from Flash Partners or Flash Alliances manufacturing operations in certain circumstances. In fiscal years 2004 and 2006, the Company and Toshiba each engaged consultants to perform a review of the existing environmental conditions at the site of the facilities at which Flash Partners and Flash Alliance operations are located to establish a baseline for evaluating future environmental conditions. The Company and Toshiba have also entered into a Patent Indemnification Agreement under which in many cases the Company will share in the expenses associated with the defense and cost of settlement associated F-35 with such claims. This agreement provides limited protection for the Company against third-party claims that NAND flash memory products manufactured and sold by Flash Partners or Flash Alliance infringe third-party patents. The Company has not made any indemnification payments under any such agreements and as of December 30, 2007, no amounts have been accrued in the accompanying consolidated financial statements with respect to these indemnification guarantees. contractual cash obligations, commitments and off-balance sheet arrangements at December 30, 2007, and the effect such obligations are expected to have on its liquidity and cash flows in future periods in thousands. F-36 Due to the uncertainty with respect to the timing of future cash flows associated with unrecognized tax benefit at December 30, 2007, the Company is unable to make reasonable reliable estimates of the period of cash settlement with the respective taxing authorities. Therefore, approximately $80 million of unrecognized tax benefits have been excluded from the contractual obligation table above. The Company leases many of its office facilities and operating equipment for various terms under long-term, noncancelable operating lease agreements. The leases expire at various dates from fiscal years 2007 through 2016. Future minimum lease payments at December 30, 2007 are presented below in thousands: business in various foreign currencies. Exposure to foreign currency exchange rate fluctuations arises mainly from non-functional currency denominated trade accounts payable, intercompany accounts and loans receivable from related parties. The Company utilizes foreign currency forward contracts to minimize the risk associated with foreign exchange effects of trade accounts payable, intercompany accounts and loans receivable from related parties. As a result, increases or decreases in these accounts due to foreign exchange rate changes are offset by gains and losses on the forward contracts so as to minimize foreign currency transaction gains and losses. All foreign currency balances and all outstanding forward contracts are marked-to-market at December 30, 2007 with unrealized gains and losses included in Other income of the Consolidated Statements of Income. As of December 30, 2007, the Company had foreign currency exchange contract lines of $1.57 billion. The Company had net foreign currency forward contracts in place denominated in European euros, Israeli New Israel shekels, Japanese yen and Taiwanese dollars to sell U.S. dollar equivalent of approximately $534 million in foreign currencies based upon the exchange rates at December 30, 2007. F-37 For the years ended December 30, 2007, December 31, 2006 and January 1, 2006, foreign currency contracts resulted in a loss of $8.3 million and gains of $5.8 million and $5.1 million, respectively, including forward point income, offset by the foreign currency exposures hedged by these forward contracts which had a gain of $17.8 million and losses of $2.2 million and $5.1 million, respectively. The Company has outstanding cash flow hedges designated to mitigate equity risk associated with certain available-for-sale equity securities totaling approximately $60.4 million. The changes in the fair value of the cash flow hedges are included in accumulated other comprehensive income and were immaterial for the year ended December 30, 2007. The Company does not enter into derivatives for speculative or trading purposes. manufacture of NAND flash memory products. These NAND flash memory products are manufactured by Toshiba at Toshibas Yokkaichi, Japan operations using the semiconductor manufacturing equipment owned or leased by Flash Ventures. See also Note 12, Commitments, Contingencies and Guarantees. The Company purchased NAND flash memory wafers from Flash Ventures and Toshiba, made payments for shared research and development expenses, made loans to Flash Ventures and made investments in Flash Ventures totaling approximately $1,294.5 million, $658.4 million and $571.7 million in the years ended December 30, 2007, December 31, 2006 and January 1, 2006, respectively. The purchases of NAND flash memory wafers are ultimately reflected as a component of the Companys cost of product revenues. During the twelve months ended December 30, 2007, the Company had sales to Toshiba excluding TwinSys Ltd. as described below of $26.7 million, compared to zero in the prior years. At December 30, 2007 and December 31, 2006, the Company had accounts payable balances due to Toshiba of $0.2 million and $19.2 million, respectively, and accounts receivable balances from Toshiba of $4.2 million and $1.4 million, respectively. At December 30, 2007 and December 31, 2006, the Company had accrued current liabilities due to Toshiba for shared research and development expenses of $8.0 million and $5.9 million, respectively. entity and accounts for its ownership position under the equity method of accounting. The Companys obligations with respect to the Flash Ventures lease arrangements, capacity expansion, take-or-pay supply arrangements and research and development cost sharing are described in Note 12, Commitments, Contingencies and Guarantees. Flash Ventures are all variable interest entities as defined under FASB Interpretation No. 46 FIN 46R, primary beneficiary of any of the Flash Ventures entities because it absorbs less than a majority of the expected gains and losses of each entity. At December 30, 2007 and December 31, 2006, the Company had accounts payable balances due to Flash Ventures of $131.3 million and $61.6 million, respectively. The Companys maximum reasonably estimable loss exposure excluding lost profits as a result of its involvement with Flash Ventures was $2.2 billion and $1.1 billion, as of December 30, 2007 and December 31, 2006, respectively. These amounts are comprised of the Companys investments, notes receivable and guarantee and contingent indemnification obligations. At December 30, 2007 and December 31, 2006, the Companys consolidated retained earnings included approximately $2.8 million and $2.5 million, respectively, of undistributed earnings of Flash Ventures. The following summarizes the aggregated financial information for Flash Ventures as of December 30, 2007 and December 31, 2006 in thousands. F-38 The following summarizes the aggregated financial information for Flash Ventures for the fiscal years ended December 30, 2007, December 31, 2006 and January 1, 2006, respectively in thousands. Flash Ventures year-ends are March 31, with quarters ending on March 31, June 30, September 30 and December 31. with Toshiba, TwinSys Ltd. TwinSys, designed to enable the parties to benefit from a portion of each partys respective sales of USB flash drives. The Company had a 50.1 beneficial ownership in TwinSys, consisting of i 49.9 ownership in TwinSys and ii 0.2 interest held by TwinSys Ltd., in which the Company has a 51 ownership interest. The Company consolidated the venture under FIN 46R. During the twelve months ended December 30, 2007, TwinSys had sales to and purchases from Toshiba of $53.0 million and $28.5 million, respectively. The Company and Toshiba terminated the operations of TwinSys as of March 31, 2007. approximately 12.8 of the outstanding shares of Tower, one of its suppliers of wafers for its controller components, has prepaid wafer credits issued by Tower, and has convertible debt and a warrant to purchase Tower ordinary shares. The Companys Chief Executive Officer is also a member of the Tower board of directors. As of December 30, 2007, the Company owned approximately 14.1 million Tower shares with a market value of $20.1 million. In addition, the Company holds a Tower convertible debenture with a market value of $5.5 million. As of December 30, 2007, the Company had an outstanding loan of $8.6 million to Tower for expansion of Towers 0.13 micron logic wafer capacity. The loan to Tower is secured by the equipment purchased. The Company purchased controller wafers and related non-recurring engineering of approximately $65.8 million, $41.0 million and $31.3 million in the fiscal years ended December 30, 2007, December 31, 2006 and January 1, 2006, respectively. These purchases of controller wafers are ultimately reflected as a component of the Companys cost of product revenues. At December 30, 2007 and December 31, 2006, the Company had amounts payable to Tower of approximately $6.1 million and $7.7 million, respectively. Flextronics, who served on the Flextronics board of directors from 1991 to January 10, 2008, has served on the Companys board of directors since September 2003. For the fiscal years ended December 30, 2007, December 31, 2006 and January 1, 2006 the Company recorded revenues related to Flextronics and its affiliates of $75.5 million, $106.6 million and $25.3 million, respectively, and at December 30, 2007 and December 31, 2006, the Company had receivables from Flextronics and its affiliates of $0.6 million and $18.9 million, respectively. In addition, the Company purchased from Flextronics and its affiliates $72.6 million, $53.5 million and $40.2 million of services for card assembly and testing in the fiscal years ended December 30, 2007, December 31, 2006 and January 1, 2006, F-39 respectively, which are ultimately reflected as a component of the Companys cost of product revenues. At December 30, 2007 and December 31, 2006, the Company had amounts payable to Flextronics and its affiliates of approximately $10.3 million and $6.7 million, respectively, for these services. 2007, the Company formed a venture with third parties that will license intellectual property. This venture qualifies as a variable interest entity under FIN 46R. The Company is considered the primary beneficiary of this venture, and in accordance with FIN 46R, the Company consolidates this venture in its financial statements. The venture was financed with $10.2 million of initial aggregate capital contributions from the partners. In July 2007, Solid State Storage Solutions LLC invested $10.0 million for the acquisition of intellectual property. The venture has an obligation of up to an additional $32.5 million related to the acquisition of intellectual property should the venture be profitable. of msystems in an all stock transaction. This combination joined together two flash memory companies with complementary products, customers and channels. The transaction was accounted for using the purchase method of accounting in accordance with Statement of Financial Accounting Standards No. 141 SFAS 141, _Business Combinations_. The purchase price was comprised of the following in thousands: As a result of the acquisition, the Company issued approximately 29.4 million shares of SanDisk common stock based on an exchange ratio of 0.76368 shares of the Companys common stock for each outstanding share of msystems common stock as of November 19, 2006. The average market price per share of SanDisk common stock of $46.48 was based on the average of the closing prices for a range of trading days around the announcement date July 30, 2006 of the proposed transaction. Pursuant to the terms of the merger agreement, each msystems stock option and stock appreciation right outstanding and unexercised as of November 19, 2006 was converted into a stock option and stock appreciation right SARs, to purchase the Companys common stock. Based on msystems stock options outstanding at November 19, 2006, the Company assumed msystems options and SARs to purchase approximately 5.4 million shares of the Companys common stock. The fair value of options and SARs assumed was estimated a valuation model with the following assumptions: Direct transaction costs of approximately $15 million include investment banking, legal and accounting fees, and other external costs directly related to the acquisition. As of December 30, 2007, substantially all costs for accounting, legal and other professional services had been paid. F-40 tangible assets acquired and liabilities assumed is summarized below in thousands. In the year ended December 30, 2007, the Company booked adjustments to the net tangible assets acquired of approximately $53.8 million largely related to a revised estimate of other assets. price was allocated to msystems net tangible and intangible assets based upon their estimated fair values as of November 19, 2006. The excess purchase price over the value of the net tangible and identifiable intangible assets was recorded as goodwill. The fair values assigned to tangible and intangible assets acquired and liabilities assumed are based on estimates and assumptions of management. The following represents the allocation of the purchase price to the acquired net assets of msystems in thousands: year 2006, the Company established its plans to integrate the msystems operations, which included the involuntary termination of approximately 100 employees and the exiting of duplicative facilities, and recorded $1.6 million for acquisition-related restructuring activities, of which $0.3 million relates to excess lease obligations and $1.3 million is related to personnel. The lease obligations extend through the end of the lease term in fiscal year 2009. These acquisition-related restructuring liabilities were included in the purchase price allocation of the cost to acquire msystems. In the twelve months ended December 30, 2007, the Company reversed through goodwill approximately $0.6 million of the F-41 restructuring accrual based on actual costs being less than the original estimates. As of December 30, 2007, there was no remaining acquisition-related restructuring accrual that had not been paid or utilized. certain amount of the purchase price was allocated to acquired in-process technology, which was determined through established valuation techniques in the high-technology industry and written-off in the fourth quarter of fiscal year 2006 because technological feasibility had not been established and no alternative future uses existed. The value was determined by estimating the net cash flows and discounting forecasted net cash flows to their present values. The Company wrote-off the acquired in-process technology of $186.0 million in the fourth quarter of fiscal year 2006. As of December 30, 2007, it was estimated that these in-process projects would be completed at an estimated total cost of $14.4 million. The net cash flows from the identified projects were based on estimates of revenues, costs of revenues, research and development expenses, including costs to complete the projects, selling, marketing and administrative expenses, and income taxes from the projects. The Company believes the assumptions used in the valuations were reasonable at the time of the acquisition. The estimated net revenues and gross margins were based on managements projections of the projects and were in line with industry averages. Estimated total net revenues from the projects were expected to grow through fiscal year 2009 and decline thereafter as other new products are expected to become available. Estimated operating expenses included research and development expenses and selling, marketing and administrative expenses based upon historical and expected direct expense level and general industry metrics. Estimated research and development expenses included costs to bring the projects to technological feasibility and costs associated with ongoing maintenance after a product is released, estimated at 2 of the expected net revenues for the in-process technologies. The effective tax rate used in the analysis of the in-process technologies reflects a historical industry-specific average for the United States federal income tax rates. A discount rate the rate utilized to discount the net cash flows to their present values of 19 was used in computing the present value of net cash flows for the projects. The percentage of completion was determined using costs incurred by msystems prior to the acquisition date compared to the estimated remaining research and development to be completed to bring the projects to technological feasibility. acquisition of Matrix, a designer and developer of three-dimensional 3D integrated circuits. Matrix 3D Memory is used for one-time programmable storage applications that complement the Companys existing flash storage memory products. The Company acquired 100 of the outstanding shares of Matrix for a total purchase price of $296.4 million. The purchase price is comprised of the following in thousands: As a result of the acquisition, the Company issued approximately 3.7 million shares of SanDisk common stock and assumed equity instruments to issue 567,704 shares of common stock. The assumed stock options were valued using the Black- Scholes-Merton valuation model with the following assumptions: stock price of $65.09; a weighted average volatility rate of 52.8; a risk-free interest rate of 4.3; a dividend yield of zero and a weighted average expected remaining term of 1.4 years. The fair value of unvested assumed stock options, which was valued at the consummation date, will be recognized as compensation expenses, net of forfeitures, over the remaining vesting period. 2006, the Company established its plans to integrate the Matrix operations, which included exiting duplicative facilities and recording $17.5 million for acquisition-related restructuring activities, of which $17.4 million relates to excess lease obligations. The lease obligations extend through the end of the lease term in fiscal year 2016. These acquisition-related restructuring F-42 liabilities were included in the purchase price allocation of the cost to acquire Matrix. As of December 30, 2007, the outstanding accrual balance was $13.4 million. The reduction in the accrual balance was primarily related to lease obligation payments. amount of the purchase price was allocated to acquired in-process technology, which was determined through established valuation techniques in the high- technology computer industry and written-off in the first quarter of fiscal year 2006 because technological feasibility had not been established and no alternative future uses existed. The value was determined by estimating the net cash flows and discounting forecasted net cash flows to their present values. The Company wrote-off the acquired in-process technology of $39.6 million in the first quarter of fiscal year 2006. As of December 30, 2007, it was estimated that these in-process projects were completed. The net cash flows from the identified projects were based on estimates of revenues, costs of revenues, research and development expenses, including costs to complete the projects, selling, marketing and administrative expenses, and income taxes from the projects. The Company believes the assumptions used in the valuations were reasonable at the time of the acquisition. The estimated net revenues and gross margins were based on managements projections of the projects and were in line with industry averages. Estimated total net revenues from the projects were expected to grow through fiscal year 2009 and decline thereafter as other new products are expected to become available. Estimated operating expenses included research and development expenses and selling, marketing and administrative expenses based upon historical and expected direct expense level and general industry metrics. Estimated research and development expenses included costs to bring the projects to technological feasibility and costs associated with ongoing maintenance after a product is released. These activities range from 0 to 5 of Matrixs portion of the Companys net revenues for the in-process technologies. The effective tax rate used in the analysis of the in-process technologies reflects a historical industry-specific average for the United States federal income tax rates. Discount rates the rates utilized to discount the net cash flows to their present values ranging from 12.5 to 15.5 were used in computing the present value of net cash flows for the projects. The percentage of completion was determined using costs incurred by Matrix prior to the acquisition date compared to the estimated remaining research and development to be completed to bring the projects to technological feasibility. for the twelve months ended December 31, 2006 presents the combined results of the Company, Matrix and msystems, as if the acquisitions had occurred at the beginning of the period presented in thousands, except per share amounts. Certain adjustments have been made to the combined results of operations, including amortization of acquired other intangible assets; however, charges for acquired in-process technology were excluded as these items were non- recurring. The pro forma financial information does not necessarily reflect the results of operations that would have occurred had the Company, Matrix and msystems constituted a consolidated entity during such period. On September 15, 2003, the Company amended its existing stockholder rights plan to terminate the rights issued under that rights plan, and the Company adopted a new rights plan. Under the new rights plan, rights were distributed as a dividend at the rate of one right for each share of common stock of the Company held by F-43 stockholders of record as of the close of business on September 25, 2003. In November 2006, the Company extended the term of the rights plan, such that the rights will expire on April 28, 2017 unless redeemed or exchanged. Under the new rights agreement and after giving effect to the Companys stock dividend effected on February 18, 2004, each right will, under the circumstances described below, entitle the registered holder to buy one two-hundredths of a share of Series A Junior Participating Preferred Stock for $225.00. The rights will become exercisable only if a person or group acquires beneficial ownership of 15 or more of the Companys common stock or commences a tender offer or exchange offer upon consummation of which such person or group would beneficially own 15 or more of the Companys common stock. From time-to-time, it has been and may continue to be necessary to initiate or defend litigation against third parties. These and other parties could bring suit against us. In each case listed below where we are the defendant, we intend to vigorously defend the action. At this time, the Company does not believe it is reasonably possible that losses related to the litigation described below have occurred beyond the amounts, if any, that have been accrued. On October 31, 2001, the Company filed a complaint for patent infringement in the United States District Court for the Northern District of California against Memorex Products, Inc. Memorex, Pretec Electronics Corporation Pretec, RITEK Corporation RITEK, and Power Quotient International Co., Ltd PQI. In the suit, captioned SanDisk Corp. v. Memorex Products, Inc., et al., Civil Case No. CV 01 4063 VRW, the Company seeks damages and injunctions against these companies from making, selling, importing or using flash memory cards that infringe its U.S. Patent No. 5,602,987. On May 6, 2003, the District Court entered a stipulated consent judgment against PQI. The District Court granted summary judgment of non-infringement in favor of defendants RITEK, Pretec and Memorex and entered judgment on May 17, 2004. On June 2, 2004, the Company filed a notice of appeal of the summary judgment rulings to the United States Court of Appeals for the Federal Circuit. On July 8, 2005, the Federal Circuit held in favor of the Company, vacating the judgment of non-infringement and remanding the case back to the District Court. The District Court issued an order on claim construction on February 22, 2007. On June 29, 2007, defendant RITEK entered into a settlement agreement and cross-license with the Company. In light of the agreement, the Company agreed to dismiss all current patent infringement litigation against RITEK. A stipulated dismissal with prejudice between the Company and RITEK was entered on July 23, 2007. On August 30, 2007, the Company entered into a settlement agreement with Memorex regarding the accused products. On September 7, 2007, in light of the settlement between the Company and Memorex, the Court entered a stipulation dismissing the Companys claims against Memorex. On October 25, 2007, the Court Clerk entered a default against Pretec. On January 14, 2008, the Company filed a motion for default judgment against Pretec. The Court scheduled a hearing regarding the Companys motion for April 3, 2008. On February 20, 2004, the Company and a number of other manufacturers of flash memory products were sued in the Superior Court of the State of California for the City and County of San Francisco in a purported consumer class action captioned Willem Vroegh et al. v. Dane-Electric Corp. USA, et al., Civil Case No. GCG 04 428953, alleging false advertising, unfair business practices, breach of contract, fraud, deceit, misrepresentation and violation of the California Consumers Legal Remedy Act. The lawsuit purports to be on behalf of a class of purchasers of flash memory products and claims that the defendants overstated the size of the memory storage capabilities of such products. The lawsuit seeks restitution, injunction and damages in an unspecified amount. The parties have reached a settlement of the case, which received final approval from the Court on November 20, 2006. Four objectors to the settlement filed appeals from the Courts order granting final approval. On November 30, 2007, the First District of the California Court of Appeal affirmed in full the trial courts judgment and final approval of the settlement. The objectors then filed petitions for the Court of Appeal to rehear the matter en banc, which petitions were denied on December 21, 2007. The objectors have now filed petitions with the California Supreme Court, currently pending in Case No. S159760, asking the Supreme Court to review of the decision of the Court of Appeal. On October 15, 2004, the Company filed a complaint for patent infringement and declaratory judgment of non-infringement and patent invalidity against STMicroelectronics N.V. and STMicroelectronics, Inc. collectively, F-44 ST in the United States District Court for the Northern District of California, captioned SanDisk Corporation v. STMicroelectronics, Inc., et al., Civil Case No. C 04 04379 JF. The complaint alleges that STs products infringe one of the Companys U.S. patents, U.S. Patent No. 5,172,338 the 338 patent, and also alleges that several of STs patents are invalid and not infringed. On June 18, 2007, the Company filed an amended complaint, removing several of the Companys declaratory judgment claims. A case management conference was conducted on June 29, 2007. At that conference, the parties agreed that the remaining declaratory judgment claims will be dismissed, pursuant to a settlement agreement in two matters being litigated in the Eastern District of Texas Civil Case No. 4:05CV44 and Civil Case No. 4:05CV45, discussed below. The parties also agreed that the 338 patent and a second Company patent, presently at issue in Civil Case No. C0505021 JF discussed below, will be litigated together in this case. ST filed an answer and counterclaims on September 6, 2007. STs counterclaims included assertions of antitrust violations. On October 19, 2007, the Company filed a motion to dismiss STs antitrust counterclaims. On December 20, 2007, the Court entered a stipulated order staying all procedural deadlines until the Court resolves the Companys motion to dismiss. On January 25, 2008, the Court held a hearing on the Companys motion. At the hearing, the Court converted the Companys Motion to Dismiss into a Motion for Summary Judgment. The Court scheduled a hearing on the Companys Motion for Summary Judgment for May 30, 2008. The trial is currently scheduled for summer of 2008. This trial date, however, may be moved depending on the Courts ruling on the Companys Motion for Summary Judgment. On October 14, 2005, STMicro filed a complaint against the Company and the Companys CEO, Dr. Eli Harari, in the Superior Court of the State of California for the County of Alameda, captioned STMicroelectronics, Inc. v. Harari, Case No. HG 05237216 the Harari Matter. The complaint alleges that STMicro, as the successor to Wafer Scale Integration, Inc.s WSI legal rights, has an ownership interest in several Company patents that were issued from applications filed by Dr. Harari, a former WSI employee. The complaint seeks the assignment or co-ownership of certain inventions and patents conceived of by Dr. Harari, including some of the patents asserted by the Company in its litigations against STMicro, as well as damages in an unspecified amount. On November 15, 2005, Dr. Harari and the Company removed the case to the U.S. District Court for the Northern District of California, where it was assigned case number C05-04691. On December 13, 2005, STMicro filed a motion to remand the case back to the Superior Court of Alameda County. The case was remanded to the Superior Court of Alameda County on July 18, 2006, after briefing and oral argument on a motion by STMicro for reconsideration of an earlier order denying STMicros request for remand. Due to the remand, the District Court did not rule upon a summary judgment motion previously filed by the Company. In the Superior Court of Alameda County, the Company filed a Motion to Transfer Venue to Santa Clara County on August 10, 2006, which was denied on September 12, 2006. On October 6, 2006, the Company filed a Petition for Writ of Mandate with the First District Court of Appeal, which asks that the Superior Courts September 12, 2006 Order be vacated, and the case transferred to Santa Clara County. On October 20, 2006, the Court of Appeal requested briefing on the Companys petition for a writ of mandate and stayed the action during the pendency of the writ proceedings. On January 17, 2007, the Court of Appeal issued an alternative writ directing the Superior Court to issue a new order granting the Companys venue transfer motion or to show cause why a writ of mandate should not issue compelling such an order. On January 23, 2007, the Superior Court of Alameda transferred the case to Santa Clara County as a result of the writ proceeding at the Court of Appeal. The Company also filed a special motion to strike STMicros unfair competition claim, which the Superior Court denied on September 11, 2006. The Company has appealed the denial of that motion, and the proceedings at the Superior Court were stayed during the pendency of the appeal. On August 7, 2007, the First District Court of Appeal affirmed the Superior Courts decision. The California Supreme Court subsequently denied the Companys petition for review of the Court of Appeals decision. The Superior Court scheduled a case management conference for April 10, 2008. On December 6, 2005, the Company filed a complaint for patent infringement in the United States District Court for the Northern District of California against ST Case No. C0505021 JF. In the suit, the Company seeks damages and injunctions against ST from making, selling, importing or using flash memory chips or products that infringe the Companys U.S. Patent No. 5,991,517 the 517 patent. As discussed above, the 517 patent will be litigated together with the 338 patent in Civil Case No. C 04 04379JF. F-45 On August 7, 2006, two purported shareholder class and derivative actions, captioned Capovilla v. SanDisk Corp., No. 106 CV 068760, and Dashiell v. SanDisk Corp., No. 106 CV 068759, were filed in the Superior Court of California in Santa Clara County, California. On August 9, 2006 and August 17, 2006, respectively, two additional purported shareholder class and derivative actions, captioned Lopiccolo v. SanDisk Corp., No. 106 CV 068946, and Sachs v. SanDisk Corp., No. 106 CV 069534, were filed in that court. These four lawsuits were subsequently consolidated under the caption In re msystems Ltd. Shareholder Litigation, No. 106 CV 068759 and on October 27, 2006, a consolidated amended complaint was filed that superseded the four original complaints. The lawsuit was brought by purported shareholders of msystems Ltd. msystems, and named as defendants the Company and each of msystems former directors, including its President and Chief Executive Officer, and its former Chief Financial Officer, and named msystems as a nominal defendant. The lawsuit asserted purported class action and derivative claims. The alleged derivative claims asserted, among other things, breach of fiduciary duties, abuse of control, constructive fraud, corporate waste, unjust enrichment and gross mismanagement with respect to past stock option grants. The alleged class and derivative claims also asserted claims for breach of fiduciary duty by msystems board, which the Company was alleged to have aided and abetted, with respect to allegedly inadequate consideration for the merger, and allegedly false or misleading disclosures in proxy materials relating to the merger. The complaints sought, among other things, equitable relief, including enjoining the proposed merger, and compensatory and punitive damages. In January 2008, the court granted, without prejudice, the Companys and msystems motion to dismiss. On September 11, 2006, Mr. Rabbi, a shareholder of msystems filed a derivative action and a motion to permit him to file the derivative action against four directors of msystems and msystems, arguing that options were allegedly allocated to officers and employees of msystems in violation of applicable law. Mr. Rabbi claimed that the aforementioned actions allegedly caused damage to msystems. On January 25, 2007, msystems filed a motion to dismiss the motion to seek leave to file the derivative action and the derivative action on the grounds, inter alia, that Mr. Rabbi ceased to be a shareholder of msystems after the merger between msystems and the Company. msystems received an extension to file its comprehensive response to the motion, to be submitted 30 days after the decision of the court in its motion to dismiss. On February 16, 2007, Texas MP3 Technologies, Ltd.  Texas MP3 filed suit against the Company, Samsung Electronics Co., Ltd., Samsung Electronics America, Inc. and Apple Inc., Case No. 2:07-CV-52, in the Eastern District of Texas, Marshall Division, alleging infringement of U.S. Patent 7,065,417 the 417 patent. On June 19, 2007, the Company filed an answer and counterclaim: a denying infringement; b seeking a declaratory judgment that the 417 patent is invalid, unenforceable and not infringed by the Company. On July 31, 2007, Texas MP3 filed an amended complaint against the Company and the other parties named in the original complaint, alleging infringement of the 417 patent. On August 1, 2007, defendant Apple, Inc. filed a motion to stay the litigation pending completion of an inter-partes reexamination of the 417 patent by the U.S. Patent and Trademark Office. That motion was denied. On August 10, 2007, the Company filed an answer to the amended complaint and a counterclaim: a denying infringement; b seeking a declaratory judgment that the 417 patent is invalid, unenforceable and not infringed by the Company. A status conference in the case was held on November 2, 2007. A Markman hearing has been scheduled for March 12, 2009 and jury selection for July 6, 2009. Discovery is proceeding. On or about May 11, 2007, the Company received written notice from Alcatel- Lucent, S.A., Lucent, alleging that the Companys digital music players require a license to U.S. Patent No. 5,341,457 the 457 patent and U.S. Patent No. RE 39,080 the 080 patent. On July 13, 2007, the Company filed a complaint for a declaratory judgment of non-infringement and patent invalidity against Lucent Technologies Inc. and Lucent in the United States District Court for the Northern District of California, captioned SanDisk Corporation v. Lucent Technologies Inc., et al., Civil Case No. C 07 03618. The complaint seeks a declaratory judgment that the Company does not infringe the two patents asserted by Lucent against the Companys digital music players. The complaint further seeks a judicial determination and declaration that Lucents patents are invalid. Defendants have answered and defendant Lucent has asserted a counterclaim of infringement in connection with the 080 patent. Defendants have also moved to dismiss the case without prejudice andor stay the case pending their appeal of a judgment F-46 involving the same patents in suit entered by the United States District Court for the Southern District of California. The Company has moved for summary judgment on its claims for declaratory relief, and has moved to dismiss defendant Lucents counterclaim for infringement of the 080 patent as a matter of law. All motions are presently pending before the Court. On August 10, 2007, Lonestar Invention, L.P. Lonestar filed suit against the Company in the Eastern District of Texas, Civil Action No. 6:07-CV-00374-LED. The complaint alleges that a memory controller used in the Companys flash memory devices infringes U.S. Patent No. 5,208,725. Lonestar is seeking a permanent injunction, actual damages, treble damages for willful infringement, and costs and attorney fees. The Company has answered Lonestars complaint, denying Lonestars allegations. On September 11, 2007 the Company and the Companys CEO, Dr. Eli Harari, received grand jury subpoenas issued from the United States District Court for the Northern District of California indicating a Department of Justice investigation into possible antitrust violations in the NAND flash memory industry. The Company also received a notice from the Canadian Competition Bureau Bureau that the Bureau has commenced an industry-wide investigation with respect to alleged anti-competitive activity regarding the conduct of companies engaged in the supply of NAND flash memory chips to Canada and requesting that the Company preserve any records relevant to such investigation. The Company is cooperating in these investigations. On September 11, 2007, Premier International Associates LLC Premier filed suit against the Company and 19 other named defendants, including Microsoft Corporation, Verizon Communications Inc. and ATT Inc., in the United States District Court for the Eastern District of Texas Marshall Division. The suit, Case No. 2-07-CV-396, alleges infringement of Premiers U.S. Patents 6,243,725 the 725 and 6,763,345 the 345 by certain of the Companys portable digital music players, and seeks an injunction and damages in an unspecified amount. On December 10, 2007, an amended complaint was filed. On February 5, 2008, the Company filed an answer to the amended complaint and counterclaims: a denying infringement; b seeking a declaratory judgment that the 725 and 345 patents are invalid, unenforceable and not infringed by the Company. On February 5, 2008, the Company along with the other defendants in the action filed a motion to stay the litigation pending completion of reexaminations of the 725 and 345 patents by the U.S. Patent and Trademark Office. This motion is pending. A trial date has not been set. On October 24, 2007, the Company filed a complaint under Section 337 of the Tariff Act of 1930 as amended Inv. No. 337-TA-619 titled, In the matter of flash memory controllers, drives, memory cards, and media players and products containing same in the ITC hereinafter, the 619 Investigation, naming the following companies as respondents: Phison Electronics Corp. Phison; Silicon Motion Technology Corporation, Silicon Motion, Inc. located in Taiwan, Silicon Motion, Inc. located in California, and Silicon Motion International, Inc. collectively, Silicon Motion; USBest Technology, Inc. USBest; Skymedi Corporation Skymedi; Chipsbrand Microelectronics HK Co., Ltd., Chipsbank Technology Shenzhen Co., Ltd., and Chipsbank Microelectronics Co., Ltd., collectively, Chipsbank; Zotek Electronic Co., Ltd., dba Zodata Technology Ltd. collectively, Zotek; Infotech Logistic LLC Infotech, Power Quotient International Co., Ltd., and PQI Corp. collectively, PQI; Power Quotient International HK Co., Ltd.; Syscom Development Co. Ltd.; PNY Technologies, Inc. PNY; Kingston Technology Co., Inc., Kingston Technology Corp., Payton Technology Corp., and MemoSun, Inc. collectively, Kingston; Buffalo, Inc., Melco Holdings, Inc., and Buffalo Technology USA, Inc. collectively, Buffalo; Verbatim Corp. Verbatim; Transcend Information Inc. located in Taiwan, Transcend Information Inc. located in California, and Transcend Information Maryland, Inc., collectively, Transcend; Imation; Add-On Computer Peripherals, Inc., Add-On Computer Peripherals, LLC, and Add-On Technology Co. collectively, Add-On; A-Data Technology Co., Ltd., and A-Data Technology USA Co., Ltd., collectively, A-DATA; Apacer Technology Inc. and Apacer Memory America, Inc. collectively, Apacer; Acer, Inc. Acer; Behavior Tech Computer Corp. and Behavior Tech Computer USA Corp. collectively, Behavior; Emprex Technologies Corp.; Corsair Memory, Inc. Corsair; Dane-Elec Memory S.A., and Dane-Elec Corp. USA, collectively, Dane-Elec; Deantusaiocht Dane-Elec TEO; EDGE Tech Corp. EDGE; Interactive Media Corp, Interactive; Kaser Corporation Kaser; LG Electronics, Inc., and LG Electronics U.S.A., Inc., collectively, LG; TSR Silicon Resources Inc. TSR; and Welldone Co. Welldone. In the complaint, the Company F-47 alleges that respondents flash memory products, such as USB flash drives, Compact Flash cards, and flash media players, infringe the following: U.S. Patent No. 5,719,808 the 808 patent; U.S. Patent No. 6,763,424 the 424 patent; U.S. Patent No. 6,426,893 the 893 patent; U.S. Patent No. 6,947,332 the 332 patent; and U.S. Patent No. 7,137,011 the 011 patent. The Company seeks an order excluding the respondents flash memory controllers, drives, memory cards, and media players from entry into the United States as well as a permanent cease and desist order against the respondents. On December 6, 2007, the Commission instituted an investigation based on the Companys complaint. The target date for completing the investigation was originally set for March 12, 2009. Since filing its complaint, the Company has reached settlement agreements with Add-On Computer Peripherals, Inc., Add-On Computer Peripherals, LLC, EDGE, Infotech, Interactive, Kaser, PNY, TSR, and Welldone. The parties moved to terminate the investigation as to these respondents in light of the settlement agreements. Most of the respondents that have not settled with the Company have responded to the complaint. Among other things, these respondents deny infringement or that the Company has a domestic industry in the asserted patents. In responding to the complaint, these respondents have also raised several affirmative defenses including, among others, invalidity, unenforceability, express license, implied license, patent exhaustion, waiver, acquiescence, latches, estoppel and unclean hands. On January 23, 2008, the Administrative Law Judge issued an initial determination extending the target date by three months to June 12, 2009, proposing a Markman hearing for May 6-7, 2008 and tentatively scheduling the evidentiary hearing to begin on October 27, 2008. On October 24, 2007, the Company filed a complaint for patent infringement in the United States District Court for the Western District of Wisconsin against the following defendants: Phison, Silicon Motion, Synergistic Sales, Inc. Synergistic, USBest, Skymedi, Chipsbank, Infotech, Zotek, PQI, PNY, Kingston, Buffalo, Verbatim, Transcend, Imation, Add-On, A-DATA, Apacer, Behavior, Corsair, Dane-Elec, EDGE, Interative, LG, TSR and Welldone. In this action, Case No. 07-C-0607-C, the Company asserts that the defendants infringe the 808 patent, the 424 patent, the 893 patent, the 332 patent and the 011 patent. The Company seeks damages and injunctive relief. In light of the above mentioned settlement agreements, the Company dismissed its claims against Add-On Computer Peripherals, Inc., Add-On Computer Peripherals, LLC, EDGE, Infotech, Interactive, PNY, TSR, and Welldone. The Company also voluntarily dismissed its claims against Acer and Synergistic without prejudice. On November 21, 2007, defendant Kingston filed a motion to stay this action. Several defendants joined in Kingstons motion. On December 19, 2007, the Court issued an order staying the case in its entirety until the 619 Investigation becomes final. On January 14, 2008, the Court issued an order clarifying that the entire case is stayed for all parties. On October 24, 2007, the Company filed a complaint for patent infringement in the United States District Court for the Western District of Wisconsin against the following defendants: Phison, Silicon Motion, Synergistic, USBest, Skymedi, Zotek, Infortech, PQI, PNY, Kingston, Buffalo, Verbatim, Transcend, Imation, A-DATA, Apacer, Behavior, and Dane-Elec. In this action, Case No. 07-C-0605-C, the Company asserts that the defendants infringe U.S. Patent No. 6,149,316 the 316 patent and U.S. Patent No. 6,757,842 the 842 patent. The Company seeks damages and injunctive relief. In light of above mentioned settlement agreements, the Company dismissed its claims against Infotech and PNY. The Company also voluntarily dismissed its claims against Acer and Synergistic without prejudice. On November 21, 2007, defendant Kingston filed a motion to consolidate and stay this action. Several defendants joined in Kingstons motion. On December 17, 2007, the Company filed an opposition to Kingstons motion. That same day, several defendants filed another motion to stay this action. On January 7, 2008, the Company opposed the defendants second motion to stay. On January 22, 2008, defendants Phison, Skymedi and Behavior filed motions to dismiss the Companys complaint for lack of personal jurisdiction. That same day, defendants Phison, Silicon Motion, USBest, Skymedi, PQI, Kingston, Buffalo, Verbatim, Transcend, A-DATA, Apacer, and Dane-Elec answered the Companys complaint denying infringement and raising several affirmative defenses. These defenses included, among others, lack of personal jurisdiction, improper venue, lack of standing, invalidity, unenforceability, express license, implied license, patent exhaustion, waiver, latches, and estoppel. On January 24, 2008, Silicon Motion filed a motion to dismiss the Companys complaint for lack of personal jurisdiction. On January 25, 2008, Dane-Elec also filed a motion to dismiss the Companys complaint for lack of personal jurisdiction. On January 28, 2008, the Court issued an order staying the case in its entirety with respect to all parties until the proceeding in the 619 Investigation become final. In its order, the Court also consolidated this action Case Nos. 07-C-0605-C with the action discussed in the preceding paragraph 07-C-0607-C. F-48 Between August 31, 2007 and December 14, 2007, the Company along with a number of other manufacturers of flash memory products was sued in the Northern District of California, in eight purported class action complaints. On February 7, 2008 all of the civil complaints were consolidated into two complaints, one on behalf of direct purchasers and one on behalf of indirect purchasers, in the Northern District of California in a purported class action captioned In re Flash Memory Antitrust Litigation, Civil Case No. C07-0086. Plaintiffs allege the Company and a number of other manufacturers of flash memory products conspired to fix, raise, maintain, and stabilize the price of NAND flash memory in violation of state and federal laws. The lawsuits purport to be on behalf of purchasers of flash memory between January 1, 1999 through the present. The lawsuits seek an injunction, damages, restitution, fees, costs, and disgorgement of profits. As part of the acquisition of msystems in November 2006, the Company entered into a supplemental indenture whereby the Company became an additional obligor and guarantor of the assumed $75.0 million 1 Convertible Notes due 2035 issued by msystems Finance Company, the Subsidiary Issuer or mfinco and guaranteed by SanDisk IL Ltd. the Other Guarantor Subsidiary or SDIL. SanDisk Corporations the Parent Company or the Company guarantee is full and unconditional, jointly and severally with SDIL. Both SDIL and mfinco are wholly-owned subsidiaries of the Company. The following condensed consolidating financial statements present separate information for mfinco as the subsidiary issuer, the Company and SDIL as guarantors and the Companys other combined non-guarantor subsidiaries, and should be read in conjunction with the consolidated financial statements of the Company. These condensed consolidating financial statements have been prepared using the equity method of accounting. Earnings of subsidiaries are reflected in the Companys investment in subsidiaries account. The elimination entries eliminate investments in subsidiaries, related stockholders equity and other intercompany balances and transactions. The fiscal year 2006 financials for mfinco and SDIL represent the period from the date of acquisition, November 19, 2006, to December 31, 2006, as the inception of the guarantee by the Company coincides only with the consummation of the acquisition of msystems on November 19, 2006. F-49 For the fiscal year ended December 30, 2007 F-50 For the Fiscal Year Ended December 31, 2006 F-51 As of December 30, 2007 F-52 As of December 31, 2006 F-53 For the fiscal year ended December 30, 2007 For the fiscal year ended December 31, 2006 F-54 F-55 In November 2007, Flash Alliance entered into a master equipment lease agreement providing for up to 100.0 billion Japanese yen, or approximately $886 million based upon the exchange rate at December 30, 2007, of original lease obligation. On January 29, 2008, Flash Alliance drew down approximately 30.0 billion Japanese yen, or approximately $266 million based upon the exchange rate at December 30, 2007, of the total amount provided for under the November 2007 master lease agreement, of which the Company guaranteed 15.0 billion Japanese yen, or approximately $133 million based upon the exchange rate at December 30, 2007. See Note 12, Commitments, Contingencies and Guarantees. On February 19, 2008, the Company and Toshiba signed a non-binding memorandum of understanding for a new production joint venture to construct a 300-millimeter wafer fab located in Japan. The new venture has a targeted production start-up date in 2010. Half of the new memory wafer fabs production capacity will be allocated to the new joint venture and the Company and Toshiba will equally share wafer output and funding for the related equipment. The remaining 50 of the fabs production capacity will be managed by Toshiba and half of the output will be provided to the Company on a committed foundry basis. The agreement provides the Company an option to convert its committed foundry capacity into the joint venture or to convert to a non-committed foundry arrangement. F-56 Pursuant to the requirements of Section 13 or 15d of the Securities Exchange Act of 1934, the Registrant has duly caused this Report to be signed on its behalf by the undersigned, thereunto duly authorized. SANDISK CORPORATION Judy Bruner Executive Vice President, Administration and Chief Financial Officer On behalf of the Registrant and as Principal Financial and Accounting Officer Dated: February 22, 2008 KNOW ALL PEOPLE BY THESE PRESENTS, that each person whose signature appears below constitutes and appoints each of Eli Harari and Judy Bruner, jointly and severally, his or her attorneys in fact, each with the power of substitution, for him or her in any and all capacities, to sign any amendments to this Report on Form 10-K, and to file the same, with exhibits thereto and other documents in connection therewith, with the Securities and Exchange Commission, hereby ratifying and confirming all that each of said attorneys in fact, or his or her substitute or substitutes, may do or cause to be done by virtue thereof. Pursuant to the requirements of the Securities Exchange Act of 1934, as amended, this Report has been signed below by the following persons on behalf of the Registrant and in the capacities and on the dates indicated. S-1 E-1 E-2 E-3 E-4 '"
      ]
     },
     "execution_count": 6,
     "metadata": {},
     "output_type": "execute_result"
    }
   ],
   "source": [
    "all_comps.loc[0,'Text']"
   ]
  },
  {
   "cell_type": "code",
   "execution_count": 466,
   "metadata": {},
   "outputs": [],
   "source": [
    "class text_dataset(Dataset):\n",
    "    \n",
    "    def __init__(self,text_path,cluster_dict,embedding_dim=300,dataset_type='train'):\n",
    "        super(text_dataset,self).__init__()\n",
    "        self.vocabulary = vocabulary(gensim_model.wv.vocab)\n",
    "        # current implementation requires padtoken to be 0\n",
    "        self.cluster_dict = cluster_dict\n",
    "        self.text_path = text_path\n",
    "        self.dataset_type = dataset_type\n",
    "        self.prepare_data()\n",
    "        \n",
    "    def __len__(self):\n",
    "        return len(self.X)\n",
    "    \n",
    "    def __getitem__(self,idx):\n",
    "        return self.X[idx],self.Y[idx]\n",
    "    \n",
    "    def prepare_data(self):\n",
    "        random.seed(20)\n",
    "        all_sentences = self.get_text()\n",
    "        random.shuffle(all_sentences)\n",
    "        train_len = int(0.8*len(all_sentences))\n",
    "        if [] in all_sentences:\n",
    "            raise ValueError('found empty list in all_sentences')\n",
    "        if self.dataset_type == 'train':\n",
    "            self.X = self.vocabulary.words2indices(all_sentences[:train_len])\n",
    "            if [] in self.X:\n",
    "                raise ValueError('found empty list in X')\n",
    "            self.Y = self.get_clusters(all_sentences[:train_len])\n",
    "        elif self.dataset_type == 'val':\n",
    "            self.X = self.vocabulary.words2indices(all_sentences[train_len:])\n",
    "            self.Y = self.get_clusters(all_sentences[train_len:])\n",
    "        else :\n",
    "            self.X = self.vocabulary.words2indices(all_sentences)\n",
    "            self.Y = self.get_clusters(all_sentences)\n",
    "            \n",
    "    def word_count(self):\n",
    "        count=0\n",
    "        for x in self.X:\n",
    "            count+=len(x)\n",
    "        return count\n",
    "    \n",
    "    def get_clusters(self,sentences):\n",
    "        cluster_ids = []\n",
    "        for i in range(len(sentences)):\n",
    "            cluster_ids.append([])\n",
    "        for i,sentence in enumerate(sentences):\n",
    "            for word in sentence:\n",
    "                cluster_ids[i].append(self.get_cluster_idx(word))\n",
    "        return cluster_ids\n",
    "        \n",
    "    def get_cluster_idx(self,key):\n",
    "        for cluster_idx,cluster in self.cluster_dict.items():\n",
    "            assert cluster_idx<29,'Cluster idx is problematic'\n",
    "            if key in cluster:\n",
    "                return cluster_idx\n",
    "        return 0\n",
    "        \n",
    "    def get_text(self):\n",
    "        files = glob(f'{self.text_path}/*.txt')\n",
    "        text = []\n",
    "        for file in files:\n",
    "            with open(file) as f:\n",
    "                raw_text = list(filter(None, f.read().split('\\n')))\n",
    "                f.close()\n",
    "            int_text = [[x.casefold() for x in line.split(' ') if x.isalpha()] for line in raw_text if len(line.split(' '))>3]\n",
    "            int_text = list(filter(lambda a: a != [], int_text))\n",
    "            text.extend(int_text)\n",
    "        return text    "
   ]
  },
  {
   "cell_type": "code",
   "execution_count": 463,
   "metadata": {},
   "outputs": [
    {
     "data": {
      "text/plain": [
       "[[1, 2, 3], [2, 3], [0]]"
      ]
     },
     "execution_count": 463,
     "metadata": {},
     "output_type": "execute_result"
    }
   ],
   "source": [
    "b = [[1,2,3],[],[],[2,3],[],[0]]\n",
    "b = list(filter(lambda a: a != [], b))\n",
    "b"
   ]
  },
  {
   "cell_type": "code",
   "execution_count": 343,
   "metadata": {},
   "outputs": [
    {
     "data": {
      "text/plain": [
       "243108"
      ]
     },
     "execution_count": 343,
     "metadata": {},
     "output_type": "execute_result"
    }
   ],
   "source": []
  },
  {
   "cell_type": "code",
   "execution_count": 229,
   "metadata": {},
   "outputs": [],
   "source": [
    "hist = {}\n",
    "for i in range(29):\n",
    "    hist[i]=0\n",
    "for _,y in train_data:\n",
    "    for idxs in y:\n",
    "        hist[idxs]+=1"
   ]
  },
  {
   "cell_type": "code",
   "execution_count": 238,
   "metadata": {},
   "outputs": [
    {
     "data": {
      "image/png": "[encoded data removed]",
      "text/plain": [
       "<Figure size 432x288 with 1 Axes>"
      ]
     },
     "metadata": {
      "needs_background": "light"
     },
     "output_type": "display_data"
    },
    {
     "name": "stdout",
     "output_type": "stream",
     "text": [
      "{0: 216870, 1: 439, 2: 614, 3: 1692, 4: 6, 5: 1229, 6: 604, 7: 893, 8: 931, 9: 3181, 10: 371, 11: 112, 12: 1352, 13: 97, 14: 479, 15: 562, 16: 1505, 17: 323, 18: 2105, 19: 254, 20: 156, 21: 1451, 22: 2870, 23: 279, 24: 62, 25: 520, 26: 1004, 27: 1666, 28: 1481}\n"
     ]
    }
   ],
   "source": [
    "plt.bar(list(hist.keys()),list(hist.values()),color='b')\n",
    "plt.show()\n",
    "print(hist)"
   ]
  },
  {
   "cell_type": "code",
   "execution_count": 435,
   "metadata": {},
   "outputs": [],
   "source": [
    "clustering_file = open('filtered_dict','rb')\n",
    "cluster_dict = pickle.load(clustering_file)"
   ]
  },
  {
   "cell_type": "code",
   "execution_count": 455,
   "metadata": {},
   "outputs": [],
   "source": [
    "class LSTM_model(nn.Module):\n",
    "    \n",
    "    def __init__(self,embedding_dim,hidden_dim,gensim_model,vocabulary,num_clusters):\n",
    "        super(LSTM_model,self).__init__()\n",
    "        self.gensim_model = gensim_model\n",
    "        self.embedding_dim = embedding_dim\n",
    "        self.vocabulary = vocabulary\n",
    "        self.device = torch.device('cpu')\n",
    "        self.embedding_layer = nn.Embedding(len(self.vocabulary),embedding_dim,padding_idx=self.vocabulary.pad_token)\n",
    "        self.reset_vocab_weights()\n",
    "        self.encoder = nn.LSTM(input_size=embedding_dim,hidden_size=hidden_dim,bias=True,bidirectional=True)\n",
    "        self.ffn = nn.Sequential(\n",
    "            nn.Linear(2*hidden_dim,2*hidden_dim),\n",
    "            nn.ReLU(),\n",
    "            nn.Linear(2*hidden_dim,2*hidden_dim),\n",
    "            nn.ReLU(),\n",
    "            nn.Linear(2*hidden_dim,num_clusters)\n",
    "        )\n",
    "        \n",
    "    def forward(self,X_padded,sentence_lens):\n",
    "        # takes tokenised sentences as input, (n,s)\n",
    "        X = self.embedding_layer(X_padded.t()).permute(1,0,2)\n",
    "        packed_X = pack_padded_sequence(X,sentence_lens,enforce_sorted=False)\n",
    "        # encoder takes (s,n,e) inputs\n",
    "        packed_enc_hiddens, _ = self.encoder(packed_X)\n",
    "        enc_hiddens = pad_packed_sequence(packed_enc_hiddens)[0].permute(1,0,2)\n",
    "        out = self.ffn(enc_hiddens).permute(0,2,1)\n",
    "        # permute to (n,c,d1) since loss is 2d\n",
    "        return out\n",
    "        \n",
    "    def collate_fn(self,batch):\n",
    "#         print('collate function')\n",
    "#         print(type(batch))\n",
    "#         print(batch)\n",
    "        sentence_lens = [len(sample[0]) for sample in batch]\n",
    "        sentences_X = [sample[0] for sample in batch]\n",
    "        sentences_Y = [sample[1] for sample in batch]\n",
    "#         print(sentences_X)\n",
    "        X_padded = self.vocabulary.to_input_tensor(sentences_X,device=self.device)\n",
    "        targets = torch.tensor(self.vocabulary.pad_sents(sents=sentences_Y,pad_token=0),dtype=torch.long)\n",
    "        return X_padded,targets,sentence_lens\n",
    "        \n",
    "    def reset_vocab_weights(self,sanity_check=True):\n",
    "        # pad token MUST BE 0\n",
    "        og_state = self.embedding_layer.weight.requires_grad\n",
    "        self.embedding_layer.weight.requires_grad = False\n",
    "        self.embedding_layer.weight[0,:] = torch.zeros((self.embedding_dim))\n",
    "        self.embedding_layer.weight[1:,:] = torch.from_numpy(self.gensim_model.vectors)\n",
    "        self.embedding_layer.weight.requires_grad = og_state\n",
    "        if sanity_check:\n",
    "            embedding_sanity_check = True\n",
    "            for key,val in final_vocab.idx2word.items():\n",
    "                if (key>0) and (torch.sum((trial_layer.weight[key,:]-torch.from_numpy(gensim_model[val])).pow(2))>1e-8):\n",
    "                    embedding_sanity_check = False\n",
    "            assert embedding_sanity_check, 'Word vectors of embeddings and gensim model do not match!'\n",
    "        \n",
    "    def set_embedding_layer_grad(self,state):\n",
    "        self.embedding_layer.weight.requires_grad = state"
   ]
  },
  {
   "cell_type": "code",
   "execution_count": 337,
   "metadata": {},
   "outputs": [
    {
     "name": "stdout",
     "output_type": "stream",
     "text": [
      "tensor([[15, 15, 15, 15, 26],\n",
      "        [26, 26,  5, 20, 20]])\n",
      "tensor([[1, 1, 1, 1, 1],\n",
      "        [1, 1, 1, 0, 0]])\n",
      "tensor(3.3947, grad_fn=<NllLoss2DBackward>)\n"
     ]
    }
   ],
   "source": [
    "input_seq = [[1,3,1,1,1],[2,2,2]]\n",
    "criterion = nn.CrossEntropyLoss()\n",
    "pred = dim_model(input_seq)\n",
    "print(torch.argmax(pred,dim=1))\n",
    "targets = [[ 1,1,1,1,1],[1,1,1]]\n",
    "padded_targets = torch.tensor(train_data.vocabulary.pad_sents(sents=targets,pad_token=0),dtype=torch.long)\n",
    "print(padded_targets)\n",
    "print(criterion(pred,padded_targets))"
   ]
  },
  {
   "cell_type": "code",
   "execution_count": 478,
   "metadata": {},
   "outputs": [],
   "source": [
    "def fit(device,dataloaders,model,criterion,optimizer,scheduler=None,tb_logs=None,epochs=1):\n",
    "        '''\n",
    "        :param tb_logs: a dictionary containing tensorboard log flag, path and comment\n",
    "        :param epochs:\n",
    "        :return:\n",
    "        '''\n",
    "        if tb_logs is not None:\n",
    "            logpath = tb_logs['path']\n",
    "            logcomment = tb_logs['comment']\n",
    "            tb = SummaryWriter(log_dir=logpath+f'/{logcomment}', comment=logcomment)\n",
    "        best_model_wts = copy.deepcopy(model.state_dict())\n",
    "        best_valid_loss=100.\n",
    "        for epoch in range(epochs):\n",
    "            print(f'EPOCH : {epoch + 1}/{epochs}')\n",
    "            for phase in dataloaders.keys():\n",
    "                since = time.time()\n",
    "                if phase == 'train':\n",
    "                    model.train()\n",
    "                else:\n",
    "                    model.eval()\n",
    "                running_loss = 0.\n",
    "                running_acc = 0.\n",
    "                running_size = 0\n",
    "                for inputs,targets,sentence_lens in tqdm(dataloaders[phase]):\n",
    "                    inputs = inputs.to(device)\n",
    "                    targets = targets.to(device)\n",
    "                    sentence_lens = torch.tensor(sentence_lens,dtype=torch.long,device=device)\n",
    "                    with torch.set_grad_enabled(phase=='train'):\n",
    "                        optimizer.zero_grad()\n",
    "                        outputs = model(inputs,sentence_lens)\n",
    "#                         print(outputs)\n",
    "                        preds = torch.argmax(outputs,dim=1)\n",
    "                        loss = criterion(outputs, targets)\n",
    "                        acc = torch.mean((targets==preds).to(float)).item()\n",
    "                        if phase == 'train':\n",
    "                            loss.backward()\n",
    "                            optimizer.step()\n",
    "                        running_size += outputs.size()[0]*outputs.size()[2]\n",
    "                        running_loss += loss.item() * inputs.size()[0]*inputs.size()[1]\n",
    "                        running_acc += acc*inputs.size()[0]*inputs.size()[1]\n",
    "                #                 if phase == 'train' and not(scheduler is None):\n",
    "                #                     scheduler.step(epoch_loss)\n",
    "                epoch_loss = running_loss/running_size\n",
    "                epoch_acc = running_acc/running_size\n",
    "                if tb_logs is not None:\n",
    "                    if phase == 'train':\n",
    "                        tb.add_scalar('Train Loss', epoch_loss, epoch)\n",
    "                        tb.add_scalar('Train Acc',epoch_acc,epoch)\n",
    "                    else:\n",
    "                        tb.add_scalar('Valid Loss', epoch_loss, epoch)\n",
    "                        tb.add_scalar('Valid Acc', epoch_acc, epoch)\n",
    "#                 if phase == 'valid' and not (scheduler is None):  \n",
    "#                     scheduler.step(epoch_loss)\n",
    "                print('{} Loss: {:.4f} Acc: {:.4f}'.format(phase, epoch_loss,epoch_acc))\n",
    "                time_elapsed = time.time() - since\n",
    "                print('Training complete in {:.0f}m {:.0f}s'.format(time_elapsed // 60, time_elapsed % 60))\n",
    "                # deep copy the model\n",
    "                if phase == 'valid' and epoch_loss < best_valid_loss:\n",
    "                    best_valid_loss = epoch_loss\n",
    "                    best_model_wts = copy.deepcopy(model.state_dict())\n",
    "#             if tb_logs is not None:\n",
    "#                 current_lr = optimizer.param_groups[0]['lr']\n",
    "#                 tb.add_scalar('Learning Rate', current_lr, epoch)\n",
    "            print()\n",
    "        print('Best valid loss: {:4f}'.format(best_valid_loss))\n",
    "        # load best model weights\n",
    "#         model.load_state_dict(best_model_wts)\n",
    "        if tb_logs is not None:\n",
    "            tb.close()\n",
    "        return model"
   ]
  },
  {
   "cell_type": "code",
   "execution_count": 512,
   "metadata": {
    "scrolled": true
   },
   "outputs": [
    {
     "name": "stderr",
     "output_type": "stream",
     "text": [
      "C:\\Users\\Owner\\Anaconda3\\envs\\cs231n\\lib\\site-packages\\ipykernel_launcher.py:5: DeprecationWarning: Call to deprecated `wv` (Attribute will be removed in 4.0.0, use self instead).\n",
      "  \"\"\"\n",
      "  1%|█▏                                                                                | 4/267 [00:00<00:07, 37.15it/s]"
     ]
    },
    {
     "name": "stdout",
     "output_type": "stream",
     "text": [
      "EPOCH : 1/50\n"
     ]
    },
    {
     "name": "stderr",
     "output_type": "stream",
     "text": [
      "100%|████████████████████████████████████████████████████████████████████████████████| 267/267 [00:07<00:00, 35.43it/s]\n",
      " 27%|█████████████████████▌                                                           | 12/45 [00:00<00:00, 112.42it/s]"
     ]
    },
    {
     "name": "stdout",
     "output_type": "stream",
     "text": [
      "train Loss: 3.1953 Acc: 0.0045\n",
      "Training complete in 0m 8s\n"
     ]
    },
    {
     "name": "stderr",
     "output_type": "stream",
     "text": [
      "100%|█████████████████████████████████████████████████████████████████████████████████| 45/45 [00:00<00:00, 117.69it/s]\n",
      "  2%|█▊                                                                                | 6/267 [00:00<00:04, 57.28it/s]"
     ]
    },
    {
     "name": "stdout",
     "output_type": "stream",
     "text": [
      "val Loss: 2.9829 Acc: 0.0043\n",
      "Training complete in 0m 0s\n",
      "\n",
      "EPOCH : 2/50\n"
     ]
    },
    {
     "name": "stderr",
     "output_type": "stream",
     "text": [
      "100%|████████████████████████████████████████████████████████████████████████████████| 267/267 [00:04<00:00, 55.70it/s]\n",
      " 38%|██████████████████████████████▌                                                  | 17/45 [00:00<00:00, 160.81it/s]"
     ]
    },
    {
     "name": "stdout",
     "output_type": "stream",
     "text": [
      "train Loss: 2.8539 Acc: 0.0056\n",
      "Training complete in 0m 5s\n"
     ]
    },
    {
     "name": "stderr",
     "output_type": "stream",
     "text": [
      "100%|█████████████████████████████████████████████████████████████████████████████████| 45/45 [00:00<00:00, 152.43it/s]\n",
      "  2%|█▊                                                                                | 6/267 [00:00<00:04, 57.28it/s]"
     ]
    },
    {
     "name": "stdout",
     "output_type": "stream",
     "text": [
      "val Loss: 2.7083 Acc: 0.0045\n",
      "Training complete in 0m 0s\n",
      "\n",
      "EPOCH : 3/50\n"
     ]
    },
    {
     "name": "stderr",
     "output_type": "stream",
     "text": [
      "100%|████████████████████████████████████████████████████████████████████████████████| 267/267 [00:04<00:00, 55.65it/s]\n",
      " 64%|████████████████████████████████████████████████████▏                            | 29/45 [00:00<00:00, 138.67it/s]"
     ]
    },
    {
     "name": "stdout",
     "output_type": "stream",
     "text": [
      "train Loss: 2.4160 Acc: 0.0135\n",
      "Training complete in 0m 5s\n"
     ]
    },
    {
     "name": "stderr",
     "output_type": "stream",
     "text": [
      "100%|█████████████████████████████████████████████████████████████████████████████████| 45/45 [00:00<00:00, 143.24it/s]\n",
      "  2%|█▊                                                                                | 6/267 [00:00<00:04, 55.18it/s]"
     ]
    },
    {
     "name": "stdout",
     "output_type": "stream",
     "text": [
      "val Loss: 2.0987 Acc: 0.0173\n",
      "Training complete in 0m 0s\n",
      "\n",
      "EPOCH : 4/50\n"
     ]
    },
    {
     "name": "stderr",
     "output_type": "stream",
     "text": [
      "100%|████████████████████████████████████████████████████████████████████████████████| 267/267 [00:04<00:00, 55.90it/s]\n",
      " 38%|██████████████████████████████▌                                                  | 17/45 [00:00<00:00, 160.86it/s]"
     ]
    },
    {
     "name": "stdout",
     "output_type": "stream",
     "text": [
      "train Loss: 1.7850 Acc: 0.0216\n",
      "Training complete in 0m 5s\n"
     ]
    },
    {
     "name": "stderr",
     "output_type": "stream",
     "text": [
      "100%|█████████████████████████████████████████████████████████████████████████████████| 45/45 [00:00<00:00, 154.52it/s]\n",
      "  2%|█▊                                                                                | 6/267 [00:00<00:04, 56.21it/s]"
     ]
    },
    {
     "name": "stdout",
     "output_type": "stream",
     "text": [
      "val Loss: 1.4794 Acc: 0.0225\n",
      "Training complete in 0m 0s\n",
      "\n",
      "EPOCH : 5/50\n"
     ]
    },
    {
     "name": "stderr",
     "output_type": "stream",
     "text": [
      "100%|████████████████████████████████████████████████████████████████████████████████| 267/267 [00:04<00:00, 54.49it/s]\n",
      " 36%|████████████████████████████▊                                                    | 16/45 [00:00<00:00, 157.28it/s]"
     ]
    },
    {
     "name": "stdout",
     "output_type": "stream",
     "text": [
      "train Loss: 1.1888 Acc: 0.0272\n",
      "Training complete in 0m 5s\n"
     ]
    },
    {
     "name": "stderr",
     "output_type": "stream",
     "text": [
      "100%|█████████████████████████████████████████████████████████████████████████████████| 45/45 [00:00<00:00, 155.05it/s]\n",
      "  2%|█▊                                                                                | 6/267 [00:00<00:04, 55.69it/s]"
     ]
    },
    {
     "name": "stdout",
     "output_type": "stream",
     "text": [
      "val Loss: 0.9570 Acc: 0.0273\n",
      "Training complete in 0m 0s\n",
      "\n",
      "EPOCH : 6/50\n"
     ]
    },
    {
     "name": "stderr",
     "output_type": "stream",
     "text": [
      "100%|████████████████████████████████████████████████████████████████████████████████| 267/267 [00:04<00:00, 54.76it/s]\n",
      " 36%|████████████████████████████▊                                                    | 16/45 [00:00<00:00, 157.28it/s]"
     ]
    },
    {
     "name": "stdout",
     "output_type": "stream",
     "text": [
      "train Loss: 0.7586 Acc: 0.0314\n",
      "Training complete in 0m 5s\n"
     ]
    },
    {
     "name": "stderr",
     "output_type": "stream",
     "text": [
      "100%|█████████████████████████████████████████████████████████████████████████████████| 45/45 [00:00<00:00, 157.21it/s]\n",
      "  2%|█▊                                                                                | 6/267 [00:00<00:04, 57.83it/s]"
     ]
    },
    {
     "name": "stdout",
     "output_type": "stream",
     "text": [
      "val Loss: 0.6299 Acc: 0.0305\n",
      "Training complete in 0m 0s\n",
      "\n",
      "EPOCH : 7/50\n"
     ]
    },
    {
     "name": "stderr",
     "output_type": "stream",
     "text": [
      "100%|████████████████████████████████████████████████████████████████████████████████| 267/267 [00:05<00:00, 53.04it/s]\n",
      " 36%|████████████████████████████▊                                                    | 16/45 [00:00<00:00, 152.80it/s]"
     ]
    },
    {
     "name": "stdout",
     "output_type": "stream",
     "text": [
      "train Loss: 0.5043 Acc: 0.0339\n",
      "Training complete in 0m 5s\n"
     ]
    },
    {
     "name": "stderr",
     "output_type": "stream",
     "text": [
      "100%|█████████████████████████████████████████████████████████████████████████████████| 45/45 [00:00<00:00, 139.69it/s]\n",
      "  2%|█▊                                                                                | 6/267 [00:00<00:05, 51.86it/s]"
     ]
    },
    {
     "name": "stdout",
     "output_type": "stream",
     "text": [
      "val Loss: 0.4427 Acc: 0.0324\n",
      "Training complete in 0m 0s\n",
      "\n",
      "EPOCH : 8/50\n"
     ]
    },
    {
     "name": "stderr",
     "output_type": "stream",
     "text": [
      "100%|████████████████████████████████████████████████████████████████████████████████| 267/267 [00:04<00:00, 54.43it/s]\n",
      " 36%|████████████████████████████▊                                                    | 16/45 [00:00<00:00, 155.75it/s]"
     ]
    },
    {
     "name": "stdout",
     "output_type": "stream",
     "text": [
      "train Loss: 0.3612 Acc: 0.0355\n",
      "Training complete in 0m 5s\n"
     ]
    },
    {
     "name": "stderr",
     "output_type": "stream",
     "text": [
      "100%|█████████████████████████████████████████████████████████████████████████████████| 45/45 [00:00<00:00, 155.59it/s]\n",
      "  2%|█▊                                                                                | 6/267 [00:00<00:04, 55.71it/s]"
     ]
    },
    {
     "name": "stdout",
     "output_type": "stream",
     "text": [
      "val Loss: 0.3340 Acc: 0.0334\n",
      "Training complete in 0m 0s\n",
      "\n",
      "EPOCH : 9/50\n"
     ]
    },
    {
     "name": "stderr",
     "output_type": "stream",
     "text": [
      "100%|████████████████████████████████████████████████████████████████████████████████| 267/267 [00:04<00:00, 53.95it/s]\n",
      " 36%|████████████████████████████▊                                                    | 16/45 [00:00<00:00, 152.85it/s]"
     ]
    },
    {
     "name": "stdout",
     "output_type": "stream",
     "text": [
      "train Loss: 0.2742 Acc: 0.0366\n",
      "Training complete in 0m 5s\n"
     ]
    },
    {
     "name": "stderr",
     "output_type": "stream",
     "text": [
      "100%|█████████████████████████████████████████████████████████████████████████████████| 45/45 [00:00<00:00, 153.49it/s]\n",
      "  2%|█▊                                                                                | 6/267 [00:00<00:04, 54.69it/s]"
     ]
    },
    {
     "name": "stdout",
     "output_type": "stream",
     "text": [
      "val Loss: 0.2641 Acc: 0.0341\n",
      "Training complete in 0m 0s\n",
      "\n",
      "EPOCH : 10/50\n"
     ]
    },
    {
     "name": "stderr",
     "output_type": "stream",
     "text": [
      "100%|████████████████████████████████████████████████████████████████████████████████| 267/267 [00:05<00:00, 50.41it/s]\n",
      " 33%|███████████████████████████                                                      | 15/45 [00:00<00:00, 146.02it/s]"
     ]
    },
    {
     "name": "stdout",
     "output_type": "stream",
     "text": [
      "train Loss: 0.2165 Acc: 0.0372\n",
      "Training complete in 0m 5s\n"
     ]
    },
    {
     "name": "stderr",
     "output_type": "stream",
     "text": [
      "100%|█████████████████████████████████████████████████████████████████████████████████| 45/45 [00:00<00:00, 137.98it/s]\n",
      "  2%|█▌                                                                                | 5/267 [00:00<00:05, 48.21it/s]"
     ]
    },
    {
     "name": "stdout",
     "output_type": "stream",
     "text": [
      "val Loss: 0.2158 Acc: 0.0345\n",
      "Training complete in 0m 0s\n",
      "\n",
      "EPOCH : 11/50\n"
     ]
    },
    {
     "name": "stderr",
     "output_type": "stream",
     "text": [
      "100%|████████████████████████████████████████████████████████████████████████████████| 267/267 [00:05<00:00, 47.65it/s]\n",
      " 33%|███████████████████████████                                                      | 15/45 [00:00<00:00, 140.56it/s]"
     ]
    },
    {
     "name": "stdout",
     "output_type": "stream",
     "text": [
      "train Loss: 0.1757 Acc: 0.0376\n",
      "Training complete in 0m 6s\n"
     ]
    },
    {
     "name": "stderr",
     "output_type": "stream",
     "text": [
      "100%|█████████████████████████████████████████████████████████████████████████████████| 45/45 [00:00<00:00, 140.56it/s]\n",
      "  2%|█▌                                                                                | 5/267 [00:00<00:05, 46.42it/s]"
     ]
    },
    {
     "name": "stdout",
     "output_type": "stream",
     "text": [
      "val Loss: 0.1803 Acc: 0.0348\n",
      "Training complete in 0m 0s\n",
      "\n",
      "EPOCH : 12/50\n"
     ]
    },
    {
     "name": "stderr",
     "output_type": "stream",
     "text": [
      "100%|████████████████████████████████████████████████████████████████████████████████| 267/267 [00:05<00:00, 47.86it/s]\n",
      " 29%|███████████████████████▍                                                         | 13/45 [00:00<00:00, 126.55it/s]"
     ]
    },
    {
     "name": "stdout",
     "output_type": "stream",
     "text": [
      "train Loss: 0.1452 Acc: 0.0379\n",
      "Training complete in 0m 6s\n"
     ]
    },
    {
     "name": "stderr",
     "output_type": "stream",
     "text": [
      "100%|█████████████████████████████████████████████████████████████████████████████████| 45/45 [00:00<00:00, 133.49it/s]\n",
      "  2%|█▊                                                                                | 6/267 [00:00<00:05, 50.98it/s]"
     ]
    },
    {
     "name": "stdout",
     "output_type": "stream",
     "text": [
      "val Loss: 0.1534 Acc: 0.0351\n",
      "Training complete in 0m 0s\n",
      "\n",
      "EPOCH : 13/50\n"
     ]
    },
    {
     "name": "stderr",
     "output_type": "stream",
     "text": [
      "100%|████████████████████████████████████████████████████████████████████████████████| 267/267 [00:05<00:00, 47.68it/s]\n",
      " 31%|█████████████████████████▏                                                       | 14/45 [00:00<00:00, 136.29it/s]"
     ]
    },
    {
     "name": "stdout",
     "output_type": "stream",
     "text": [
      "train Loss: 0.1218 Acc: 0.0381\n",
      "Training complete in 0m 6s\n"
     ]
    },
    {
     "name": "stderr",
     "output_type": "stream",
     "text": [
      "100%|█████████████████████████████████████████████████████████████████████████████████| 45/45 [00:00<00:00, 131.55it/s]\n",
      "  2%|█▊                                                                                | 6/267 [00:00<00:05, 50.47it/s]"
     ]
    },
    {
     "name": "stdout",
     "output_type": "stream",
     "text": [
      "val Loss: 0.1326 Acc: 0.0353\n",
      "Training complete in 0m 0s\n",
      "\n",
      "EPOCH : 14/50\n"
     ]
    },
    {
     "name": "stderr",
     "output_type": "stream",
     "text": [
      "100%|████████████████████████████████████████████████████████████████████████████████| 267/267 [00:05<00:00, 47.43it/s]\n",
      " 31%|█████████████████████████▏                                                       | 14/45 [00:00<00:00, 133.69it/s]"
     ]
    },
    {
     "name": "stdout",
     "output_type": "stream",
     "text": [
      "train Loss: 0.1035 Acc: 0.0383\n",
      "Training complete in 0m 6s\n"
     ]
    },
    {
     "name": "stderr",
     "output_type": "stream",
     "text": [
      "100%|█████████████████████████████████████████████████████████████████████████████████| 45/45 [00:00<00:00, 135.09it/s]\n",
      "  2%|█▌                                                                                | 5/267 [00:00<00:05, 45.58it/s]"
     ]
    },
    {
     "name": "stdout",
     "output_type": "stream",
     "text": [
      "val Loss: 0.1162 Acc: 0.0355\n",
      "Training complete in 0m 0s\n",
      "\n",
      "EPOCH : 15/50\n"
     ]
    },
    {
     "name": "stderr",
     "output_type": "stream",
     "text": [
      "100%|████████████████████████████████████████████████████████████████████████████████| 267/267 [00:05<00:00, 47.29it/s]\n",
      " 31%|█████████████████████████▏                                                       | 14/45 [00:00<00:00, 137.62it/s]"
     ]
    },
    {
     "name": "stdout",
     "output_type": "stream",
     "text": [
      "train Loss: 0.0890 Acc: 0.0385\n",
      "Training complete in 0m 6s\n"
     ]
    },
    {
     "name": "stderr",
     "output_type": "stream",
     "text": [
      "100%|█████████████████████████████████████████████████████████████████████████████████| 45/45 [00:00<00:00, 129.29it/s]\n",
      "  2%|█▌                                                                                | 5/267 [00:00<00:05, 45.58it/s]"
     ]
    },
    {
     "name": "stdout",
     "output_type": "stream",
     "text": [
      "val Loss: 0.1031 Acc: 0.0357\n",
      "Training complete in 0m 0s\n",
      "\n",
      "EPOCH : 16/50\n"
     ]
    },
    {
     "name": "stderr",
     "output_type": "stream",
     "text": [
      "100%|████████████████████████████████████████████████████████████████████████████████| 267/267 [00:05<00:00, 47.18it/s]\n",
      " 29%|███████████████████████▍                                                         | 13/45 [00:00<00:00, 127.79it/s]"
     ]
    },
    {
     "name": "stdout",
     "output_type": "stream",
     "text": [
      "train Loss: 0.0774 Acc: 0.0386\n",
      "Training complete in 0m 6s\n"
     ]
    },
    {
     "name": "stderr",
     "output_type": "stream",
     "text": [
      "100%|█████████████████████████████████████████████████████████████████████████████████| 45/45 [00:00<00:00, 133.49it/s]\n",
      "  2%|█▌                                                                                | 5/267 [00:00<00:05, 47.30it/s]"
     ]
    },
    {
     "name": "stdout",
     "output_type": "stream",
     "text": [
      "val Loss: 0.0922 Acc: 0.0358\n",
      "Training complete in 0m 0s\n",
      "\n",
      "EPOCH : 17/50\n"
     ]
    },
    {
     "name": "stderr",
     "output_type": "stream",
     "text": [
      "100%|████████████████████████████████████████████████████████████████████████████████| 267/267 [00:05<00:00, 47.01it/s]\n",
      " 31%|█████████████████████████▏                                                       | 14/45 [00:00<00:00, 129.98it/s]"
     ]
    },
    {
     "name": "stdout",
     "output_type": "stream",
     "text": [
      "train Loss: 0.0679 Acc: 0.0387\n",
      "Training complete in 0m 6s\n"
     ]
    },
    {
     "name": "stderr",
     "output_type": "stream",
     "text": [
      "100%|█████████████████████████████████████████████████████████████████████████████████| 45/45 [00:00<00:00, 131.93it/s]\n",
      "  2%|█▌                                                                                | 5/267 [00:00<00:05, 48.66it/s]"
     ]
    },
    {
     "name": "stdout",
     "output_type": "stream",
     "text": [
      "val Loss: 0.0833 Acc: 0.0359\n",
      "Training complete in 0m 0s\n",
      "\n",
      "EPOCH : 18/50\n"
     ]
    },
    {
     "name": "stderr",
     "output_type": "stream",
     "text": [
      "100%|████████████████████████████████████████████████████████████████████████████████| 267/267 [00:05<00:00, 46.94it/s]\n",
      " 33%|███████████████████████████                                                      | 15/45 [00:00<00:00, 148.91it/s]"
     ]
    },
    {
     "name": "stdout",
     "output_type": "stream",
     "text": [
      "train Loss: 0.0600 Acc: 0.0388\n",
      "Training complete in 0m 6s\n"
     ]
    },
    {
     "name": "stderr",
     "output_type": "stream",
     "text": [
      "100%|█████████████████████████████████████████████████████████████████████████████████| 45/45 [00:00<00:00, 132.32it/s]\n",
      "  2%|█▊                                                                                | 6/267 [00:00<00:04, 54.67it/s]"
     ]
    },
    {
     "name": "stdout",
     "output_type": "stream",
     "text": [
      "val Loss: 0.0757 Acc: 0.0359\n",
      "Training complete in 0m 0s\n",
      "\n",
      "EPOCH : 19/50\n"
     ]
    },
    {
     "name": "stderr",
     "output_type": "stream",
     "text": [
      "100%|████████████████████████████████████████████████████████████████████████████████| 267/267 [00:05<00:00, 48.98it/s]\n",
      " 67%|██████████████████████████████████████████████████████                           | 30/45 [00:00<00:00, 147.44it/s]"
     ]
    },
    {
     "name": "stdout",
     "output_type": "stream",
     "text": [
      "train Loss: 0.0534 Acc: 0.0388\n",
      "Training complete in 0m 5s\n"
     ]
    },
    {
     "name": "stderr",
     "output_type": "stream",
     "text": [
      "100%|█████████████████████████████████████████████████████████████████████████████████| 45/45 [00:00<00:00, 145.55it/s]\n",
      "  2%|█▊                                                                                | 6/267 [00:00<00:05, 51.86it/s]"
     ]
    },
    {
     "name": "stdout",
     "output_type": "stream",
     "text": [
      "val Loss: 0.0694 Acc: 0.0360\n",
      "Training complete in 0m 0s\n",
      "\n",
      "EPOCH : 20/50\n"
     ]
    },
    {
     "name": "stderr",
     "output_type": "stream",
     "text": [
      "100%|████████████████████████████████████████████████████████████████████████████████| 267/267 [00:05<00:00, 50.41it/s]\n",
      " 33%|███████████████████████████                                                      | 15/45 [00:00<00:00, 147.40it/s]"
     ]
    },
    {
     "name": "stdout",
     "output_type": "stream",
     "text": [
      "train Loss: 0.0478 Acc: 0.0389\n",
      "Training complete in 0m 5s\n"
     ]
    },
    {
     "name": "stderr",
     "output_type": "stream",
     "text": [
      "100%|█████████████████████████████████████████████████████████████████████████████████| 45/45 [00:00<00:00, 150.40it/s]\n",
      "  2%|█▊                                                                                | 6/267 [00:00<00:04, 53.23it/s]"
     ]
    },
    {
     "name": "stdout",
     "output_type": "stream",
     "text": [
      "val Loss: 0.0639 Acc: 0.0360\n",
      "Training complete in 0m 0s\n",
      "\n",
      "EPOCH : 21/50\n"
     ]
    },
    {
     "name": "stderr",
     "output_type": "stream",
     "text": [
      "100%|████████████████████████████████████████████████████████████████████████████████| 267/267 [00:05<00:00, 51.47it/s]\n",
      " 33%|███████████████████████████                                                      | 15/45 [00:00<00:00, 144.57it/s]"
     ]
    },
    {
     "name": "stdout",
     "output_type": "stream",
     "text": [
      "train Loss: 0.0429 Acc: 0.0389\n",
      "Training complete in 0m 5s\n"
     ]
    },
    {
     "name": "stderr",
     "output_type": "stream",
     "text": [
      "100%|█████████████████████████████████████████████████████████████████████████████████| 45/45 [00:00<00:00, 146.49it/s]\n",
      "  2%|█▊                                                                                | 6/267 [00:00<00:04, 53.71it/s]"
     ]
    },
    {
     "name": "stdout",
     "output_type": "stream",
     "text": [
      "val Loss: 0.0592 Acc: 0.0361\n",
      "Training complete in 0m 0s\n",
      "\n",
      "EPOCH : 22/50\n"
     ]
    },
    {
     "name": "stderr",
     "output_type": "stream",
     "text": [
      "100%|████████████████████████████████████████████████████████████████████████████████| 267/267 [00:05<00:00, 53.28it/s]\n",
      " 33%|███████████████████████████                                                      | 15/45 [00:00<00:00, 146.02it/s]"
     ]
    },
    {
     "name": "stdout",
     "output_type": "stream",
     "text": [
      "train Loss: 0.0387 Acc: 0.0389\n",
      "Training complete in 0m 5s\n"
     ]
    },
    {
     "name": "stderr",
     "output_type": "stream",
     "text": [
      "100%|█████████████████████████████████████████████████████████████████████████████████| 45/45 [00:00<00:00, 147.94it/s]\n",
      "  2%|█▊                                                                                | 6/267 [00:00<00:05, 51.85it/s]"
     ]
    },
    {
     "name": "stdout",
     "output_type": "stream",
     "text": [
      "val Loss: 0.0552 Acc: 0.0361\n",
      "Training complete in 0m 0s\n",
      "\n",
      "EPOCH : 23/50\n"
     ]
    },
    {
     "name": "stderr",
     "output_type": "stream",
     "text": [
      "100%|████████████████████████████████████████████████████████████████████████████████| 267/267 [00:05<00:00, 52.90it/s]\n",
      " 36%|████████████████████████████▊                                                    | 16/45 [00:00<00:00, 154.25it/s]"
     ]
    },
    {
     "name": "stdout",
     "output_type": "stream",
     "text": [
      "train Loss: 0.0350 Acc: 0.0390\n",
      "Training complete in 0m 5s\n"
     ]
    },
    {
     "name": "stderr",
     "output_type": "stream",
     "text": [
      "100%|█████████████████████████████████████████████████████████████████████████████████| 45/45 [00:00<00:00, 149.90it/s]\n",
      "  2%|█▊                                                                                | 6/267 [00:00<00:04, 55.17it/s]"
     ]
    },
    {
     "name": "stdout",
     "output_type": "stream",
     "text": [
      "val Loss: 0.0517 Acc: 0.0361\n",
      "Training complete in 0m 0s\n",
      "\n",
      "EPOCH : 24/50\n"
     ]
    },
    {
     "name": "stderr",
     "output_type": "stream",
     "text": [
      "100%|████████████████████████████████████████████████████████████████████████████████| 267/267 [00:05<00:00, 53.15it/s]\n",
      " 36%|████████████████████████████▊                                                    | 16/45 [00:00<00:00, 151.35it/s]"
     ]
    },
    {
     "name": "stdout",
     "output_type": "stream",
     "text": [
      "train Loss: 0.0317 Acc: 0.0390\n",
      "Training complete in 0m 5s\n"
     ]
    },
    {
     "name": "stderr",
     "output_type": "stream",
     "text": [
      "100%|█████████████████████████████████████████████████████████████████████████████████| 45/45 [00:00<00:00, 147.94it/s]\n",
      "  2%|█▊                                                                                | 6/267 [00:00<00:04, 55.18it/s]"
     ]
    },
    {
     "name": "stdout",
     "output_type": "stream",
     "text": [
      "val Loss: 0.0486 Acc: 0.0362\n",
      "Training complete in 0m 0s\n",
      "\n",
      "EPOCH : 25/50\n"
     ]
    },
    {
     "name": "stderr",
     "output_type": "stream",
     "text": [
      "100%|████████████████████████████████████████████████████████████████████████████████| 267/267 [00:04<00:00, 53.80it/s]\n",
      " 29%|███████████████████████▍                                                         | 13/45 [00:00<00:00, 125.30it/s]"
     ]
    },
    {
     "name": "stdout",
     "output_type": "stream",
     "text": [
      "train Loss: 0.0288 Acc: 0.0390\n",
      "Training complete in 0m 5s\n"
     ]
    },
    {
     "name": "stderr",
     "output_type": "stream",
     "text": [
      "100%|█████████████████████████████████████████████████████████████████████████████████| 45/45 [00:00<00:00, 144.16it/s]\n",
      "  2%|█▊                                                                                | 6/267 [00:00<00:04, 53.71it/s]"
     ]
    },
    {
     "name": "stdout",
     "output_type": "stream",
     "text": [
      "val Loss: 0.0460 Acc: 0.0362\n",
      "Training complete in 0m 0s\n",
      "\n",
      "EPOCH : 26/50\n"
     ]
    },
    {
     "name": "stderr",
     "output_type": "stream",
     "text": [
      "100%|████████████████████████████████████████████████████████████████████████████████| 267/267 [00:05<00:00, 53.10it/s]\n",
      " 33%|███████████████████████████                                                      | 15/45 [00:00<00:00, 148.91it/s]"
     ]
    },
    {
     "name": "stdout",
     "output_type": "stream",
     "text": [
      "train Loss: 0.0262 Acc: 0.0391\n",
      "Training complete in 0m 5s\n"
     ]
    },
    {
     "name": "stderr",
     "output_type": "stream",
     "text": [
      "100%|█████████████████████████████████████████████████████████████████████████████████| 45/45 [00:00<00:00, 144.62it/s]\n",
      "  2%|█▊                                                                                | 6/267 [00:00<00:04, 52.30it/s]"
     ]
    },
    {
     "name": "stdout",
     "output_type": "stream",
     "text": [
      "val Loss: 0.0437 Acc: 0.0362\n",
      "Training complete in 0m 0s\n",
      "\n",
      "EPOCH : 27/50\n"
     ]
    },
    {
     "name": "stderr",
     "output_type": "stream",
     "text": [
      "100%|████████████████████████████████████████████████████████████████████████████████| 267/267 [00:05<00:00, 52.88it/s]\n",
      " 36%|████████████████████████████▊                                                    | 16/45 [00:00<00:00, 151.35it/s]"
     ]
    },
    {
     "name": "stdout",
     "output_type": "stream",
     "text": [
      "train Loss: 0.0240 Acc: 0.0391\n",
      "Training complete in 0m 5s\n"
     ]
    },
    {
     "name": "stderr",
     "output_type": "stream",
     "text": [
      "100%|█████████████████████████████████████████████████████████████████████████████████| 45/45 [00:00<00:00, 148.90it/s]\n",
      "  2%|█▊                                                                                | 6/267 [00:00<00:04, 54.69it/s]"
     ]
    },
    {
     "name": "stdout",
     "output_type": "stream",
     "text": [
      "val Loss: 0.0417 Acc: 0.0363\n",
      "Training complete in 0m 0s\n",
      "\n",
      "EPOCH : 28/50\n"
     ]
    },
    {
     "name": "stderr",
     "output_type": "stream",
     "text": [
      "100%|████████████████████████████████████████████████████████████████████████████████| 267/267 [00:05<00:00, 53.01it/s]\n",
      " 36%|████████████████████████████▊                                                    | 16/45 [00:00<00:00, 149.93it/s]"
     ]
    },
    {
     "name": "stdout",
     "output_type": "stream",
     "text": [
      "train Loss: 0.0220 Acc: 0.0391\n",
      "Training complete in 0m 5s\n"
     ]
    },
    {
     "name": "stderr",
     "output_type": "stream",
     "text": [
      "100%|█████████████████████████████████████████████████████████████████████████████████| 45/45 [00:00<00:00, 145.54it/s]\n",
      "  2%|█▊                                                                                | 6/267 [00:00<00:04, 53.23it/s]"
     ]
    },
    {
     "name": "stdout",
     "output_type": "stream",
     "text": [
      "val Loss: 0.0400 Acc: 0.0363\n",
      "Training complete in 0m 0s\n",
      "\n",
      "EPOCH : 29/50\n"
     ]
    },
    {
     "name": "stderr",
     "output_type": "stream",
     "text": [
      "100%|████████████████████████████████████████████████████████████████████████████████| 267/267 [00:05<00:00, 53.26it/s]\n",
      " 33%|███████████████████████████                                                      | 15/45 [00:00<00:00, 144.61it/s]"
     ]
    },
    {
     "name": "stdout",
     "output_type": "stream",
     "text": [
      "train Loss: 0.0203 Acc: 0.0391\n",
      "Training complete in 0m 5s\n"
     ]
    },
    {
     "name": "stderr",
     "output_type": "stream",
     "text": [
      "100%|█████████████████████████████████████████████████████████████████████████████████| 45/45 [00:00<00:00, 149.40it/s]\n",
      "  2%|█▊                                                                                | 6/267 [00:00<00:04, 52.31it/s]"
     ]
    },
    {
     "name": "stdout",
     "output_type": "stream",
     "text": [
      "val Loss: 0.0386 Acc: 0.0363\n",
      "Training complete in 0m 0s\n",
      "\n",
      "EPOCH : 30/50\n"
     ]
    },
    {
     "name": "stderr",
     "output_type": "stream",
     "text": [
      "100%|████████████████████████████████████████████████████████████████████████████████| 267/267 [00:05<00:00, 52.79it/s]\n",
      " 29%|███████████████████████▍                                                         | 13/45 [00:00<00:00, 124.14it/s]"
     ]
    },
    {
     "name": "stdout",
     "output_type": "stream",
     "text": [
      "train Loss: 0.0188 Acc: 0.0392\n",
      "Training complete in 0m 5s\n"
     ]
    },
    {
     "name": "stderr",
     "output_type": "stream",
     "text": [
      "100%|█████████████████████████████████████████████████████████████████████████████████| 45/45 [00:00<00:00, 131.93it/s]\n",
      "  2%|█▌                                                                                | 5/267 [00:00<00:05, 46.42it/s]"
     ]
    },
    {
     "name": "stdout",
     "output_type": "stream",
     "text": [
      "val Loss: 0.0372 Acc: 0.0363\n",
      "Training complete in 0m 0s\n",
      "\n",
      "EPOCH : 31/50\n"
     ]
    },
    {
     "name": "stderr",
     "output_type": "stream",
     "text": [
      "100%|████████████████████████████████████████████████████████████████████████████████| 267/267 [00:05<00:00, 48.79it/s]\n",
      " 29%|███████████████████████▍                                                         | 13/45 [00:00<00:00, 122.97it/s]"
     ]
    },
    {
     "name": "stdout",
     "output_type": "stream",
     "text": [
      "train Loss: 0.0174 Acc: 0.0392\n",
      "Training complete in 0m 5s\n"
     ]
    },
    {
     "name": "stderr",
     "output_type": "stream",
     "text": [
      "100%|█████████████████████████████████████████████████████████████████████████████████| 45/45 [00:00<00:00, 130.03it/s]\n",
      "  2%|█▌                                                                                | 5/267 [00:00<00:05, 46.85it/s]"
     ]
    },
    {
     "name": "stdout",
     "output_type": "stream",
     "text": [
      "val Loss: 0.0361 Acc: 0.0363\n",
      "Training complete in 0m 0s\n",
      "\n",
      "EPOCH : 32/50\n"
     ]
    },
    {
     "name": "stderr",
     "output_type": "stream",
     "text": [
      "100%|████████████████████████████████████████████████████████████████████████████████| 267/267 [00:05<00:00, 46.41it/s]\n",
      " 33%|███████████████████████████                                                      | 15/45 [00:00<00:00, 141.89it/s]"
     ]
    },
    {
     "name": "stdout",
     "output_type": "stream",
     "text": [
      "train Loss: 0.0162 Acc: 0.0392\n",
      "Training complete in 0m 6s\n"
     ]
    },
    {
     "name": "stderr",
     "output_type": "stream",
     "text": [
      "100%|█████████████████████████████████████████████████████████████████████████████████| 45/45 [00:00<00:00, 133.89it/s]\n",
      "  2%|█▌                                                                                | 5/267 [00:00<00:06, 42.49it/s]"
     ]
    },
    {
     "name": "stdout",
     "output_type": "stream",
     "text": [
      "val Loss: 0.0350 Acc: 0.0364\n",
      "Training complete in 0m 0s\n",
      "\n",
      "EPOCH : 33/50\n"
     ]
    },
    {
     "name": "stderr",
     "output_type": "stream",
     "text": [
      "100%|████████████████████████████████████████████████████████████████████████████████| 267/267 [00:05<00:00, 46.53it/s]\n",
      " 31%|█████████████████████████▏                                                       | 14/45 [00:00<00:00, 136.28it/s]"
     ]
    },
    {
     "name": "stdout",
     "output_type": "stream",
     "text": [
      "train Loss: 0.0151 Acc: 0.0394\n",
      "Training complete in 0m 6s\n"
     ]
    },
    {
     "name": "stderr",
     "output_type": "stream",
     "text": [
      "100%|█████████████████████████████████████████████████████████████████████████████████| 45/45 [00:00<00:00, 131.15it/s]\n",
      "  2%|█▌                                                                                | 5/267 [00:00<00:05, 46.85it/s]"
     ]
    },
    {
     "name": "stdout",
     "output_type": "stream",
     "text": [
      "val Loss: 0.0341 Acc: 0.0365\n",
      "Training complete in 0m 0s\n",
      "\n",
      "EPOCH : 34/50\n"
     ]
    },
    {
     "name": "stderr",
     "output_type": "stream",
     "text": [
      "100%|████████████████████████████████████████████████████████████████████████████████| 267/267 [00:05<00:00, 46.46it/s]\n",
      " 62%|██████████████████████████████████████████████████▍                              | 28/45 [00:00<00:00, 138.16it/s]"
     ]
    },
    {
     "name": "stdout",
     "output_type": "stream",
     "text": [
      "train Loss: 0.0141 Acc: 0.0405\n",
      "Training complete in 0m 6s\n"
     ]
    },
    {
     "name": "stderr",
     "output_type": "stream",
     "text": [
      "100%|█████████████████████████████████████████████████████████████████████████████████| 45/45 [00:00<00:00, 133.89it/s]\n",
      "  2%|█▌                                                                                | 5/267 [00:00<00:05, 46.85it/s]"
     ]
    },
    {
     "name": "stdout",
     "output_type": "stream",
     "text": [
      "val Loss: 0.0333 Acc: 0.0375\n",
      "Training complete in 0m 0s\n",
      "\n",
      "EPOCH : 35/50\n"
     ]
    },
    {
     "name": "stderr",
     "output_type": "stream",
     "text": [
      "100%|████████████████████████████████████████████████████████████████████████████████| 267/267 [00:05<00:00, 46.73it/s]\n",
      " 29%|███████████████████████▍                                                         | 13/45 [00:00<00:00, 120.69it/s]"
     ]
    },
    {
     "name": "stdout",
     "output_type": "stream",
     "text": [
      "train Loss: 0.0132 Acc: 0.0431\n",
      "Training complete in 0m 6s\n"
     ]
    },
    {
     "name": "stderr",
     "output_type": "stream",
     "text": [
      "100%|█████████████████████████████████████████████████████████████████████████████████| 45/45 [00:00<00:00, 129.66it/s]\n",
      "  2%|█▌                                                                                | 5/267 [00:00<00:05, 45.56it/s]"
     ]
    },
    {
     "name": "stdout",
     "output_type": "stream",
     "text": [
      "val Loss: 0.0325 Acc: 0.0403\n",
      "Training complete in 0m 0s\n",
      "\n",
      "EPOCH : 36/50\n"
     ]
    },
    {
     "name": "stderr",
     "output_type": "stream",
     "text": [
      "100%|████████████████████████████████████████████████████████████████████████████████| 267/267 [00:05<00:00, 46.58it/s]\n",
      " 58%|██████████████████████████████████████████████▊                                  | 26/45 [00:00<00:00, 128.68it/s]"
     ]
    },
    {
     "name": "stdout",
     "output_type": "stream",
     "text": [
      "train Loss: 0.0124 Acc: 0.0486\n",
      "Training complete in 0m 6s\n"
     ]
    },
    {
     "name": "stderr",
     "output_type": "stream",
     "text": [
      "100%|█████████████████████████████████████████████████████████████████████████████████| 45/45 [00:00<00:00, 125.68it/s]\n",
      "  2%|█▌                                                                                | 5/267 [00:00<00:05, 45.16it/s]"
     ]
    },
    {
     "name": "stdout",
     "output_type": "stream",
     "text": [
      "val Loss: 0.0319 Acc: 0.0461\n",
      "Training complete in 0m 0s\n",
      "\n",
      "EPOCH : 37/50\n"
     ]
    },
    {
     "name": "stderr",
     "output_type": "stream",
     "text": [
      "100%|████████████████████████████████████████████████████████████████████████████████| 267/267 [00:05<00:00, 46.95it/s]\n",
      " 29%|███████████████████████▍                                                         | 13/45 [00:00<00:00, 127.79it/s]"
     ]
    },
    {
     "name": "stdout",
     "output_type": "stream",
     "text": [
      "train Loss: 0.0116 Acc: 0.0649\n",
      "Training complete in 0m 6s\n"
     ]
    },
    {
     "name": "stderr",
     "output_type": "stream",
     "text": [
      "100%|█████████████████████████████████████████████████████████████████████████████████| 45/45 [00:00<00:00, 128.18it/s]\n",
      "  2%|█▌                                                                                | 5/267 [00:00<00:05, 47.30it/s]"
     ]
    },
    {
     "name": "stdout",
     "output_type": "stream",
     "text": [
      "val Loss: 0.0313 Acc: 0.0831\n",
      "Training complete in 0m 0s\n",
      "\n",
      "EPOCH : 38/50\n"
     ]
    },
    {
     "name": "stderr",
     "output_type": "stream",
     "text": [
      "100%|████████████████████████████████████████████████████████████████████████████████| 267/267 [00:05<00:00, 46.64it/s]\n",
      " 29%|███████████████████████▍                                                         | 13/45 [00:00<00:00, 129.06it/s]"
     ]
    },
    {
     "name": "stdout",
     "output_type": "stream",
     "text": [
      "train Loss: 0.0109 Acc: 0.1254\n",
      "Training complete in 0m 6s\n"
     ]
    },
    {
     "name": "stderr",
     "output_type": "stream",
     "text": [
      "100%|█████████████████████████████████████████████████████████████████████████████████| 45/45 [00:00<00:00, 130.41it/s]\n",
      "  2%|█▌                                                                                | 5/267 [00:00<00:05, 45.99it/s]"
     ]
    },
    {
     "name": "stdout",
     "output_type": "stream",
     "text": [
      "val Loss: 0.0307 Acc: 0.4358\n",
      "Training complete in 0m 0s\n",
      "\n",
      "EPOCH : 39/50\n"
     ]
    },
    {
     "name": "stderr",
     "output_type": "stream",
     "text": [
      "100%|████████████████████████████████████████████████████████████████████████████████| 267/267 [00:05<00:00, 46.63it/s]\n",
      " 31%|█████████████████████████▏                                                       | 14/45 [00:00<00:00, 131.19it/s]"
     ]
    },
    {
     "name": "stdout",
     "output_type": "stream",
     "text": [
      "train Loss: 0.0103 Acc: 0.2279\n",
      "Training complete in 0m 6s\n"
     ]
    },
    {
     "name": "stderr",
     "output_type": "stream",
     "text": [
      "100%|█████████████████████████████████████████████████████████████████████████████████| 45/45 [00:00<00:00, 124.99it/s]\n",
      "  2%|█▌                                                                                | 5/267 [00:00<00:05, 44.75it/s]"
     ]
    },
    {
     "name": "stdout",
     "output_type": "stream",
     "text": [
      "val Loss: 0.0303 Acc: 0.5147\n",
      "Training complete in 0m 0s\n",
      "\n",
      "EPOCH : 40/50\n"
     ]
    },
    {
     "name": "stderr",
     "output_type": "stream",
     "text": [
      "100%|████████████████████████████████████████████████████████████████████████████████| 267/267 [00:05<00:00, 49.61it/s]\n",
      " 33%|███████████████████████████                                                      | 15/45 [00:00<00:00, 146.02it/s]"
     ]
    },
    {
     "name": "stdout",
     "output_type": "stream",
     "text": [
      "train Loss: 0.0097 Acc: 0.3316\n",
      "Training complete in 0m 5s\n"
     ]
    },
    {
     "name": "stderr",
     "output_type": "stream",
     "text": [
      "100%|█████████████████████████████████████████████████████████████████████████████████| 45/45 [00:00<00:00, 144.62it/s]\n",
      "  2%|█▊                                                                                | 6/267 [00:00<00:04, 54.69it/s]"
     ]
    },
    {
     "name": "stdout",
     "output_type": "stream",
     "text": [
      "val Loss: 0.0298 Acc: 0.5701\n",
      "Training complete in 0m 0s\n",
      "\n",
      "EPOCH : 41/50\n"
     ]
    },
    {
     "name": "stderr",
     "output_type": "stream",
     "text": [
      "100%|████████████████████████████████████████████████████████████████████████████████| 267/267 [00:05<00:00, 50.17it/s]\n",
      " 29%|███████████████████████▍                                                         | 13/45 [00:00<00:00, 127.79it/s]"
     ]
    },
    {
     "name": "stdout",
     "output_type": "stream",
     "text": [
      "train Loss: 0.0092 Acc: 0.4141\n",
      "Training complete in 0m 5s\n"
     ]
    },
    {
     "name": "stderr",
     "output_type": "stream",
     "text": [
      "100%|█████████████████████████████████████████████████████████████████████████████████| 45/45 [00:00<00:00, 132.32it/s]\n",
      "  2%|█▌                                                                                | 5/267 [00:00<00:06, 41.78it/s]"
     ]
    },
    {
     "name": "stdout",
     "output_type": "stream",
     "text": [
      "val Loss: 0.0294 Acc: 0.5951\n",
      "Training complete in 0m 0s\n",
      "\n",
      "EPOCH : 42/50\n"
     ]
    },
    {
     "name": "stderr",
     "output_type": "stream",
     "text": [
      "100%|████████████████████████████████████████████████████████████████████████████████| 267/267 [00:05<00:00, 48.70it/s]\n",
      " 33%|███████████████████████████                                                      | 15/45 [00:00<00:00, 147.45it/s]"
     ]
    },
    {
     "name": "stdout",
     "output_type": "stream",
     "text": [
      "train Loss: 0.0087 Acc: 0.4816\n",
      "Training complete in 0m 5s\n"
     ]
    },
    {
     "name": "stderr",
     "output_type": "stream",
     "text": [
      "100%|█████████████████████████████████████████████████████████████████████████████████| 45/45 [00:00<00:00, 147.92it/s]\n",
      "  2%|█▊                                                                                | 6/267 [00:00<00:05, 51.42it/s]"
     ]
    },
    {
     "name": "stdout",
     "output_type": "stream",
     "text": [
      "val Loss: 0.0291 Acc: 0.6319\n",
      "Training complete in 0m 0s\n",
      "\n",
      "EPOCH : 43/50\n"
     ]
    },
    {
     "name": "stderr",
     "output_type": "stream",
     "text": [
      "100%|████████████████████████████████████████████████████████████████████████████████| 267/267 [00:05<00:00, 53.01it/s]\n",
      " 33%|███████████████████████████                                                      | 15/45 [00:00<00:00, 143.22it/s]"
     ]
    },
    {
     "name": "stdout",
     "output_type": "stream",
     "text": [
      "train Loss: 0.0083 Acc: 0.5519\n",
      "Training complete in 0m 5s\n"
     ]
    },
    {
     "name": "stderr",
     "output_type": "stream",
     "text": [
      "100%|█████████████████████████████████████████████████████████████████████████████████| 45/45 [00:00<00:00, 150.90it/s]\n",
      "  2%|█▊                                                                                | 6/267 [00:00<00:05, 51.86it/s]"
     ]
    },
    {
     "name": "stdout",
     "output_type": "stream",
     "text": [
      "val Loss: 0.0287 Acc: 0.6392\n",
      "Training complete in 0m 0s\n",
      "\n",
      "EPOCH : 44/50\n"
     ]
    },
    {
     "name": "stderr",
     "output_type": "stream",
     "text": [
      "100%|████████████████████████████████████████████████████████████████████████████████| 267/267 [00:05<00:00, 52.43it/s]\n",
      " 64%|████████████████████████████████████████████████████▏                            | 29/45 [00:00<00:00, 140.63it/s]"
     ]
    },
    {
     "name": "stdout",
     "output_type": "stream",
     "text": [
      "train Loss: 0.0079 Acc: 0.5916\n",
      "Training complete in 0m 5s\n"
     ]
    },
    {
     "name": "stderr",
     "output_type": "stream",
     "text": [
      "100%|█████████████████████████████████████████████████████████████████████████████████| 45/45 [00:00<00:00, 143.70it/s]\n",
      "  2%|█▊                                                                                | 6/267 [00:00<00:05, 51.42it/s]"
     ]
    },
    {
     "name": "stdout",
     "output_type": "stream",
     "text": [
      "val Loss: 0.0285 Acc: 0.6442\n",
      "Training complete in 0m 0s\n",
      "\n",
      "EPOCH : 45/50\n"
     ]
    },
    {
     "name": "stderr",
     "output_type": "stream",
     "text": [
      "100%|████████████████████████████████████████████████████████████████████████████████| 267/267 [00:05<00:00, 52.71it/s]\n",
      " 36%|████████████████████████████▊                                                    | 16/45 [00:00<00:00, 149.93it/s]"
     ]
    },
    {
     "name": "stdout",
     "output_type": "stream",
     "text": [
      "train Loss: 0.0075 Acc: 0.6128\n",
      "Training complete in 0m 5s\n"
     ]
    },
    {
     "name": "stderr",
     "output_type": "stream",
     "text": [
      "100%|█████████████████████████████████████████████████████████████████████████████████| 45/45 [00:00<00:00, 148.41it/s]\n",
      "  2%|█▊                                                                                | 6/267 [00:00<00:04, 54.69it/s]"
     ]
    },
    {
     "name": "stdout",
     "output_type": "stream",
     "text": [
      "val Loss: 0.0282 Acc: 0.6484\n",
      "Training complete in 0m 0s\n",
      "\n",
      "EPOCH : 46/50\n"
     ]
    },
    {
     "name": "stderr",
     "output_type": "stream",
     "text": [
      "100%|████████████████████████████████████████████████████████████████████████████████| 267/267 [00:05<00:00, 53.04it/s]\n",
      " 31%|█████████████████████████▏                                                       | 14/45 [00:00<00:00, 136.29it/s]"
     ]
    },
    {
     "name": "stdout",
     "output_type": "stream",
     "text": [
      "train Loss: 0.0071 Acc: 0.6272\n",
      "Training complete in 0m 5s\n"
     ]
    },
    {
     "name": "stderr",
     "output_type": "stream",
     "text": [
      "100%|█████████████████████████████████████████████████████████████████████████████████| 45/45 [00:00<00:00, 142.34it/s]\n",
      "  2%|█▊                                                                                | 6/267 [00:00<00:04, 52.31it/s]"
     ]
    },
    {
     "name": "stdout",
     "output_type": "stream",
     "text": [
      "val Loss: 0.0279 Acc: 0.6524\n",
      "Training complete in 0m 0s\n",
      "\n",
      "EPOCH : 47/50\n"
     ]
    },
    {
     "name": "stderr",
     "output_type": "stream",
     "text": [
      "100%|████████████████████████████████████████████████████████████████████████████████| 267/267 [00:05<00:00, 51.89it/s]\n",
      " 33%|███████████████████████████                                                      | 15/45 [00:00<00:00, 148.91it/s]"
     ]
    },
    {
     "name": "stdout",
     "output_type": "stream",
     "text": [
      "train Loss: 0.0068 Acc: 0.6364\n",
      "Training complete in 0m 5s\n"
     ]
    },
    {
     "name": "stderr",
     "output_type": "stream",
     "text": [
      "100%|█████████████████████████████████████████████████████████████████████████████████| 45/45 [00:00<00:00, 141.89it/s]\n",
      "  2%|█▊                                                                                | 6/267 [00:00<00:04, 52.31it/s]"
     ]
    },
    {
     "name": "stdout",
     "output_type": "stream",
     "text": [
      "val Loss: 0.0277 Acc: 0.6559\n",
      "Training complete in 0m 0s\n",
      "\n",
      "EPOCH : 48/50\n"
     ]
    },
    {
     "name": "stderr",
     "output_type": "stream",
     "text": [
      "100%|████████████████████████████████████████████████████████████████████████████████| 267/267 [00:05<00:00, 51.60it/s]\n",
      " 31%|█████████████████████████▏                                                       | 14/45 [00:00<00:00, 137.62it/s]"
     ]
    },
    {
     "name": "stdout",
     "output_type": "stream",
     "text": [
      "train Loss: 0.0065 Acc: 0.6454\n",
      "Training complete in 0m 5s\n"
     ]
    },
    {
     "name": "stderr",
     "output_type": "stream",
     "text": [
      "100%|█████████████████████████████████████████████████████████████████████████████████| 45/45 [00:00<00:00, 137.13it/s]\n",
      "  2%|█▊                                                                                | 6/267 [00:00<00:04, 53.93it/s]"
     ]
    },
    {
     "name": "stdout",
     "output_type": "stream",
     "text": [
      "val Loss: 0.0275 Acc: 0.6592\n",
      "Training complete in 0m 0s\n",
      "\n",
      "EPOCH : 49/50\n"
     ]
    },
    {
     "name": "stderr",
     "output_type": "stream",
     "text": [
      "100%|████████████████████████████████████████████████████████████████████████████████| 267/267 [00:05<00:00, 52.87it/s]\n",
      " 33%|███████████████████████████                                                      | 15/45 [00:00<00:00, 145.97it/s]"
     ]
    },
    {
     "name": "stdout",
     "output_type": "stream",
     "text": [
      "train Loss: 0.0062 Acc: 0.6526\n",
      "Training complete in 0m 5s\n"
     ]
    },
    {
     "name": "stderr",
     "output_type": "stream",
     "text": [
      "100%|█████████████████████████████████████████████████████████████████████████████████| 45/45 [00:00<00:00, 150.90it/s]\n",
      "  2%|█▊                                                                                | 6/267 [00:00<00:04, 52.30it/s]"
     ]
    },
    {
     "name": "stdout",
     "output_type": "stream",
     "text": [
      "val Loss: 0.0273 Acc: 0.6625\n",
      "Training complete in 0m 0s\n",
      "\n",
      "EPOCH : 50/50\n"
     ]
    },
    {
     "name": "stderr",
     "output_type": "stream",
     "text": [
      "100%|████████████████████████████████████████████████████████████████████████████████| 267/267 [00:05<00:00, 52.47it/s]\n",
      " 67%|██████████████████████████████████████████████████████                           | 30/45 [00:00<00:00, 145.46it/s]"
     ]
    },
    {
     "name": "stdout",
     "output_type": "stream",
     "text": [
      "train Loss: 0.0059 Acc: 0.6593\n",
      "Training complete in 0m 5s\n"
     ]
    },
    {
     "name": "stderr",
     "output_type": "stream",
     "text": [
      "\r",
      "100%|█████████████████████████████████████████████████████████████████████████████████| 45/45 [00:00<00:00, 147.45it/s]"
     ]
    },
    {
     "name": "stdout",
     "output_type": "stream",
     "text": [
      "val Loss: 0.0271 Acc: 0.6661\n",
      "Training complete in 0m 0s\n",
      "\n",
      "Best valid loss: 100.000000\n"
     ]
    },
    {
     "name": "stderr",
     "output_type": "stream",
     "text": [
      "\n"
     ]
    }
   ],
   "source": [
    "train_data = text_dataset(text_path='text_data',cluster_dict=cluster_dict)\n",
    "val_data = text_dataset(text_path='text_data',cluster_dict=cluster_dict,dataset_type='val')\n",
    "device = torch.device('cuda:0')\n",
    "model = LSTM_model(300,100,gensim_model,train_data.vocabulary,num_clusters=29).to(device)\n",
    "dataloaders={\n",
    "    'train':DataLoader(train_data,batch_size=100,shuffle=False,collate_fn=model.collate_fn),\n",
    "    'val':DataLoader(val_data,batch_size=150,shuffle=False,collate_fn=model.collate_fn)\n",
    "}\n",
    "loss_weights = [1000]*29\n",
    "loss_weights[0] = 0.01\n",
    "criterion = nn.CrossEntropyLoss(weight=torch.tensor(loss_weights,dtype=torch.float32,device=device))\n",
    "optimizer = torch.optim.SGD(model.parameters(),lr=3e-3,momentum=0.9)\n",
    "\n",
    "model = fit(device,dataloaders,model,criterion,optimizer,epochs=50)"
   ]
  },
  {
   "cell_type": "code",
   "execution_count": 513,
   "metadata": {},
   "outputs": [
    {
     "name": "stderr",
     "output_type": "stream",
     "text": [
      "100%|█████████████████████████████████████████████████████████████████████████████████| 45/45 [00:00<00:00, 178.33it/s]\n"
     ]
    }
   ],
   "source": [
    "val_outs = []\n",
    "val_targets = []\n",
    "for inputs,targets,sentence_lens in tqdm(dataloaders['val']):\n",
    "    inputs = inputs.to(device)\n",
    "    sentence_lens = torch.tensor(sentence_lens,dtype=torch.long,device=device)\n",
    "    with torch.no_grad():\n",
    "        outputs = model(inputs,sentence_lens)\n",
    "        preds = torch.argmax(outputs,dim=1).flatten()\n",
    "        val_outs.append(preds)\n",
    "        val_targets.append(targets.flatten())"
   ]
  },
  {
   "cell_type": "code",
   "execution_count": 514,
   "metadata": {},
   "outputs": [],
   "source": [
    "consol_val_preds = torch.cat(val_outs)\n",
    "consol_val_tgts = torch.cat(val_targets)"
   ]
  },
  {
   "cell_type": "code",
   "execution_count": 519,
   "metadata": {},
   "outputs": [],
   "source": []
  },
  {
   "cell_type": "code",
   "execution_count": 520,
   "metadata": {},
   "outputs": [
    {
     "name": "stdout",
     "output_type": "stream",
     "text": [
      "([3248, 575, 152, 316, 745, 2, 5, 0, 0, 0, 0, 0, 0, 0, 0, 0, 0, 0, 0, 0, 0, 0, 0, 0, 0, 0, 0, 0, 0, 0, 0], [0, 10, 0, 0, 0, 0, 0, 0, 0, 0, 0, 0, 0, 0, 0, 0, 0, 0, 0, 0, 0, 0, 0, 0, 0, 0, 0, 0, 0, 0, 0])\n",
      "([3531, 124, 7, 1605, 19, 185, 610, 109, 4, 0, 0, 0, 0, 0, 0, 0, 0, 0, 0, 0, 0, 0], [0, 0, 0, 0, 0, 0, 0, 0, 0, 0, 0, 0, 0, 0, 0, 0, 0, 0, 0, 0, 0, 0])\n"
     ]
    }
   ],
   "source": []
  },
  {
   "cell_type": "code",
   "execution_count": 530,
   "metadata": {},
   "outputs": [
    {
     "name": "stderr",
     "output_type": "stream",
     "text": [
      "100%|██████████████████████████████████████████████████████████████████████████████████| 45/45 [00:26<00:00,  1.68it/s]\n"
     ]
    }
   ],
   "source": [
    "fval_words = []\n",
    "fval_preds = []\n",
    "for inputs,targets,sentence_lens in tqdm(dataloaders['val']):\n",
    "    inputs = inputs.to(device)\n",
    "    sentence_lens = torch.tensor(sentence_lens,dtype=torch.long,device=device)\n",
    "    with torch.no_grad():\n",
    "        outputs = model(inputs,sentence_lens)\n",
    "        preds = torch.argmax(outputs,dim=1).permute(1,0)\n",
    "        words = inputs.flatten()\n",
    "        word_preds = preds.flatten()\n",
    "        for i in range(words.size()[0]):\n",
    "            if words[i].item() != 0:\n",
    "                fval_words.append(train_data.vocabulary.idx2word[words[i].item()])\n",
    "                fval_preds.append(word_preds[i].item())"
   ]
  },
  {
   "cell_type": "code",
   "execution_count": 533,
   "metadata": {},
   "outputs": [],
   "source": [
    "cluster_preds = {}\n",
    "for i in range(29):\n",
    "    cluster_preds[i]=[]\n",
    "for word,pred in zip(fval_words,fval_preds):\n",
    "    cluster_preds[pred].append(word)\n",
    "for i in range(29):\n",
    "    cluster_preds[i]=list(set(cluster_preds[i]))"
   ]
  },
  {
   "cell_type": "code",
   "execution_count": 541,
   "metadata": {},
   "outputs": [],
   "source": [
    "file1 = open('first_run_preds.pkl','wb')\n",
    "pickle.dump(cluster_preds,file1)\n",
    "file1.close()\n",
    "file2 = open('first_run_og.pkl','wb')\n",
    "pickle.dump(cluster_dict,file2)\n",
    "file2.close()"
   ]
  },
  {
   "cell_type": "code",
   "execution_count": 559,
   "metadata": {},
   "outputs": [
    {
     "name": "stdout",
     "output_type": "stream",
     "text": [
      "['wgi', 'biotic', 'hypoxemia', 'stee', 'whe', 'lampitt', 'calcify', 'lakebeds', 'milly', 'illustrative', 'arr', 'rng', 'chroniclers', 'seasonality', 'situ', 'plagues', 'multiscale', 'ellie', 'ottmar', 'cloudier', 'pauline', 'wm', 'avoidable', 'sérgio', 'homeostatic', 'dx', 'stimulatory', 'inversely', 'cdr', 'bathypelagic', 'cece', 'troposphere', 'berkes', 'chem', 'exacerbation', 'breakpoints', 'modulations', 'poleward', 'ei', 'continuations', 'attributional', 'neutralization', 'localized', 'hsd', 'priori', 'scaler', 'eal', 'concessional', 'gnv', 'disrupts', 'timescale', 'huxleyi', 'insolation', 'raper', 'photosystem', 'borehole', 'susanne', 'regulary', 'nuttall', 'typologies', 'constrains', 'overestimation', 'limacina', 'skiba', 'hore', 'gf', 'nonlinear', 'baselines', 'phenology', 'upwelling', 'tor', 'sio', 'thickening', 'hwp', 'urbanization', 'vv', 'reto', 'renner', 'wanninkhof', 'lemelin', 'modifies', 'gridded', 'biophysical', 'timescales', 'arbuscula', 'porites', 'depletions', 'thresholds', 'biogeochemistry', 'tes', 'barcelos', 'imprecision', 'aishihik', 'inchi', 'thermodynamically', 'incubated', 'acknowledgement', 'likelihoods', 'oscillation', 'gwt', 'diversions', 'castrates', 'occurring', 'organizacion', 'berkhout', 'thermohaline', 'modellers', 'autonoma', 'intentional', 'conceptualization', 'lamarque', 'eet', 'homogeneity', 'meriting', 'erda', 'wg', 'paleoclimate', 'gcms', 'firn', 'evaporation', 'hotspots', 'oq', 'kristie', 'tren', 'mathiesen', 'representativeness', 'rendu', 'stammler', 'finalization', 'decoupling', 'radiosonde', 'concomitant', 'ebm', 'invariant', 'kinne', 'engendered', 'contrails', 'varghese', 'intensification', 'interannual', 'impacts', 'sedges', 'synergistic', 'characterised', 'paresh', 'lovecraft', 'calcifying', 'hypothesized', 'rediscovery', 'biogeochemical', 'reflexive', 'folke', 'mainstreaming', 'strassmann', 'tetrafluoride', 'zwiers', 'labarthe', 'furgal', 'shishmaref', 'dorey', 'anomaly', 'interpolation', 'vuuren', 'bluetongue', 'aerosols', 'annular', 'deterministic', 'elinor', 'acclimatization', 'dieback', 'gien', 'biochar', 'radiative', 'thawing', 'gradients', 'otf', 'watler', 'posited', 'dof', 'downscaled', 'yukaghir', 'foce', 'plattner', 'cela', 'subtractions', 'droughts', 'ered', 'pht', 'chap', 'ghgs', 'maunder', 'airconditioning', 'oscillations', 'sahelian', 'timm', 'foram', 'gyres', 'bex', 'arrigo', 'moy', 'haruko', 'buffering', 'premised', 'provisioning', 'elemental', 'anomalous', 'socolow', 'depletion', 'stratosphere', 'moony', 'ulrike', 'prowse', 'detectability', 'lessened', 'unquantified', 'stickiness', 'gees', 'timberline', 'turbid', 'discharges', 'guyot', 'discontinuation', 'vegetated', 'reconstructions', 'glossary', 'acidification', 'impinges', 'disconnections', 'boreas', 'sakai', 'subtidal', 'acclimation', 'inferred', 'cp', 'constraining', 'hydrological', 'phys', 'ebene', 'correspondingly', 'millennia', 'ishimatsu', 'ceca', 'accelerometers', 'ey', 'fluxes', 'vanstone', 'salinity', 'stratospheric', 'opal', 'ppb', 'gwp', 'birgitta', 'mechanistic', 'shrinkage', 'ministerio', 'yoshihisa', 'intraregional', 'latinoamericana', 'kyr', 'optima', 'quadrupling', 'hemispheres', 'kazuhiko', 'gg', 'spatially', 'vel', 'javanicus', 'moel', 'oe', 'precession', 'emori', 'lobell', 'sediments', 'initialized', 'detectable', 'bleaching', 'reanalysis', 'cumulated', 'gratefully', 'subtropics', 'nebojsa', 'disaggregated', 'wigley', 'keigo', 'bifurcation', 'intentionality', 'subpolar', 'breakouts', 'spatiotemporal', 'kram', 'cloudiness', 'cirrus', 'sargasso', 'srm', 'exacerbated', 'freshening', 'itex', 'inset', 'drawdown', 'combinatory', 'daneman', 'schlossplatz', 'fortunat', 'integrations', 'preindustrial', 'southcott', 'bjork', 'sprayers', 'simulating', 'chini', 'comparability', 'acidified', 'mnp', 'longwave', 'climatic', 'enso', 'breading', 'nonlinearities', 'técnico', 'equilibration', 'exacerbating', 'kholm', 'kandeh', 'attributable', 'riahi', 'tropospheric', 'ppps', 'iz', 'parameterization', 'recharges', 'anokhin', 'typology', 'gonad', 'mitigating', 'relabeling', 'subarctic', 'esse', 'bifurcations', 'elaborates', 'resultant', 'surges', 'hester', 'upwell', 'reporte', 'thermocline', 'akbari', 'kplc', 'dispersal', 'unexplained', 'gcm', 'teeb', 'distinguishable', 'adger', 'reflectivity', 'inundation', 'situating', 'localised', 'sequestration', 'redfield', 'unevenness', 'spm', 'contrasted', 'oryzias', 'coarser', 'yy', 'gef', 'nonequilibrium', 'trom', 'anthropogenic', 'phenomena', 'halocarbons', 'perceiving', 'exteriores', 'ora', 'maccracken', 'weathering', 'joelle', 'hydrologic', 'quantifies', 'percentiles', 'overviews', 'albedo', 'disaggregation', 'malyshev', 'conflating', 'summarizes', 'brightening', 'ambiguously', 'petm', 'degrades', 'mesoscale', 'thierno', 'bioenergy', 'isotopically', 'permafrost', 'pentafluoride', 'summertime', 'perturbing', 'perturbations', 'interacademy', 'cascading', 'oligotrophic', 'lgm', 'observable', 'tet', 'comprehensiveness', 'supersaturation', 'thicknesses', 'sres', 'oy', 'erosional', 'feedbacks', 'meridional', 'fugacity', 'heterogeneity', 'bw', 'syntheses', 'perturbation', 'realizations', 'tcc', 'joos', 'forcings', 'overemphasizing', 'sedimentation', 'overshoot', 'espace', 'attenuation', 'nucleation', 'remineralization', 'briet', 'daniela', 'albedos', 'uscs', 'dynamical', 'sedimentary', 'subsidence', 'onsen', 'magnitudes', 'mikiko', 'wastage', 'downscaling', 'prioritizes', 'zl', 'lindblad', 'ph', 'stylized', 'quantification', 'amap', 'interpolated', 'cryosphere', 'farahani', 'caldeira', 'quantifying', 'yr', 'geochemical', 'unavoidable', 'gtp', 'bracketed', 'replenishment', 'minicam', 'amplifications', 'dataset', 'geoengineering', 'etal', 'latitudes', 'eset', 'luers', 'mitigation', 'kinoshita', 'transgressing', 'é', 'anoxic', 'caff', 'coccolithophores', 'hypercapnia', 'occurs', 'euler']\n",
      "['acidification', 'anthropogenic', 'albedo', 'permafrost', 'stratospheric', 'tropospheric', 'biochar', 'overshoot', 'brightening', 'sequestration', 'acclimation', 'salinity', 'enso', 'nebojsa', 'situ', 'subsurface', 'reflectivity', 'hydrologic', 'paleoclimate', 'insolation', 'bleaching', 'tropopause', 'annular', 'poleward', 'thermohaline', 'stressor', 'depletion', 'subpolar', 'stratocumulus', 'shrinkage', 'meltwater', 'consequent', 'irradiance', 'alteration', 'intensification', 'evaporation', 'buffering', 'mesoscale', 'equilibration', 'anoxic', 'stratification', 'subsidence', 'remineralization', 'replenishment', 'resultant', 'snowpack', 'maladaptive', 'stepwise', 'hysteresis', 'turbid', 'revegetation', 'cloudiness', 'parameterization', 'obliquity', 'pluvial', 'dispersal', 'hypercapnia', 'fugacity', 'equatorward', 'transect', 'eutrophication', 'dieback', 'inundation', 'streamflow', 'accretion', 'snowmelt', 'prohibitive', 'periglacial', 'contrail', 'minima', 'wintertime', 'summertime', 'thermocline', 'gyre', 'longwave', 'sequester', 'areal', 'supersaturation', 'nucleation', 'discontinuation', 'nonlinearity', 'coarser', 'steric', 'fecund', 'bioaccumulation', 'phanerozoic', 'neutralization', 'flagellar', 'percolation', 'evapotranspiration', 'midwater', 'wildland', 'retrofit', 'unavailability', 'overexploitation', 'drawdown', 'escapement', 'contextualization', 'rossby', 'underlain', 'inthe', 'interspecific', 'subsea', 'depopulation', 'collectivization', 'urbanisation', 'hotspot', 'treeline', 'bimodal', 'washout', 'phaseout', 'cosmogenic', 'cloudier', 'dryness', 'wastage', 'icesheet', 'compaction', 'roughness', 'storminess', 'infrequent', 'borehole', 'largescale', 'monsoonal', 'spline', 'inset', 'overlain', 'droplet', 'tillage', 'combust', 'micronutrient', 'reversion', 'detectability', 'misalignment', 'orography', 'handoff', 'impulsion', 'discontinuity', 'intraspecific', 'ccd', 'sepia', 'equilibrate', 'sedimentation', 'underestimation', 'overestimation', 'substratum', 'fecundity', 'photosystem', 'radionuclide', 'exacerbation', 'hypoxemia', 'acclimatization', 'reallocation', 'seafloor', 'outflow']\n"
     ]
    }
   ],
   "source": [
    "x = 16\n",
    "print(cluster_preds[x])\n",
    "print(cluster_dict[x])"
   ]
  },
  {
   "cell_type": "code",
   "execution_count": 515,
   "metadata": {},
   "outputs": [],
   "source": [
    "cm = confusion_matrix(consol_val_tgts.cpu(),consol_val_preds.cpu(),normalize='true')"
   ]
  },
  {
   "cell_type": "code",
   "execution_count": 516,
   "metadata": {
    "scrolled": false
   },
   "outputs": [
    {
     "data": {
      "text/plain": [
       "<matplotlib.axes._subplots.AxesSubplot at 0x17ea8c83088>"
      ]
     },
     "execution_count": 516,
     "metadata": {},
     "output_type": "execute_result"
    },
    {
     "data": {
      "image/png": "[encoded data removed]",
      "text/plain": [
       "<Figure size 1440x1440 with 2 Axes>"
      ]
     },
     "metadata": {
      "needs_background": "light"
     },
     "output_type": "display_data"
    }
   ],
   "source": [
    "df_cm = pd.DataFrame(cm, index = [i for i in range(29)],\n",
    "                  columns = [i for i in range(29)])\n",
    "plt.figure(figsize = (20,20))\n",
    "sn.heatmap(df_cm, annot=True)"
   ]
  },
  {
   "cell_type": "code",
   "execution_count": null,
   "metadata": {},
   "outputs": [],
   "source": []
  }
 ],
 "metadata": {
  "kernelspec": {
   "display_name": "Python 3",
   "language": "python",
   "name": "python3"
  },
  "language_info": {
   "codemirror_mode": {
    "name": "ipython",
    "version": 3
   },
   "file_extension": ".py",
   "mimetype": "text/x-python",
   "name": "python",
   "nbconvert_exporter": "python",
   "pygments_lexer": "ipython3",
   "version": "3.7.6"
  }
 },
 "nbformat": 4,
 "nbformat_minor": 2
}
