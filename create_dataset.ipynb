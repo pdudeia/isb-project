{
 "cells": [
  {
   "cell_type": "code",
   "execution_count": 1,
   "metadata": {},
   "outputs": [],
   "source": [
    "import pickle\n",
    "import nltk\n",
    "from glob import glob\n",
    "from gensim.models import KeyedVectors\n",
    "from tqdm import tqdm\n",
    "import numpy as np\n",
    "import matplotlib.pyplot as plt\n",
    "import random\n",
    "import copy\n",
    "import time\n",
    "import torch\n",
    "import torch.nn as nn\n",
    "import torch.nn.functional as F\n",
    "import torchtext.vocab as vocab\n",
    "from torch.utils.data import Dataset,DataLoader\n",
    "from torch.nn.utils.rnn import pad_packed_sequence, pack_padded_sequence\n",
    "from sklearn.metrics import confusion_matrix\n",
    "from sklearn.metrics import cohen_kappa_score\n",
    "import pandas as pd\n",
    "import seaborn as sn"
   ]
  },
  {
   "cell_type": "code",
   "execution_count": 2,
   "metadata": {},
   "outputs": [
    {
     "name": "stderr",
     "output_type": "stream",
     "text": [
      "C:\\Users\\Owner\\Anaconda3\\envs\\cs231n\\lib\\site-packages\\ipykernel_launcher.py:2: DeprecationWarning: Call to deprecated `wv` (Attribute will be removed in 4.0.0, use self instead).\n",
      "  \n"
     ]
    }
   ],
   "source": [
    "gensim_model = KeyedVectors.load_word2vec_format('models/1200_1507.txt')\n",
    "model_vocab = gensim_model.wv.vocab"
   ]
  },
  {
   "cell_type": "code",
   "execution_count": 4,
   "metadata": {},
   "outputs": [],
   "source": [
    "class vocabulary():\n",
    "    \n",
    "    def __init__(self,model_vocab):\n",
    "        self.word2idx = {word:model_vocab[word].index+1 for word in list(model_vocab)}\n",
    "        self.pad_token = 0\n",
    "        self.word2idx['<padtoken>'] = self.pad_token\n",
    "        self.idx2word = {value:key for key,value in self.word2idx.items()}\n",
    "        self.unkid = len(self.word2idx)\n",
    "        \n",
    "    def __len__(self):\n",
    "        return len(self.word2idx)\n",
    "\n",
    "    def __getitem__(self, word):\n",
    "        return self.word2idx.get(word, self.unkid)\n",
    "\n",
    "    def __contains__(self, word):\n",
    "        return word in self.word2idx\n",
    "    \n",
    "    def id2word(self, wid):\n",
    "        return self.idx2word[wid]\n",
    "    \n",
    "    def words2indices(self, sents):\n",
    "        if type(sents[0]) == list:\n",
    "            return [[self[w] for w in s] for s in sents]\n",
    "        else:\n",
    "            return [self[w] for w in sents]\n",
    "\n",
    "    def indices2words(self, word_ids):\n",
    "        return [self.idx2word[w_id] for w_id in word_ids]\n",
    "\n",
    "    def pad_sents(self,sents, pad_token):\n",
    "        sents_padded = []\n",
    "        sents_lens = [len(sentence) for sentence in sents]\n",
    "        max_sent_len = max(sents_lens)\n",
    "        for sentence in sents:\n",
    "            sents_padded.append(sentence)\n",
    "            for _ in range(max_sent_len-len(sentence)):\n",
    "                sents_padded[-1].append(pad_token)\n",
    "        return sents_padded\n",
    "    \n",
    "    def add_words(self,word_list):\n",
    "        for word in word_list:\n",
    "            if self[word]==self.unkid:\n",
    "                current_idx = self.unkid\n",
    "                self.unkid = self.unkid+1\n",
    "                self.word2idx[word]=current_idx\n",
    "                self.idx2word[current_idx]=word\n",
    "    \n",
    "    def to_input_tensor(self,sents,device=torch.device('cuda:0')):\n",
    "#         word_ids = self.words2indices(sents)\n",
    "        word_ids = sents\n",
    "        sents_t = self.pad_sents(word_ids, self['<padtoken>'])\n",
    "        sents_var = torch.tensor(sents_t, dtype=torch.long, device=device)\n",
    "        return torch.t(sents_var)"
   ]
  },
  {
   "cell_type": "code",
   "execution_count": 5,
   "metadata": {},
   "outputs": [],
   "source": [
    "trial_vocab = vocabulary(model_vocab)"
   ]
  },
  {
   "cell_type": "code",
   "execution_count": 6,
   "metadata": {},
   "outputs": [
    {
     "data": {
      "text/plain": [
       "35999"
      ]
     },
     "execution_count": 6,
     "metadata": {},
     "output_type": "execute_result"
    }
   ],
   "source": [
    "len_b4 = len(trial_vocab)\n",
    "len_b4"
   ]
  },
  {
   "cell_type": "code",
   "execution_count": 7,
   "metadata": {},
   "outputs": [],
   "source": [
    "all_comps = pd.read_csv('Reports_2008.csv')"
   ]
  },
  {
   "cell_type": "code",
   "execution_count": 8,
   "metadata": {},
   "outputs": [
    {
     "data": {
      "text/html": [
       "<div>\n",
       "<style scoped>\n",
       "    .dataframe tbody tr th:only-of-type {\n",
       "        vertical-align: middle;\n",
       "    }\n",
       "\n",
       "    .dataframe tbody tr th {\n",
       "        vertical-align: top;\n",
       "    }\n",
       "\n",
       "    .dataframe thead th {\n",
       "        text-align: right;\n",
       "    }\n",
       "</style>\n",
       "<table border=\"1\" class=\"dataframe\">\n",
       "  <thead>\n",
       "    <tr style=\"text-align: right;\">\n",
       "      <th></th>\n",
       "      <th>cik</th>\n",
       "      <th>Tables</th>\n",
       "      <th>Images</th>\n",
       "      <th>Text</th>\n",
       "    </tr>\n",
       "  </thead>\n",
       "  <tbody>\n",
       "    <tr>\n",
       "      <th>0</th>\n",
       "      <td>1000180</td>\n",
       "      <td>165.0</td>\n",
       "      <td>1.0</td>\n",
       "      <td>10-K 1 f38194e10vk.htm FORM 10-K  e10vk Washin...</td>\n",
       "    </tr>\n",
       "    <tr>\n",
       "      <th>1</th>\n",
       "      <td>1000697</td>\n",
       "      <td>128.0</td>\n",
       "      <td>1.0</td>\n",
       "      <td>10-K 1 b68112wce10vk.htm WATERS CORPORATION  e...</td>\n",
       "    </tr>\n",
       "    <tr>\n",
       "      <th>2</th>\n",
       "      <td>1001250</td>\n",
       "      <td>77.0</td>\n",
       "      <td>0.0</td>\n",
       "      <td>10-K 1 a08-22004_110k.htm 10-K Table of Conten...</td>\n",
       "    </tr>\n",
       "    <tr>\n",
       "      <th>3</th>\n",
       "      <td>1001288</td>\n",
       "      <td>184.0</td>\n",
       "      <td>1.0</td>\n",
       "      <td>10-K 1 l29751ae10vk.htm LEXMARK INTERNATIONAL,...</td>\n",
       "    </tr>\n",
       "    <tr>\n",
       "      <th>4</th>\n",
       "      <td>1002047</td>\n",
       "      <td>142.0</td>\n",
       "      <td>1.0</td>\n",
       "      <td>10-K 1 f38790e10vk.htm FORM 10-K  e10vk Washin...</td>\n",
       "    </tr>\n",
       "  </tbody>\n",
       "</table>\n",
       "</div>"
      ],
      "text/plain": [
       "       cik  Tables  Images                                               Text\n",
       "0  1000180   165.0     1.0  10-K 1 f38194e10vk.htm FORM 10-K  e10vk Washin...\n",
       "1  1000697   128.0     1.0  10-K 1 b68112wce10vk.htm WATERS CORPORATION  e...\n",
       "2  1001250    77.0     0.0  10-K 1 a08-22004_110k.htm 10-K Table of Conten...\n",
       "3  1001288   184.0     1.0  10-K 1 l29751ae10vk.htm LEXMARK INTERNATIONAL,...\n",
       "4  1002047   142.0     1.0  10-K 1 f38790e10vk.htm FORM 10-K  e10vk Washin..."
      ]
     },
     "execution_count": 8,
     "metadata": {},
     "output_type": "execute_result"
    }
   ],
   "source": [
    "all_comps.head()"
   ]
  },
  {
   "cell_type": "code",
   "execution_count": 9,
   "metadata": {},
   "outputs": [
    {
     "data": {
      "text/plain": [
       "128102"
      ]
     },
     "execution_count": 9,
     "metadata": {},
     "output_type": "execute_result"
    }
   ],
   "source": [
    "all_words = []\n",
    "for i in range(len(all_comps)):\n",
    "    current_words = nltk.tokenize.word_tokenize(all_comps.loc[i,'Text'])\n",
    "    all_words.extend(current_words)\n",
    "    all_words = list(set(all_words))\n",
    "len(all_words)"
   ]
  },
  {
   "cell_type": "code",
   "execution_count": 10,
   "metadata": {},
   "outputs": [
    {
     "data": {
      "text/plain": [
       "155863"
      ]
     },
     "execution_count": 10,
     "metadata": {},
     "output_type": "execute_result"
    }
   ],
   "source": [
    "trial_vocab.add_words(all_words)\n",
    "len(trial_vocab)"
   ]
  },
  {
   "cell_type": "code",
   "execution_count": 11,
   "metadata": {},
   "outputs": [],
   "source": [
    "class text_dataset(Dataset):\n",
    "    \n",
    "    def __init__(self,full_vocab,cluster_dict,embedding_dim=300,dataset_type='train',text_path=None,extracted_text=None):\n",
    "        super(text_dataset,self).__init__()\n",
    "        self.vocabulary = full_vocab\n",
    "        # current implementation requires padtoken to be 0\n",
    "        self.cluster_dict = cluster_dict\n",
    "        self.text_path = text_path\n",
    "        self.dataset_type = dataset_type\n",
    "        self.extracted_text = extracted_text\n",
    "        self.prepare_data()\n",
    "        \n",
    "    def __len__(self):\n",
    "        return len(self.X)\n",
    "    \n",
    "    def __getitem__(self,idx):\n",
    "        return self.X[idx],self.Y[idx]\n",
    "    \n",
    "    def prepare_data(self):\n",
    "        random.seed(20)\n",
    "        all_sentences = self.get_text(self.extracted_text)\n",
    "        random.shuffle(all_sentences)\n",
    "        train_len = int(0.8*len(all_sentences))\n",
    "        if [] in all_sentences:\n",
    "            raise ValueError('found empty list in all_sentences')\n",
    "        if self.dataset_type == 'train':\n",
    "            self.X = self.vocabulary.words2indices(all_sentences[:train_len])\n",
    "            self.Y = self.get_clusters(all_sentences[:train_len])\n",
    "        elif self.dataset_type == 'val':\n",
    "            self.X = self.vocabulary.words2indices(all_sentences[train_len:])\n",
    "            self.Y = self.get_clusters(all_sentences[train_len:])\n",
    "        else :\n",
    "            self.X = self.vocabulary.words2indices(all_sentences)\n",
    "            self.Y = self.get_clusters(all_sentences)\n",
    "            \n",
    "    def word_count(self):\n",
    "        count=0\n",
    "        for x in self.X:\n",
    "            count+=len(x)\n",
    "        return count\n",
    "    \n",
    "    def get_clusters(self,sentences):\n",
    "        cluster_ids = []\n",
    "        for i in range(len(sentences)):\n",
    "            cluster_ids.append([])\n",
    "        for i,sentence in enumerate(sentences):\n",
    "            for word in sentence:\n",
    "                cluster_ids[i].append(self.get_cluster_idx(word))\n",
    "        return cluster_ids\n",
    "        \n",
    "    def get_cluster_idx(self,key):\n",
    "        for cluster_idx,cluster in self.cluster_dict.items():\n",
    "            assert cluster_idx<29,'Cluster idx is problematic'\n",
    "            if key in cluster:\n",
    "                return cluster_idx\n",
    "        return 0\n",
    "        \n",
    "    def get_text(self,extracted_text):\n",
    "        text = []\n",
    "        if self.text_path is not None:\n",
    "            files = glob(f'{self.text_path}/*.txt')\n",
    "            for file in files:\n",
    "                with open(file) as f:\n",
    "                    raw_text = list(filter(None, f.read().split('\\n')))\n",
    "                    f.close()\n",
    "                int_text = [[x.casefold() for x in line.strip().split(' ') if x.isalpha()] for line in raw_text if len(line.strip().split(' '))>3]\n",
    "                int_text = list(filter(lambda a: a != [], int_text))\n",
    "                text.extend(int_text)\n",
    "        if self.extracted_text is not None:\n",
    "            raw_text = list(filter(None, self.extracted_text.split('.')))\n",
    "            int_text = [[x.casefold() for x in line.strip().split(' ') if x.isalpha()] for line in raw_text if len(line.strip().split(' '))>3]\n",
    "            int_text = list(filter(lambda a: a != [], int_text))\n",
    "            text.extend(int_text)\n",
    "        return text    "
   ]
  },
  {
   "cell_type": "code",
   "execution_count": 12,
   "metadata": {},
   "outputs": [],
   "source": [
    "clustering_file = open('filtered_dict','rb')\n",
    "cluster_dict = pickle.load(clustering_file)"
   ]
  },
  {
   "cell_type": "code",
   "execution_count": 13,
   "metadata": {},
   "outputs": [],
   "source": [
    "class LSTM_model(nn.Module):\n",
    "    \n",
    "    def __init__(self,embedding_dim,hidden_dim,gensim_model,vocabulary,num_clusters,len_b4):\n",
    "        super(LSTM_model,self).__init__()\n",
    "        self.gensim_model = gensim_model\n",
    "        self.embedding_dim = embedding_dim\n",
    "        self.vocabulary = vocabulary\n",
    "        self.device = torch.device('cpu')\n",
    "        self.embedding_layer = nn.Embedding(len(self.vocabulary)+1,embedding_dim,padding_idx=self.vocabulary.pad_token)\n",
    "        self.len_b4 = len_b4\n",
    "        self.reset_vocab_weights(len_b4)\n",
    "        self.encoder = nn.LSTM(input_size=embedding_dim,hidden_size=hidden_dim,bias=True,bidirectional=True)\n",
    "        self.attn = nn.MultiheadAttention(2*hidden_dim,1)\n",
    "        self.ffn = nn.Sequential(\n",
    "            nn.Linear(2*hidden_dim,2*hidden_dim),\n",
    "            nn.ReLU(),\n",
    "            nn.Linear(2*hidden_dim,2*hidden_dim),\n",
    "            nn.ReLU(),\n",
    "            nn.Linear(2*hidden_dim,num_clusters)\n",
    "        )\n",
    "        \n",
    "    def forward(self,X_padded,sentence_lens):\n",
    "        # takes tokenised sentences as input, (n,s)\n",
    "        X = self.embedding_layer(X_padded.t()).permute(1,0,2)\n",
    "        packed_X = pack_padded_sequence(X,sentence_lens,enforce_sorted=False)\n",
    "        # encoder takes (s,n,e) inputs and gives (s,n,e) outputs\n",
    "        packed_enc_hiddens, _ = self.encoder(packed_X)\n",
    "        enc_hiddens = pad_packed_sequence(packed_enc_hiddens)[0]\n",
    "        enc_outs = enc_hiddens.permute(1,0,2)\n",
    "#         enc_outs = self.attn(enc_hiddens,enc_hiddens,enc_hiddens)[0].permute(1,0,2)\n",
    "        out = self.ffn(enc_outs).permute(0,2,1)\n",
    "        # permute to (n,c,d1) since loss is 2d\n",
    "        return out\n",
    "        \n",
    "    def collate_fn(self,batch):\n",
    "        sentence_lens = [len(sample[0]) for sample in batch]\n",
    "        sentences_X = [sample[0] for sample in batch]\n",
    "        sentences_Y = [sample[1] for sample in batch]\n",
    "        X_padded = self.vocabulary.to_input_tensor(sentences_X,device=self.device)\n",
    "        targets = torch.tensor(self.vocabulary.pad_sents(sents=sentences_Y,pad_token=0),dtype=torch.long)\n",
    "        return X_padded,targets,sentence_lens\n",
    "        \n",
    "    def reset_vocab_weights(self,len_b4,sanity_check=True):\n",
    "        # pad token MUST BE 0\n",
    "        og_state = self.embedding_layer.weight.requires_grad\n",
    "        self.embedding_layer.weight.requires_grad = False\n",
    "        self.embedding_layer.weight[0,:] = torch.zeros((self.embedding_dim))\n",
    "        self.embedding_layer.weight[1:len_b4,:] = torch.from_numpy(self.gensim_model.vectors)\n",
    "        self.embedding_layer.weight.requires_grad = og_state\n",
    "        if sanity_check:\n",
    "            embedding_sanity_check = True\n",
    "            for key,val in self.vocabulary.idx2word.items():\n",
    "                if (key>0) and (key<len_b4) and (torch.sum((self.embedding_layer.weight[key,:]-torch.from_numpy(gensim_model[val])).pow(2))>1e-8):\n",
    "                    embedding_sanity_check = False\n",
    "            assert embedding_sanity_check, 'Word vectors of embeddings and gensim model do not match!'\n",
    "        \n",
    "    def set_embedding_layer_grad(self,state):\n",
    "        self.embedding_layer.weight.requires_grad = state"
   ]
  },
  {
   "cell_type": "code",
   "execution_count": 14,
   "metadata": {},
   "outputs": [],
   "source": [
    "def fit(device,dataloaders,model,criterion,optimizer,scheduler=None,tb_logs=None,epochs=1):\n",
    "        '''\n",
    "        :param tb_logs: a dictionary containing tensorboard log flag, path and comment\n",
    "        :param epochs:\n",
    "        :return:\n",
    "        '''\n",
    "        if tb_logs is not None:\n",
    "            logpath = tb_logs['path']\n",
    "            logcomment = tb_logs['comment']\n",
    "            tb = SummaryWriter(log_dir=logpath+f'/{logcomment}', comment=logcomment)\n",
    "        best_model_wts = copy.deepcopy(model.state_dict())\n",
    "        best_valid_loss=100.\n",
    "        for epoch in range(epochs):\n",
    "            print(f'EPOCH : {epoch + 1}/{epochs}')\n",
    "            for phase in dataloaders.keys():\n",
    "                since = time.time()\n",
    "                if phase == 'train':\n",
    "                    model.train()\n",
    "                else:\n",
    "                    model.eval()\n",
    "                running_loss = 0.\n",
    "                running_acc = 0.\n",
    "                running_size = 0\n",
    "                for inputs,targets,sentence_lens in tqdm(dataloaders[phase]):\n",
    "                    inputs = inputs.to(device)\n",
    "                    targets = targets.to(device)\n",
    "                    sentence_lens = torch.tensor(sentence_lens,dtype=torch.long,device=device)\n",
    "                    with torch.set_grad_enabled(phase=='train'):\n",
    "                        optimizer.zero_grad()\n",
    "                        outputs = model(inputs,sentence_lens)\n",
    "#                         print(outputs)\n",
    "                        preds = torch.argmax(outputs,dim=1)\n",
    "                        loss = criterion(outputs, targets)\n",
    "                        acc = torch.mean((targets==preds).to(float)).item()\n",
    "                        if phase == 'train':\n",
    "                            loss.backward()\n",
    "                            optimizer.step()\n",
    "                        running_size += outputs.size()[0]*outputs.size()[2]\n",
    "                        running_loss += loss.item() * inputs.size()[0]*inputs.size()[1]\n",
    "                        running_acc += acc*inputs.size()[0]*inputs.size()[1]\n",
    "                #                 if phase == 'train' and not(scheduler is None):\n",
    "                #                     scheduler.step(epoch_loss)\n",
    "                epoch_loss = running_loss/running_size\n",
    "                epoch_acc = running_acc/running_size\n",
    "                if tb_logs is not None:\n",
    "                    if phase == 'train':\n",
    "                        tb.add_scalar('Train Loss', epoch_loss, epoch)\n",
    "                        tb.add_scalar('Train Acc',epoch_acc,epoch)\n",
    "                    else:\n",
    "                        tb.add_scalar('Valid Loss', epoch_loss, epoch)\n",
    "                        tb.add_scalar('Valid Acc', epoch_acc, epoch)\n",
    "#                 if phase == 'valid' and not (scheduler is None):  \n",
    "#                     scheduler.step(epoch_loss)\n",
    "                print('{} Loss: {:.4f} Acc: {:.4f}'.format(phase, epoch_loss,epoch_acc))\n",
    "                time_elapsed = time.time() - since\n",
    "                print('Training complete in {:.0f}m {:.0f}s'.format(time_elapsed // 60, time_elapsed % 60))\n",
    "                # deep copy the model\n",
    "                if phase == 'val' and epoch_loss < best_valid_loss:\n",
    "                    best_valid_loss = epoch_loss\n",
    "                    best_model_wts = copy.deepcopy(model.state_dict())\n",
    "#             if tb_logs is not None:\n",
    "#                 current_lr = optimizer.param_groups[0]['lr']\n",
    "#                 tb.add_scalar('Learning Rate', current_lr, epoch)\n",
    "            print()\n",
    "        print('Best valid loss: {:4f}'.format(best_valid_loss))\n",
    "        # load best model weights\n",
    "#         model.load_state_dict(best_model_wts)\n",
    "        if tb_logs is not None:\n",
    "            tb.close()\n",
    "        return model"
   ]
  },
  {
   "cell_type": "code",
   "execution_count": 15,
   "metadata": {},
   "outputs": [],
   "source": [
    "train_data = text_dataset(full_vocab=trial_vocab,text_path='text_data',cluster_dict=cluster_dict)\n",
    "val_data = text_dataset(full_vocab=trial_vocab,text_path='text_data',cluster_dict=cluster_dict,dataset_type='val')\n",
    "device = torch.device('cuda:0')"
   ]
  },
  {
   "cell_type": "code",
   "execution_count": 20,
   "metadata": {},
   "outputs": [],
   "source": [
    "device = torch.device('cuda:0')\n",
    "model = LSTM_model(300,100,gensim_model,train_data.vocabulary,num_clusters=29,len_b4=len_b4).to(device)\n",
    "dataloaders={\n",
    "    'train':DataLoader(train_data,batch_size=100,shuffle=False,collate_fn=model.collate_fn),\n",
    "    'val':DataLoader(val_data,batch_size=150,shuffle=False,collate_fn=model.collate_fn)\n",
    "}\n",
    "loss_weights = [1000]*29\n",
    "loss_weights[0] = 10\n",
    "criterion = nn.CrossEntropyLoss(weight=torch.tensor(loss_weights,dtype=torch.float32,device=device))\n",
    "optimizer = torch.optim.SGD(model.parameters(),lr=6e-3,momentum=0.9)"
   ]
  },
  {
   "cell_type": "code",
   "execution_count": 21,
   "metadata": {
    "scrolled": true
   },
   "outputs": [
    {
     "name": "stderr",
     "output_type": "stream",
     "text": [
      "  1%|█▏                                                                                | 4/267 [00:00<00:07, 32.88it/s]"
     ]
    },
    {
     "name": "stdout",
     "output_type": "stream",
     "text": [
      "EPOCH : 1/100\n"
     ]
    },
    {
     "name": "stderr",
     "output_type": "stream",
     "text": [
      "100%|████████████████████████████████████████████████████████████████████████████████| 267/267 [00:07<00:00, 34.14it/s]\n",
      " 33%|███████████████████████████                                                      | 15/45 [00:00<00:00, 148.88it/s]"
     ]
    },
    {
     "name": "stdout",
     "output_type": "stream",
     "text": [
      "train Loss: 3.0182 Acc: 0.8997\n",
      "Training complete in 0m 8s\n"
     ]
    },
    {
     "name": "stderr",
     "output_type": "stream",
     "text": [
      "100%|█████████████████████████████████████████████████████████████████████████████████| 45/45 [00:00<00:00, 148.90it/s]\n",
      "  1%|█▏                                                                                | 4/267 [00:00<00:07, 34.28it/s]"
     ]
    },
    {
     "name": "stdout",
     "output_type": "stream",
     "text": [
      "val Loss: 2.6954 Acc: 0.8957\n",
      "Training complete in 0m 0s\n",
      "\n",
      "EPOCH : 2/100\n"
     ]
    },
    {
     "name": "stderr",
     "output_type": "stream",
     "text": [
      "100%|████████████████████████████████████████████████████████████████████████████████| 267/267 [00:07<00:00, 33.46it/s]\n",
      " 36%|████████████████████████████▊                                                    | 16/45 [00:00<00:00, 151.30it/s]"
     ]
    },
    {
     "name": "stdout",
     "output_type": "stream",
     "text": [
      "train Loss: 2.3607 Acc: 0.9104\n",
      "Training complete in 0m 8s\n"
     ]
    },
    {
     "name": "stderr",
     "output_type": "stream",
     "text": [
      "100%|█████████████████████████████████████████████████████████████████████████████████| 45/45 [00:00<00:00, 137.97it/s]\n",
      "  1%|█▏                                                                                | 4/267 [00:00<00:07, 33.70it/s]"
     ]
    },
    {
     "name": "stdout",
     "output_type": "stream",
     "text": [
      "val Loss: 1.8625 Acc: 0.9204\n",
      "Training complete in 0m 0s\n",
      "\n",
      "EPOCH : 3/100\n"
     ]
    },
    {
     "name": "stderr",
     "output_type": "stream",
     "text": [
      "100%|████████████████████████████████████████████████████████████████████████████████| 267/267 [00:07<00:00, 33.59it/s]\n",
      " 67%|██████████████████████████████████████████████████████                           | 30/45 [00:00<00:00, 146.42it/s]"
     ]
    },
    {
     "name": "stdout",
     "output_type": "stream",
     "text": [
      "train Loss: 1.5228 Acc: 0.9006\n",
      "Training complete in 0m 8s\n"
     ]
    },
    {
     "name": "stderr",
     "output_type": "stream",
     "text": [
      "100%|█████████████████████████████████████████████████████████████████████████████████| 45/45 [00:00<00:00, 146.02it/s]\n",
      "  1%|█▏                                                                                | 4/267 [00:00<00:07, 33.98it/s]"
     ]
    },
    {
     "name": "stdout",
     "output_type": "stream",
     "text": [
      "val Loss: 1.0815 Acc: 0.9083\n",
      "Training complete in 0m 0s\n",
      "\n",
      "EPOCH : 4/100\n"
     ]
    },
    {
     "name": "stderr",
     "output_type": "stream",
     "text": [
      "100%|████████████████████████████████████████████████████████████████████████████████| 267/267 [00:08<00:00, 33.16it/s]\n",
      " 36%|████████████████████████████▊                                                    | 16/45 [00:00<00:00, 154.21it/s]"
     ]
    },
    {
     "name": "stdout",
     "output_type": "stream",
     "text": [
      "train Loss: 0.8437 Acc: 0.9096\n",
      "Training complete in 0m 8s\n"
     ]
    },
    {
     "name": "stderr",
     "output_type": "stream",
     "text": [
      "100%|█████████████████████████████████████████████████████████████████████████████████| 45/45 [00:00<00:00, 141.00it/s]\n",
      "  1%|█▏                                                                                | 4/267 [00:00<00:07, 34.57it/s]"
     ]
    },
    {
     "name": "stdout",
     "output_type": "stream",
     "text": [
      "val Loss: 0.5973 Acc: 0.9182\n",
      "Training complete in 0m 0s\n",
      "\n",
      "EPOCH : 5/100\n"
     ]
    },
    {
     "name": "stderr",
     "output_type": "stream",
     "text": [
      "100%|████████████████████████████████████████████████████████████████████████████████| 267/267 [00:07<00:00, 33.86it/s]\n",
      " 67%|██████████████████████████████████████████████████████                           | 30/45 [00:00<00:00, 147.43it/s]"
     ]
    },
    {
     "name": "stdout",
     "output_type": "stream",
     "text": [
      "train Loss: 0.4993 Acc: 0.9228\n",
      "Training complete in 0m 8s\n"
     ]
    },
    {
     "name": "stderr",
     "output_type": "stream",
     "text": [
      "100%|█████████████████████████████████████████████████████████████████████████████████| 45/45 [00:00<00:00, 148.90it/s]\n",
      "  1%|█▏                                                                                | 4/267 [00:00<00:07, 33.42it/s]"
     ]
    },
    {
     "name": "stdout",
     "output_type": "stream",
     "text": [
      "val Loss: 0.3794 Acc: 0.9329\n",
      "Training complete in 0m 0s\n",
      "\n",
      "EPOCH : 6/100\n"
     ]
    },
    {
     "name": "stderr",
     "output_type": "stream",
     "text": [
      "100%|████████████████████████████████████████████████████████████████████████████████| 267/267 [00:07<00:00, 33.61it/s]\n",
      " 36%|████████████████████████████▊                                                    | 16/45 [00:00<00:00, 149.89it/s]"
     ]
    },
    {
     "name": "stdout",
     "output_type": "stream",
     "text": [
      "train Loss: 0.3312 Acc: 0.9372\n",
      "Training complete in 0m 8s\n"
     ]
    },
    {
     "name": "stderr",
     "output_type": "stream",
     "text": [
      "100%|█████████████████████████████████████████████████████████████████████████████████| 45/45 [00:00<00:00, 144.62it/s]\n",
      "  1%|█▏                                                                                | 4/267 [00:00<00:07, 34.86it/s]"
     ]
    },
    {
     "name": "stdout",
     "output_type": "stream",
     "text": [
      "val Loss: 0.2606 Acc: 0.9458\n",
      "Training complete in 0m 0s\n",
      "\n",
      "EPOCH : 7/100\n"
     ]
    },
    {
     "name": "stderr",
     "output_type": "stream",
     "text": [
      "100%|████████████████████████████████████████████████████████████████████████████████| 267/267 [00:07<00:00, 33.73it/s]\n",
      " 31%|█████████████████████████▏                                                       | 14/45 [00:00<00:00, 132.39it/s]"
     ]
    },
    {
     "name": "stdout",
     "output_type": "stream",
     "text": [
      "train Loss: 0.2357 Acc: 0.9466\n",
      "Training complete in 0m 8s\n"
     ]
    },
    {
     "name": "stderr",
     "output_type": "stream",
     "text": [
      "100%|█████████████████████████████████████████████████████████████████████████████████| 45/45 [00:00<00:00, 131.15it/s]\n",
      "  1%|█▏                                                                                | 4/267 [00:00<00:07, 33.69it/s]"
     ]
    },
    {
     "name": "stdout",
     "output_type": "stream",
     "text": [
      "val Loss: 0.1927 Acc: 0.9529\n",
      "Training complete in 0m 0s\n",
      "\n",
      "EPOCH : 8/100\n"
     ]
    },
    {
     "name": "stderr",
     "output_type": "stream",
     "text": [
      "100%|████████████████████████████████████████████████████████████████████████████████| 267/267 [00:07<00:00, 33.57it/s]\n",
      " 67%|██████████████████████████████████████████████████████                           | 30/45 [00:00<00:00, 145.29it/s]"
     ]
    },
    {
     "name": "stdout",
     "output_type": "stream",
     "text": [
      "train Loss: 0.1777 Acc: 0.9527\n",
      "Training complete in 0m 8s\n"
     ]
    },
    {
     "name": "stderr",
     "output_type": "stream",
     "text": [
      "100%|█████████████████████████████████████████████████████████████████████████████████| 45/45 [00:00<00:00, 137.13it/s]\n",
      "  1%|█▏                                                                                | 4/267 [00:00<00:07, 33.69it/s]"
     ]
    },
    {
     "name": "stdout",
     "output_type": "stream",
     "text": [
      "val Loss: 0.1511 Acc: 0.9577\n",
      "Training complete in 0m 0s\n",
      "\n",
      "EPOCH : 9/100\n"
     ]
    },
    {
     "name": "stderr",
     "output_type": "stream",
     "text": [
      "100%|████████████████████████████████████████████████████████████████████████████████| 267/267 [00:08<00:00, 33.29it/s]\n",
      " 33%|███████████████████████████                                                      | 15/45 [00:00<00:00, 144.57it/s]"
     ]
    },
    {
     "name": "stdout",
     "output_type": "stream",
     "text": [
      "train Loss: 0.1395 Acc: 0.9571\n",
      "Training complete in 0m 8s\n"
     ]
    },
    {
     "name": "stderr",
     "output_type": "stream",
     "text": [
      "100%|█████████████████████████████████████████████████████████████████████████████████| 45/45 [00:00<00:00, 135.08it/s]\n",
      "  1%|█▏                                                                                | 4/267 [00:00<00:07, 33.99it/s]"
     ]
    },
    {
     "name": "stdout",
     "output_type": "stream",
     "text": [
      "val Loss: 0.1235 Acc: 0.9613\n",
      "Training complete in 0m 0s\n",
      "\n",
      "EPOCH : 10/100\n"
     ]
    },
    {
     "name": "stderr",
     "output_type": "stream",
     "text": [
      "100%|████████████████████████████████████████████████████████████████████████████████| 267/267 [00:08<00:00, 33.08it/s]\n",
      " 64%|████████████████████████████████████████████████████▏                            | 29/45 [00:00<00:00, 143.89it/s]"
     ]
    },
    {
     "name": "stdout",
     "output_type": "stream",
     "text": [
      "train Loss: 0.1130 Acc: 0.9612\n",
      "Training complete in 0m 8s\n"
     ]
    },
    {
     "name": "stderr",
     "output_type": "stream",
     "text": [
      "100%|█████████████████████████████████████████████████████████████████████████████████| 45/45 [00:00<00:00, 142.77it/s]\n",
      "  1%|█▏                                                                                | 4/267 [00:00<00:07, 34.87it/s]"
     ]
    },
    {
     "name": "stdout",
     "output_type": "stream",
     "text": [
      "val Loss: 0.1040 Acc: 0.9645\n",
      "Training complete in 0m 0s\n",
      "\n",
      "EPOCH : 11/100\n"
     ]
    },
    {
     "name": "stderr",
     "output_type": "stream",
     "text": [
      "100%|████████████████████████████████████████████████████████████████████████████████| 267/267 [00:07<00:00, 33.78it/s]\n",
      " 33%|███████████████████████████                                                      | 15/45 [00:00<00:00, 143.28it/s]"
     ]
    },
    {
     "name": "stdout",
     "output_type": "stream",
     "text": [
      "train Loss: 0.0937 Acc: 0.9651\n",
      "Training complete in 0m 8s\n"
     ]
    },
    {
     "name": "stderr",
     "output_type": "stream",
     "text": [
      "100%|█████████████████████████████████████████████████████████████████████████████████| 45/45 [00:00<00:00, 137.57it/s]\n",
      "  1%|█▏                                                                                | 4/267 [00:00<00:07, 35.18it/s]"
     ]
    },
    {
     "name": "stdout",
     "output_type": "stream",
     "text": [
      "val Loss: 0.0898 Acc: 0.9677\n",
      "Training complete in 0m 0s\n",
      "\n",
      "EPOCH : 12/100\n"
     ]
    },
    {
     "name": "stderr",
     "output_type": "stream",
     "text": [
      "100%|████████████████████████████████████████████████████████████████████████████████| 267/267 [00:07<00:00, 34.76it/s]\n",
      " 33%|███████████████████████████                                                      | 15/45 [00:00<00:00, 145.98it/s]"
     ]
    },
    {
     "name": "stdout",
     "output_type": "stream",
     "text": [
      "train Loss: 0.0793 Acc: 0.9688\n",
      "Training complete in 0m 8s\n"
     ]
    },
    {
     "name": "stderr",
     "output_type": "stream",
     "text": [
      "100%|█████████████████████████████████████████████████████████████████████████████████| 45/45 [00:00<00:00, 139.26it/s]\n",
      "  1%|█▏                                                                                | 4/267 [00:00<00:07, 35.17it/s]"
     ]
    },
    {
     "name": "stdout",
     "output_type": "stream",
     "text": [
      "val Loss: 0.0793 Acc: 0.9707\n",
      "Training complete in 0m 0s\n",
      "\n",
      "EPOCH : 13/100\n"
     ]
    },
    {
     "name": "stderr",
     "output_type": "stream",
     "text": [
      "100%|████████████████████████████████████████████████████████████████████████████████| 267/267 [00:07<00:00, 34.23it/s]\n",
      " 64%|████████████████████████████████████████████████████▏                            | 29/45 [00:00<00:00, 140.20it/s]"
     ]
    },
    {
     "name": "stdout",
     "output_type": "stream",
     "text": [
      "train Loss: 0.0681 Acc: 0.9716\n",
      "Training complete in 0m 8s\n"
     ]
    },
    {
     "name": "stderr",
     "output_type": "stream",
     "text": [
      "100%|█████████████████████████████████████████████████████████████████████████████████| 45/45 [00:00<00:00, 142.32it/s]\n",
      "  1%|█▏                                                                                | 4/267 [00:00<00:07, 35.48it/s]"
     ]
    },
    {
     "name": "stdout",
     "output_type": "stream",
     "text": [
      "val Loss: 0.0713 Acc: 0.9732\n",
      "Training complete in 0m 0s\n",
      "\n",
      "EPOCH : 14/100\n"
     ]
    },
    {
     "name": "stderr",
     "output_type": "stream",
     "text": [
      "100%|████████████████████████████████████████████████████████████████████████████████| 267/267 [00:07<00:00, 34.56it/s]\n",
      " 33%|███████████████████████████                                                      | 15/45 [00:00<00:00, 146.06it/s]"
     ]
    },
    {
     "name": "stdout",
     "output_type": "stream",
     "text": [
      "train Loss: 0.0593 Acc: 0.9739\n",
      "Training complete in 0m 8s\n"
     ]
    },
    {
     "name": "stderr",
     "output_type": "stream",
     "text": [
      "100%|█████████████████████████████████████████████████████████████████████████████████| 45/45 [00:00<00:00, 138.42it/s]\n",
      "  1%|█▏                                                                                | 4/267 [00:00<00:07, 35.19it/s]"
     ]
    },
    {
     "name": "stdout",
     "output_type": "stream",
     "text": [
      "val Loss: 0.0651 Acc: 0.9750\n",
      "Training complete in 0m 0s\n",
      "\n",
      "EPOCH : 15/100\n"
     ]
    },
    {
     "name": "stderr",
     "output_type": "stream",
     "text": [
      "100%|████████████████████████████████████████████████████████████████████████████████| 267/267 [00:07<00:00, 34.47it/s]\n",
      " 33%|███████████████████████████                                                      | 15/45 [00:00<00:00, 144.62it/s]"
     ]
    },
    {
     "name": "stdout",
     "output_type": "stream",
     "text": [
      "train Loss: 0.0522 Acc: 0.9759\n",
      "Training complete in 0m 8s\n"
     ]
    },
    {
     "name": "stderr",
     "output_type": "stream",
     "text": [
      "100%|█████████████████████████████████████████████████████████████████████████████████| 45/45 [00:00<00:00, 142.34it/s]\n",
      "  1%|█▏                                                                                | 4/267 [00:00<00:07, 33.99it/s]"
     ]
    },
    {
     "name": "stdout",
     "output_type": "stream",
     "text": [
      "val Loss: 0.0601 Acc: 0.9764\n",
      "Training complete in 0m 0s\n",
      "\n",
      "EPOCH : 16/100\n"
     ]
    },
    {
     "name": "stderr",
     "output_type": "stream",
     "text": [
      "100%|████████████████████████████████████████████████████████████████████████████████| 267/267 [00:07<00:00, 34.42it/s]\n",
      " 33%|███████████████████████████                                                      | 15/45 [00:00<00:00, 144.57it/s]"
     ]
    },
    {
     "name": "stdout",
     "output_type": "stream",
     "text": [
      "train Loss: 0.0464 Acc: 0.9776\n",
      "Training complete in 0m 8s\n"
     ]
    },
    {
     "name": "stderr",
     "output_type": "stream",
     "text": [
      "100%|█████████████████████████████████████████████████████████████████████████████████| 45/45 [00:00<00:00, 136.30it/s]\n",
      "  1%|█▏                                                                                | 4/267 [00:00<00:07, 34.56it/s]"
     ]
    },
    {
     "name": "stdout",
     "output_type": "stream",
     "text": [
      "val Loss: 0.0560 Acc: 0.9780\n",
      "Training complete in 0m 0s\n",
      "\n",
      "EPOCH : 17/100\n"
     ]
    },
    {
     "name": "stderr",
     "output_type": "stream",
     "text": [
      "100%|████████████████████████████████████████████████████████████████████████████████| 267/267 [00:07<00:00, 34.23it/s]\n",
      " 33%|███████████████████████████                                                      | 15/45 [00:00<00:00, 146.03it/s]"
     ]
    },
    {
     "name": "stdout",
     "output_type": "stream",
     "text": [
      "train Loss: 0.0416 Acc: 0.9791\n",
      "Training complete in 0m 8s\n"
     ]
    },
    {
     "name": "stderr",
     "output_type": "stream",
     "text": [
      "100%|█████████████████████████████████████████████████████████████████████████████████| 45/45 [00:00<00:00, 139.26it/s]\n",
      "  1%|█▏                                                                                | 4/267 [00:00<00:07, 34.88it/s]"
     ]
    },
    {
     "name": "stdout",
     "output_type": "stream",
     "text": [
      "val Loss: 0.0526 Acc: 0.9793\n",
      "Training complete in 0m 0s\n",
      "\n",
      "EPOCH : 18/100\n"
     ]
    },
    {
     "name": "stderr",
     "output_type": "stream",
     "text": [
      "100%|████████████████████████████████████████████████████████████████████████████████| 267/267 [00:07<00:00, 34.39it/s]\n",
      " 33%|███████████████████████████                                                      | 15/45 [00:00<00:00, 143.20it/s]"
     ]
    },
    {
     "name": "stdout",
     "output_type": "stream",
     "text": [
      "train Loss: 0.0376 Acc: 0.9805\n",
      "Training complete in 0m 8s\n"
     ]
    },
    {
     "name": "stderr",
     "output_type": "stream",
     "text": [
      "100%|█████████████████████████████████████████████████████████████████████████████████| 45/45 [00:00<00:00, 141.44it/s]\n",
      "  1%|█▏                                                                                | 4/267 [00:00<00:07, 34.87it/s]"
     ]
    },
    {
     "name": "stdout",
     "output_type": "stream",
     "text": [
      "val Loss: 0.0497 Acc: 0.9807\n",
      "Training complete in 0m 0s\n",
      "\n",
      "EPOCH : 19/100\n"
     ]
    },
    {
     "name": "stderr",
     "output_type": "stream",
     "text": [
      "100%|████████████████████████████████████████████████████████████████████████████████| 267/267 [00:07<00:00, 33.68it/s]\n",
      " 31%|█████████████████████████▏                                                       | 14/45 [00:00<00:00, 131.15it/s]"
     ]
    },
    {
     "name": "stdout",
     "output_type": "stream",
     "text": [
      "train Loss: 0.0342 Acc: 0.9818\n",
      "Training complete in 0m 8s\n"
     ]
    },
    {
     "name": "stderr",
     "output_type": "stream",
     "text": [
      "100%|█████████████████████████████████████████████████████████████████████████████████| 45/45 [00:00<00:00, 131.15it/s]\n",
      "  1%|█▏                                                                                | 4/267 [00:00<00:07, 34.56it/s]"
     ]
    },
    {
     "name": "stdout",
     "output_type": "stream",
     "text": [
      "val Loss: 0.0474 Acc: 0.9821\n",
      "Training complete in 0m 0s\n",
      "\n",
      "EPOCH : 20/100\n"
     ]
    },
    {
     "name": "stderr",
     "output_type": "stream",
     "text": [
      "100%|████████████████████████████████████████████████████████████████████████████████| 267/267 [00:07<00:00, 33.85it/s]\n",
      " 31%|█████████████████████████▏                                                       | 14/45 [00:00<00:00, 138.94it/s]"
     ]
    },
    {
     "name": "stdout",
     "output_type": "stream",
     "text": [
      "train Loss: 0.0313 Acc: 0.9830\n",
      "Training complete in 0m 8s\n"
     ]
    },
    {
     "name": "stderr",
     "output_type": "stream",
     "text": [
      "100%|█████████████████████████████████████████████████████████████████████████████████| 45/45 [00:00<00:00, 133.10it/s]\n",
      "  1%|█▏                                                                                | 4/267 [00:00<00:08, 32.61it/s]"
     ]
    },
    {
     "name": "stdout",
     "output_type": "stream",
     "text": [
      "val Loss: 0.0454 Acc: 0.9832\n",
      "Training complete in 0m 0s\n",
      "\n",
      "EPOCH : 21/100\n"
     ]
    },
    {
     "name": "stderr",
     "output_type": "stream",
     "text": [
      "100%|████████████████████████████████████████████████████████████████████████████████| 267/267 [00:08<00:00, 32.18it/s]\n",
      " 31%|█████████████████████████▏                                                       | 14/45 [00:00<00:00, 133.69it/s]"
     ]
    },
    {
     "name": "stdout",
     "output_type": "stream",
     "text": [
      "train Loss: 0.0288 Acc: 0.9840\n",
      "Training complete in 0m 8s\n"
     ]
    },
    {
     "name": "stderr",
     "output_type": "stream",
     "text": [
      "100%|█████████████████████████████████████████████████████████████████████████████████| 45/45 [00:00<00:00, 126.02it/s]\n",
      "  1%|█▏                                                                                | 4/267 [00:00<00:08, 32.08it/s]"
     ]
    },
    {
     "name": "stdout",
     "output_type": "stream",
     "text": [
      "val Loss: 0.0437 Acc: 0.9842\n",
      "Training complete in 0m 0s\n",
      "\n",
      "EPOCH : 22/100\n"
     ]
    },
    {
     "name": "stderr",
     "output_type": "stream",
     "text": [
      "100%|████████████████████████████████████████████████████████████████████████████████| 267/267 [00:08<00:00, 32.19it/s]\n",
      " 31%|█████████████████████████▏                                                       | 14/45 [00:00<00:00, 132.39it/s]"
     ]
    },
    {
     "name": "stdout",
     "output_type": "stream",
     "text": [
      "train Loss: 0.0267 Acc: 0.9849\n",
      "Training complete in 0m 8s\n"
     ]
    },
    {
     "name": "stderr",
     "output_type": "stream",
     "text": [
      "100%|█████████████████████████████████████████████████████████████████████████████████| 45/45 [00:00<00:00, 130.40it/s]\n",
      "  1%|█▏                                                                                | 4/267 [00:00<00:08, 32.33it/s]"
     ]
    },
    {
     "name": "stdout",
     "output_type": "stream",
     "text": [
      "val Loss: 0.0423 Acc: 0.9850\n",
      "Training complete in 0m 0s\n",
      "\n",
      "EPOCH : 23/100\n"
     ]
    },
    {
     "name": "stderr",
     "output_type": "stream",
     "text": [
      "100%|████████████████████████████████████████████████████████████████████████████████| 267/267 [00:08<00:00, 31.96it/s]\n",
      " 29%|███████████████████████▍                                                         | 13/45 [00:00<00:00, 126.52it/s]"
     ]
    },
    {
     "name": "stdout",
     "output_type": "stream",
     "text": [
      "train Loss: 0.0248 Acc: 0.9856\n",
      "Training complete in 0m 8s\n"
     ]
    },
    {
     "name": "stderr",
     "output_type": "stream",
     "text": [
      "100%|█████████████████████████████████████████████████████████████████████████████████| 45/45 [00:00<00:00, 124.30it/s]\n",
      "  1%|█▏                                                                                | 4/267 [00:00<00:08, 31.32it/s]"
     ]
    },
    {
     "name": "stdout",
     "output_type": "stream",
     "text": [
      "val Loss: 0.0411 Acc: 0.9859\n",
      "Training complete in 0m 0s\n",
      "\n",
      "EPOCH : 24/100\n"
     ]
    },
    {
     "name": "stderr",
     "output_type": "stream",
     "text": [
      "100%|████████████████████████████████████████████████████████████████████████████████| 267/267 [00:08<00:00, 31.97it/s]\n",
      " 31%|█████████████████████████▏                                                       | 14/45 [00:00<00:00, 138.98it/s]"
     ]
    },
    {
     "name": "stdout",
     "output_type": "stream",
     "text": [
      "train Loss: 0.0232 Acc: 0.9863\n",
      "Training complete in 0m 8s\n"
     ]
    },
    {
     "name": "stderr",
     "output_type": "stream",
     "text": [
      "100%|█████████████████████████████████████████████████████████████████████████████████| 45/45 [00:00<00:00, 133.88it/s]\n",
      "  1%|█▏                                                                                | 4/267 [00:00<00:08, 32.60it/s]"
     ]
    },
    {
     "name": "stdout",
     "output_type": "stream",
     "text": [
      "val Loss: 0.0400 Acc: 0.9866\n",
      "Training complete in 0m 0s\n",
      "\n",
      "EPOCH : 25/100\n"
     ]
    },
    {
     "name": "stderr",
     "output_type": "stream",
     "text": [
      "100%|████████████████████████████████████████████████████████████████████████████████| 267/267 [00:08<00:00, 31.88it/s]\n",
      " 31%|█████████████████████████▏                                                       | 14/45 [00:00<00:00, 136.29it/s]"
     ]
    },
    {
     "name": "stdout",
     "output_type": "stream",
     "text": [
      "train Loss: 0.0217 Acc: 0.9869\n",
      "Training complete in 0m 8s\n"
     ]
    },
    {
     "name": "stderr",
     "output_type": "stream",
     "text": [
      "100%|█████████████████████████████████████████████████████████████████████████████████| 45/45 [00:00<00:00, 133.89it/s]\n",
      "  1%|█▏                                                                                | 4/267 [00:00<00:07, 33.69it/s]"
     ]
    },
    {
     "name": "stdout",
     "output_type": "stream",
     "text": [
      "val Loss: 0.0391 Acc: 0.9872\n",
      "Training complete in 0m 0s\n",
      "\n",
      "EPOCH : 26/100\n"
     ]
    },
    {
     "name": "stderr",
     "output_type": "stream",
     "text": [
      "100%|████████████████████████████████████████████████████████████████████████████████| 267/267 [00:08<00:00, 33.17it/s]\n",
      " 31%|█████████████████████████▏                                                       | 14/45 [00:00<00:00, 129.94it/s]"
     ]
    },
    {
     "name": "stdout",
     "output_type": "stream",
     "text": [
      "train Loss: 0.0204 Acc: 0.9875\n",
      "Training complete in 0m 8s\n"
     ]
    },
    {
     "name": "stderr",
     "output_type": "stream",
     "text": [
      "100%|█████████████████████████████████████████████████████████████████████████████████| 45/45 [00:00<00:00, 130.03it/s]\n",
      "  1%|▉                                                                                 | 3/267 [00:00<00:08, 29.78it/s]"
     ]
    },
    {
     "name": "stdout",
     "output_type": "stream",
     "text": [
      "val Loss: 0.0382 Acc: 0.9878\n",
      "Training complete in 0m 0s\n",
      "\n",
      "EPOCH : 27/100\n"
     ]
    },
    {
     "name": "stderr",
     "output_type": "stream",
     "text": [
      "100%|████████████████████████████████████████████████████████████████████████████████| 267/267 [00:08<00:00, 32.92it/s]\n",
      " 33%|███████████████████████████                                                      | 15/45 [00:00<00:00, 144.62it/s]"
     ]
    },
    {
     "name": "stdout",
     "output_type": "stream",
     "text": [
      "train Loss: 0.0192 Acc: 0.9880\n",
      "Training complete in 0m 8s\n"
     ]
    },
    {
     "name": "stderr",
     "output_type": "stream",
     "text": [
      "100%|█████████████████████████████████████████████████████████████████████████████████| 45/45 [00:00<00:00, 138.83it/s]\n",
      "  1%|█▏                                                                                | 4/267 [00:00<00:07, 33.70it/s]"
     ]
    },
    {
     "name": "stdout",
     "output_type": "stream",
     "text": [
      "val Loss: 0.0376 Acc: 0.9882\n",
      "Training complete in 0m 0s\n",
      "\n",
      "EPOCH : 28/100\n"
     ]
    },
    {
     "name": "stderr",
     "output_type": "stream",
     "text": [
      "100%|████████████████████████████████████████████████████████████████████████████████| 267/267 [00:07<00:00, 33.48it/s]\n",
      " 62%|██████████████████████████████████████████████████▍                              | 28/45 [00:00<00:00, 136.82it/s]"
     ]
    },
    {
     "name": "stdout",
     "output_type": "stream",
     "text": [
      "train Loss: 0.0182 Acc: 0.9884\n",
      "Training complete in 0m 8s\n"
     ]
    },
    {
     "name": "stderr",
     "output_type": "stream",
     "text": [
      "100%|█████████████████████████████████████████████████████████████████████████████████| 45/45 [00:00<00:00, 135.50it/s]\n",
      "  1%|█▏                                                                                | 4/267 [00:00<00:07, 34.57it/s]"
     ]
    },
    {
     "name": "stdout",
     "output_type": "stream",
     "text": [
      "val Loss: 0.0370 Acc: 0.9887\n",
      "Training complete in 0m 0s\n",
      "\n",
      "EPOCH : 29/100\n"
     ]
    },
    {
     "name": "stderr",
     "output_type": "stream",
     "text": [
      "100%|████████████████████████████████████████████████████████████████████████████████| 267/267 [00:07<00:00, 33.80it/s]\n",
      " 31%|█████████████████████████▏                                                       | 14/45 [00:00<00:00, 129.94it/s]"
     ]
    },
    {
     "name": "stdout",
     "output_type": "stream",
     "text": [
      "train Loss: 0.0172 Acc: 0.9889\n",
      "Training complete in 0m 8s\n"
     ]
    },
    {
     "name": "stderr",
     "output_type": "stream",
     "text": [
      "100%|█████████████████████████████████████████████████████████████████████████████████| 45/45 [00:00<00:00, 133.48it/s]\n",
      "  1%|█▏                                                                                | 4/267 [00:00<00:07, 34.28it/s]"
     ]
    },
    {
     "name": "stdout",
     "output_type": "stream",
     "text": [
      "val Loss: 0.0364 Acc: 0.9891\n",
      "Training complete in 0m 0s\n",
      "\n",
      "EPOCH : 30/100\n"
     ]
    },
    {
     "name": "stderr",
     "output_type": "stream",
     "text": [
      "100%|████████████████████████████████████████████████████████████████████████████████| 267/267 [00:07<00:00, 33.73it/s]\n",
      " 29%|███████████████████████▍                                                         | 13/45 [00:00<00:00, 129.02it/s]"
     ]
    },
    {
     "name": "stdout",
     "output_type": "stream",
     "text": [
      "train Loss: 0.0164 Acc: 0.9893\n",
      "Training complete in 0m 8s\n"
     ]
    },
    {
     "name": "stderr",
     "output_type": "stream",
     "text": [
      "100%|█████████████████████████████████████████████████████████████████████████████████| 45/45 [00:00<00:00, 133.48it/s]\n",
      "  1%|█▏                                                                                | 4/267 [00:00<00:08, 32.60it/s]"
     ]
    },
    {
     "name": "stdout",
     "output_type": "stream",
     "text": [
      "val Loss: 0.0360 Acc: 0.9895\n",
      "Training complete in 0m 0s\n",
      "\n",
      "EPOCH : 31/100\n"
     ]
    },
    {
     "name": "stderr",
     "output_type": "stream",
     "text": [
      "100%|████████████████████████████████████████████████████████████████████████████████| 267/267 [00:07<00:00, 33.61it/s]\n",
      " 33%|███████████████████████████                                                      | 15/45 [00:00<00:00, 141.85it/s]"
     ]
    },
    {
     "name": "stdout",
     "output_type": "stream",
     "text": [
      "train Loss: 0.0156 Acc: 0.9896\n",
      "Training complete in 0m 8s\n"
     ]
    },
    {
     "name": "stderr",
     "output_type": "stream",
     "text": [
      "100%|█████████████████████████████████████████████████████████████████████████████████| 45/45 [00:00<00:00, 134.28it/s]\n",
      "  1%|█▏                                                                                | 4/267 [00:00<00:07, 34.27it/s]"
     ]
    },
    {
     "name": "stdout",
     "output_type": "stream",
     "text": [
      "val Loss: 0.0356 Acc: 0.9899\n",
      "Training complete in 0m 0s\n",
      "\n",
      "EPOCH : 32/100\n"
     ]
    },
    {
     "name": "stderr",
     "output_type": "stream",
     "text": [
      "100%|████████████████████████████████████████████████████████████████████████████████| 267/267 [00:07<00:00, 33.64it/s]\n",
      " 33%|███████████████████████████                                                      | 15/45 [00:00<00:00, 140.56it/s]"
     ]
    },
    {
     "name": "stdout",
     "output_type": "stream",
     "text": [
      "train Loss: 0.0149 Acc: 0.9900\n",
      "Training complete in 0m 8s\n"
     ]
    },
    {
     "name": "stderr",
     "output_type": "stream",
     "text": [
      "100%|█████████████████████████████████████████████████████████████████████████████████| 45/45 [00:00<00:00, 135.90it/s]\n",
      "  1%|█▏                                                                                | 4/267 [00:00<00:07, 33.14it/s]"
     ]
    },
    {
     "name": "stdout",
     "output_type": "stream",
     "text": [
      "val Loss: 0.0352 Acc: 0.9901\n",
      "Training complete in 0m 0s\n",
      "\n",
      "EPOCH : 33/100\n"
     ]
    },
    {
     "name": "stderr",
     "output_type": "stream",
     "text": [
      "100%|████████████████████████████████████████████████████████████████████████████████| 267/267 [00:07<00:00, 33.67it/s]\n",
      " 29%|███████████████████████▍                                                         | 13/45 [00:00<00:00, 126.55it/s]"
     ]
    },
    {
     "name": "stdout",
     "output_type": "stream",
     "text": [
      "train Loss: 0.0142 Acc: 0.9903\n",
      "Training complete in 0m 8s\n"
     ]
    },
    {
     "name": "stderr",
     "output_type": "stream",
     "text": [
      "100%|█████████████████████████████████████████████████████████████████████████████████| 45/45 [00:00<00:00, 128.92it/s]\n",
      "  1%|█▏                                                                                | 4/267 [00:00<00:07, 34.28it/s]"
     ]
    },
    {
     "name": "stdout",
     "output_type": "stream",
     "text": [
      "val Loss: 0.0349 Acc: 0.9905\n",
      "Training complete in 0m 0s\n",
      "\n",
      "EPOCH : 34/100\n"
     ]
    },
    {
     "name": "stderr",
     "output_type": "stream",
     "text": [
      "100%|████████████████████████████████████████████████████████████████████████████████| 267/267 [00:08<00:00, 32.95it/s]\n",
      " 29%|███████████████████████▍                                                         | 13/45 [00:00<00:00, 122.97it/s]"
     ]
    },
    {
     "name": "stdout",
     "output_type": "stream",
     "text": [
      "train Loss: 0.0136 Acc: 0.9906\n",
      "Training complete in 0m 8s\n"
     ]
    },
    {
     "name": "stderr",
     "output_type": "stream",
     "text": [
      "100%|█████████████████████████████████████████████████████████████████████████████████| 45/45 [00:00<00:00, 122.27it/s]\n",
      "  1%|█▏                                                                                | 4/267 [00:00<00:08, 31.83it/s]"
     ]
    },
    {
     "name": "stdout",
     "output_type": "stream",
     "text": [
      "val Loss: 0.0347 Acc: 0.9908\n",
      "Training complete in 0m 0s\n",
      "\n",
      "EPOCH : 35/100\n"
     ]
    },
    {
     "name": "stderr",
     "output_type": "stream",
     "text": [
      "100%|████████████████████████████████████████████████████████████████████████████████| 267/267 [00:08<00:00, 31.14it/s]\n",
      " 31%|█████████████████████████▏                                                       | 14/45 [00:00<00:00, 132.39it/s]"
     ]
    },
    {
     "name": "stdout",
     "output_type": "stream",
     "text": [
      "train Loss: 0.0130 Acc: 0.9909\n",
      "Training complete in 0m 9s\n"
     ]
    },
    {
     "name": "stderr",
     "output_type": "stream",
     "text": [
      "100%|█████████████████████████████████████████████████████████████████████████████████| 45/45 [00:00<00:00, 120.97it/s]\n",
      "  1%|█▏                                                                                | 4/267 [00:00<00:08, 32.09it/s]"
     ]
    },
    {
     "name": "stdout",
     "output_type": "stream",
     "text": [
      "val Loss: 0.0345 Acc: 0.9910\n",
      "Training complete in 0m 0s\n",
      "\n",
      "EPOCH : 36/100\n"
     ]
    },
    {
     "name": "stderr",
     "output_type": "stream",
     "text": [
      "100%|████████████████████████████████████████████████████████████████████████████████| 267/267 [00:08<00:00, 31.71it/s]\n",
      " 31%|█████████████████████████▏                                                       | 14/45 [00:00<00:00, 133.65it/s]"
     ]
    },
    {
     "name": "stdout",
     "output_type": "stream",
     "text": [
      "train Loss: 0.0125 Acc: 0.9912\n",
      "Training complete in 0m 8s\n"
     ]
    },
    {
     "name": "stderr",
     "output_type": "stream",
     "text": [
      "100%|█████████████████████████████████████████████████████████████████████████████████| 45/45 [00:00<00:00, 124.30it/s]\n",
      "  1%|█▏                                                                                | 4/267 [00:00<00:08, 31.83it/s]"
     ]
    },
    {
     "name": "stdout",
     "output_type": "stream",
     "text": [
      "val Loss: 0.0343 Acc: 0.9913\n",
      "Training complete in 0m 0s\n",
      "\n",
      "EPOCH : 37/100\n"
     ]
    },
    {
     "name": "stderr",
     "output_type": "stream",
     "text": [
      "100%|████████████████████████████████████████████████████████████████████████████████| 267/267 [00:08<00:00, 31.53it/s]\n",
      " 31%|█████████████████████████▏                                                       | 14/45 [00:00<00:00, 127.58it/s]"
     ]
    },
    {
     "name": "stdout",
     "output_type": "stream",
     "text": [
      "train Loss: 0.0120 Acc: 0.9915\n",
      "Training complete in 0m 8s\n"
     ]
    },
    {
     "name": "stderr",
     "output_type": "stream",
     "text": [
      "100%|█████████████████████████████████████████████████████████████████████████████████| 45/45 [00:00<00:00, 119.36it/s]\n",
      "  1%|█▏                                                                                | 4/267 [00:00<00:08, 31.33it/s]"
     ]
    },
    {
     "name": "stdout",
     "output_type": "stream",
     "text": [
      "val Loss: 0.0341 Acc: 0.9917\n",
      "Training complete in 0m 0s\n",
      "\n",
      "EPOCH : 38/100\n"
     ]
    },
    {
     "name": "stderr",
     "output_type": "stream",
     "text": [
      "100%|████████████████████████████████████████████████████████████████████████████████| 267/267 [00:08<00:00, 31.55it/s]\n",
      " 31%|█████████████████████████▏                                                       | 14/45 [00:00<00:00, 136.29it/s]"
     ]
    },
    {
     "name": "stdout",
     "output_type": "stream",
     "text": [
      "train Loss: 0.0115 Acc: 0.9918\n",
      "Training complete in 0m 8s\n"
     ]
    },
    {
     "name": "stderr",
     "output_type": "stream",
     "text": [
      "100%|█████████████████████████████████████████████████████████████████████████████████| 45/45 [00:00<00:00, 121.95it/s]\n",
      "  1%|█▏                                                                                | 4/267 [00:00<00:08, 31.33it/s]"
     ]
    },
    {
     "name": "stdout",
     "output_type": "stream",
     "text": [
      "val Loss: 0.0340 Acc: 0.9920\n",
      "Training complete in 0m 0s\n",
      "\n",
      "EPOCH : 39/100\n"
     ]
    },
    {
     "name": "stderr",
     "output_type": "stream",
     "text": [
      "100%|████████████████████████████████████████████████████████████████████████████████| 267/267 [00:08<00:00, 31.40it/s]\n",
      " 31%|█████████████████████████▏                                                       | 14/45 [00:00<00:00, 134.94it/s]"
     ]
    },
    {
     "name": "stdout",
     "output_type": "stream",
     "text": [
      "train Loss: 0.0111 Acc: 0.9921\n",
      "Training complete in 0m 9s\n"
     ]
    },
    {
     "name": "stderr",
     "output_type": "stream",
     "text": [
      "100%|█████████████████████████████████████████████████████████████████████████████████| 45/45 [00:00<00:00, 132.70it/s]\n",
      "  1%|█▏                                                                                | 4/267 [00:00<00:08, 32.60it/s]"
     ]
    },
    {
     "name": "stdout",
     "output_type": "stream",
     "text": [
      "val Loss: 0.0339 Acc: 0.9923\n",
      "Training complete in 0m 0s\n",
      "\n",
      "EPOCH : 40/100\n"
     ]
    },
    {
     "name": "stderr",
     "output_type": "stream",
     "text": [
      "100%|████████████████████████████████████████████████████████████████████████████████| 267/267 [00:08<00:00, 32.65it/s]\n",
      " 33%|███████████████████████████                                                      | 15/45 [00:00<00:00, 143.24it/s]"
     ]
    },
    {
     "name": "stdout",
     "output_type": "stream",
     "text": [
      "train Loss: 0.0107 Acc: 0.9923\n",
      "Training complete in 0m 8s\n"
     ]
    },
    {
     "name": "stderr",
     "output_type": "stream",
     "text": [
      "100%|█████████████████████████████████████████████████████████████████████████████████| 45/45 [00:00<00:00, 133.89it/s]\n",
      "  1%|█▏                                                                                | 4/267 [00:00<00:07, 34.28it/s]"
     ]
    },
    {
     "name": "stdout",
     "output_type": "stream",
     "text": [
      "val Loss: 0.0339 Acc: 0.9925\n",
      "Training complete in 0m 0s\n",
      "\n",
      "EPOCH : 41/100\n"
     ]
    },
    {
     "name": "stderr",
     "output_type": "stream",
     "text": [
      "100%|████████████████████████████████████████████████████████████████████████████████| 267/267 [00:08<00:00, 33.08it/s]\n",
      " 29%|███████████████████████▍                                                         | 13/45 [00:00<00:00, 127.75it/s]"
     ]
    },
    {
     "name": "stdout",
     "output_type": "stream",
     "text": [
      "train Loss: 0.0103 Acc: 0.9925\n",
      "Training complete in 0m 8s\n"
     ]
    },
    {
     "name": "stderr",
     "output_type": "stream",
     "text": [
      "100%|█████████████████████████████████████████████████████████████████████████████████| 45/45 [00:00<00:00, 131.53it/s]\n",
      "  1%|█▏                                                                                | 4/267 [00:00<00:07, 33.98it/s]"
     ]
    },
    {
     "name": "stdout",
     "output_type": "stream",
     "text": [
      "val Loss: 0.0338 Acc: 0.9929\n",
      "Training complete in 0m 0s\n",
      "\n",
      "EPOCH : 42/100\n"
     ]
    },
    {
     "name": "stderr",
     "output_type": "stream",
     "text": [
      "100%|████████████████████████████████████████████████████████████████████████████████| 267/267 [00:08<00:00, 32.81it/s]\n",
      " 31%|█████████████████████████▏                                                       | 14/45 [00:00<00:00, 137.58it/s]"
     ]
    },
    {
     "name": "stdout",
     "output_type": "stream",
     "text": [
      "train Loss: 0.0099 Acc: 0.9928\n",
      "Training complete in 0m 8s\n"
     ]
    },
    {
     "name": "stderr",
     "output_type": "stream",
     "text": [
      "100%|█████████████████████████████████████████████████████████████████████████████████| 45/45 [00:00<00:00, 133.09it/s]\n",
      "  1%|█▏                                                                                | 4/267 [00:00<00:07, 34.28it/s]"
     ]
    },
    {
     "name": "stdout",
     "output_type": "stream",
     "text": [
      "val Loss: 0.0338 Acc: 0.9931\n",
      "Training complete in 0m 0s\n",
      "\n",
      "EPOCH : 43/100\n"
     ]
    },
    {
     "name": "stderr",
     "output_type": "stream",
     "text": [
      "100%|████████████████████████████████████████████████████████████████████████████████| 267/267 [00:07<00:00, 33.61it/s]\n",
      " 29%|███████████████████████▍                                                         | 13/45 [00:00<00:00, 127.76it/s]"
     ]
    },
    {
     "name": "stdout",
     "output_type": "stream",
     "text": [
      "train Loss: 0.0096 Acc: 0.9930\n",
      "Training complete in 0m 8s\n"
     ]
    },
    {
     "name": "stderr",
     "output_type": "stream",
     "text": [
      "100%|█████████████████████████████████████████████████████████████████████████████████| 45/45 [00:00<00:00, 132.31it/s]\n",
      "  1%|█▏                                                                                | 4/267 [00:00<00:07, 33.68it/s]"
     ]
    },
    {
     "name": "stdout",
     "output_type": "stream",
     "text": [
      "val Loss: 0.0337 Acc: 0.9933\n",
      "Training complete in 0m 0s\n",
      "\n",
      "EPOCH : 44/100\n"
     ]
    },
    {
     "name": "stderr",
     "output_type": "stream",
     "text": [
      "100%|████████████████████████████████████████████████████████████████████████████████| 267/267 [00:07<00:00, 33.60it/s]\n",
      " 33%|███████████████████████████                                                      | 15/45 [00:00<00:00, 144.59it/s]"
     ]
    },
    {
     "name": "stdout",
     "output_type": "stream",
     "text": [
      "train Loss: 0.0093 Acc: 0.9932\n",
      "Training complete in 0m 8s\n"
     ]
    },
    {
     "name": "stderr",
     "output_type": "stream",
     "text": [
      "100%|█████████████████████████████████████████████████████████████████████████████████| 45/45 [00:00<00:00, 136.72it/s]\n",
      "  1%|█▏                                                                                | 4/267 [00:00<00:07, 34.27it/s]"
     ]
    },
    {
     "name": "stdout",
     "output_type": "stream",
     "text": [
      "val Loss: 0.0337 Acc: 0.9935\n",
      "Training complete in 0m 0s\n",
      "\n",
      "EPOCH : 45/100\n"
     ]
    },
    {
     "name": "stderr",
     "output_type": "stream",
     "text": [
      "100%|████████████████████████████████████████████████████████████████████████████████| 267/267 [00:08<00:00, 33.31it/s]\n",
      " 31%|█████████████████████████▏                                                       | 14/45 [00:00<00:00, 139.02it/s]"
     ]
    },
    {
     "name": "stdout",
     "output_type": "stream",
     "text": [
      "train Loss: 0.0090 Acc: 0.9934\n",
      "Training complete in 0m 8s\n"
     ]
    },
    {
     "name": "stderr",
     "output_type": "stream",
     "text": [
      "100%|█████████████████████████████████████████████████████████████████████████████████| 45/45 [00:00<00:00, 124.99it/s]\n",
      "  1%|█▏                                                                                | 4/267 [00:00<00:08, 32.87it/s]"
     ]
    },
    {
     "name": "stdout",
     "output_type": "stream",
     "text": [
      "val Loss: 0.0337 Acc: 0.9937\n",
      "Training complete in 0m 0s\n",
      "\n",
      "EPOCH : 46/100\n"
     ]
    },
    {
     "name": "stderr",
     "output_type": "stream",
     "text": [
      "100%|████████████████████████████████████████████████████████████████████████████████| 267/267 [00:08<00:00, 33.30it/s]\n",
      " 31%|█████████████████████████▏                                                       | 14/45 [00:00<00:00, 137.56it/s]"
     ]
    },
    {
     "name": "stdout",
     "output_type": "stream",
     "text": [
      "train Loss: 0.0087 Acc: 0.9936\n",
      "Training complete in 0m 8s\n"
     ]
    },
    {
     "name": "stderr",
     "output_type": "stream",
     "text": [
      "100%|█████████████████████████████████████████████████████████████████████████████████| 45/45 [00:00<00:00, 134.68it/s]\n",
      "  1%|█▏                                                                                | 4/267 [00:00<00:07, 34.27it/s]"
     ]
    },
    {
     "name": "stdout",
     "output_type": "stream",
     "text": [
      "val Loss: 0.0338 Acc: 0.9939\n",
      "Training complete in 0m 0s\n",
      "\n",
      "EPOCH : 47/100\n"
     ]
    },
    {
     "name": "stderr",
     "output_type": "stream",
     "text": [
      "100%|████████████████████████████████████████████████████████████████████████████████| 267/267 [00:07<00:00, 33.62it/s]\n",
      " 29%|███████████████████████▍                                                         | 13/45 [00:00<00:00, 129.06it/s]"
     ]
    },
    {
     "name": "stdout",
     "output_type": "stream",
     "text": [
      "train Loss: 0.0084 Acc: 0.9938\n",
      "Training complete in 0m 8s\n"
     ]
    },
    {
     "name": "stderr",
     "output_type": "stream",
     "text": [
      "100%|█████████████████████████████████████████████████████████████████████████████████| 45/45 [00:00<00:00, 130.39it/s]\n",
      "  1%|█▏                                                                                | 4/267 [00:00<00:07, 33.15it/s]"
     ]
    },
    {
     "name": "stdout",
     "output_type": "stream",
     "text": [
      "val Loss: 0.0338 Acc: 0.9941\n",
      "Training complete in 0m 0s\n",
      "\n",
      "EPOCH : 48/100\n"
     ]
    },
    {
     "name": "stderr",
     "output_type": "stream",
     "text": [
      "100%|████████████████████████████████████████████████████████████████████████████████| 267/267 [00:07<00:00, 33.52it/s]\n",
      " 31%|█████████████████████████▏                                                       | 14/45 [00:00<00:00, 137.58it/s]"
     ]
    },
    {
     "name": "stdout",
     "output_type": "stream",
     "text": [
      "train Loss: 0.0082 Acc: 0.9940\n",
      "Training complete in 0m 8s\n"
     ]
    },
    {
     "name": "stderr",
     "output_type": "stream",
     "text": [
      "100%|█████████████████████████████████████████████████████████████████████████████████| 45/45 [00:00<00:00, 125.68it/s]\n",
      "  1%|█▏                                                                                | 4/267 [00:00<00:08, 31.82it/s]"
     ]
    },
    {
     "name": "stdout",
     "output_type": "stream",
     "text": [
      "val Loss: 0.0338 Acc: 0.9942\n",
      "Training complete in 0m 0s\n",
      "\n",
      "EPOCH : 49/100\n"
     ]
    },
    {
     "name": "stderr",
     "output_type": "stream",
     "text": [
      "100%|████████████████████████████████████████████████████████████████████████████████| 267/267 [00:08<00:00, 31.38it/s]\n",
      " 27%|█████████████████████▌                                                           | 12/45 [00:00<00:00, 116.82it/s]"
     ]
    },
    {
     "name": "stdout",
     "output_type": "stream",
     "text": [
      "train Loss: 0.0079 Acc: 0.9941\n",
      "Training complete in 0m 9s\n"
     ]
    },
    {
     "name": "stderr",
     "output_type": "stream",
     "text": [
      "100%|█████████████████████████████████████████████████████████████████████████████████| 45/45 [00:00<00:00, 114.23it/s]\n",
      "  1%|█▏                                                                                | 4/267 [00:00<00:08, 32.08it/s]"
     ]
    },
    {
     "name": "stdout",
     "output_type": "stream",
     "text": [
      "val Loss: 0.0339 Acc: 0.9943\n",
      "Training complete in 0m 0s\n",
      "\n",
      "EPOCH : 50/100\n"
     ]
    },
    {
     "name": "stderr",
     "output_type": "stream",
     "text": [
      "100%|████████████████████████████████████████████████████████████████████████████████| 267/267 [00:08<00:00, 31.06it/s]\n",
      " 31%|█████████████████████████▏                                                       | 14/45 [00:00<00:00, 134.98it/s]"
     ]
    },
    {
     "name": "stdout",
     "output_type": "stream",
     "text": [
      "train Loss: 0.0077 Acc: 0.9943\n",
      "Training complete in 0m 9s\n"
     ]
    },
    {
     "name": "stderr",
     "output_type": "stream",
     "text": [
      "100%|█████████████████████████████████████████████████████████████████████████████████| 45/45 [00:00<00:00, 125.33it/s]\n",
      "  1%|█▏                                                                                | 4/267 [00:00<00:08, 32.34it/s]"
     ]
    },
    {
     "name": "stdout",
     "output_type": "stream",
     "text": [
      "val Loss: 0.0339 Acc: 0.9944\n",
      "Training complete in 0m 0s\n",
      "\n",
      "EPOCH : 51/100\n"
     ]
    },
    {
     "name": "stderr",
     "output_type": "stream",
     "text": [
      "100%|████████████████████████████████████████████████████████████████████████████████| 267/267 [00:08<00:00, 31.41it/s]\n",
      " 31%|█████████████████████████▏                                                       | 14/45 [00:00<00:00, 129.26it/s]"
     ]
    },
    {
     "name": "stdout",
     "output_type": "stream",
     "text": [
      "train Loss: 0.0075 Acc: 0.9944\n",
      "Training complete in 0m 9s\n"
     ]
    },
    {
     "name": "stderr",
     "output_type": "stream",
     "text": [
      "100%|█████████████████████████████████████████████████████████████████████████████████| 45/45 [00:00<00:00, 123.08it/s]\n",
      "  1%|█▏                                                                                | 4/267 [00:00<00:08, 31.57it/s]"
     ]
    },
    {
     "name": "stdout",
     "output_type": "stream",
     "text": [
      "val Loss: 0.0340 Acc: 0.9946\n",
      "Training complete in 0m 0s\n",
      "\n",
      "EPOCH : 52/100\n"
     ]
    },
    {
     "name": "stderr",
     "output_type": "stream",
     "text": [
      "100%|████████████████████████████████████████████████████████████████████████████████| 267/267 [00:08<00:00, 31.42it/s]\n",
      " 60%|████████████████████████████████████████████████▌                                | 27/45 [00:00<00:00, 132.33it/s]"
     ]
    },
    {
     "name": "stdout",
     "output_type": "stream",
     "text": [
      "train Loss: 0.0073 Acc: 0.9946\n",
      "Training complete in 0m 9s\n"
     ]
    },
    {
     "name": "stderr",
     "output_type": "stream",
     "text": [
      "100%|█████████████████████████████████████████████████████████████████████████████████| 45/45 [00:00<00:00, 130.41it/s]\n",
      "  1%|█▏                                                                                | 4/267 [00:00<00:08, 31.33it/s]"
     ]
    },
    {
     "name": "stdout",
     "output_type": "stream",
     "text": [
      "val Loss: 0.0340 Acc: 0.9947\n",
      "Training complete in 0m 0s\n",
      "\n",
      "EPOCH : 53/100\n"
     ]
    },
    {
     "name": "stderr",
     "output_type": "stream",
     "text": [
      "100%|████████████████████████████████████████████████████████████████████████████████| 267/267 [00:08<00:00, 31.44it/s]\n",
      " 60%|████████████████████████████████████████████████▌                                | 27/45 [00:00<00:00, 134.10it/s]"
     ]
    },
    {
     "name": "stdout",
     "output_type": "stream",
     "text": [
      "train Loss: 0.0071 Acc: 0.9947\n",
      "Training complete in 0m 8s\n"
     ]
    },
    {
     "name": "stderr",
     "output_type": "stream",
     "text": [
      "100%|█████████████████████████████████████████████████████████████████████████████████| 45/45 [00:00<00:00, 129.66it/s]\n",
      "  1%|█▏                                                                                | 4/267 [00:00<00:08, 31.09it/s]"
     ]
    },
    {
     "name": "stdout",
     "output_type": "stream",
     "text": [
      "val Loss: 0.0341 Acc: 0.9948\n",
      "Training complete in 0m 0s\n",
      "\n",
      "EPOCH : 54/100\n"
     ]
    },
    {
     "name": "stderr",
     "output_type": "stream",
     "text": [
      "100%|████████████████████████████████████████████████████████████████████████████████| 267/267 [00:08<00:00, 32.20it/s]\n",
      " 29%|███████████████████████▍                                                         | 13/45 [00:00<00:00, 124.14it/s]"
     ]
    },
    {
     "name": "stdout",
     "output_type": "stream",
     "text": [
      "train Loss: 0.0069 Acc: 0.9949\n",
      "Training complete in 0m 8s\n"
     ]
    },
    {
     "name": "stderr",
     "output_type": "stream",
     "text": [
      "100%|█████████████████████████████████████████████████████████████████████████████████| 45/45 [00:00<00:00, 127.10it/s]\n",
      "  1%|█▏                                                                                | 4/267 [00:00<00:07, 33.98it/s]"
     ]
    },
    {
     "name": "stdout",
     "output_type": "stream",
     "text": [
      "val Loss: 0.0341 Acc: 0.9949\n",
      "Training complete in 0m 0s\n",
      "\n",
      "EPOCH : 55/100\n"
     ]
    },
    {
     "name": "stderr",
     "output_type": "stream",
     "text": [
      "100%|████████████████████████████████████████████████████████████████████████████████| 267/267 [00:08<00:00, 32.93it/s]\n",
      " 31%|█████████████████████████▏                                                       | 14/45 [00:00<00:00, 136.29it/s]"
     ]
    },
    {
     "name": "stdout",
     "output_type": "stream",
     "text": [
      "train Loss: 0.0067 Acc: 0.9950\n",
      "Training complete in 0m 8s\n"
     ]
    },
    {
     "name": "stderr",
     "output_type": "stream",
     "text": [
      "100%|█████████████████████████████████████████████████████████████████████████████████| 45/45 [00:00<00:00, 129.66it/s]\n",
      "  1%|█▏                                                                                | 4/267 [00:00<00:07, 33.99it/s]"
     ]
    },
    {
     "name": "stdout",
     "output_type": "stream",
     "text": [
      "val Loss: 0.0342 Acc: 0.9950\n",
      "Training complete in 0m 0s\n",
      "\n",
      "EPOCH : 56/100\n"
     ]
    },
    {
     "name": "stderr",
     "output_type": "stream",
     "text": [
      "100%|████████████████████████████████████████████████████████████████████████████████| 267/267 [00:08<00:00, 33.02it/s]\n",
      " 29%|███████████████████████▍                                                         | 13/45 [00:00<00:00, 127.79it/s]"
     ]
    },
    {
     "name": "stdout",
     "output_type": "stream",
     "text": [
      "train Loss: 0.0065 Acc: 0.9951\n",
      "Training complete in 0m 8s\n"
     ]
    },
    {
     "name": "stderr",
     "output_type": "stream",
     "text": [
      "100%|█████████████████████████████████████████████████████████████████████████████████| 45/45 [00:00<00:00, 130.03it/s]\n",
      "  1%|█▏                                                                                | 4/267 [00:00<00:07, 33.98it/s]"
     ]
    },
    {
     "name": "stdout",
     "output_type": "stream",
     "text": [
      "val Loss: 0.0343 Acc: 0.9951\n",
      "Training complete in 0m 0s\n",
      "\n",
      "EPOCH : 57/100\n"
     ]
    },
    {
     "name": "stderr",
     "output_type": "stream",
     "text": [
      "100%|████████████████████████████████████████████████████████████████████████████████| 267/267 [00:08<00:00, 32.74it/s]\n",
      " 27%|█████████████████████▌                                                           | 12/45 [00:00<00:00, 116.78it/s]"
     ]
    },
    {
     "name": "stdout",
     "output_type": "stream",
     "text": [
      "train Loss: 0.0063 Acc: 0.9953\n",
      "Training complete in 0m 8s\n"
     ]
    },
    {
     "name": "stderr",
     "output_type": "stream",
     "text": [
      "100%|█████████████████████████████████████████████████████████████████████████████████| 45/45 [00:00<00:00, 128.17it/s]\n",
      "  1%|█▏                                                                                | 4/267 [00:00<00:07, 33.14it/s]"
     ]
    },
    {
     "name": "stdout",
     "output_type": "stream",
     "text": [
      "val Loss: 0.0343 Acc: 0.9952\n",
      "Training complete in 0m 0s\n",
      "\n",
      "EPOCH : 58/100\n"
     ]
    },
    {
     "name": "stderr",
     "output_type": "stream",
     "text": [
      "100%|████████████████████████████████████████████████████████████████████████████████| 267/267 [00:08<00:00, 33.11it/s]\n",
      " 31%|█████████████████████████▏                                                       | 14/45 [00:00<00:00, 134.94it/s]"
     ]
    },
    {
     "name": "stdout",
     "output_type": "stream",
     "text": [
      "train Loss: 0.0062 Acc: 0.9954\n",
      "Training complete in 0m 8s\n"
     ]
    },
    {
     "name": "stderr",
     "output_type": "stream",
     "text": [
      "100%|█████████████████████████████████████████████████████████████████████████████████| 45/45 [00:00<00:00, 134.68it/s]\n",
      "  1%|█▏                                                                                | 4/267 [00:00<00:07, 34.27it/s]"
     ]
    },
    {
     "name": "stdout",
     "output_type": "stream",
     "text": [
      "val Loss: 0.0344 Acc: 0.9953\n",
      "Training complete in 0m 0s\n",
      "\n",
      "EPOCH : 59/100\n"
     ]
    },
    {
     "name": "stderr",
     "output_type": "stream",
     "text": [
      "100%|████████████████████████████████████████████████████████████████████████████████| 267/267 [00:08<00:00, 33.23it/s]\n",
      " 27%|█████████████████████▌                                                           | 12/45 [00:00<00:00, 115.69it/s]"
     ]
    },
    {
     "name": "stdout",
     "output_type": "stream",
     "text": [
      "train Loss: 0.0060 Acc: 0.9955\n",
      "Training complete in 0m 8s\n"
     ]
    },
    {
     "name": "stderr",
     "output_type": "stream",
     "text": [
      "100%|█████████████████████████████████████████████████████████████████████████████████| 45/45 [00:00<00:00, 126.74it/s]\n",
      "  1%|█▏                                                                                | 4/267 [00:00<00:08, 32.61it/s]"
     ]
    },
    {
     "name": "stdout",
     "output_type": "stream",
     "text": [
      "val Loss: 0.0345 Acc: 0.9954\n",
      "Training complete in 0m 0s\n",
      "\n",
      "EPOCH : 60/100\n"
     ]
    },
    {
     "name": "stderr",
     "output_type": "stream",
     "text": [
      "100%|████████████████████████████████████████████████████████████████████████████████| 267/267 [00:08<00:00, 33.31it/s]\n",
      " 31%|█████████████████████████▏                                                       | 14/45 [00:00<00:00, 137.59it/s]"
     ]
    },
    {
     "name": "stdout",
     "output_type": "stream",
     "text": [
      "train Loss: 0.0059 Acc: 0.9956\n",
      "Training complete in 0m 8s\n"
     ]
    },
    {
     "name": "stderr",
     "output_type": "stream",
     "text": [
      "100%|█████████████████████████████████████████████████████████████████████████████████| 45/45 [00:00<00:00, 133.88it/s]\n",
      "  1%|█▏                                                                                | 4/267 [00:00<00:07, 33.70it/s]"
     ]
    },
    {
     "name": "stdout",
     "output_type": "stream",
     "text": [
      "val Loss: 0.0346 Acc: 0.9955\n",
      "Training complete in 0m 0s\n",
      "\n",
      "EPOCH : 61/100\n"
     ]
    },
    {
     "name": "stderr",
     "output_type": "stream",
     "text": [
      "100%|████████████████████████████████████████████████████████████████████████████████| 267/267 [00:07<00:00, 33.46it/s]\n",
      " 31%|█████████████████████████▏                                                       | 14/45 [00:00<00:00, 136.24it/s]"
     ]
    },
    {
     "name": "stdout",
     "output_type": "stream",
     "text": [
      "train Loss: 0.0057 Acc: 0.9957\n",
      "Training complete in 0m 8s\n"
     ]
    },
    {
     "name": "stderr",
     "output_type": "stream",
     "text": [
      "100%|█████████████████████████████████████████████████████████████████████████████████| 45/45 [00:00<00:00, 122.28it/s]\n",
      "  1%|█▏                                                                                | 4/267 [00:00<00:07, 34.27it/s]"
     ]
    },
    {
     "name": "stdout",
     "output_type": "stream",
     "text": [
      "val Loss: 0.0347 Acc: 0.9956\n",
      "Training complete in 0m 0s\n",
      "\n",
      "EPOCH : 62/100\n"
     ]
    },
    {
     "name": "stderr",
     "output_type": "stream",
     "text": [
      "100%|████████████████████████████████████████████████████████████████████████████████| 267/267 [00:08<00:00, 33.20it/s]\n",
      " 31%|█████████████████████████▏                                                       | 14/45 [00:00<00:00, 132.39it/s]"
     ]
    },
    {
     "name": "stdout",
     "output_type": "stream",
     "text": [
      "train Loss: 0.0056 Acc: 0.9958\n",
      "Training complete in 0m 8s\n"
     ]
    },
    {
     "name": "stderr",
     "output_type": "stream",
     "text": [
      "100%|█████████████████████████████████████████████████████████████████████████████████| 45/45 [00:00<00:00, 120.32it/s]\n",
      "  1%|█▏                                                                                | 4/267 [00:00<00:08, 31.82it/s]"
     ]
    },
    {
     "name": "stdout",
     "output_type": "stream",
     "text": [
      "val Loss: 0.0347 Acc: 0.9957\n",
      "Training complete in 0m 0s\n",
      "\n",
      "EPOCH : 63/100\n"
     ]
    },
    {
     "name": "stderr",
     "output_type": "stream",
     "text": [
      "100%|████████████████████████████████████████████████████████████████████████████████| 267/267 [00:08<00:00, 31.22it/s]\n",
      " 31%|█████████████████████████▏                                                       | 14/45 [00:00<00:00, 131.16it/s]"
     ]
    },
    {
     "name": "stdout",
     "output_type": "stream",
     "text": [
      "train Loss: 0.0055 Acc: 0.9959\n",
      "Training complete in 0m 9s\n"
     ]
    },
    {
     "name": "stderr",
     "output_type": "stream",
     "text": [
      "100%|█████████████████████████████████████████████████████████████████████████████████| 45/45 [00:00<00:00, 125.33it/s]\n",
      "  1%|█▏                                                                                | 4/267 [00:00<00:08, 31.33it/s]"
     ]
    },
    {
     "name": "stdout",
     "output_type": "stream",
     "text": [
      "val Loss: 0.0348 Acc: 0.9957\n",
      "Training complete in 0m 0s\n",
      "\n",
      "EPOCH : 64/100\n"
     ]
    },
    {
     "name": "stderr",
     "output_type": "stream",
     "text": [
      "100%|████████████████████████████████████████████████████████████████████████████████| 267/267 [00:08<00:00, 31.29it/s]\n",
      " 31%|█████████████████████████▏                                                       | 14/45 [00:00<00:00, 132.39it/s]"
     ]
    },
    {
     "name": "stdout",
     "output_type": "stream",
     "text": [
      "train Loss: 0.0053 Acc: 0.9960\n",
      "Training complete in 0m 9s\n"
     ]
    },
    {
     "name": "stderr",
     "output_type": "stream",
     "text": [
      "100%|█████████████████████████████████████████████████████████████████████████████████| 45/45 [00:00<00:00, 122.93it/s]\n",
      "  1%|█▏                                                                                | 4/267 [00:00<00:08, 31.82it/s]"
     ]
    },
    {
     "name": "stdout",
     "output_type": "stream",
     "text": [
      "val Loss: 0.0349 Acc: 0.9958\n",
      "Training complete in 0m 0s\n",
      "\n",
      "EPOCH : 65/100\n"
     ]
    },
    {
     "name": "stderr",
     "output_type": "stream",
     "text": [
      "100%|████████████████████████████████████████████████████████████████████████████████| 267/267 [00:08<00:00, 30.85it/s]\n",
      " 31%|█████████████████████████▏                                                       | 14/45 [00:00<00:00, 132.39it/s]"
     ]
    },
    {
     "name": "stdout",
     "output_type": "stream",
     "text": [
      "train Loss: 0.0052 Acc: 0.9961\n",
      "Training complete in 0m 9s\n"
     ]
    },
    {
     "name": "stderr",
     "output_type": "stream",
     "text": [
      "100%|█████████████████████████████████████████████████████████████████████████████████| 45/45 [00:00<00:00, 124.30it/s]\n",
      "  1%|█▏                                                                                | 4/267 [00:00<00:08, 32.08it/s]"
     ]
    },
    {
     "name": "stdout",
     "output_type": "stream",
     "text": [
      "val Loss: 0.0350 Acc: 0.9959\n",
      "Training complete in 0m 0s\n",
      "\n",
      "EPOCH : 66/100\n"
     ]
    },
    {
     "name": "stderr",
     "output_type": "stream",
     "text": [
      "100%|████████████████████████████████████████████████████████████████████████████████| 267/267 [00:08<00:00, 31.17it/s]\n",
      " 58%|██████████████████████████████████████████████▊                                  | 26/45 [00:00<00:00, 126.80it/s]"
     ]
    },
    {
     "name": "stdout",
     "output_type": "stream",
     "text": [
      "train Loss: 0.0051 Acc: 0.9961\n",
      "Training complete in 0m 9s\n"
     ]
    },
    {
     "name": "stderr",
     "output_type": "stream",
     "text": [
      "100%|█████████████████████████████████████████████████████████████████████████████████| 45/45 [00:00<00:00, 125.68it/s]\n",
      "  1%|▉                                                                                 | 3/267 [00:00<00:09, 28.92it/s]"
     ]
    },
    {
     "name": "stdout",
     "output_type": "stream",
     "text": [
      "val Loss: 0.0351 Acc: 0.9960\n",
      "Training complete in 0m 0s\n",
      "\n",
      "EPOCH : 67/100\n"
     ]
    },
    {
     "name": "stderr",
     "output_type": "stream",
     "text": [
      "100%|████████████████████████████████████████████████████████████████████████████████| 267/267 [00:08<00:00, 31.18it/s]\n",
      " 24%|███████████████████▊                                                             | 11/45 [00:00<00:00, 106.03it/s]"
     ]
    },
    {
     "name": "stdout",
     "output_type": "stream",
     "text": [
      "train Loss: 0.0050 Acc: 0.9962\n",
      "Training complete in 0m 9s\n"
     ]
    },
    {
     "name": "stderr",
     "output_type": "stream",
     "text": [
      "100%|█████████████████████████████████████████████████████████████████████████████████| 45/45 [00:00<00:00, 117.50it/s]\n",
      "  1%|█▏                                                                                | 4/267 [00:00<00:08, 31.33it/s]"
     ]
    },
    {
     "name": "stdout",
     "output_type": "stream",
     "text": [
      "val Loss: 0.0352 Acc: 0.9960\n",
      "Training complete in 0m 0s\n",
      "\n",
      "EPOCH : 68/100\n"
     ]
    },
    {
     "name": "stderr",
     "output_type": "stream",
     "text": [
      "100%|████████████████████████████████████████████████████████████████████████████████| 267/267 [00:08<00:00, 32.41it/s]\n",
      " 31%|█████████████████████████▏                                                       | 14/45 [00:00<00:00, 138.99it/s]"
     ]
    },
    {
     "name": "stdout",
     "output_type": "stream",
     "text": [
      "train Loss: 0.0049 Acc: 0.9963\n",
      "Training complete in 0m 8s\n"
     ]
    },
    {
     "name": "stderr",
     "output_type": "stream",
     "text": [
      "100%|█████████████████████████████████████████████████████████████████████████████████| 45/45 [00:00<00:00, 132.32it/s]\n",
      "  1%|█▏                                                                                | 4/267 [00:00<00:07, 34.28it/s]"
     ]
    },
    {
     "name": "stdout",
     "output_type": "stream",
     "text": [
      "val Loss: 0.0354 Acc: 0.9961\n",
      "Training complete in 0m 0s\n",
      "\n",
      "EPOCH : 69/100\n"
     ]
    },
    {
     "name": "stderr",
     "output_type": "stream",
     "text": [
      "100%|████████████████████████████████████████████████████████████████████████████████| 267/267 [00:08<00:00, 32.84it/s]\n",
      " 60%|████████████████████████████████████████████████▌                                | 27/45 [00:00<00:00, 135.40it/s]"
     ]
    },
    {
     "name": "stdout",
     "output_type": "stream",
     "text": [
      "train Loss: 0.0048 Acc: 0.9964\n",
      "Training complete in 0m 8s\n"
     ]
    },
    {
     "name": "stderr",
     "output_type": "stream",
     "text": [
      "100%|█████████████████████████████████████████████████████████████████████████████████| 45/45 [00:00<00:00, 134.68it/s]\n",
      "  1%|█▏                                                                                | 4/267 [00:00<00:07, 33.69it/s]"
     ]
    },
    {
     "name": "stdout",
     "output_type": "stream",
     "text": [
      "val Loss: 0.0355 Acc: 0.9961\n",
      "Training complete in 0m 0s\n",
      "\n",
      "EPOCH : 70/100\n"
     ]
    },
    {
     "name": "stderr",
     "output_type": "stream",
     "text": [
      "100%|████████████████████████████████████████████████████████████████████████████████| 267/267 [00:08<00:00, 32.99it/s]\n",
      " 31%|█████████████████████████▏                                                       | 14/45 [00:00<00:00, 137.58it/s]"
     ]
    },
    {
     "name": "stdout",
     "output_type": "stream",
     "text": [
      "train Loss: 0.0047 Acc: 0.9964\n",
      "Training complete in 0m 8s\n"
     ]
    },
    {
     "name": "stderr",
     "output_type": "stream",
     "text": [
      "100%|█████████████████████████████████████████████████████████████████████████████████| 45/45 [00:00<00:00, 131.92it/s]\n",
      "  1%|█▏                                                                                | 4/267 [00:00<00:08, 32.33it/s]"
     ]
    },
    {
     "name": "stdout",
     "output_type": "stream",
     "text": [
      "val Loss: 0.0356 Acc: 0.9962\n",
      "Training complete in 0m 0s\n",
      "\n",
      "EPOCH : 71/100\n"
     ]
    },
    {
     "name": "stderr",
     "output_type": "stream",
     "text": [
      "100%|████████████████████████████████████████████████████████████████████████████████| 267/267 [00:07<00:00, 33.38it/s]\n",
      " 31%|█████████████████████████▏                                                       | 14/45 [00:00<00:00, 137.57it/s]"
     ]
    },
    {
     "name": "stdout",
     "output_type": "stream",
     "text": [
      "train Loss: 0.0046 Acc: 0.9965\n",
      "Training complete in 0m 8s\n"
     ]
    },
    {
     "name": "stderr",
     "output_type": "stream",
     "text": [
      "100%|█████████████████████████████████████████████████████████████████████████████████| 45/45 [00:00<00:00, 135.08it/s]\n",
      "  1%|█▏                                                                                | 4/267 [00:00<00:07, 34.27it/s]"
     ]
    },
    {
     "name": "stdout",
     "output_type": "stream",
     "text": [
      "val Loss: 0.0357 Acc: 0.9963\n",
      "Training complete in 0m 0s\n",
      "\n",
      "EPOCH : 72/100\n"
     ]
    },
    {
     "name": "stderr",
     "output_type": "stream",
     "text": [
      "100%|████████████████████████████████████████████████████████████████████████████████| 267/267 [00:08<00:00, 33.08it/s]\n",
      " 31%|█████████████████████████▏                                                       | 14/45 [00:00<00:00, 131.19it/s]"
     ]
    },
    {
     "name": "stdout",
     "output_type": "stream",
     "text": [
      "train Loss: 0.0045 Acc: 0.9966\n",
      "Training complete in 0m 8s\n"
     ]
    },
    {
     "name": "stderr",
     "output_type": "stream",
     "text": [
      "100%|█████████████████████████████████████████████████████████████████████████████████| 45/45 [00:00<00:00, 127.82it/s]\n",
      "  1%|█▏                                                                                | 4/267 [00:00<00:07, 33.70it/s]"
     ]
    },
    {
     "name": "stdout",
     "output_type": "stream",
     "text": [
      "val Loss: 0.0358 Acc: 0.9963\n",
      "Training complete in 0m 0s\n",
      "\n",
      "EPOCH : 73/100\n"
     ]
    },
    {
     "name": "stderr",
     "output_type": "stream",
     "text": [
      "100%|████████████████████████████████████████████████████████████████████████████████| 267/267 [00:08<00:00, 32.82it/s]\n",
      " 31%|█████████████████████████▏                                                       | 14/45 [00:00<00:00, 137.57it/s]"
     ]
    },
    {
     "name": "stdout",
     "output_type": "stream",
     "text": [
      "train Loss: 0.0044 Acc: 0.9966\n",
      "Training complete in 0m 8s\n"
     ]
    },
    {
     "name": "stderr",
     "output_type": "stream",
     "text": [
      "100%|█████████████████████████████████████████████████████████████████████████████████| 45/45 [00:00<00:00, 132.31it/s]\n",
      "  1%|█▏                                                                                | 4/267 [00:00<00:08, 32.60it/s]"
     ]
    },
    {
     "name": "stdout",
     "output_type": "stream",
     "text": [
      "val Loss: 0.0359 Acc: 0.9964\n",
      "Training complete in 0m 0s\n",
      "\n",
      "EPOCH : 74/100\n"
     ]
    },
    {
     "name": "stderr",
     "output_type": "stream",
     "text": [
      "100%|████████████████████████████████████████████████████████████████████████████████| 267/267 [00:08<00:00, 33.26it/s]\n",
      " 31%|█████████████████████████▏                                                       | 14/45 [00:00<00:00, 138.94it/s]"
     ]
    },
    {
     "name": "stdout",
     "output_type": "stream",
     "text": [
      "train Loss: 0.0043 Acc: 0.9967\n",
      "Training complete in 0m 8s\n"
     ]
    },
    {
     "name": "stderr",
     "output_type": "stream",
     "text": [
      "100%|█████████████████████████████████████████████████████████████████████████████████| 45/45 [00:00<00:00, 135.48it/s]\n",
      "  1%|█▏                                                                                | 4/267 [00:00<00:07, 34.27it/s]"
     ]
    },
    {
     "name": "stdout",
     "output_type": "stream",
     "text": [
      "val Loss: 0.0360 Acc: 0.9965\n",
      "Training complete in 0m 0s\n",
      "\n",
      "EPOCH : 75/100\n"
     ]
    },
    {
     "name": "stderr",
     "output_type": "stream",
     "text": [
      "100%|████████████████████████████████████████████████████████████████████████████████| 267/267 [00:08<00:00, 33.29it/s]\n",
      " 33%|███████████████████████████                                                      | 15/45 [00:00<00:00, 140.52it/s]"
     ]
    },
    {
     "name": "stdout",
     "output_type": "stream",
     "text": [
      "train Loss: 0.0042 Acc: 0.9967\n",
      "Training complete in 0m 8s\n"
     ]
    },
    {
     "name": "stderr",
     "output_type": "stream",
     "text": [
      "100%|█████████████████████████████████████████████████████████████████████████████████| 45/45 [00:00<00:00, 135.50it/s]\n",
      "  1%|█▏                                                                                | 4/267 [00:00<00:07, 33.70it/s]"
     ]
    },
    {
     "name": "stdout",
     "output_type": "stream",
     "text": [
      "val Loss: 0.0362 Acc: 0.9966\n",
      "Training complete in 0m 0s\n",
      "\n",
      "EPOCH : 76/100\n"
     ]
    },
    {
     "name": "stderr",
     "output_type": "stream",
     "text": [
      "100%|████████████████████████████████████████████████████████████████████████████████| 267/267 [00:08<00:00, 33.10it/s]\n",
      " 60%|████████████████████████████████████████████████▌                                | 27/45 [00:00<00:00, 131.06it/s]"
     ]
    },
    {
     "name": "stdout",
     "output_type": "stream",
     "text": [
      "train Loss: 0.0041 Acc: 0.9968\n",
      "Training complete in 0m 8s\n"
     ]
    },
    {
     "name": "stderr",
     "output_type": "stream",
     "text": [
      "100%|█████████████████████████████████████████████████████████████████████████████████| 45/45 [00:00<00:00, 128.55it/s]\n",
      "  1%|█▏                                                                                | 4/267 [00:00<00:08, 32.60it/s]"
     ]
    },
    {
     "name": "stdout",
     "output_type": "stream",
     "text": [
      "val Loss: 0.0363 Acc: 0.9966\n",
      "Training complete in 0m 0s\n",
      "\n",
      "EPOCH : 77/100\n"
     ]
    },
    {
     "name": "stderr",
     "output_type": "stream",
     "text": [
      "100%|████████████████████████████████████████████████████████████████████████████████| 267/267 [00:08<00:00, 31.37it/s]\n",
      " 29%|███████████████████████▍                                                         | 13/45 [00:00<00:00, 129.06it/s]"
     ]
    },
    {
     "name": "stdout",
     "output_type": "stream",
     "text": [
      "train Loss: 0.0041 Acc: 0.9968\n",
      "Training complete in 0m 9s\n"
     ]
    },
    {
     "name": "stderr",
     "output_type": "stream",
     "text": [
      "100%|█████████████████████████████████████████████████████████████████████████████████| 45/45 [00:00<00:00, 124.64it/s]\n",
      "  1%|█▏                                                                                | 4/267 [00:00<00:08, 31.08it/s]"
     ]
    },
    {
     "name": "stdout",
     "output_type": "stream",
     "text": [
      "val Loss: 0.0364 Acc: 0.9967\n",
      "Training complete in 0m 0s\n",
      "\n",
      "EPOCH : 78/100\n"
     ]
    },
    {
     "name": "stderr",
     "output_type": "stream",
     "text": [
      "100%|████████████████████████████████████████████████████████████████████████████████| 267/267 [00:08<00:00, 31.32it/s]\n",
      " 31%|█████████████████████████▏                                                       | 14/45 [00:00<00:00, 128.76it/s]"
     ]
    },
    {
     "name": "stdout",
     "output_type": "stream",
     "text": [
      "train Loss: 0.0040 Acc: 0.9969\n",
      "Training complete in 0m 9s\n"
     ]
    },
    {
     "name": "stderr",
     "output_type": "stream",
     "text": [
      "100%|█████████████████████████████████████████████████████████████████████████████████| 45/45 [00:00<00:00, 123.27it/s]\n",
      "  1%|█▏                                                                                | 4/267 [00:00<00:08, 31.08it/s]"
     ]
    },
    {
     "name": "stdout",
     "output_type": "stream",
     "text": [
      "val Loss: 0.0365 Acc: 0.9967\n",
      "Training complete in 0m 0s\n",
      "\n",
      "EPOCH : 79/100\n"
     ]
    },
    {
     "name": "stderr",
     "output_type": "stream",
     "text": [
      "100%|████████████████████████████████████████████████████████████████████████████████| 267/267 [00:08<00:00, 31.26it/s]\n",
      " 29%|███████████████████████▍                                                         | 13/45 [00:00<00:00, 120.66it/s]"
     ]
    },
    {
     "name": "stdout",
     "output_type": "stream",
     "text": [
      "train Loss: 0.0039 Acc: 0.9969\n",
      "Training complete in 0m 9s\n"
     ]
    },
    {
     "name": "stderr",
     "output_type": "stream",
     "text": [
      "100%|█████████████████████████████████████████████████████████████████████████████████| 45/45 [00:00<00:00, 125.32it/s]\n",
      "  1%|█▏                                                                                | 4/267 [00:00<00:08, 30.95it/s]"
     ]
    },
    {
     "name": "stdout",
     "output_type": "stream",
     "text": [
      "val Loss: 0.0367 Acc: 0.9968\n",
      "Training complete in 0m 0s\n",
      "\n",
      "EPOCH : 80/100\n"
     ]
    },
    {
     "name": "stderr",
     "output_type": "stream",
     "text": [
      "100%|████████████████████████████████████████████████████████████████████████████████| 267/267 [00:08<00:00, 30.48it/s]\n",
      " 29%|███████████████████████▍                                                         | 13/45 [00:00<00:00, 129.02it/s]"
     ]
    },
    {
     "name": "stdout",
     "output_type": "stream",
     "text": [
      "train Loss: 0.0038 Acc: 0.9970\n",
      "Training complete in 0m 9s\n"
     ]
    },
    {
     "name": "stderr",
     "output_type": "stream",
     "text": [
      "100%|█████████████████████████████████████████████████████████████████████████████████| 45/45 [00:00<00:00, 124.63it/s]\n",
      "  1%|█▏                                                                                | 4/267 [00:00<00:08, 32.09it/s]"
     ]
    },
    {
     "name": "stdout",
     "output_type": "stream",
     "text": [
      "val Loss: 0.0368 Acc: 0.9968\n",
      "Training complete in 0m 0s\n",
      "\n",
      "EPOCH : 81/100\n"
     ]
    },
    {
     "name": "stderr",
     "output_type": "stream",
     "text": [
      "100%|████████████████████████████████████████████████████████████████████████████████| 267/267 [00:08<00:00, 31.02it/s]\n",
      " 31%|█████████████████████████▏                                                       | 14/45 [00:00<00:00, 128.78it/s]"
     ]
    },
    {
     "name": "stdout",
     "output_type": "stream",
     "text": [
      "train Loss: 0.0038 Acc: 0.9971\n",
      "Training complete in 0m 9s\n"
     ]
    },
    {
     "name": "stderr",
     "output_type": "stream",
     "text": [
      "100%|█████████████████████████████████████████████████████████████████████████████████| 45/45 [00:00<00:00, 128.18it/s]\n",
      "  1%|█▏                                                                                | 4/267 [00:00<00:08, 32.34it/s]"
     ]
    },
    {
     "name": "stdout",
     "output_type": "stream",
     "text": [
      "val Loss: 0.0369 Acc: 0.9969\n",
      "Training complete in 0m 0s\n",
      "\n",
      "EPOCH : 82/100\n"
     ]
    },
    {
     "name": "stderr",
     "output_type": "stream",
     "text": [
      "100%|████████████████████████████████████████████████████████████████████████████████| 267/267 [00:08<00:00, 32.12it/s]\n",
      " 31%|█████████████████████████▏                                                       | 14/45 [00:00<00:00, 134.94it/s]"
     ]
    },
    {
     "name": "stdout",
     "output_type": "stream",
     "text": [
      "train Loss: 0.0037 Acc: 0.9971\n",
      "Training complete in 0m 8s\n"
     ]
    },
    {
     "name": "stderr",
     "output_type": "stream",
     "text": [
      "100%|█████████████████████████████████████████████████████████████████████████████████| 45/45 [00:00<00:00, 127.10it/s]\n",
      "  1%|█▏                                                                                | 4/267 [00:00<00:07, 33.14it/s]"
     ]
    },
    {
     "name": "stdout",
     "output_type": "stream",
     "text": [
      "val Loss: 0.0370 Acc: 0.9969\n",
      "Training complete in 0m 0s\n",
      "\n",
      "EPOCH : 83/100\n"
     ]
    },
    {
     "name": "stderr",
     "output_type": "stream",
     "text": [
      "100%|████████████████████████████████████████████████████████████████████████████████| 267/267 [00:08<00:00, 32.64it/s]\n",
      " 31%|█████████████████████████▏                                                       | 14/45 [00:00<00:00, 136.25it/s]"
     ]
    },
    {
     "name": "stdout",
     "output_type": "stream",
     "text": [
      "train Loss: 0.0036 Acc: 0.9972\n",
      "Training complete in 0m 8s\n"
     ]
    },
    {
     "name": "stderr",
     "output_type": "stream",
     "text": [
      "100%|█████████████████████████████████████████████████████████████████████████████████| 45/45 [00:00<00:00, 124.63it/s]\n",
      "  1%|█▏                                                                                | 4/267 [00:00<00:07, 33.69it/s]"
     ]
    },
    {
     "name": "stdout",
     "output_type": "stream",
     "text": [
      "val Loss: 0.0372 Acc: 0.9969\n",
      "Training complete in 0m 0s\n",
      "\n",
      "EPOCH : 84/100\n"
     ]
    },
    {
     "name": "stderr",
     "output_type": "stream",
     "text": [
      "100%|████████████████████████████████████████████████████████████████████████████████| 267/267 [00:08<00:00, 32.89it/s]\n",
      " 31%|█████████████████████████▏                                                       | 14/45 [00:00<00:00, 136.24it/s]"
     ]
    },
    {
     "name": "stdout",
     "output_type": "stream",
     "text": [
      "train Loss: 0.0036 Acc: 0.9972\n",
      "Training complete in 0m 8s\n"
     ]
    },
    {
     "name": "stderr",
     "output_type": "stream",
     "text": [
      "100%|█████████████████████████████████████████████████████████████████████████████████| 45/45 [00:00<00:00, 129.65it/s]\n",
      "  1%|█▏                                                                                | 4/267 [00:00<00:07, 33.98it/s]"
     ]
    },
    {
     "name": "stdout",
     "output_type": "stream",
     "text": [
      "val Loss: 0.0373 Acc: 0.9970\n",
      "Training complete in 0m 0s\n",
      "\n",
      "EPOCH : 85/100\n"
     ]
    },
    {
     "name": "stderr",
     "output_type": "stream",
     "text": [
      "100%|████████████████████████████████████████████████████████████████████████████████| 267/267 [00:08<00:00, 33.27it/s]\n",
      " 31%|█████████████████████████▏                                                       | 14/45 [00:00<00:00, 134.93it/s]"
     ]
    },
    {
     "name": "stdout",
     "output_type": "stream",
     "text": [
      "train Loss: 0.0035 Acc: 0.9973\n",
      "Training complete in 0m 8s\n"
     ]
    },
    {
     "name": "stderr",
     "output_type": "stream",
     "text": [
      "100%|█████████████████████████████████████████████████████████████████████████████████| 45/45 [00:00<00:00, 129.27it/s]\n",
      "  1%|█▏                                                                                | 4/267 [00:00<00:07, 33.41it/s]"
     ]
    },
    {
     "name": "stdout",
     "output_type": "stream",
     "text": [
      "val Loss: 0.0374 Acc: 0.9970\n",
      "Training complete in 0m 0s\n",
      "\n",
      "EPOCH : 86/100\n"
     ]
    },
    {
     "name": "stderr",
     "output_type": "stream",
     "text": [
      "100%|████████████████████████████████████████████████████████████████████████████████| 267/267 [00:08<00:00, 33.27it/s]\n",
      " 31%|█████████████████████████▏                                                       | 14/45 [00:00<00:00, 138.95it/s]"
     ]
    },
    {
     "name": "stdout",
     "output_type": "stream",
     "text": [
      "train Loss: 0.0034 Acc: 0.9973\n",
      "Training complete in 0m 8s\n"
     ]
    },
    {
     "name": "stderr",
     "output_type": "stream",
     "text": [
      "100%|█████████████████████████████████████████████████████████████████████████████████| 45/45 [00:00<00:00, 133.88it/s]\n",
      "  1%|█▏                                                                                | 4/267 [00:00<00:07, 33.69it/s]"
     ]
    },
    {
     "name": "stdout",
     "output_type": "stream",
     "text": [
      "val Loss: 0.0375 Acc: 0.9971\n",
      "Training complete in 0m 0s\n",
      "\n",
      "EPOCH : 87/100\n"
     ]
    },
    {
     "name": "stderr",
     "output_type": "stream",
     "text": [
      "100%|████████████████████████████████████████████████████████████████████████████████| 267/267 [00:08<00:00, 33.10it/s]\n",
      " 60%|████████████████████████████████████████████████▌                                | 27/45 [00:00<00:00, 131.17it/s]"
     ]
    },
    {
     "name": "stdout",
     "output_type": "stream",
     "text": [
      "train Loss: 0.0034 Acc: 0.9974\n",
      "Training complete in 0m 8s\n"
     ]
    },
    {
     "name": "stderr",
     "output_type": "stream",
     "text": [
      "100%|█████████████████████████████████████████████████████████████████████████████████| 45/45 [00:00<00:00, 131.55it/s]\n",
      "  1%|█▏                                                                                | 4/267 [00:00<00:08, 32.87it/s]"
     ]
    },
    {
     "name": "stdout",
     "output_type": "stream",
     "text": [
      "val Loss: 0.0377 Acc: 0.9971\n",
      "Training complete in 0m 0s\n",
      "\n",
      "EPOCH : 88/100\n"
     ]
    },
    {
     "name": "stderr",
     "output_type": "stream",
     "text": [
      "100%|████████████████████████████████████████████████████████████████████████████████| 267/267 [00:08<00:00, 32.64it/s]\n",
      " 31%|█████████████████████████▏                                                       | 14/45 [00:00<00:00, 137.58it/s]"
     ]
    },
    {
     "name": "stdout",
     "output_type": "stream",
     "text": [
      "train Loss: 0.0033 Acc: 0.9974\n",
      "Training complete in 0m 8s\n"
     ]
    },
    {
     "name": "stderr",
     "output_type": "stream",
     "text": [
      "100%|█████████████████████████████████████████████████████████████████████████████████| 45/45 [00:00<00:00, 133.09it/s]\n",
      "  1%|█▏                                                                                | 4/267 [00:00<00:07, 34.27it/s]"
     ]
    },
    {
     "name": "stdout",
     "output_type": "stream",
     "text": [
      "val Loss: 0.0378 Acc: 0.9972\n",
      "Training complete in 0m 0s\n",
      "\n",
      "EPOCH : 89/100\n"
     ]
    },
    {
     "name": "stderr",
     "output_type": "stream",
     "text": [
      "100%|████████████████████████████████████████████████████████████████████████████████| 267/267 [00:08<00:00, 33.15it/s]\n",
      " 31%|█████████████████████████▏                                                       | 14/45 [00:00<00:00, 134.93it/s]"
     ]
    },
    {
     "name": "stdout",
     "output_type": "stream",
     "text": [
      "train Loss: 0.0033 Acc: 0.9975\n",
      "Training complete in 0m 8s\n"
     ]
    },
    {
     "name": "stderr",
     "output_type": "stream",
     "text": [
      "100%|█████████████████████████████████████████████████████████████████████████████████| 45/45 [00:00<00:00, 133.89it/s]\n",
      "  1%|█▏                                                                                | 4/267 [00:00<00:07, 34.27it/s]"
     ]
    },
    {
     "name": "stdout",
     "output_type": "stream",
     "text": [
      "val Loss: 0.0379 Acc: 0.9972\n",
      "Training complete in 0m 0s\n",
      "\n",
      "EPOCH : 90/100\n"
     ]
    },
    {
     "name": "stderr",
     "output_type": "stream",
     "text": [
      "100%|████████████████████████████████████████████████████████████████████████████████| 267/267 [00:08<00:00, 32.78it/s]\n",
      " 31%|█████████████████████████▏                                                       | 14/45 [00:00<00:00, 133.69it/s]"
     ]
    },
    {
     "name": "stdout",
     "output_type": "stream",
     "text": [
      "train Loss: 0.0032 Acc: 0.9975\n",
      "Training complete in 0m 8s\n"
     ]
    },
    {
     "name": "stderr",
     "output_type": "stream",
     "text": [
      "100%|█████████████████████████████████████████████████████████████████████████████████| 45/45 [00:00<00:00, 127.46it/s]\n",
      "  1%|█▏                                                                                | 4/267 [00:00<00:08, 30.58it/s]"
     ]
    },
    {
     "name": "stdout",
     "output_type": "stream",
     "text": [
      "val Loss: 0.0381 Acc: 0.9973\n",
      "Training complete in 0m 0s\n",
      "\n",
      "EPOCH : 91/100\n"
     ]
    },
    {
     "name": "stderr",
     "output_type": "stream",
     "text": [
      "100%|████████████████████████████████████████████████████████████████████████████████| 267/267 [00:08<00:00, 31.29it/s]\n",
      " 31%|█████████████████████████▏                                                       | 14/45 [00:00<00:00, 132.43it/s]"
     ]
    },
    {
     "name": "stdout",
     "output_type": "stream",
     "text": [
      "train Loss: 0.0032 Acc: 0.9976\n",
      "Training complete in 0m 9s\n"
     ]
    },
    {
     "name": "stderr",
     "output_type": "stream",
     "text": [
      "100%|█████████████████████████████████████████████████████████████████████████████████| 45/45 [00:00<00:00, 128.92it/s]\n",
      "  1%|█▏                                                                                | 4/267 [00:00<00:08, 31.33it/s]"
     ]
    },
    {
     "name": "stdout",
     "output_type": "stream",
     "text": [
      "val Loss: 0.0382 Acc: 0.9973\n",
      "Training complete in 0m 0s\n",
      "\n",
      "EPOCH : 92/100\n"
     ]
    },
    {
     "name": "stderr",
     "output_type": "stream",
     "text": [
      "100%|████████████████████████████████████████████████████████████████████████████████| 267/267 [00:08<00:00, 31.28it/s]\n",
      " 31%|█████████████████████████▏                                                       | 14/45 [00:00<00:00, 128.79it/s]"
     ]
    },
    {
     "name": "stdout",
     "output_type": "stream",
     "text": [
      "train Loss: 0.0031 Acc: 0.9976\n",
      "Training complete in 0m 9s\n"
     ]
    },
    {
     "name": "stderr",
     "output_type": "stream",
     "text": [
      "100%|█████████████████████████████████████████████████████████████████████████████████| 45/45 [00:00<00:00, 127.10it/s]\n",
      "  1%|█▏                                                                                | 4/267 [00:00<00:08, 32.08it/s]"
     ]
    },
    {
     "name": "stdout",
     "output_type": "stream",
     "text": [
      "val Loss: 0.0383 Acc: 0.9974\n",
      "Training complete in 0m 0s\n",
      "\n",
      "EPOCH : 93/100\n"
     ]
    },
    {
     "name": "stderr",
     "output_type": "stream",
     "text": [
      "100%|████████████████████████████████████████████████████████████████████████████████| 267/267 [00:08<00:00, 31.26it/s]\n",
      " 27%|█████████████████████▌                                                           | 12/45 [00:00<00:00, 119.13it/s]"
     ]
    },
    {
     "name": "stdout",
     "output_type": "stream",
     "text": [
      "train Loss: 0.0031 Acc: 0.9976\n",
      "Training complete in 0m 9s\n"
     ]
    },
    {
     "name": "stderr",
     "output_type": "stream",
     "text": [
      "100%|█████████████████████████████████████████████████████████████████████████████████| 45/45 [00:00<00:00, 122.28it/s]\n",
      "  1%|█▏                                                                                | 4/267 [00:00<00:08, 32.34it/s]"
     ]
    },
    {
     "name": "stdout",
     "output_type": "stream",
     "text": [
      "val Loss: 0.0385 Acc: 0.9974\n",
      "Training complete in 0m 0s\n",
      "\n",
      "EPOCH : 94/100\n"
     ]
    },
    {
     "name": "stderr",
     "output_type": "stream",
     "text": [
      "100%|████████████████████████████████████████████████████████████████████████████████| 267/267 [00:08<00:00, 31.21it/s]\n",
      " 31%|█████████████████████████▏                                                       | 14/45 [00:00<00:00, 132.43it/s]"
     ]
    },
    {
     "name": "stdout",
     "output_type": "stream",
     "text": [
      "train Loss: 0.0030 Acc: 0.9977\n",
      "Training complete in 0m 9s\n"
     ]
    },
    {
     "name": "stderr",
     "output_type": "stream",
     "text": [
      "100%|█████████████████████████████████████████████████████████████████████████████████| 45/45 [00:00<00:00, 123.96it/s]\n",
      "  1%|█▏                                                                                | 4/267 [00:00<00:08, 32.08it/s]"
     ]
    },
    {
     "name": "stdout",
     "output_type": "stream",
     "text": [
      "val Loss: 0.0386 Acc: 0.9974\n",
      "Training complete in 0m 0s\n",
      "\n",
      "EPOCH : 95/100\n"
     ]
    },
    {
     "name": "stderr",
     "output_type": "stream",
     "text": [
      "100%|████████████████████████████████████████████████████████████████████████████████| 267/267 [00:08<00:00, 30.71it/s]\n",
      " 27%|█████████████████████▌                                                           | 12/45 [00:00<00:00, 115.69it/s]"
     ]
    },
    {
     "name": "stdout",
     "output_type": "stream",
     "text": [
      "train Loss: 0.0030 Acc: 0.9977\n",
      "Training complete in 0m 9s\n"
     ]
    },
    {
     "name": "stderr",
     "output_type": "stream",
     "text": [
      "100%|█████████████████████████████████████████████████████████████████████████████████| 45/45 [00:00<00:00, 123.62it/s]\n",
      "  1%|█▏                                                                                | 4/267 [00:00<00:08, 31.33it/s]"
     ]
    },
    {
     "name": "stdout",
     "output_type": "stream",
     "text": [
      "val Loss: 0.0387 Acc: 0.9975\n",
      "Training complete in 0m 0s\n",
      "\n",
      "EPOCH : 96/100\n"
     ]
    },
    {
     "name": "stderr",
     "output_type": "stream",
     "text": [
      "100%|████████████████████████████████████████████████████████████████████████████████| 267/267 [00:08<00:00, 32.10it/s]\n",
      " 29%|███████████████████████▍                                                         | 13/45 [00:00<00:00, 126.55it/s]"
     ]
    },
    {
     "name": "stdout",
     "output_type": "stream",
     "text": [
      "train Loss: 0.0029 Acc: 0.9978\n",
      "Training complete in 0m 8s\n"
     ]
    },
    {
     "name": "stderr",
     "output_type": "stream",
     "text": [
      "100%|█████████████████████████████████████████████████████████████████████████████████| 45/45 [00:00<00:00, 123.96it/s]\n",
      "  1%|█▏                                                                                | 4/267 [00:00<00:07, 33.41it/s]"
     ]
    },
    {
     "name": "stdout",
     "output_type": "stream",
     "text": [
      "val Loss: 0.0389 Acc: 0.9975\n",
      "Training complete in 0m 0s\n",
      "\n",
      "EPOCH : 97/100\n"
     ]
    },
    {
     "name": "stderr",
     "output_type": "stream",
     "text": [
      "100%|████████████████████████████████████████████████████████████████████████████████| 267/267 [00:08<00:00, 32.83it/s]\n",
      " 27%|█████████████████████▌                                                           | 12/45 [00:00<00:00, 116.79it/s]"
     ]
    },
    {
     "name": "stdout",
     "output_type": "stream",
     "text": [
      "train Loss: 0.0029 Acc: 0.9978\n",
      "Training complete in 0m 8s\n"
     ]
    },
    {
     "name": "stderr",
     "output_type": "stream",
     "text": [
      "100%|█████████████████████████████████████████████████████████████████████████████████| 45/45 [00:00<00:00, 122.61it/s]\n",
      "  1%|█▏                                                                                | 4/267 [00:00<00:08, 31.82it/s]"
     ]
    },
    {
     "name": "stdout",
     "output_type": "stream",
     "text": [
      "val Loss: 0.0390 Acc: 0.9975\n",
      "Training complete in 0m 0s\n",
      "\n",
      "EPOCH : 98/100\n"
     ]
    },
    {
     "name": "stderr",
     "output_type": "stream",
     "text": [
      "100%|████████████████████████████████████████████████████████████████████████████████| 267/267 [00:08<00:00, 32.99it/s]\n",
      " 31%|█████████████████████████▏                                                       | 14/45 [00:00<00:00, 134.93it/s]"
     ]
    },
    {
     "name": "stdout",
     "output_type": "stream",
     "text": [
      "train Loss: 0.0028 Acc: 0.9978\n",
      "Training complete in 0m 8s\n"
     ]
    },
    {
     "name": "stderr",
     "output_type": "stream",
     "text": [
      "100%|█████████████████████████████████████████████████████████████████████████████████| 45/45 [00:00<00:00, 132.32it/s]\n",
      "  1%|█▏                                                                                | 4/267 [00:00<00:07, 33.69it/s]"
     ]
    },
    {
     "name": "stdout",
     "output_type": "stream",
     "text": [
      "val Loss: 0.0391 Acc: 0.9976\n",
      "Training complete in 0m 0s\n",
      "\n",
      "EPOCH : 99/100\n"
     ]
    },
    {
     "name": "stderr",
     "output_type": "stream",
     "text": [
      "100%|████████████████████████████████████████████████████████████████████████████████| 267/267 [00:08<00:00, 33.23it/s]\n",
      " 31%|█████████████████████████▏                                                       | 14/45 [00:00<00:00, 138.99it/s]"
     ]
    },
    {
     "name": "stdout",
     "output_type": "stream",
     "text": [
      "train Loss: 0.0028 Acc: 0.9979\n",
      "Training complete in 0m 8s\n"
     ]
    },
    {
     "name": "stderr",
     "output_type": "stream",
     "text": [
      "100%|█████████████████████████████████████████████████████████████████████████████████| 45/45 [00:00<00:00, 133.48it/s]\n",
      "  1%|█▏                                                                                | 4/267 [00:00<00:07, 33.69it/s]"
     ]
    },
    {
     "name": "stdout",
     "output_type": "stream",
     "text": [
      "val Loss: 0.0393 Acc: 0.9976\n",
      "Training complete in 0m 0s\n",
      "\n",
      "EPOCH : 100/100\n"
     ]
    },
    {
     "name": "stderr",
     "output_type": "stream",
     "text": [
      "100%|████████████████████████████████████████████████████████████████████████████████| 267/267 [00:08<00:00, 33.18it/s]\n",
      " 31%|█████████████████████████▏                                                       | 14/45 [00:00<00:00, 134.94it/s]"
     ]
    },
    {
     "name": "stdout",
     "output_type": "stream",
     "text": [
      "train Loss: 0.0027 Acc: 0.9979\n",
      "Training complete in 0m 8s\n"
     ]
    },
    {
     "name": "stderr",
     "output_type": "stream",
     "text": [
      "100%|█████████████████████████████████████████████████████████████████████████████████| 45/45 [00:00<00:00, 131.92it/s]"
     ]
    },
    {
     "name": "stdout",
     "output_type": "stream",
     "text": [
      "val Loss: 0.0394 Acc: 0.9976\n",
      "Training complete in 0m 0s\n",
      "\n",
      "Best valid loss: 0.033741\n"
     ]
    },
    {
     "name": "stderr",
     "output_type": "stream",
     "text": [
      "\n"
     ]
    }
   ],
   "source": [
    "model = fit(device,dataloaders,model,criterion,optimizer,epochs=100)"
   ]
  },
  {
   "cell_type": "code",
   "execution_count": 22,
   "metadata": {},
   "outputs": [
    {
     "name": "stderr",
     "output_type": "stream",
     "text": [
      "100%|██████████████████████████████████████████████████████████████████████████████████| 45/45 [00:04<00:00,  9.31it/s]\n"
     ]
    },
    {
     "name": "stdout",
     "output_type": "stream",
     "text": [
      "{0, 1, 2, 3, 5, 6, 7, 8, 9, 10, 11, 12, 13, 14, 15, 16, 17, 18, 19, 20, 21, 22, 23, 24, 25, 26, 27, 28}\n",
      "28\n",
      "{0, 1, 2, 3, 5, 6, 7, 8, 9, 10, 11, 12, 13, 14, 15, 16, 17, 18, 19, 20, 21, 22, 23, 24, 25, 26, 27, 28}\n",
      "28\n",
      "28\n",
      "Kappa score : 0.9652750402502601\n",
      "\n"
     ]
    },
    {
     "data": {
      "text/plain": [
       "<matplotlib.axes._subplots.AxesSubplot at 0x1c4d144b048>"
      ]
     },
     "execution_count": 22,
     "metadata": {},
     "output_type": "execute_result"
    },
    {
     "data": {
      "image/png": "[encoded data removed]",
      "text/plain": [
       "<Figure size 2160x2160 with 2 Axes>"
      ]
     },
     "metadata": {
      "needs_background": "light"
     },
     "output_type": "display_data"
    }
   ],
   "source": [
    "# test_data = text_dataset(extracted_text=all_comps.loc[12,'Text'],cluster_dict=cluster_dict,dataset_type='test')\n",
    "# test_dl = DataLoader(test_data,batch_size=5,shuffle=False,collate_fn=model.collate_fn)\n",
    "\n",
    "val_outs = []\n",
    "val_targets = []\n",
    "device = torch.device('cpu')\n",
    "model = model.to(device)\n",
    "for inputs,targets,sentence_lens in tqdm(dataloaders['val']):\n",
    "    inputs = inputs.to(device)\n",
    "    sentence_lens = torch.tensor(sentence_lens,dtype=torch.long,device=device)\n",
    "    with torch.no_grad():\n",
    "        outputs = model(inputs,sentence_lens)\n",
    "        preds = torch.argmax(outputs,dim=1).flatten()\n",
    "        val_outs.append(preds)\n",
    "        val_targets.append(targets.flatten())\n",
    "\n",
    "print(set(torch.cat(val_outs).numpy()))\n",
    "print(len(set(torch.cat(val_outs).numpy())))\n",
    "print(set(torch.cat(val_targets).numpy()))\n",
    "print(len(set(torch.cat(val_targets).numpy())))\n",
    "\n",
    "consol_val_preds = torch.cat(val_outs)\n",
    "consol_val_tgts = torch.cat(val_targets)\n",
    "cm_idxs = max(len(set(consol_val_preds.numpy())),len(set(consol_val_tgts.numpy())))\n",
    "print(cm_idxs)\n",
    "kappa = cohen_kappa_score(consol_val_preds,consol_val_tgts)\n",
    "print(f'Kappa score : {kappa}\\n')\n",
    "cm = confusion_matrix(consol_val_tgts.cpu(),consol_val_preds.cpu(),normalize='true')\n",
    "df_cm = pd.DataFrame(cm, index = [i for i in range(cm_idxs)],\n",
    "                     columns = [i for i in range(cm_idxs)])\n",
    "plt.figure(figsize = (30,30))\n",
    "sn.heatmap(df_cm, annot=True)"
   ]
  },
  {
   "cell_type": "code",
   "execution_count": 25,
   "metadata": {
    "scrolled": false
   },
   "outputs": [
    {
     "name": "stderr",
     "output_type": "stream",
     "text": [
      "100%|██████████████████████████████████████████████████████████████████████████████████| 23/23 [00:01<00:00, 12.49it/s]\n"
     ]
    },
    {
     "name": "stdout",
     "output_type": "stream",
     "text": [
      "{0, 1, 2, 3, 5, 6, 7, 8, 9, 10, 11, 12, 14, 15, 16, 17, 18, 19, 20, 21, 22, 23, 25, 26, 27, 28}\n",
      "26\n",
      "{0, 1, 2, 3, 5, 6, 7, 9, 10, 11, 12, 14, 16, 18, 20, 21, 22, 25, 26, 27, 28}\n",
      "21\n",
      "26\n",
      "Kappa score : 0.7208702162426414\n",
      "\n"
     ]
    },
    {
     "data": {
      "text/plain": [
       "<matplotlib.axes._subplots.AxesSubplot at 0x1c55451fb88>"
      ]
     },
     "execution_count": 25,
     "metadata": {},
     "output_type": "execute_result"
    },
    {
     "data": {
      "image/png": "[encoded data removed]",
      "text/plain": [
       "<Figure size 2160x2160 with 2 Axes>"
      ]
     },
     "metadata": {
      "needs_background": "light"
     },
     "output_type": "display_data"
    }
   ],
   "source": [
    "test_data = text_dataset(full_vocab=trial_vocab,extracted_text=all_comps.loc[0,'Text'],cluster_dict=cluster_dict,dataset_type='test')\n",
    "test_dl = DataLoader(test_data,batch_size=100,shuffle=False,collate_fn=model.collate_fn)\n",
    "\n",
    "val_outs = []\n",
    "val_targets = []\n",
    "device = torch.device('cpu')\n",
    "model = model.to(device)\n",
    "for inputs,targets,sentence_lens in tqdm(test_dl):\n",
    "    inputs = inputs.to(device)\n",
    "    sentence_lens = torch.tensor(sentence_lens,dtype=torch.long,device=device)\n",
    "    with torch.no_grad():\n",
    "        outputs = model(inputs,sentence_lens)\n",
    "        preds = torch.argmax(outputs,dim=1).flatten()\n",
    "        val_outs.append(preds)\n",
    "        val_targets.append(targets.flatten())\n",
    "\n",
    "print(set(torch.cat(val_outs).numpy()))\n",
    "print(len(set(torch.cat(val_outs).numpy())))\n",
    "print(set(torch.cat(val_targets).numpy()))\n",
    "print(len(set(torch.cat(val_targets).numpy())))\n",
    "\n",
    "consol_val_preds = torch.cat(val_outs)\n",
    "consol_val_tgts = torch.cat(val_targets)\n",
    "cm_idxs = max(len(set(consol_val_preds.numpy())),len(set(consol_val_tgts.numpy())))\n",
    "print(cm_idxs)\n",
    "kappa = cohen_kappa_score(consol_val_preds,consol_val_tgts)\n",
    "print(f'Kappa score : {kappa}\\n')\n",
    "cm = confusion_matrix(consol_val_tgts.cpu(),consol_val_preds.cpu(),normalize='true')\n",
    "df_cm = pd.DataFrame(cm, index = [i for i in range(cm_idxs)],\n",
    "                     columns = [i for i in range(cm_idxs)])\n",
    "plt.figure(figsize = (30,30))\n",
    "sn.heatmap(df_cm, annot=True)"
   ]
  },
  {
   "cell_type": "code",
   "execution_count": 26,
   "metadata": {},
   "outputs": [
    {
     "name": "stderr",
     "output_type": "stream",
     "text": [
      "100%|██████████████████████████████████████████████████████████████████████████████████| 18/18 [00:01<00:00, 11.05it/s]\n"
     ]
    },
    {
     "name": "stdout",
     "output_type": "stream",
     "text": [
      "{0, 1, 2, 3, 5, 6, 7, 8, 9, 10, 11, 12, 14, 15, 16, 17, 18, 19, 20, 21, 22, 23, 25, 26, 27, 28}\n",
      "26\n",
      "{0, 1, 2, 3, 5, 6, 7, 9, 11, 12, 14, 15, 16, 18, 20, 21, 22, 25, 26, 27, 28}\n",
      "21\n",
      "26\n",
      "Kappa score : 0.6462079990649572\n",
      "\n"
     ]
    },
    {
     "data": {
      "text/plain": [
       "<matplotlib.axes._subplots.AxesSubplot at 0x1c554bce588>"
      ]
     },
     "execution_count": 26,
     "metadata": {},
     "output_type": "execute_result"
    },
    {
     "data": {
      "image/png": "[encoded data removed]",
      "text/plain": [
       "<Figure size 2160x2160 with 2 Axes>"
      ]
     },
     "metadata": {
      "needs_background": "light"
     },
     "output_type": "display_data"
    }
   ],
   "source": [
    "test_data = text_dataset(full_vocab=trial_vocab,extracted_text=all_comps.loc[1,'Text'],cluster_dict=cluster_dict,dataset_type='test')\n",
    "test_dl = DataLoader(test_data,batch_size=100,shuffle=False,collate_fn=model.collate_fn)\n",
    "\n",
    "val_outs = []\n",
    "val_targets = []\n",
    "device = torch.device('cpu')\n",
    "model = model.to(device)\n",
    "for inputs,targets,sentence_lens in tqdm(test_dl):\n",
    "    inputs = inputs.to(device)\n",
    "    sentence_lens = torch.tensor(sentence_lens,dtype=torch.long,device=device)\n",
    "    with torch.no_grad():\n",
    "        outputs = model(inputs,sentence_lens)\n",
    "        preds = torch.argmax(outputs,dim=1).flatten()\n",
    "        val_outs.append(preds)\n",
    "        val_targets.append(targets.flatten())\n",
    "\n",
    "print(set(torch.cat(val_outs).numpy()))\n",
    "print(len(set(torch.cat(val_outs).numpy())))\n",
    "print(set(torch.cat(val_targets).numpy()))\n",
    "print(len(set(torch.cat(val_targets).numpy())))\n",
    "\n",
    "consol_val_preds = torch.cat(val_outs)\n",
    "consol_val_tgts = torch.cat(val_targets)\n",
    "cm_idxs = max(len(set(consol_val_preds.numpy())),len(set(consol_val_tgts.numpy())))\n",
    "print(cm_idxs)\n",
    "kappa = cohen_kappa_score(consol_val_preds,consol_val_tgts)\n",
    "print(f'Kappa score : {kappa}\\n')\n",
    "cm = confusion_matrix(consol_val_tgts.cpu(),consol_val_preds.cpu(),normalize='true')\n",
    "df_cm = pd.DataFrame(cm, index = [i for i in range(cm_idxs)],\n",
    "                     columns = [i for i in range(cm_idxs)])\n",
    "plt.figure(figsize = (30,30))\n",
    "sn.heatmap(df_cm, annot=True)"
   ]
  },
  {
   "cell_type": "code",
   "execution_count": null,
   "metadata": {},
   "outputs": [],
   "source": []
  },
  {
   "cell_type": "code",
   "execution_count": 126,
   "metadata": {},
   "outputs": [
    {
     "name": "stderr",
     "output_type": "stream",
     "text": [
      "  0%|                                                                                          | 0/463 [00:00<?, ?it/s]C:\\Users\\Owner\\Anaconda3\\envs\\cs231n\\lib\\site-packages\\ipykernel_launcher.py:5: DeprecationWarning: Call to deprecated `wv` (Attribute will be removed in 4.0.0, use self instead).\n",
      "  \"\"\"\n",
      "100%|████████████████████████████████████████████████████████████████████████████████| 463/463 [25:15<00:00,  3.27s/it]\n"
     ]
    }
   ],
   "source": [
    "kappa_scores = []\n",
    "for i in tqdm(range(len(all_comps))):\n",
    "    test_data = text_dataset(extracted_text=all_comps.loc[i,'Text'],cluster_dict=cluster_dict,dataset_type='test')\n",
    "    test_dl = DataLoader(test_data,batch_size=200,shuffle=False,collate_fn=model.collate_fn)\n",
    "    val_outs = []\n",
    "    val_targets = []\n",
    "    device = torch.device('cpu')\n",
    "    model = model.to(device)\n",
    "    for inputs,targets,sentence_lens in test_dl:\n",
    "        inputs = inputs.to(device)\n",
    "        sentence_lens = torch.tensor(sentence_lens,dtype=torch.long,device=device)\n",
    "        with torch.no_grad():\n",
    "            outputs = model(inputs,sentence_lens)\n",
    "            preds = torch.argmax(outputs,dim=1).flatten()\n",
    "            val_outs.append(preds)\n",
    "            val_targets.append(targets.flatten())\n",
    "    consol_val_preds = torch.cat(val_outs)\n",
    "    consol_val_tgts = torch.cat(val_targets)\n",
    "    kappa = cohen_kappa_score(consol_val_preds,consol_val_tgts)\n",
    "    kappa_scores.append(kappa)"
   ]
  },
  {
   "cell_type": "code",
   "execution_count": 127,
   "metadata": {},
   "outputs": [
    {
     "name": "stdout",
     "output_type": "stream",
     "text": [
      "0.4230996372961605\n"
     ]
    }
   ],
   "source": [
    "print(sum(kappa_scores)/len(kappa_scores))"
   ]
  },
  {
   "cell_type": "code",
   "execution_count": 128,
   "metadata": {
    "scrolled": true
   },
   "outputs": [
    {
     "data": {
      "text/plain": [
       "[2,\n",
       " 14,\n",
       " 19,\n",
       " 27,\n",
       " 30,\n",
       " 45,\n",
       " 74,\n",
       " 75,\n",
       " 77,\n",
       " 98,\n",
       " 99,\n",
       " 111,\n",
       " 113,\n",
       " 115,\n",
       " 118,\n",
       " 123,\n",
       " 124,\n",
       " 132,\n",
       " 141,\n",
       " 144,\n",
       " 148,\n",
       " 153,\n",
       " 168,\n",
       " 187,\n",
       " 192,\n",
       " 198,\n",
       " 210,\n",
       " 213,\n",
       " 233,\n",
       " 246,\n",
       " 260,\n",
       " 261,\n",
       " 263,\n",
       " 265,\n",
       " 267,\n",
       " 279,\n",
       " 285,\n",
       " 291,\n",
       " 294,\n",
       " 296,\n",
       " 316,\n",
       " 332,\n",
       " 337,\n",
       " 354,\n",
       " 368,\n",
       " 369,\n",
       " 388,\n",
       " 398,\n",
       " 409,\n",
       " 411,\n",
       " 416,\n",
       " 418,\n",
       " 434,\n",
       " 453,\n",
       " 456,\n",
       " 461]"
      ]
     },
     "execution_count": 128,
     "metadata": {},
     "output_type": "execute_result"
    }
   ],
   "source": [
    "least = [idx for idx in range(len(kappa_scores)) if kappa_scores[idx]<0.35]\n",
    "least"
   ]
  },
  {
   "cell_type": "code",
   "execution_count": 129,
   "metadata": {},
   "outputs": [
    {
     "data": {
      "image/png": "[encoded data removed]",
      "text/plain": [
       "<Figure size 432x288 with 1 Axes>"
      ]
     },
     "metadata": {
      "needs_background": "light"
     },
     "output_type": "display_data"
    }
   ],
   "source": [
    "import matplotlib.pyplot as plt\n",
    "plt.plot(list(range(len(kappa_scores))),kappa_scores,'bx-')\n",
    "plt.show()"
   ]
  },
  {
   "cell_type": "code",
   "execution_count": null,
   "metadata": {},
   "outputs": [],
   "source": []
  },
  {
   "cell_type": "code",
   "execution_count": 123,
   "metadata": {},
   "outputs": [
    {
     "data": {
      "text/plain": [
       "'10-K 1 a08-22004_110k.htm 10-K Table of Contents Exact name of registrant as specified in its charter Registrants telephone number, including area code 212-572-4200 None Indicate by check mark if the registrant is a well-known seasoned issuer, as defined in Rule 405 of the Securities Act.  Yes  x   No  o Indicate by check mark if the registrant is not required to file reports pursuant to Section 13 or Section 15d of the Act.  Yes  o   No  x Indicate by check mark whether the registrant 1 has filed all reports required to be filed by Section 13 or 15d of the Securities Exchange Act of 1934 during the preceding 12 months or for such shorter period that the registrant was required to file such reports, and 2 has been subject to such filing requirements for the past 90 days.  Yes  x   No  o Indicate by check mark if disclosure of delinquent filers pursuant to Item 405 of Regulation S-K is not contained herein, and will not be contained, to the best of registrants knowledge, in definitive proxy or information statements incorporated by reference in Part III of this Form 10-K or any amendment to this Form 10-K. o Indicate by check mark whether the registrant is a large accelerated filer, an accelerated filer, a non-accelerated filer, or a smaller reporting company. See the definitions of large accelerated filer, accelerated filer and smaller reporting company in Rule 12b-2 of the Exchange Act. Indicate by check mark whether the registrant is a shell company as defined in Rule 12b-2 of the Exchange Act.  Yes o  No  x The aggregate market value of the registrants voting common equity held by non-affiliates of the registrant was approximately $4.58 billion at December 31, 2007 the last business day of the registrants most recently completed second quarter. At August 15, 2008, 116,542,665 shares of the registrants Class A Common Stock, $.01 par value, and 78,067,261 shares of the registrants Class B Common Stock, $.01 par value, were outstanding. Table of Contents Table of Contents within the meaning of the Private Securities Litigation Reform Act of 1995. Such statements include, without limitation, our expectations regarding sales, earnings or other future financial performance and liquidity, product introductions, entry into new geographic regions, information systems initiatives, new methods of sale and future operations or operating results. Although we believe that our expectations are based on reasonable assumptions within the bounds of our knowledge of our business and operations, we cannot assure that actual results will not differ materially from our expectations. Factors that could cause actual results to differ from expectations are described herein; in particular, see Item 7.  Managements Discussion and Analysis of Financial Condition and Results of Operations  Forward-Looking Information.  In addition, there is a discussion of risks associated with an investment in our securities.  See Item 1A. Risk Factors._ The Estée Lauder Companies Inc., founded in 1946 by Estée and Joseph Lauder, is one of the worlds leading manufacturers and marketers of quality skin care, makeup, fragrance and hair care products.  Our products are sold in over 140 countries and territories under the following brand names: Estée Lauder, Aramis, Clinique, Prescriptives, Lab Series, Origins, MžAžC, Bobbi Brown, La Mer, Aveda, Jo Malone, Bumble and bumble, Darphin, American Beauty, Flirt, Good Skin, Grassroots, Ojon and Eyes by Design.  We are also the global licensee for fragrances andor cosmetics sold under the Tommy Hilfiger, Kiton, Donna Karan, Michael Kors, Sean John, Missoni, Daisy Fuentes, Tom Ford and Mustang brand names.  Each brand is distinctly positioned within the market for beauty products. We are a pioneer in the cosmetics industry and believe we are a leader in the industry due to the global recognition of our brand names, our leadership in product innovation, our strong market position in key geographic markets and the consistently high quality of our products.  We sell our prestige products principally through limited distribution channels to complement the images associated with our brands.  These channels, encompassing over 25,000 points of sale, consist primarily of upscale department stores, specialty retailers, upscale perfumeries and pharmacies and prestige salons and spas.  In addition, our products are sold in freestanding company-owned stores and spas, our own and authorized retailer websites, stores on cruise ships, direct response television DRTV, in-flight and duty-free shops and certain fragrances are sold in self-select outlets.  We believe that our strategy of pursuing limited distribution strengthens our relationships with retailers, enables our brands to be among the best selling product lines at the stores and heightens the aspirational quality of our brands. For a discussion of recent developments, see  _Item 7. Managements Discussion and Analysis of Financial Condition and Results of Operations_  Results of Operations  Overview. We have been controlled by the Lauder family since the founding of our company.  Members of the Lauder family, some of whom are directors, executive officers andor employees, beneficially own, directly or indirectly, as of August 15, 2008, shares of Class A Common Stock and Class B Common Stock having approximately 87.8 of the outstanding voting power of the Common Stock. Unless the context requires otherwise, references to we, us, our and the Company refer to The Estée Lauder Companies Inc. and its subsidiaries. care needs for women and men.  These products include moisturizers, creams, lotions, cleansers, sun screens and self-tanning products, a number of which are developed for use on particular areas of the body, such as the face or the hands or around the eyes.  Skin care products accounted for approximately 38 of our net sales in fiscal 2008. including lipsticks, lip glosses, mascaras, foundations, eyeshadows, nail polishes and powders.  Many of the products are offered in an extensive array of shades and colors.  We also sell related items such as compacts, brushes and other makeup tools.  Makeup products accounted for approximately 38 of our net sales in fiscal 2008. The fragrances are sold in various forms, including eau de parfum sprays and colognes, as well as lotions, powders, creams and soaps that are based on a particular fragrance.  Fragrance products accounted for approximately 18 of our net sales in fiscal 2008. - 2 - Table of Contents freestanding retail stores and include hair color and styling products, shampoos, conditioners and finishing sprays.  In fiscal 2008, hair care products accounted for approximately 6 of our net sales. Given the personal nature of our products and the wide array of consumer preferences and tastes, as well as competition for the attention of consumers, our strategy has been to market and promote our products through distinctive brands seeking to address broad preferences and tastes.  Each brand has a single global image that is promoted with consistent logos, packaging and advertising designed to enhance its image and differentiate it from other brands. 1946, are positioned as luxurious, classic and aspirational.  We believe that Estée Lauder brand products are technologically advanced and innovative and have a worldwide reputation for excellence.  The broad product line principally consists of skin care, makeup and fragrance products that are presented in high quality packaging. division creates and markets fragrance and skin care products, including the following brand names:                   Aramis - We pioneered the marketing of prestige mens fragrance, grooming and skin care products with the introduction of Aramis products in 1964.                   Lab Series  - Lab Series Skincare for Men, introduced by the Aramis and Designer Fragrances division in 1987, offers a full range of products for cleansing, shaving, treatment and body that are especially formulated to answer the unique needs of mens skin.                   Tommy Hilfiger - We have an exclusive global license arrangement to develop and market a line of mens and womens fragrances and cosmetics under the Tommy Hilfiger brand name.  We launched the line in 1995 with a mens fragrance, _tommy_.  Today, we manufacture and sell a variety of fragrances and ancillary products for men and women.                   Donna Karan Cosmetics -  In November 1997, we obtained the exclusive global license to develop, market and distribute a line of fragrances and other cosmetics under the Donna Karan New York and DKNY brand names, including certain products that were originally sold by The Donna Karan Company.  We launched the first DKNY womens fragrance in fiscal 2000 and the first DKNY mens fragrance in fiscal 2001.  Under this license, fragrances have been expanded to include extensive lines of companion bath and body products.                   Michael Kors - In May 2003, we entered into a license agreement for fragrances and beauty products under the Michael Kors brand name and purchased certain related rights and inventory from another party.  The fragrances, as well as ancillary bath and body products, are sold in department stores, specialty stores, at freestanding Michael Kors boutiques and over the Internet.                   Sean John Fragrances - In 2005, we entered into an exclusive license agreement to develop fragrances and other beauty products under the Sean John brand name.  Sean Diddy Combs played an active role in creating the signature scent, Unforgivable.  The Unforgivable fragrance and ancillary products are primarily available at select department and specialty stores as well as travel retail outlets around the world.                   Missoni - In 2006, we launched fragrance and ancillary products under our exclusive global licensing agreement with Milan-based fashion house, Missoni.  Missoni products are sold in select distribution channels worldwide. In addition to the foregoing brands, we market and sell Mustang and Kiton products as a licensee. products are all allergy tested and 100 fragrance free and have been designed to address individual skin types and needs.  The products are based on the research and related expertise of leading dermatologists.  Clinique skin care products are generally marketed as part of the 3-Step System: Cleanse, Exfoliate, Moisturize.  Clinique also offers fragrances and a line of hair care products. Prescriptives focuses on delivering flawless-looking skinfor all skins, from lightest to darkest.  Signature services include the ultra-personalized artistry of Custom Blend Makeup and complimentary Colorprinting, which leads the customer to her exact match foundation and customizable color cosmetics. Prescriptives also features a personalized skin care regime for all skins. The products are visually compelling and of minimalist design with a modern, innovative image. based line of skin care, makeup and aromatherapy products that combine time- tested botanical ingredients with modern science to promote total well-being. Origins sells its products at our freestanding Origins stores and through stores-within-stores which are designed to replicate the Origins store environment within a department store, at traditional retail counters, in perfumeries and directly to consumers over the Internet.  Origins Organics is the first full line of prestige skin, body and hair care products to be certified under the USDA National Organic Program.  Origins also has a license agreement to develop and sell products using the name of Dr. Andrew Weil. - 3 - Table of Contents oriented, professional cosmetics and professional makeup tools targeting makeup artists and fashion-conscious consumers.  The products are sold through a limited number of department and specialty stores, at freestanding MžAžC stores and directly to consumers over the Internet.  We acquired the companies behind MžAžC in three stages: in December 1994, March 1997 and February 1998. cosmetics, professional makeup brushes and skin care products.  Bobbi Brown products are manufactured to our specifications, primarily by third parties, and sold through a limited number of department and specialty stores and directly to consumers over the Internet. lotions, cleansers, toners and other skin care products.  The line, which is available in very limited distribution in the United States and certain other countries, is an extension of the initial Crème de la Mer product that we acquired in 1995. acquired selected Aveda distributors and retail stores.  Aveda, a prestige hair care leader, is a manufacturer and marketer of plant-based hair care, skin care, makeup and fragrance products.  We sell Aveda products to third- party distributors and prestige salons and spas, cosmetology schools, certain non-U.S. department stores and specialty retailers and directly to consumers at our own freestanding Aveda Experience Centers and certain Aveda Institutes. Jo Malone is known for its prestige skin care, fragrance and hair care products showcased at its flagship store in London.  Products are also available through a company catalogue, at freestanding stores and at a very limited group of specialty stores, primarily in the United States, Canada and the United Kingdom. equity interest in Bumble and bumble.  We acquired a controlling majority equity interest in June 2000.  Bumble and bumble is a New York-based hair care and education company with two salons that creates high-quality hair care and styling products distributed through other top-tier salons and select prestige retailers.  We also provide business and design education to the Bumble and bumble network of independent salons. based company dedicated to the development, manufacture and marketing of prestige skin care and makeup products which are distributed primarily through high-end independent pharmacies and specialty stores. mission is to develop brands and products for consumers shopping outside of the traditional department store channel on a worldwide basis.  Brands developed under the BeautyBank umbrella include:                   American Beauty - Launched in 2004, the luxurious fragrance, makeup and advanced skin care line celebrates the beauty of American style.  These products, which are sold in the United States at Kohls Department Stores and Kohls.com, have been developed to meet the needs of the modern American woman, with a straightforward makeup and skin care appeal.                   Flirt -  Launched in 2004 and sold in the United States at Kohls Department Stores and Kohls.com, this makeup line is all about experimenting with color, pop culture and trends; you can Flirt with the possibilities.                   Good Skin -  Launched in 2004 and sold in the United States at Kohls Department Stores and Kohls.com, this line of skin care products was created with the expertise of a dermatologist.   This line is color-coded for ease of use.  Select products of this brand are now available in a number of countries around the world.  _good skin, easy to choose, easy to use, doctor formulated for you_.                   Grassroots -  Introduced in 2005 and sold  in the United States at Kohls Department Stores and Kohls.com, Grassroots offers a range of wholesome, naturally-sourced products to help care for you and your family.  This lines seven product categories include face, body, hair, post- pregnancy, babies, kids and pets.                   Daisy Fuentes - In early fiscal 2007, we launched Dianoche, the first fragrance under our license agreement with Daisy Fuentes. Dianoche holds two scents that connect in a single bottle and is available exclusively at Kohls Department Stores nationwide or online at Kohls.com.                   Eyes by Design - A line of makeup products for the eyes developed for exclusive distribution on HSN, a DRTV channel, and HSN.com that BeautyBank launched in July 2008. fragrances and other beauty products under the Tom Ford brand name.  In fiscal 2007, we introduced Tom Ford Black Orchid, his first signature fragrance. which markets naturally-derived, wildcrafted hair and skin care beauty products using ingredients found in the worlds rainforests. Our core brands are Estée Lauder, Aramis and Designer Fragrances, Clinique, Prescriptives and Origins.  MžAžC and Bobbi Brown are our makeup artist brands. - 4 - Table of Contents We sell our products principally through limited distribution channels to complement the images associated with our brands.  These channels include more than 25,000 points of sale in over 140 countries and territories and consist primarily of upscale department stores, specialty retailers, upscale perfumeries and pharmacies and prestige salons and spas.  In addition, our products are sold in freestanding company-owned stores and spas, our own and authorized retailer websites, stores on cruise ships, DRTV, in-flight and duty-free shops and certain fragrances are sold in self-select outlets. We maintain a dedicated sales force which sells to our retail accounts in North America and in the major overseas markets, such as Western Europe and Japan.  We have wholly-owned operations in over 40 countries, and controlling interests in joint ventures that operate in four other countries, through which we market, sell and distribute our products.  In certain countries, we sell our products through selected local distributors under contractual arrangements designed to protect the image and position of the brands.  In addition, we sell certain products in select domestic and international military locations.  For information regarding our net sales and long-lived assets by geographic region, see Note 21 of Notes to Consolidated Financial Statements, which is incorporated herein by reference. We sell Aveda products principally to independent salons and spas, cosmetology schools, third-party distributors and specialty retailers and directly to consumers at our own freestanding Aveda Experience Centers and certain Aveda Institutes.  There are currently about 7,200 points of sale, primarily in the United States, that sell Aveda products.  Bumble and bumble products are principally sold to about 2,500 independent salons, primarily in the United States.  Darphin products are principally sold through high-end independent pharmacies, principally in Europe, representing approximately 3,700 points of sale. As part of our strategy to diversify our distribution, we have been selectively expanding the number of single-brand, freestanding stores that we operate.  The Origins, Aveda and MžAžC brands are the primary focus for this method of distribution.  At this time, we operate 577 single-brand, freestanding stores worldwide, the majority of which are in the United States, and expect that number to increase moderately over the next several years.  We also operate 90 multi-brand stores. We sell American Beauty, Flirt, Good Skin, Grassroots and Dianoche, by Daisy Fuentes in approximately 1,000 Kohls Department Stores in the United States. We currently sell products from 16 of our brands directly to consumers over the Internet through our own e-commerce sites.  Some or all of these brands are sold in the following countries: the United States, the United Kingdom, Australia, France, Korea and Canada. As is customary in the cosmetics industry, our practice is to accept returns of our products from retailers if properly requested, authorized and approved. In accepting returns, we typically provide a credit to the retailer against sales and accounts receivable from that retailer on a dollar-for-dollar basis. In recognition of this practice, and in accordance with U.S. generally accepted accounting principles, we report revenues on a net sales basis, which reflects the amount of actual returns received and an amount established for anticipated returns.  As a percentage of gross sales, returns were 4.4, 4.2 and 5.0 in fiscal 2008, 2007 and 2006, respectively. Our strategy is to build strong strategic relationships with selected retailers globally.  Senior management works with executives of our major retail accounts on a regular basis and we believe we are viewed as an important supplier to these customers.  During fiscal 2006, Federated Department Stores, Inc. acquired The May Department Stores Company, resulting in the merger of our previous two largest customers collectively Macys, Inc..  As of and for the fiscal years ended June 30, 2008, 2007 and 2006, Macys, Inc. accounted for 11, 12 and 14, respectively, of our accounts receivable and 12, 14 and 16, respectively, of our consolidated net sales. Our marketing strategy is built around our vision statement: Bringing the Best to Everyone We Touch.  Mrs. Estée Lauder formulated this marketing philosophy to provide high-quality service and products as the foundation for a solid and loyal consumer base. - 5 - Table of Contents Our marketing efforts focus principally on promoting the quality and benefits of our products.  Each of our brands is distinctively positioned, has a single global image, and is promoted with consistent logos, packaging and advertising designed to enhance its image and differentiate it from other brands.  We regularly advertise our products on television and radio, in upscale magazines and newspapers and through direct mail and photo displays at international airports.  In addition, our products receive extensive editorial coverage in prestige publications and other media worldwide.  Promotional activities and in-store displays are designed to introduce existing consumers to different products in the line and to attract new consumers.  Our marketing efforts also benefit from cooperative advertising programs with retailers, some of which are supported by coordinated promotions, such as purchase with purchase and gift with purchase.  Our marketing and sales executives spend considerable time in the field meeting with consumers and key retailers and consulting with sales representatives at the points of sale.  These include Estée Lauder Beauty Advisors, Clinique Consultants, Aramis Selling Specialists, Prescriptives Analysts, Origins Guides and MžAžC Makeup Artists.  At in-store counters, sales representatives offer personal demonstrations to market individual products as well as to provide education on basic skin care and makeup application.  We conduct extensive sampling programs and we pioneered gift with purchase as a sampling program.  We believe that the quality and perceived benefits of sample products have been effective inducements to purchases by new and existing consumers. Starting with the launch of the Clinique website in 1996, we have used the Internet to educate and inform consumers about certain of our brands. Currently, 19 of our brands have marketing sites, 16 of which have e-commerce capabilities. Most of our creative marketing work is done by in-house creative teams.  The creative staff designs and produces the sales materials, advertisements and packaging for all products in each brand. Global net expenses for advertising, merchandising, sampling and promotion were $2,034.6 million, $1,841.9 million and $1,721.1 million in fiscal 2008, 2007 and 2006, respectively.  These amounts include activities relating to purchase with purchase and gift with purchase promotions that are reflected in net sales and cost of sales. Information systems support business processes including product development, marketing, sales, order processing, production, distribution and finance.  Of the many systems currently being utilized, the most significant to our business needs are: i a centralized data repository of essential attributes for each of the products we offer, or plan to offer, which enables us to globally manufacture and market products of consistent quality; ii a sales analysis system to track weekly sales at the stock keeping unit SKU level at most significant retail sales locations i.e., sell-through data, increasing our understanding of consumer preferences and enabling us to coordinate more effectively our product development, manufacturing and marketing strategies; iii an automated replenishment system with many of our key domestic customers, allowing us to replenish inventories for individual points of sale automatically, with minimal paperwork; and iv an inventory management system to provide us with a global view of finished goods availability relative to actual requirements. We expect that these systems will continue to provide pertinent inventory and sales data in the short term.  However, as part of our long-term effort to enhance these systems and increase productivity, we are implementing our Strategic Modernization Initiative SMI, which includes an enterprise-wide global program that we expect will deliver a single set of integrated data, processes and technologies, which would be scalable and used to standardize business processes across brands, operating units and sales affiliates.  The initial implementation of SMI at our Aveda operating unit occurred in May 2007 and we believe it is operating effectively.  We anticipate SMI implementation will continue at additional primary locations in fiscal 2009, with the majority of our business to be implemented through fiscal 2012. We believe that we are an industry leader in the development of new products. Marketing, product development and packaging groups work with our research and development group to identify shifts in consumer preferences, develop new products and improve, redesign or reformulate existing products.  In addition, research and development personnel work closely with quality assurance and manufacturing personnel on a worldwide basis to provide ongoing technical assistance and know-how, to ensure consistent global standards for our products and to deliver products with attributes that fulfill consumer expectations.  The research and development group has long-standing working relationships with several U.S. and international medical and educational facilities, which supplement internal capabilities.  Members of the group are also responsible for regulatory compliance matters. We do not conduct animal testing on our products or ingredients, nor ask others to test on our behalf, except when required by law.  We evaluate our finished products in clinical tests on volunteer panels. We maintain ongoing research and development programs at our facilities in Melville, New York; Oevel, Belgium; Petersfield, U.K.; Tokyo, Japan; Markham, Ontario; Blaine, Minnesota; Shanghai, China; and Colombes, France.  As of June 30, 2008, we had approximately 450 employees engaged in research and development.  Research and development expenditures totaled $80.9 million, $74.4 million and $72.0 million in fiscal 2008, 2007 and 2006, respectively. - 6 - Table of Contents We manufacture skin care, makeup, fragrance and hair care products primarily in the United States, Belgium, Switzerland, the United Kingdom, Canada and France.  We continue to streamline our manufacturing processes and identify sourcing opportunities to improve innovation, increase efficiencies and reduce costs.  Our major manufacturing facilities operate as focus plants that primarily manufacture one type of product e.g., lipsticks for all of the principal brands.  Our plants are modern and our manufacturing processes are substantially automated.  While we believe that our manufacturing facilities are sufficient to meet current and reasonably anticipated manufacturing requirements, we continue to identify opportunities to make significant improvements in capacity and productivity.  To capitalize on innovation and other supply benefits, we continue to utilize third parties on a global basis for finished goods production, including an increased volume in AsiaPacific to support our international growth. We have established a global distribution network designed to meet the changing demands of our customers while maintaining service levels.  We are continuously evaluating and restructuring this physical distribution network. We have begun to establish regional inventory centers strategically positioned throughout the world in order to facilitate timely delivery of our products to our customers. The principal raw materials used in the manufacture of our products are essential oils, alcohol and specialty chemicals.  We also purchase packaging components that are manufactured to our design specifications.  Procurement of materials for all manufacturing facilities is generally made on a global basis through our Global Supplier Relations department.  In recent years, we made a concentrated effort in supplier rationalization with the specific objective of reducing costs, increasing innovation and improving quality.  In addition, we continue to focus on supply sourcing within the region of manufacture to allow for improved supply chain efficiencies.  As a result of sourcing initiatives, there is increased dependency on certain suppliers, but we believe that these suppliers have adequate resources and facilities to overcome any unforeseen interruption of supply.  We are continually benchmarking the performance of the supply chain and will add or delete suppliers based upon the changing needs of the business.  In the past, we have been able to obtain an adequate supply of essential raw materials and currently believe we have adequate sources of supply for virtually all components of our products.  As we integrate acquired brands, we continually seek new ways to leverage our production and sourcing capabilities to improve manufacturing performance. The skin care, makeup, fragrance and hair care businesses are characterized by vigorous competition throughout the world.  Brand recognition, quality, performance and price have a significant impact on consumers choices among competing products and brands.  Advertising, promotion, merchandising, the pace and timing of new product introductions, line extensions and the quality of in-store sales staff also have a significant impact on consumers buying decisions.  With our numerous brands, sold in various channels, we are one of the worlds leading manufacturers and marketers of skin care, makeup, fragrance and hair care products.  We compete against a number of companies, some of which have substantially greater resources than we do. Our principal competitors among manufacturers and marketers of skin care, makeup, fragrance and hair care products include:                 Alticor, which markets Artistry, NAO and Laura Mercier Cosmetics and Skincare;                 AmorePacific Corporation;                 Avon Products Inc. , a direct marketer of Avon Color, Anew, Avon Naturals, Advance Techniques, Skin-so-soft, mark, and other products;                 Bare Escentuals,  Inc., which markets its bareMinerals, RareMinerals and Bare Escentuals brands.  It also markets professional skin care products under its md formulations brand;                 Beiersdorf AG , which markets Nivea, Eucerin, La Prairie, Juvena, Florena and other brands;                 The Carlyle Group , which markets philosophy;                 Chanel,  Inc.;                 Clarins S.A. , which markets Clarins, Azzaro, Thierry Mugler, Porsche Design, David Yurman, Stella Cadente, Swarovski and other brands, and holds a minority stake in Kibio and LOccitane International;                 Coty,  Inc., which markets Calvin Klein, Cerruti, Chloé, Chopard, Davidoff, House of Phat, Jennifer Lopez, Jette Joop, Jill Sander, JOOP, Kenneth Cole, Lancaster, Marc Jacobs, Nautica, Nikos, Sarah Jessica Parker, Vera Wang, Vivienne Westwood and other brands;                 Elizabeth Arden,  Inc., which markets Elizabeth Arden, Elizabeth Taylor, Halston, Britney Spears, Prevage, Hummer, Hillary Duff, Danielle Steel, Daytona 500, Gant, Giorgio Beverley Hills, Mariah Carey, Badgley Mischka, Nanette Lepore, Alfred Sung and others;                 Johnson   Johnson, which markets AMBI Skincare, Aveeno, Clean  Clear, Vendome, Lubriderm, Neutrogena, Purpose, RoC, Piz Buin and other brands;                 Kao Corporation , which markets Sofina, Kanebo, Molton Brown, Biore, Jergens, John Frieda, Goldwell, KMS, HADA KA, Phytomax, KPSS, and other brands; - 7 - Table of Contents                 LOreal S.A. , which markets Lancôme, Biotherm, Helena Rubinstein, Kiehls, Shu Uemura, Giorgio Armani, Ralph Lauren, Cacharel, Viktor  Rolf, Diesel, Vichy, La Roche-Posay, Innéov, SkinCeuticals, Garnier, LOreal Paris, Maybelline NY, SoftSheen-Carson, Kérastase, Redken, Matrix, Mizani, Sanoflore, The Body Shop, YSL Beaute, Stella McCartney and other brands;                 LVMH Moët Hennessey Louis Vuitton LVMH , which markets Dior, Guerlain, Givenchy, Kenzo, Benefit, Fresh, Make Up For Ever, Aqua di Parma, Loewe and other brands;                 Natura Cosméticos S.A. ;                 Nu Skin Enterprises ;                 The Procter   Gamble Company, which markets SK-II, Cover Girl, Olay, Noxema, Giorgio Beverly Hills, Hugo Boss, Escada, Lacoste, bruno banani, Ghost, Puma, Naomi Campbell, Infusium, Max Factor, Pantene, Clairol, Wella, Valentino, Aussie, Dolce  Gabbana, Baldessarini, Frederick Fekkai and other brands;                 Revlon,  Inc., which markets Revlon, Color Stay, New Complexion, Revlon Age Defying, Almay, Ultima II, Flex, Mitchum and Charlie;                 Shiseido Company, Ltd. , which markets Shiseido, Clé de Peau Beauté, Nars, Decléor, Issey Miyake, Jean Paul Gaultier, Carita, Aupres, and other brands;                 Starwood Hotels   Resorts Worldwide, Inc., which markets Bliss; and                 Unilever N.V. , which markets Dove, Ponds, Sunsilk, Vaseline, Lux, Axe and other brands. We also face competition from a number of independent brands, such as dr. brandt, MD Skincare, Murad, Obagi, Paul Mitchell, Paula Dorf, N.V. Perricone M.D., tarte, TIGI, and Trish McEvoy. Additionally, some retailers have developed their own beauty brands, such as:                   Alliance Boots Group , which markets No 7 and Botanics products;                   Gap Inc., which markets The Gap, Old Navy and Banana Republic products;                   Limited Brands Inc. , which markets Victorias Secret Beauty, Bath and Body Works, c.o. bigelow; and                   Sephora. Some of our competitors also have ownership interests in retailers that are customers of ours.  For example, LVMH has interests in DFS Group LTD, Miami Cruiseline Services, Le Bon Marché, la Samaritaine, eLuxury, and Sephora. The trademarks used in our business include the brand names Estée Lauder, Clinique, Aramis, Prescriptives, Lab Series, Origins, Tommy Hilfiger, Donna Karan, DKNY, MžAžC, Bobbi Brown, La Mer, Aveda, Jo Malone, Bumble and bumble, Darphin, Michael Kors, American Beauty, Flirt, Good Skin, Grassroots, Ojon and Eyes by Design and the names of many of the products sold under these brands.  We own the material trademark rights used in connection with the manufacturing, marketing and distribution of most of our major products both in the United States and in the other principal countries where such products are sold.  We are the exclusive worldwide licensee for fragrances, cosmetics andor related products for Tommy Hilfiger, Donna Karan, DKNY, Kiton, Michael Kors, Sean John, Missoni, Daisy Fuentes and Tom Ford.  Origins sells products using the name of Dr. Andrew Weil and Aramis and Designer Fragrances sells a fragrance in the Americas region using the name Mustang, in each case pursuant to a license agreement.  We protect our trademarks for our principal products in the United States and significant markets worldwide.  We consider the protection of our trademarks to be important to our business. A number of our products incorporate patented, patent-pending or proprietary technology in formulations or packaging.  In addition, several products are covered by design patents, patent applications or copyrights.  While we consider these patents and copyrights, and the protection thereof, to be important, no single patent or copyright is considered material to the conduct of our business. At June 30, 2008, we had approximately 32,000 full-time employees worldwide including sales representatives at points of sale who are employed by us, of whom approximately 13,400 are employed in the United States and Canada.  None of our employees in the United States is covered by a collective bargaining agreement.  In certain other countries, a limited number of employees are covered by a works council agreement or other syndicate arrangements.  We believe that relations with our employees are good.  We have never encountered a material strike or work stoppage in the United States or in any other country where we have a significant number of employees. - 8 - Table of Contents We and our products are subject to regulation by the Food and Drug Administration and the Federal Trade Commission in the United States, as well as by various other Federal, state, local and international regulatory authorities and the regulatory authorities in the countries in which our products are produced or sold.  Such regulations principally relate to the ingredients, labeling, packaging and marketing of our products.  We believe that we are in substantial compliance with such regulations, as well as with applicable Federal, state, local and international and other countries rules and regulations governing the discharge of materials hazardous to the environment.  There are no significant capital expenditures for environmental control matters either planned in the current year or expected in the near future.  Along with other unrelated parties, we have been named as a potentially responsible party by the Office of the Attorney General of the State of New York with regard to a landfill in Long Island, New York.  See  Our results of operations in total, by region and by product category, are subject to seasonal fluctuations, with net sales in the first half of the fiscal year typically being slightly higher than in the second half of the fiscal year.  The higher net sales in the first half of the fiscal year are attributable to the increased levels of purchasing by retailers for the holiday selling season and for fall fashion makeup introductions.  Many of our customers that are retailers follow a 4-4-5 retail calendar which may influence the amount and timing of their order placement and receipt of goods in any fiscal quarter.  In a traditional 4-4-5 retail calendar, each fiscal quarter is comprised of two 4-week periods and one 5-week period, with one extra week in one quarter every seven years.  As a result, the retail quarter- end and the fiscal quarter-end may be different by up to six days. Fluctuations in net sales and operating income in total and by geographic region and product category in any fiscal quarter may be attributable to the level and scope of new product introductions.  Additionally, gross margins and operating expenses are impacted on a quarter-by-quarter basis by variations in our launch calendar and the timing of promotions, including purchase with purchase and gift with purchase promotions. We make available financial information, news releases and other information on our website at www.elcompanies.com.  There is a direct link from the website to our Securities and Exchange Commission filings via the EDGAR database, where our annual report on Form 10-K, quarterly reports on Form 10-Q, current reports on Form 8-K and any amendments to these reports filed or furnished pursuant to Section 13a or 15d of the Securities Exchange Act of 1934 are available free of charge as soon as reasonably practicable after we file such reports and amendments with, or furnish them to, the Securities and Exchange Commission.  Stockholders may also contact Investor Relations at 767 Fifth Avenue, New York, New York 10153 or call 800-308-2334 to obtain a hard copy of these reports without charge. The Board of Directors has developed corporate governance practices to help it fulfill its responsibilities to stockholders in providing general direction and oversight of management.  These practices are set forth in our Corporate Governance Guidelines.  We also have a Code of Conduct Code applicable to all employees, officers and directors of the Company, including, without limitation, the Chief Executive Officer, the Chief Financial Officer and other senior financial officers.  These documents, the charters for the Audit Committee, Compensation Committee and Nominating and Board Affairs Committee, and any waiver of a provision of the Code granted to any senior officer or director or material amendment to the Code, if any, may be found in the Investors section of our website: www.elcompanies.com under the heading Corporate Governance.  Stockholders may also contact Investor Relations at 767 Fifth Avenue, New York, New York 10153 or call 800-308-2334 to obtain a hard copy of these documents without charge. - 9 - Table of Contents The following table sets forth certain information with respect to our executive officers: 2004 and, through July 2008, he was responsible for Global Direct Procurement, Manufacturing, Logistics and Employee Health and Safety.  From January 2001 through June 2004, Mr. Bond was Senior Vice President, Global Manufacturing and Distribution.  From January 1999 to January 2001, he was Senior Vice President, Manufacturing, during which time his responsibilities also included corporate engineering and supply chain.  From September 1997 to January 1999, he was Vice President, Focus Factories, responsible for all of our factory operations.  Mr. Bond joined us in September 1995 as General Manager of our U.K. manufacturing operations, with responsibility for South African and Australian operations as well.  It is expected that through September 30, 2008, Mr. Bond will assist in the transition of his responsibilities, after which he will become Executive Vice President  SMI and Special Projects, but will cease to be an executive officer. March 2008.   He is responsible for leading the Companys North American business across its multiple distribution channels.  In addition, he oversees the Estée Lauder, MžAžC, Prescriptives, Origins, Ojon and Tom Ford Beauty brands, and the BeautyBank Division.  From January 2005 through February 2008 he served as Chief Operating Officer of the Company.  From July 2001 to January 2005, Mr. Brestle had been Group President with global responsibility for our specialty brands, including Aveda, Bobbi Brown, Bumble and bumble, Darphin, Jo Malone, La Mer, Prescriptives, Rodan  Fields and Stila.  He also oversaw the launch of BeautyBank and its first four brands.  From July 1998 through June 2001, he was President of Estée Lauder USA  Canada.  Prior to July 1998, he was President of Clinique Laboratories, Inc. and had been the senior officer of that division since 1992.  From 1988 through 1992, he was President of Prescriptives U.S.A.  Mr. Brestle joined us in 1978. is responsible for the Estée Lauder, MžAžC, Sean John, Prescriptives and Tom Ford Beauty brands.  In January 2005, Mr. Demsey became Global Brand President of Estée Lauder after serving as President and Managing Director of MžAžC since 1998.  From 1991 to 1998, he held several positions with Estée Lauder, including Senior Vice President of Sales and Education for Estée Lauder USA and Canada.  Before joining us, he worked for Revlon, Borghese, Alexandra de Markoff Cosmetics, and Lancaster Cosmetics.  He also held various executive retail positions at Bloomingdales, Macys, Benetton and Saks Fifth Avenue. Mr. Demsey serves as Chairman of the MžAžC AIDS Fund and is active in many other AIDS-related organizations. 2006.  From May 2005, when she joined us, to May 2006 she was Senior Vice President - Global Human Resources.  She was Senior Partner - Global Human Resource in charge of the Human Resources Department at PriceWaterhouseCoopers LLP from May 2001 through June 2003.  From April 1999 through April 2001, Ms. DiGeso was President of the Popular Club Plan, a direct sales subsidiary of Federated Department Stores, and from May 1992 through December 1998, she served in various executive capacities at Mary Kay, Inc., including Chief Executive Officer from November 1996 through December 1998.  Since June 2003, Ms. DiGeso has been engaged in various philanthropic activities. In this role, he oversees Clinique, Bobbi Brown, La Mer, Jo Malone, Darphin, Aveda, Bumble and bumble and the Aramis and Designer Fragrances Division.  He is also responsible for the Companys International Division, as well as Global Operations, Research and Development, Packaging, Quality Assurance, Merchandise Design, Corporate Store Design and Retail Store Operations.  From 2001 through 2007, Mr. Freda was President, Global Snacks, of The Procter  Gamble Company PG.  Prior to that position, he spent about a decade in positions of increasing responsibility in PG, including positions within PGs Health and Beauty Care Division. - 10 - Table of Contents in July 2004 and added responsibilities for product innovation in July 2007. From January 2000 to July 2004, he was Senior Vice President - Research and Development.  Prior to joining us in January 2000, Mr. Gedeon was Executive Vice President and General Manager, Research and Development and Quality Assurance for Revlon, Inc. from 1997 through 1999. Officer in November 2004.  Prior thereto, he was Senior Vice President and Chief Financial Officer since October 2000.  He joined us in 1986 and served in various finance-related positions until November 1993, when he was named Vice President  Operations Finance Worldwide.  From January 1998 through September 2000, Mr. Kunes was Vice President  Financial Administration and Corporate Controller.  Prior to joining us, he held finance and controller positions at the Colgate-Palmolive Company.  Mr. Kunes is on the Board of Directors of Make-a-Wish Foundation of Suffolk County, NY, Inc. previously served as Vice President and in other executive capacities since first joining us in 1959 as Education Director.  She is a member of the Board of Overseers of Memorial Sloan-Kettering Cancer Center, a member of the Boards of Trustees of Central Park Conservancy, Inc., The Trinity School in New York City Trustee Emirata, a member of the Board of Directors of New Yorkers for Parks, an Honorary Board Member of Cold Spring Harbor Laboratories and the Founder and Chairman of The Breast Cancer Research Foundation. He was our Chief Executive Officer from 1982 through 1999 and President from 1972 until 1995.  Mr. Lauder formally joined us in 1958 after serving as an officer in the United States Navy.  Since joining, he has held various positions, including executive officer positions other than those described above.  He is Chairman Emeritus of the Board of Trustees of the Whitney Museum of American Art, a Charter Trustee of the University of Pennsylvania, a Trustee of The Aspen Institute and the co-founder and director of the Alzheimers Drug Discovery Foundation.  He also served as a member of the White House Advisory Committee on Trade Policy and Negotiations under President Reagan. since returning from government service in 1987 and was Chairman of Estee Lauder International, Inc. from 1987 through 2002.   Mr. Lauder joined the Company in 1964 and has served in various capacities.  From 1983 to 1986, Mr. Lauder served as Deputy Assistant Secretary of Defense for European and NATO Affairs.  From 1986 to 1987, he was U.S. Ambassador to Austria.  He is non- executive Chairman of the Board of Directors of Central European Media Enterprises Ltd.  He is also an Honorary Chairman of the Board of Trustees of the Museum of Modern Art. became President and Chief Executive Officer on July 1, 2004.  From January 2003 through June 2004, he was Chief Operating Officer.  From July 2001 through 2002, he was Group President responsible for the worldwide business of Clinique and Origins and the Companys retail store and on-line operations. From 1998 to 2001, he was President of Clinique Laboratories, LLC.  Prior to 1998, he was President of Origins Natural Resources Inc., and he had been the senior officer of that division since its inception in 1990.  Prior thereto, he served in various positions since joining the Company in 1986.  He is a member of the Boards of Trustees of The University of Pennsylvania and The Trinity School in New York City and the Boards of Directors of the Fresh Air Fund, the 92nd Street Y, the Partnership for New York City, True Temper Sports, Inc., GLG Partners Inc. and the Advisory Board of Zelnick Media. us as Senior Vice President, General Counsel and Secretary in September 2003. She was Senior Vice President and General Counsel of Pitney Bowes Inc. from 1996 to February 2003, and Senior Litigation Partner for Howard, Smith  Levin now Covington  Burling in New York from 1984 to 1996.  Prior to 1984, Ms. Moss served as an Assistant United States Attorney in the Criminal Division in the Southern District of New York, was an associate at the law firm of Davis, Polk  Wardwell and was Law Clerk to the Honorable Constance Baker Motley, a U.S. District Judge in the Southern District of New York. July 2008.  He is responsible for Global Direct and Indirect Procurement, Manufacturing, Logistics, Quality Assurance and Environmental Affairs and Safety.  From 1988 to 2008, he worked for Unilever where he designed and implemented global, regional and local initiatives.  Most recently, from 2006 to 2008, he served as the Senior Vice President, Supply Chain for Unilever where he integrated the North and Latin American Supply Chains, provided senior leadership for all global supply management and established a global outsourcing plan.  He served as Senior Vice President, Supply Chain  North America from 2005 to 2006 and Senior Vice President, Supply Chain, Home and Personal Care  North America from 2002 to 2004. for sales and profits in our International Division, which includes all markets outside of North America, our Travel Retail business worldwide and all of the activities of our sales affiliates and certain distributor relationships.  From August 2000 through 2002 he was the General Manager of our Japanese sales affiliate.  From January 1997 to August 2000, he was Vice President, General Manager, Travel Retail.  He started with us in 1994 as General Manager, Travel Retailing  Asia Pacific Region and was given the added responsibility of General Manager of our Singapore affiliate in 1995. Prior to joining us he worked at LOreal in sales and management positions in the Americas and AsiaPacific. - 11 - Table of Contents Communications in April, 2008.  She directs the Companys overall communications strategy, oversees brand communications, corporate communications, internal communications and consumer communications.  Before joining us, Ms. Trower was Senior Vice President, Media Relations for Bank of America from January, 2004 to March, 2008.  From 1997 to 2002, she worked at JPMorgan Chase, where she was responsible for corporate communications at JPMorgan Fleming Asset Management. Each executive officer serves for a one-year term ending at the next annual meeting of the Board of Directors, subject to his or her applicable employment agreement and his or her earlier death, resignation or removal. There are risks associated with an investment in our securities. Please consider the following risks and all of the other information in this annual report on Form 10-K and in our subsequent filings with the Securities and Exchange Commission SEC.  Our business may also be adversely affected by risks and uncertainties not presently known to us or that we currently believe to be immaterial.  If any of the events contemplated by the following discussion of risks should occur or other risks arise or develop, our business, prospects, financial condition and results of operations, as well as the trading prices of our securities, may be adversely affected. effectively our results will suffer._ We face vigorous competition from companies throughout the world, including multinational consumer product companies.  Some of these competitors have greater resources than we do and may be able to respond to changing business and economic conditions more quickly than us.  Competition in the beauty business is based on pricing of products, innovation, perceived value, service to the consumer, promotional activities, advertising, special events, new product introductions, electronic commerce initiatives and other activities. It is difficult for us to predict the timing and scale of our competitors actions in these areas.  In particular, the fragrance category in the United States is influenced by the high volume of new product introductions by diverse companies across several different distribution channels.  Also, the trend toward consolidation in the retail trade, particularly in developed markets such as the United States and Western Europe, has resulted in us becoming increasingly dependent on key retailers, including large-format retailers, who have increased their bargaining strength.  This trend has also resulted in an increased risk related to the concentration of our customers. A severe adverse impact on their business operations could have a corresponding material adverse effect on us.  Our ability to compete also depends on the continued strength of our brands, our ability to attract and retain key talent and other personnel, the efficiency of our manufacturing facilities and distribution network, and our ability to protect our intellectual property.  Our inability to continue to compete effectively in countries around the world could have an adverse impact on our business. consumer preferences could adversely affect our financial results._ Our continued success depends on our ability to anticipate, gauge and react in a timely and cost-effective manner to changes in consumer tastes for skin care, makeup, fragrance and hair care products as well as to where and how consumers shop for those products.  We must continually work to develop, produce and market new products, maintain and enhance the recognition of our brands, achieve a favorable mix of products, and refine our approach as to how and where we market and sell our products.  While we devote considerable effort and resources to shape, analyze and respond to consumer preferences, we recognize that consumer tastes cannot be predicted with certainty and can change rapidly.  If we are unable to anticipate and respond to trends in the market for our products and changing consumer demands, our financial results will suffer. strategy._ Our long-term strategy is based on five strategic imperatives: 1.               Optimize brand portfolio 2.               Strengthen product categories 3.               Strengthen and expand geographic presence 4.               Diversify and strengthen distribution channels 5.               Achieve operational and cost excellence Achieving our long-term objectives may require investment in new brands, categories, distribution channels, technologies and geographic markets.  These investments may result in short-term costs without any current revenues and, therefore, may be dilutive to our earnings, at least in the short term.  In addition, we may dispose of select brands or streamline operations and incur costs or one-time charges in doing so.  Although we believe that our strategic imperatives will lead to long-term growth in revenue and profitability, we may not realize, in full or in part, the anticipated benefits.  The failure to realize benefits, which may be due to our ability to execute plans or other risks described herein, could have a material adverse effect on our business, financial condition and operating results. - 12 - Table of Contents We continuously review acquisition opportunities that would expand our current product offerings, our distribution channels, increase the size and geographic scope of our operations or otherwise offer growth and operating efficiency opportunities.  If required, the financing for any of these acquisitions could result in an increase in our indebtedness, dilute the interests of our stockholders or both.  Acquisitions may entail numerous risks, including:                   difficulties in assimilating acquired operations or products, including the loss of key employees from or customers of acquired businesses;                   diversion of managements attention from our core businesses;                   adverse effects on existing business relationships with suppliers and customers; and                   risks of entering distribution channels, categories or markets in which we have limited or no prior experience. Our failure to successfully complete the integration of any acquired business could have a material adverse effect on our business, financial condition and operating results.  In addition, there can be no assurance that we will be able to identify suitable acquisition candidates or consummate acquisitions on favorable terms. affect consumer purchases of discretionary items andor the financial strength of our customers that are retailers, which could adversely affect our financial results._ The general level of consumer spending is affected by a number of factors, including general economic conditions, inflation, interest rates, energy costs, and consumer confidence generally, all of which are beyond our control. Consumer purchases of discretionary items tend to decline during recessionary periods, when disposable income is lower, and may impact sales of our products.  A decline in consumer purchases of discretionary items also tends to impact our customers that are retailers.  We generally extend credit to a retailer based on an evaluation of its financial condition, usually without requiring collateral.  However, the financial difficulties of a retailer could cause us to curtail or eliminate business with that customer.  We may also assume more credit risk relating to the receivables from that retailer.  Our inability to collect the receivable from one of our largest customers or from a group of customers could have a material adverse effect on our business and our financial condition.  If a retailer was to liquidate, we may incur additional costs if we choose to purchase the retailers inventory of our products to protect brand equity. In addition, sudden disruptions in business conditions, for example, as a consequence of events such as the outbreak of SARs in 2003 or those that are currently taking place in the Middle East, or as a result of a terrorist attack, retaliation and the threat of further attacks or retaliation, or as a result of adverse weather conditions or climate changes, can have a short and, sometimes, long-term impact on consumer spending. Events that impact consumers willingness or ability to travel andor purchase our products while traveling may impact our travel retail business, which is a significant contributor to our overall results. A downturn in the economies in which we sell our products or a sudden disruption of business conditions in those economies could adversely affect our sales and profitability. adversely affect our financial results._ Our business is subject to numerous laws, regulations and policies.  Changes in the laws, regulations and policies, including the interpretation or enforcement thereof, that affect, or will affect, our business, including changes in accounting standards, tax laws and regulations, trade rules and customs regulations, and the outcome and expense of legal or regulatory proceedings, and any action we may take as a result could adversely affect our financial results. Our success depends, in part, on the quality and safety of our products.  If our products are found to be defective or unsafe, or if they otherwise fail to meet our consumers standards, our relationships with customers or consumers could suffer, the appeal of one or more of our brands could be diminished, and we could lose sales andor become subject to liability claims, any of which could result in a material adverse effect on our business, results of operations and financial condition. - 13 - Table of Contents Our success depends, in part, on our ability to retain our key personnel, including our executive officers and senior management team.  The unexpected loss of one or more of our key employees could adversely affect our business. Our success also depends, in part, on our continuing ability to identify, hire, train and retain other highly qualified personnel.  Competition for these employees can be intense.  We may not be able to attract, assimilate or retain qualified personnel in the future, and our failure to do so could adversely affect our business.  This risk may be exacerbated by the stresses associated with the implementation of SMI as defined below and other initiatives. We operate on a global basis, with approximately 59 of our fiscal 2008 net sales generated outside the United States.  We maintain offices in over 40 countries and have key operational facilities located outside the United States that manufacture, warehouse or distribute goods for sale throughout the world.  Foreign operations are subject to many risks and uncertainties, including:                      fluctuations in foreign currency exchange rates, which can affect our results of operations, the value of our foreign assets, the relative prices at which we and foreign competitors sell products in the same markets and the cost of certain inventory and non-inventory items required in our operations;                      changes in foreign laws, regulations and policies, including restrictions on trade, import and export license requirements, and tariffs and taxes, as well as changes in United States laws and regulations relating to foreign trade and investment; and                      adverse weather conditions, social, economic and geopolitical conditions, such as terrorist attacks, war or other military action. These risks could have a material adverse effect on our business, prospects, results of operations and financial condition. financial results._ As a company engaged in manufacturing and distribution on a global scale, we are subject to the risks inherent in such activities, including industrial accidents, environmental events, strikes and other labor disputes, disruptions in logistics or information systems, loss or impairment of key manufacturing sites, product quality control, safety, licensing requirements and other regulatory issues, as well as natural disasters and other external factors over which we have no control.  If such an event were to occur, it could have an adverse affect on our business and financial results. other risks._ We have information systems that support our business processes, including product development, marketing, sales, order processing, production, distribution, finance and intracompany communications throughout the world. We have e-commerce and other Internet websites in the United States and many other countries.  These systems may be susceptible to outages due to fire, floods, power loss, telecommunications failures, break-ins and similar events. Despite the implementation of network security measures, our systems may be vulnerable to computer viruses, break-ins and similar disruptions from unauthorized tampering.  The occurrence of these or other events could disrupt or damage our information systems and adversely affect our business and results of operations. systems._ As part of a program that we call our Strategic Modernization Initiative, or SMI, we are implementing enterprise-wide global programs intended to deliver a single set of integrated data, processes and technologies, which would be scalable and used to standardize business processes across brands, operating units and sales affiliates.  The initial implementation of SMI at our Aveda operating unit occurred in May 2007.  We anticipate SMI implementation will continue at additional primary locations in fiscal 2009, with the majority of our business to be implemented through fiscal 2012.  Like most entity-wide changes to software systems, the implementation of SMI involves risks and uncertainties.  Failure to implement SMI as planned, in terms of timing, specifications andor costs, could have an adverse impact on our business and results of operations. - 14 - Table of Contents the accuracy of predictions of our earnings or other financial performance._ Our business planning process is designed to maximize our long-term strength, growth and profitability, not to achieve an earnings target in any particular fiscal quarter.  We believe that this longer-term focus is in the best interests of the Company and our stockholders.  At the same time, however, we recognize that it may be helpful to provide investors with guidance as to our forecast of net sales and earnings.  Accordingly, when we announced our year- end financial results for fiscal 2008, we provided guidance as to our expected net sales and earnings for the fiscal year ending June 30, 2009 and the quarter ending September 30, 2008.  While we generally expect to provide updates to our guidance when we report our results each fiscal quarter, we assume no responsibility to update any of our forward-looking statements at such times or otherwise.  In addition, the longer-term guidance we provide is based on goals that we believe, at the time guidance is given, are reasonably attainable for growth and performance over a number of years.  Such targets are more speculative than our current quarter and fiscal year expectations. In all of our public statements when we make, or update, a forward-looking statement about our sales andor earnings expectations, we accompany such statements directly, or by reference to a public document, with a list of factors that could cause our actual results to differ materially from those we expect.  Such a list is included, among other places, in our earnings press release and in our periodic filings with the Securities and Exchange Commission e.g., in our reports on Form 10-K and Form 10-Q.  These and other factors may make it difficult for outside observers, such as research analysts, to predict what our earnings will be in any given fiscal quarter or year. Outside analysts, like all investors, have the right to make their own predictions of our financial results for any future period.  Outside analysts, however, have access to no more material information about our plans than any other public investor, and we do not endorse their predictions as to our future performance.  Nor do we assume any responsibility to correct the predictions of outside analysts or others when they differ from our own internal expectations.  If and when we announce actual results that differ from those that outside analysts or others have been predicting, the market price of our securities could be affected.  Investors who rely on the predictions of outside analysts or others when making investment decisions with respect to our securities do so at their own risk.  We take no responsibility for any losses suffered as a result of such changes in the prices of our securities. As of the filing of this annual report on Form 10-K, there were no unresolved comments from the Staff of the Securities and Exchange Commission. - 15 - Table of Contents The following table sets forth our principal owned and leased manufacturing, assembly, research and development and distribution facilities as of August 15, 2008.  The leases expire at various times through 2026 subject to certain renewal options. We own, lease and occupy numerous offices, assembly and distribution facilities and warehouses in the United States and abroad.  We consider our properties to be generally in good condition and believe that our facilities are adequate for our operations and provide sufficient capacity to meet anticipated requirements.  We lease approximately 286,000 square feet of rentable space for our principal offices in New York, New York and own an office building of approximately 57,000 square feet in Melville, New York.  As of August 15, 2008, we operated 667 freestanding retail stores, including 20 for the Estée Lauder brand, 29 for Clinique, 149 for Origins, 208 for MžAžC, 138 for Aveda, 6 for Bobbi Brown, 24 for Jo Malone, 2 for Bumble and bumble and 90 multi-brand stores. - 16 - Table of Contents We are involved, from time to time, in litigation and other legal proceedings incidental to our business.  Management believes that the outcome of current litigation and legal proceedings will not have a material adverse effect upon our results of operations or financial condition.  However, managements assessment of our current litigation and other legal proceedings could change in light of the discovery of facts with respect to legal actions or other proceedings pending against us not presently known to us or determinations by judges, juries or other finders of fact which are not in accord with managements evaluation of the possible liability or outcome of such litigation or proceedings. In 1999, the Office of the Attorney General of the State of New York the State notified the Company and ten other entities that they had been identified as potentially responsible parties PRPs with respect to the Blydenburgh landfill in Islip, New York.  Each PRP may be jointly and severally liable for the costs of investigation and cleanup, which the State estimated in 2006 to be approximately $19.7 million for all PRPs.  In 2001, the State sued other PRPs including Hickeys Carting, Inc., Dennis C. Hickey and Maria Hickey, collectively the Hickey Parties, in the U.S. District Court for the Eastern District of New York to recover such costs in connection with the site, and in September 2002, the Hickey Parties brought contribution actions against the Company and other Blydenburgh PRPs.  These contribution actions seek to recover, among other things, any damages for which the Hickey Parties are found liable in the States lawsuit against them, and related costs and expenses, including attorneys fees.  In June 2004, the State added the Company and other PRPs as defendants in its pending case against the Hickey Parties.  In April 2006, the Company and other defendants added numerous other parties to the case as third-party defendants.  The Company and certain other PRPs have engaged in settlement discussions which to date have been unsuccessful.  Settlement negotiations with the new third-party defendants, the State, the Company and other defendants began in July 2006. We have accrued an amount which we believe would be necessary to resolve our share of this matter.  If settlement discussions are not successful, we intend to vigorously defend the pending claims.  While no assurance can be given as to the ultimate outcome, management believes that the resolution of the Blydenburgh matters will not have a material adverse effect on our consolidated financial condition. No matters were submitted to a vote of security holders during the quarter ended June 30, 2008. Matters and Issuer Purchases of Equity Securities._ Our Class A Common Stock is publicly traded on the New York Stock Exchange under the symbol EL.  The following table shows the high and low sales prices as reported on the New York Stock Exchange Composite Tape and the cash dividends per share declared in fiscal 2008 and fiscal 2007: We expect to continue the payment of cash dividends in the future, but there can be no assurance that the Board of Directors will continue to declare them. In November 2007 and October 2006, the Board of Directors declared an annual dividend of $.55 and $.50 per share, respectively, which was paid in December 2007 and 2006, respectively. As of August 15, 2008, there were approximately 3,247 record holders of Class A Common Stock and 20 record holders of Class B Common Stock. - 17 - Table of Contents We are authorized by the Board of Directors to repurchase up to 88.0 million shares of Class A Common Stock in the open market or in privately negotiated transactions, depending on market conditions and other factors.  As of June 30, 2008, the cumulative total of acquired shares pursuant to the authorization was 64.1 million, reducing the remaining authorized share repurchase balance to 23.9 million.  During fiscal 2008, we purchased approximately 3.0 million shares pursuant to the authorization for $129.1 million as outlined in the following table: Subsequent to June 30, 2008, we repurchased approximately 0.9 million additional shares of Class A Common Stock for $38.4 million pursuant to a 10b5-1 stock purchase plan entered into in February 2008 and completed in August 2008. Shares of Class B Common Stock may be converted immediately into Class A Common Stock on a one-for-one basis by the holder and are automatically converted into Class A Common Stock on a one-for-one basis upon transfer to a person or entity that is not a Permitted Transferee or soon after a record date for a meeting of stockholders where the outstanding Class B Common Stock constitutes less than 10 of the outstanding shares of Common Stock of the Company.  There is no cash or other consideration paid by the holder converting the shares and, accordingly, there is no cash or other consideration received by the Company.  The shares of Class A Common Stock issued by the Company in such conversions are exempt from registration under the Securities Act of 1933, as amended, pursuant to Section 3a9 thereof. During the three months ended June 30, 2008, the holder set forth in the table converted shares of Class B Common Stock into Class A Common Stock on the date set forth in the table below: - 18 - Table of Contents The table below summarizes selected financial information.  For further information, refer to the audited consolidated financial statements and the notes thereto beginning on page F-1 of this report. a Fiscal 2006 results included $93.0 million, after-tax, or $.43 per diluted share in special charges related to our cost savings initiative and tax- related matters.  Included in the charges was an operating expense charge of $92.1 million, equal to $.27 per diluted common share related to the cost savings initiative.  The results also included a special tax charge related to a settlement with the Internal Revenue Service regarding an examination of our consolidated Federal income tax returns for fiscal years 1998 through 2001, and represents the aggregate earnings impact of the settlement through fiscal 2006.  The settlement resulted in an increase to our fiscal 2006 income tax provision and a corresponding decrease in fiscal 2006 net earnings of approximately $46 million, or approximately $.21 per diluted common share. During the fourth quarter of fiscal 2006, we completed the repatriation of foreign earnings through intercompany dividends under the provisions of the American Jobs Creation Act of 2004 the AJCA.  In connection with the repatriation, we updated the computation of the related aggregate tax impact, resulting in a favorable adjustment of approximately $11 million, or approximately $.05 per diluted common share, to our initial tax charge of $35 million recorded in fiscal 2005.  The tax settlement, coupled with the AJCA favorable tax adjustment, resulted in a net increase to our fiscal 2006 income tax provision and a corresponding decrease in fiscal 2006 net earnings of approximately $35 million, or approximately $.16 per diluted common share. b In the fourth quarter of fiscal 2005, we announced plans to repatriate approximately $690 million of foreign earnings in fiscal year 2006, which included $500 million of extraordinary intercompany dividends under the provisions of the AJCA.  This action resulted in an aggregate tax charge of approximately $35 million in our fiscal year ended June 30, 2005, which included an incremental tax charge of approximately $28 million, equal to $.12 per diluted share. c In May 2007, we issued and sold $300.0 million of 5.55 Senior Notes due May 15, 2017 and $300.0 million of 6.00 Senior Notes, due May 15, 2037 in a public offering.  We used the net proceeds of this offering to repay long-term commercial paper, which was used to fund our accelerated stock repurchase program, and to pay transaction fees and expenses related to this offering. d In April 2006, we completed the sale of certain assets and operations of the reporting unit that marketed and sold Stila brand products.  In February 2004, we sold the assets and operations of our former reporting unit that sold information in the consolidated financial statements and footnotes for all periods presented has been restated for comparative purposes to reflect those reporting units as discontinued operations. e During fiscal 2007, we repurchased 22,461,642 shares of our outstanding common stock, of which 15,960,842 shares were purchased for $750.0 million through an accelerated stock repurchase program with a financial counterparty. - 19 - Table of Contents Results of Operations_. The discussion and analysis of our financial condition at June 30, 2008 and our results of operations for the three fiscal years ended June 30, 2008 are based upon our consolidated financial statements, which have been prepared in conformity with U.S. generally accepted accounting principles.  The preparation of these financial statements requires us to make estimates and assumptions that affect the reported amounts of assets, liabilities, revenues and expenses reported in those financial statements.  These judgments can be subjective and complex, and consequently actual results could differ from those estimates.  Our most critical accounting policies relate to revenue recognition, concentration of credit risk, inventory, pension and other post- retirement benefit costs, goodwill and other intangible assets, income taxes and derivatives. Management of the Company has discussed the selection of significant accounting policies and the effect of estimates with the Audit Committee of the Companys Board of Directors. Revenues from merchandise sales are recognized upon transfer of ownership, including passage of title to the customer and transfer of the risk of loss related to those goods.  In the Americas region, sales are generally recognized at the time the product is shipped to the customer and in the Europe, Middle East  Africa and AsiaPacific regions sales are generally recognized based upon the customers receipt.  In certain circumstances, transfer of title takes place at the point of sale, for example, at our retail stores.  Sales at our retail stores and online are recognized in accordance with a traditional 4-4-5 retail calendar, where each fiscal quarter is comprised of two 4-week periods and one 5-week period, with one extra week in one quarter every seven years.  As a result, the retail quarter-end and the fiscal quarter-end may be different by up to six days. Revenues are reported on a net sales basis, which is computed by deducting from gross sales the amount of actual product returns received, discounts, incentive arrangements with retailers and an amount established for anticipated product returns.  Our practice is to accept product returns from retailers only if properly requested, authorized and approved.  In accepting returns, we typically provide a credit to the retailer against accounts receivable from that retailer.  As a percentage of gross sales, returns were 4.4, 4.2 and 5.0 in fiscal 2008, 2007 and 2006, respectively. Our sales return accrual is a subjective critical estimate that has a direct impact on reported net sales.  This accrual is calculated based on a history of actual returns, estimated future returns and information provided by authorized retailers regarding their inventory levels.  Consideration of these factors results in an accrual for anticipated sales returns that reflects increases or decreases related to seasonal fluctuations.  Experience has shown a relationship between retailer inventory levels and sales returns in the subsequent period, as well as a consistent pattern of returns due to the seasonal nature of our business.  In addition, as necessary, specific accruals may be established for significant future known or anticipated events.  The types of known or anticipated events that we have considered, and will continue to consider, include, but are not limited to, the financial condition of our customers, store closings by retailers, changes in the retail environment and our decision to continue or support new and existing products. An entity is vulnerable to concentration of credit risk if it is exposed to risks of loss greater than it would have if it mitigated its risks through diversification of customers.  The significance of such credit risk depends on the extent and nature of the concentration. During fiscal 2006, Federated Department Stores, Inc. acquired The May Department Stores Company, resulting in the merger of our previous two largest customers collectively Macys, Inc..  This customer sells products primarily within North America and accounted for $951.4 million, or 12, $958.8 million, or 14, and $1,005.8 million, or 16, of our consolidated net sales in fiscal 2008, 2007 and 2006, respectively.  This customer accounted for $109.2 million, or 11, and $105.3 million, or 12, of our accounts receivable at June 30, 2008 and 2007, respectively.  Although management believes that this customer and our other major customers are sound and creditworthy, a severe adverse impact on their business operations could have a corresponding material adverse effect on our net sales, cash flows andor financial condition. In the ordinary course of business, we have established an allowance for doubtful accounts and customer deductions in the amount of $26.3 million and $23.3 million as of June 30, 2008 and 2007, respectively.  Our allowance for doubtful accounts is a subjective critical estimate that has a direct impact on reported net earnings.  The allowance for doubtful accounts was reduced by $10.2 million, $18.2 million and $12.0 million for customer deductions and write-offs in fiscal 2008, 2007 and 2006, respectively, and increased by $13.2 million, $14.4 million and $10.2 million for additional provisions in fiscal 2008, 2007 and 2006, respectively.  This reserve is based upon the evaluation of accounts receivable aging, specific exposures and historical trends. - 20 - Table of Contents We state our inventory at the lower of cost or fair market value, with cost being determined on the first-in, first-out FIFO method.  We believe FIFO most closely matches the flow of our products from manufacture through sale. The reported net value of our inventory includes saleable products, promotional products, raw materials and componentry and work in process that will be sold or used in future periods.  Inventory cost includes raw materials, direct labor and overhead. We also record an inventory obsolescence reserve, which represents the difference between the cost of the inventory and its estimated realizable value, based on various product sales projections.  This reserve is calculated using an estimated obsolescence percentage applied to the inventory based on age, historical trends and requirements to support forecasted sales.  In addition, and as necessary, we may establish specific reserves for future known or anticipated events. We offer the following benefits to some or all of our employees: a domestic trust-based noncontributory qualified defined benefit pension plan  U.S. Qualified Plan and an unfunded, non-qualified domestic noncontributory pension plan to provide benefits in excess of statutory limitations collectively with the U.S. Qualified Plan, the Domestic Plans; a domestic contributory defined contribution plan; international pension plans, which vary by country, consisting of both defined benefit and defined contribution pension plans; deferred compensation arrangements; and certain other post- retirement benefit plans. The amounts needed to fund future payouts under these plans are subject to numerous assumptions and variables.  Certain significant variables require us to make assumptions that are within our control such as an anticipated discount rate, expected rate of return on plan assets and future compensation levels.  We evaluate these assumptions with our actuarial advisors and we believe they are within accepted industry ranges, although an increase or decrease in the assumptions or economic events outside our control could have a direct impact on reported net earnings. The pre-retirement discount rate for each plan used for determining future net periodic benefit cost is based on a review of highly rated long-term bonds. For fiscal 2008, we used a pre-retirement discount rate for our Domestic Plans of 6.25 and varying rates on our international plans of between 2.25 and 8.25.  The pre-retirement rate for our Domestic Plans is based on a bond portfolio that includes only long-term bonds with an Aa rating, or equivalent, from a major rating agency.  We believe the timing and amount of cash flows related to the bonds included in this portfolio is expected to match the estimated defined benefit payment streams of our Domestic Plans.  For fiscal 2008, we used an expected return on plan assets of 7.75 for our U.S. Qualified Plan and varying rates of between 3.00 and 8.25 for our international plans.  In determining the long-term rate of return for a plan, we consider the historical rates of return, the nature of the plans investments and an expectation for the plans investment strategies.  The U.S. Qualified Plan asset allocation as of June 30, 2008 was approximately 40 equity investments, 42 debt securities and 18 other investments.  The asset allocation of our combined international plans as of June 30, 2008 was approximately 45 equity investments, 38 debt securities and 17 other investments.  The difference between actual and expected return on plan assets is reported as a component of accumulated other comprehensive income.  Those gainslosses that are subject to amortization over future periods will be recognized as a component of the net periodic benefit cost in such future periods.  For fiscal 2008, our pension plans had actual negative return on assets of $19.3 million as compared with expected return on assets of $47.0 million, which resulted in a net deferred loss of $66.3 million, of which approximately $34 million is subject to amortization over periods ranging from approximately 8 to 16 years.  The actual negative return on assets was primarily related to the performance of equity markets during the past fiscal year. A 25 basis-point change in the discount rate or the expected rate of return on plan assets would have had the following effect on fiscal 2008 pension expense: Our post-retirement plans are comprised of health care plans that could be impacted by health care cost trend rates, which may have a significant effect on the amounts reported.  A one-percentage-point change in assumed health care cost trend rates for fiscal 2008 would have had the following effects: - 21 - Table of Contents For fiscal 2009, we are using a pre-retirement discount rate for the Domestic Plans of 6.75 and varying rates for our international plans of between 2.00 and 9.00.  We are using an expected return on plan assets of 7.75 for the U.S. Qualified Plan and varying rates for our international pension plans of between 3.25 and 9.00.  The net change in these assumptions from those used in fiscal 2008 will result in a decrease in pension expense of approximately $3.6 million in fiscal 2009.  We will continue to monitor the market conditions relative to these assumptions and adjust them accordingly. Goodwill is calculated as the excess of the cost of purchased businesses over the fair value of their underlying net assets.  Other intangible assets principally consist of purchased royalty rights and trademarks.  Goodwill and other intangible assets that have an indefinite life are not amortized. On an annual basis, or more frequently if certain events or circumstances warrant, we test goodwill and other indefinite-lived intangible assets for impairment.  To determine the fair value of these intangible assets, there are many assumptions and estimates used that directly impact the results of the testing.  We have the ability to influence the outcome and ultimate results based on the assumptions and estimates we choose.  To mitigate undue influence, we use industry accepted valuation models and set criteria that are reviewed and approved by various levels of management and, in certain instances, we engage third-party valuation specialists to advise us. We account for income taxes in accordance with Statement of Financial Accounting Standards SFAS No. 109, Accounting for Income Taxes, as amended.  This statement establishes financial accounting and reporting standards for the effects of income taxes that result from an enterprises activities during the current and preceding years.  It requires an asset and liability approach for financial accounting and reporting of income taxes. As of June 30, 2008, we have current net deferred tax assets of $184.6 million and non-current net deferred tax assets of $55.3 million.  The net deferred tax assets assume sufficient future earnings for their realization, as well as the continued application of currently anticipated tax rates.  Included in net deferred tax assets is a valuation allowance of $5.7 million for deferred tax assets, where management believes it is more likely than not that the deferred tax assets will not be realized in the relevant jurisdiction.  Based on our assessments, no additional valuation allowance is required.  If we determine that a deferred tax asset will not be realizable, an adjustment to the deferred tax asset will result in a reduction of earnings at that time. In June 2006, the Financial Accounting Standards Board FASB issued FASB Interpretation No. FIN 48, Accounting for Uncertainty in Income Taxes  an interpretation of FASB Statement No. 109 FIN 48.  FIN 48 clarifies the accounting for uncertainty in income taxes recognized in an enterprises financial statements in accordance with SFAS No. 109.  FIN 48 prescribes a two-step evaluation process for tax positions taken, or expected to be taken, in a tax return.  The first step is recognition and the second is measurement. FIN 48 also provides guidance on derecognition, measurement, classification, disclosures, transition and accounting for interim periods.  In May 2007, the FASB issued FASB Staff Position FSP No. FIN 48-1, Definition of Settlement in FASB Interpretation No. 48, an amendment of FASB Interpretation FIN No. 48, Accounting for Uncertainty in Income Taxes FSP No. FIN 48-1.  FSP No. FIN 48-1 provides guidance on how to determine whether a tax position is effectively settled for the purpose of recognizing previously unrecognized tax benefits. We adopted the provisions of FIN 48, as amended, effective July 1, 2007.  As a result, we recognized an increase in the liability for unrecognized tax benefits and interest of $13.1 million net of tax effect, which, as required, was accounted for as a reduction to the July 1, 2007 balance of retained earnings.  We elected to continue our historical practice of classifying applicable interest and penalties as a component of the provision for income taxes. We provide tax reserves for Federal, state, local and international exposures relating to periods subject to audit.  The development of reserves for these exposures requires judgments about tax issues, potential outcomes and timing, and is a subjective critical estimate.  We assess our tax positions and record tax benefits for all years subject to examination based upon managements evaluation of the facts, circumstances, and information available at the reporting dates.  For those tax positions where it is more-likely-than-not that a tax benefit will be sustained, we have recorded the largest amount of tax benefit with a greater than 50 likelihood of being realized upon settlement with a tax authority that has full knowledge of all relevant information.  For those tax positions where it is not more-likely-than-not that a tax benefit will be sustained, no tax benefit has been recognized in the financial statements.  Where applicable, associated interest and penalties have also been recognized.  Although the outcome relating to these exposures is uncertain, in managements opinion adequate provisions for income taxes have been made for estimable potential liabilities emanating from these exposures.  In certain circumstances, the ultimate outcome of exposures and risks involves significant uncertainties which render them inestimable.  If actual outcomes differ materially from these estimates, including those that cannot be quantified, they could have a material impact on our results of operations, as we experienced in the fourth quarter of fiscal 2006 see Results of Operations _, Fiscal 2007 as Compared with Fiscal 2006  Provision for Income Taxes_ . - 22 - Table of Contents We account for derivative financial instruments in accordance with SFAS No. 133, Accounting for Derivative Instruments and Hedging Activities, as amended, which establishes accounting and reporting standards for derivative instruments, including certain derivative instruments embedded in other contracts, and for hedging activities.  This statement also requires the recognition of all derivative instruments as either assets or liabilities on the balance sheet and that they be measured at fair value. We currently use derivative financial instruments to hedge certain anticipated transactions and interest rates, as well as receivables and payables denominated in foreign currencies.  We do not utilize derivatives for trading or speculative purposes.  Hedge effectiveness is documented, assessed and monitored by employees who are qualified to make such assessments and monitor the instruments.  Variables that are external to us such as social, political and economic risks may have an impact on our hedging program and the results thereof.  For a discussion on the quantitative impact of market risks related to our derivative financial instruments, refer to  _Liquidity and Capital Resources  Market Risk._ During the three-year period ended June 30, 2008 there have not been material changes in the assumptions underlying these critical accounting policies, nor to the related significant estimates.  With the exception of our tax settlement with the Internal Revenue Service in the fourth quarter of fiscal 2006, which finalized the ultimate liability for exposures which were previously inestimable, the results of our business underlying these assumptions have not differed significantly from our expectations. While we believe that the estimates that we have made are proper and the related results of operations for the period are presented fairly in all material respects, other assumptions could reasonably be justified that would change the amount of reported net sales, cost of sales, operating expenses or our provision for income taxes as they relate to the provisions for anticipated sales returns, allowance for doubtful accounts, inventory obsolescence reserve and income taxes.  For fiscal 2008, had these estimates been changed simultaneously by 2.5 in either direction, our reported gross profit would have increased or decreased by approximately $5.2 million, operating expenses would have changed by approximately $0.7 million and the provision for income taxes would have increased or decreased by approximately $1.7 million.  The collective impact of these changes on operating income, net earnings and net earnings per diluted common share would be an increase or decrease of approximately $5.9 million, $7.6 million and $.04, respectively. We manufacture, market and sell skin care, makeup, fragrance and hair care products which are distributed in over 140 countries and territories.  We believe that the best way to increase stockholder value is to provide our customers and consumers with the products and services that they have come to expect from us in the most efficient and profitable manner.  With this goal in mind, we have developed a long-term strategy based on the following five imperatives: 1.               Optimize brand portfolio 2.               Strengthen product categories 3.               Strengthen and expand geographic presence 4.               Diversify and strengthen distribution channels 5.               Achieve operational and cost excellence In fiscal 2008, we continued to find ways to strengthen our core brands and product categories, maximize high-growth brands, and incubate and develop next generation brands.  Net sales from Estée Lauder and Clinique grew on a global basis, fueled by strong demand outside of the United States where these brands generated approximately two-thirds of their net sales.  We took measures to improve our business at the point of sale by investing in new modular display and tester units for the Estée Lauder brand at all North American department store locations and increased our focus to improve the service provided by Estée Lauder Beauty Advisors.  Our Clinique brand sponsored a program to improve the consumer experience at U.S. and international department stores. Our faster growing MžAžC, Bobbi Brown, La Mer and Jo Malone brands continued to increase their net sales in all of our geographic regions.  The recent launch of Sean John Unforgivable Woman generated significant incremental net sales to our fragrance product category. In July 2007, we acquired Ojon Corporation, a privately held hair care and skin care company based in Canada that sells its products primarily through direct response television DRTV and specialty stores.  We also recently announced that we purchased a minority interest in a privately held company that manufactures, markets and sells beauty products in India under the Forest Essentials brand. This past year we continued to build on our strength in research and development.  For example, we further improved the Estée Lauder Re-Nutriv product line with the introduction of Re-Nutriv Ultimate Youth Crème. Clinique launched a dermatologist-certified line called Redness Solutions to reduce the appearance of skin redness.  Origins recently launched Origins Organics, the first full line of skin, body and hair care products to be certified under the USDA National Organic Program. - 23 - Table of Contents Again in fiscal 2008, the majority of our net sales came from outside the United States.  We generated growth in sales and profits in our travel retail business, including accelerated growth from downtown locations in Asian cities, border stores in Latin America and shops on cruise ships.  We continued to increase our presence in China and Russia and recently established affiliates in the Middle East and India.  In an effort to improve the return on our media investment abroad, we consolidated the work of several media agencies into one by selecting M2M, a media company of Omnicom Media Group, to be our media agency in eight European and four AsianPacific countries.  By doing so, we anticipate integrating traditional media and expanding the use of Internet and digital advertising in these areas. In alternative distribution channels, we continued to grow our online business in the United States, where we sell products from 15 of our brands on Company- owned websites.  With the recent expansion of our online business into Korea, we now sell products on our own e-commerce sites in five foreign countries. In fiscal 2008, we also expanded our presence in the DRTV distribution channel, most significantly with the acquisition of Ojon in July 2007.  In the United States, Clinique debuted on QVC, where Bobbi Brown, Origins and Ojon currently have regular shows.  BeautyBank created Eyes by Design, a brand which is currently being sold exclusively on HSN.  Internationally, Ojon debuted on QVC in Germany while Bobbi Brown and Prescriptives aired on QVC in the United Kingdom.  Origins and Good SkinTM have also had shows on DRTV in Korea. As part of our international pharmacy channel business initiative, several distributor markets for Darphin products will now be serviced by our own affiliates and Origins opened more than 20 new pharmacies in France.  Tri- Aktiline by Good SkinTM launched in over 500 Sephora doors throughout Europe and exclusively in Cosmeds 250 pharmacies in Taiwan, our first entry in Taiwans pharmacy channel.  In January 2008, we formed a strategic collaboration with Allergan, Inc., a global medical aesthetics company, to develop a Clinique-branded skin care line, Clinique Medical, to be sold exclusively through physicians offices in the United States. We continued to make progress on our Strategic Modernization Initiative SMI.  During fiscal 2008, Demand Planning for select business units began using SAP software, a critical part of SMI.  We anticipate SMI implementation will continue at additional primary locations in fiscal 2009, with the majority of our business to be implemented through fiscal 2012. Despite the rise in energy and raw material prices in the current year, we were able to maintain our overall cost of sales margin through other efficiencies achieved from our ongoing savings initiatives.  We also opened a new distribution center in Singapore to improve service levels in the fast- growing AsiaPacific region.  In December 2007, we entered into agreements to ensure that the equivalent of all electricity utilized by our Global Operations division is generated from green sources.  We now rank 22nd on the EPAs list of leading Fortune 500 companies in alternative power usage. During fiscal 2008, we also faced challenges, many of which we expect to be ongoing in fiscal 2009.  We believe that economic uncertainty in the United States has affected our business, particularly in the department store channel.  We continue to see softness in the United States, including the impact of the consolidation and changes taking place among retailers.  In addition, the fragrance category continues to be highly competitive.  These challenges have been mitigated through sales in alternative channels, such as freestanding retail stores, internet distribution, self-select distribution and DRTV.  Efforts to expand geographically are complicated by increasing regulatory issues and cultural barriers. As we continue to implement our strategic imperatives, we expect to make selective investments, embark on new business endeavors, and pursue initiatives that we believe will have long-term benefits.  The timing, impact and magnitude of any particular actions, such as an acquisition to strengthen our product categories andor diversify our distribution channels, are subject to numerous factors and one-time charges that cannot be predicted. - 24 - Table of Contents The following table is a comparative summary of operating results from continuing operations for fiscal 2008, 2007 and 2006 and reflects the basis of presentation described in Note 2 and Note 21 to the Notes to Consolidated Financial Statements for all periods presented.  Products and services that do not meet our definition of skin care, makeup, fragrance and hair care have been included in the other category. - 25 - Table of Contents The following table presents certain consolidated earnings data as a percentage of net sales: In order to meet the demands of consumers, we continually introduce new products, support new and established products through advertising, sampling and merchandising and phase out existing products that no longer meet the needs of our consumers.  The economics of developing, producing, launching and supporting products influence our sales and operating performance each period. The introduction of new products may have some cannibalizing effect on sales of existing products, which we take into account in our business planning. The recent challenges and uncertainties in the economies of certain key countries, including the United States, may continue to have an adverse impact on consumer demand, which could affect our net sales and operating results in the short and long term. Net sales increased 12, or $873.3 million, to $7,910.8 million, reflecting net sales growth in all of our product categories within each geographic region.  Skin care, makeup and fragrance net sales increases were led by Europe, the Middle East and Africa while most of the net sales increase in hair care was achieved in the Americas.  The increase in net sales reflected our efforts to capitalize on growth opportunities internationally.  Excluding the impact of foreign currency translation, net sales increased 8. $2,996.8 million.   This growth reflected the recent launches of Idealist Pore Minimizing Skin Refinisher, Cyber White EX and Hydra Bright Skin Tone Perfecting Moisturizers from Estée Lauder.  Also contributing to the growth were the recent launches of products in the Acne Solutions Clear Skin System, Redness Solutions and Even Better Skin Tone Corrector from Clinique as well as The Eye Concentrate and The Moisturizing Gel Cream from La Mer.  Collectively, these new products resulted in incremental sales of approximately $215 million.  Net sales increases from Re-Nutriv and Resilience Lift Extreme Ultra Firming products from Estée Lauder, products in Cliniques 3-Step Skin Care System and Repairwear line, and Tri-AktilineTM Instant Deep Wrinkle Filler from Good SkinTM totaled approximately $80 million.  These improvements were partially offset by approximately $55 million of lower sales from certain other existing Idealist products and Perfectionist products from Estée Lauder. Net sales of other new and existing products also significantly contributed to the growth.  Excluding the impact of foreign currency translation, skin care net sales increased 10. - 26 - Table of Contents Makeup net sales increased 11, or $287.7 million, to $3,000.4 million reflecting growth from our makeup artist brands of approximately $194 million. Also contributing to the growth were incremental sales from the recent launches of Estée Lauder Signature Hydra Lustre Lipstick, Double Wear Zero Smudge Mascara and Eyeliner from Estée Lauder, Supermoisture Makeup and Superbalm Moisturizing Gloss from Clinique, as well as higher sales of Double Wear Stay-In-Place Makeup from Estée Lauder of approximately $97 million, combined.  Partially offsetting these increases were lower sales of approximately $30 million of Pure Color Eyeshadow and High Gloss from Estée Lauder and Colour Surge Lipstick from Clinique.  Excluding the impact of foreign currency translation, makeup net sales increased 7. million.   The recent launches of Sean John Unforgivable Woman, Dreaming Tommy Hilfiger, Estée Lauder Pure White Linen Light Breeze, Estée Lauder _pleasures delight_ and DKNY Delicious Night collectively contributed approximately $95 million to the growth in the category.  Higher sales of approximately $62 million of DKNY Be Delicious, Jo Malone and Tom Ford fragrances also contributed to the increase.  Lower sales of approximately $53 million of Tommy Girl by Tommy Hilfiger, DKNY Red Delicious Women and DKNY Be Delicious Men partially offset the growth in this product category.  While current year sales levels compared favorably to the prior year, we anticipate continued challenges in this product category in the United States.  Excluding the impact of foreign currency translation, fragrance net sales increased 5. Hair care net sales increased 13, or $50.0 million, to $427.1 million, primarily due to the inclusion of the Ojon brand which was acquired at the end of July 2007, as well as growth from Aveda and Bumble and bumble.  Aveda net sales increases benefited from the recent launches of Smooth Infusion and Aveda Men Pure-Formance products, as well as the recent acquisition of an independent distributor.  Bumble and bumble net sales benefited from new points of distribution and increases from its hotel amenities program, which concluded in the third quarter.  Excluding the impact of foreign currency translation, hair care net sales increased 11. Net sales in the Americas increased 4, or $150.6 million, to $3,711.5 million, primarily reflecting net sales growth in Canada and Latin America, as well as the addition of the Ojon brand, of approximately $98 million, combined.  Additional net sales increases of approximately $65 million were attributable to our designer fragrances business and our makeup artist and hair care brands in the United States.  Partially offsetting this growth was approximately $37 million related to weaknesses in certain of our core brands in the United States as a result of competitive pressures and challenges in the department store channel.  We believe that economic uncertainty in the United States has affected our business, particularly in the department store channel.  These challenges have been mitigated through sales in alternative channels, such as freestanding retail stores, internet distribution, self- select distribution and direct-response television.  Excluding the impact of foreign currency translation, net sales in the Americas increased 3. All countries in Europe, the Middle East  Africa experienced net sales growth, which contributed to the increase in net sales of 21, or $513.3 million, to $3,006.7 million, although net sales growth rates slowed in certain key countries.  This growth was led by our travel retail business and the United Kingdom, as well as in Russia, which benefited from our expansion in this emerging market.  The results in this region were inclusive of an exchange rate benefit due to the weakening of the U.S. dollar of approximately $206 million.  Excluding the impact of foreign currency translation, net sales in Europe, the Middle East  Africa increased 12. Net sales in AsiaPacific increased 21, or $209.4 million, to $1,192.6 million, reflecting growth from all countries in the region.  This increase reflected higher net sales of approximately $172 million in China, Japan, Hong Kong, Australia and Korea.  The results in this region were inclusive of an exchange rate benefit due to the weakening of the U.S. dollar of approximately $66 million.  Excluding the impact of foreign currency translation, AsiaPacific net sales increased 15. We strategically stagger our new product launches by geographic market, which may account for differences in regional sales growth. Cost of sales as a percentage of total net sales was 25.2, which is the same as the prior year.  Cost of sales as a percentage of net sales reflected a decrease in the level and timing of promotional activities of approximately 20 basis points and a positive effect of exchange rates of approximately 10 basis points.  Offsetting these improvements was an unfavorable change in the mix of our business, an increase in obsolescence charges, and employee-related charges designed to streamline certain business activities and achieve future cost savings of approximately 10 basis points, each. - 27 - Table of Contents Despite the rise in energy and raw material prices in the current year, we were able to maintain our overall cost of goods margin through other efficiencies achieved from ongoing savings initiatives.  While sustained energy and raw material price increases could result in higher costs, we believe that this will not have a material adverse effect on our cost of sales margin in the near future. Since certain promotional activities are a component of sales or cost of sales and the timing and level of promotions vary with our promotional calendar, we have experienced, and expect to continue to experience, fluctuations in the cost of sales percentage.  In addition, future cost of sales mix may be impacted by the inclusion of new brands which have margin and product cost structures different from those of our existing brands. Operating expenses increased to 64.5 of net sales as compared with 64.1 of net sales in the prior year.  The increase in operating expenses and operating expense margin reflected higher costs of global information technology systems and infrastructure of approximately 30 basis points.  An additional 20 basis points resulted from an increase in valuation reserves reflecting the diminishing likelihood of realizing value from a promissory note and convertible preferred stock received in connection with the divestiture of Stila in fiscal 2006.  We also recorded an increase in intangible asset amortization resulting from recent strategic acquisitions, as well as employee-related charges designed to streamline certain business activities and achieve future cost savings, of approximately 10 basis points each. Operating expense margin in the prior year was adversely impacted by charges related to our pharmacy channel of approximately 40 basis points. Changes in advertising, merchandising and sampling spending result from the type, timing and level of activities related to product launches and rollouts, as well as the markets being emphasized. Operating income increased 8, or $60.8 million, to $810.7 million as compared with the prior year.  Operating margin declined to 10.3 of net sales as compared with 10.7 in the prior year, reflecting our constant cost of sales margin and the increase in our operating expense margin, as previously discussed. Fragrance operating income increased 29, or $8.1 million, to $36.2 million, reflecting profitable international growth, partially offset by increased spending in support of designer fragrance products initiatives.  Skin care operating income increased 19, or $64.1 million, to $405.6 million, primarily reflecting improved international results from certain of our core brands and net sales growth from La Mer products and Tri-AktilineTM Instant Deep Wrinkle Filler from Good SkinTM.  In addition, the prior year results in this category reflected organizational costs of approximately $30 million, primarily related to our pharmacy channel in Europe.  Makeup operating income increased 6, or $20.1 million, to $359.4 million, primarily reflecting improved results internationally.  These improvements were partially offset by lower results in the United States from certain of our core brands, the charge on the impairment of Stila-related financial instruments, and costs related to the establishment of new points of distribution for MžAžC.  Hair care operating income declined 73, or $31.0 million, to $11.5 million, primarily reflecting costs related to the acquisition and integration of Ojon to position the brand for future growth.  The results in this category also reflected an increase in intangible asset amortization resulting from recent strategic acquisitions as well as costs related to the establishment of new points of distribution. Operating income in the Americas declined 32, or $108.1 million, to $228.3 million, primarily reflecting a difficult retail environment in which our core brands faced challenges in the department store channel.  We also experienced significant pressure on the profitability of our hair care business as discussed above.  At the same time, we continued to invest in our global information technology systems and infrastructure.  In addition, we established new points of distribution for existing brands, incurred costs to streamline certain business activities to generate future efficiencies and incurred a charge on the impairment of Stila-related financial instruments, as discussed above. In Europe, the Middle East  Africa, operating income increased 35, or $111.7 million, to $433.1 million primarily due to higher results of approximately $71 million in our travel retail business, the United Kingdom, Italy, the Balkans and Spain.  Partially offsetting these increases were lower results in Russia and India of approximately $6 million, reflecting spending to support our expansion in these emerging markets.  The overall operating results in this region were adversely impacted in the prior year by the pharmacy channel charges discussed above. In AsiaPacific, operating income increased 61, or $56.5 million, to $149.7 million.  All of our affiliates in this region experienced an increase in operating income, primarily resulting from net sales growth led by Japan, Hong Kong, China, Australia and Korea, which contributed approximately $43 million, collectively. - 28 - Table of Contents Net interest expense was $66.8 million as compared with $38.9 million in the prior year.  This change primarily resulted from higher average debt balances, including an additional $600.0 million of senior notes issued in the fourth quarter of fiscal 2007, partially offset by lower average interest rates. The provision for income taxes represents Federal, foreign, state and local income taxes.  The effective rate differs from statutory rates due to the effect of state and local taxes, tax rates in foreign jurisdictions and certain nondeductible expenses.  Our effective tax rate will change from year to year based on non-recurring and recurring factors including, but not limited to, the geographical mix of earnings, enacted tax legislation, state and local taxes, tax audit settlements and the interaction of various global tax strategies.  The effective rate for income taxes for the year ended June 30, 2008 was 34.9 as compared with 35.9 in the prior year.  The decrease in the effective income tax rate of 100 basis points resulted primarily from a decrease in state and local income tax expense 240 basis points partially offset by an increase in the tax effect of our foreign operations 140 basis points. Net earnings as compared with fiscal 2007 increased 5, or $24.6 million, to $473.8 million and diluted net earnings per common share improved 11 from $2.16 to $2.40. Net sales increased 9, or $573.7 million, to $7,037.5 million, reflecting net sales growth in all product categories and geographic regions.  The increases in our skin care, makeup and fragrance product categories were led by Europe, the Middle East  Africa while the increase in hair care net sales was predominantly in the Americas.  Excluding the impact of foreign currency translation, net sales increased 7. Net sales of skin care products increased 8, or $200.2 million, to $2,601.0 million.  Most of this growth was fueled by new product launches which made their most significant impact in our Europe, the Middle East  Africa and AsiaPacific regions.  The fiscal 2007 launches of Advanced Night Repair Concentrate Recovery Boosting Treatment and Idealist Refinisher from Estée Lauder, and Repairwear Lift Firming Night Cream, Continuous Rescue Antioxidant Moisturizer, All About Eyes Rich and Repairwear Contour Firming Formula from Clinique contributed incremental sales of approximately $95 million, combined. Net sales increases from our fast-growing La Mer brand, Resilience Lift Extreme Ultra Firming products and other existing Advanced Night Repair products from Estée Lauder, along with products in the Clinique 3-Step Skin Care System and Superdefense from Clinique, totaled approximately $97 million. These improvements were partially offset by approximately $35 million of lower sales from certain other Resilience Lift products and Perfectionist CP from Estée Lauder.  Excluding the impact of foreign currency translation, skin care net sales increased 6. Makeup net sales increased 8, or $208.5 million, to $2,712.7 million, reflecting growth from our makeup artist brands of approximately $191 million. This increase was supported by new points of distribution and new product launches as well as MAC Viva Glam lip products, the proceeds of which are donated to AIDS-related charities.  Higher sales of Double Wear Foundation and the fiscal 2007 launch of Resilience Lift Extreme Ultra Firming Makeup SPF 15 by Estée Lauder contributed approximately $56 million to the growth in this product category.  Lower sales of approximately $35 million of Pure Color Gloss and Individualist Natural Finish Makeup by Estée Lauder, and Repairwear Anti-Aging Makeup SPF 15 by Clinique partially offset this growth.  Excluding the impact of foreign currency translation, makeup net sales increased 6. Net sales of fragrance products increased 8, or $95.3 million, to $1,308.6 million, primarily driven by incremental international sales from newer fragrance offerings.  DKNY Red Delicious, Pure White Linen from Estée Lauder, Sean John Unforgivable, DKNY Red Delicious Men and Donna Karan Gold collectively contributed approximately $128 million to the category.  Lower sales of approximately $67 million of True Star and True Star Men by Tommy Hilfiger, and Estée Lauder _pleasures_ partially offset the growth in this product category.  Excluding the impact of foreign currency translation, fragrance net sales increased 5. - 29 - Table of Contents Hair care net sales increased 18, or $58.4 million, to $377.1 million, primarily due to sales growth from Aveda and Bumble and bumble products. Aveda net sales increases were primarily due to sales of professional color products, the fiscal 2007 launch of Be Curly shampoo and conditioner and the acquisition of an independent distributor.  Bumble and bumble sales benefited from a new hotel amenities program, sales growth in its existing salon distribution and new points of distribution.  Excluding the impact of foreign currency translation, hair care net sales increased 17. Net sales in the Americas increased 3, or $114.5 million, to $3,560.9 million.  The increase was led by growth in the United States of approximately $152 million from our makeup artist brands, our hair care business, our internet distribution and the fiscal 2007 launch of the Unforgivable fragrance by Sean John.  Partially offsetting this growth was approximately $90 million related to weaknesses in our core brands as a result of competitive pressures and retailer consolidations.  Net sales growth in Canada, Latin America and Mexico contributed an additional $31 million to the increase.  The fiscal 2006 results reflected an incremental provision of approximately $16 million for returns that were anticipated at that time as a result of then-announced store closings from retailer consolidations. In Europe, the Middle East  Africa, net sales increased 16, or $345.7 million, to $2,493.4 million, including an exchange rate benefit due to the weakening of the U.S. dollar of approximately $122 million.  The growth in the region reflected higher net sales of approximately $260 million in the United Kingdom, our travel retail business, Russia, Germany and Spain, with all benefiting from an improving retail environment, and in Turkey, where we acquired a distributor.  On a local currency basis, net sales in Europe, the Middle East  Africa increased 10. Net sales in AsiaPacific increased 13, or $113.5 million, to $983.2 million. The growth in this region reflected higher net sales of approximately $86 million in Korea, China, Hong Kong and Australia.  These markets benefited from an improved economy across the region while Chinas growth in net sales primarily reflected our continued strategic expansion in this country.  We also experienced modest sales growth in Japan, our largest market in this region.  Excluding the impact of foreign currency translation, AsiaPacific net sales increased 11. We strategically stagger our new product launches by geographic market, which may account for differences in regional sales growth. Cost of sales as a percentage of total net sales decreased to 25.2 as compared with 26.1 in fiscal 2006.  Cost of sales as a percentage of net sales reflected a favorable change in the mix of our business of approximately 40 basis points, a decrease in the level and timing of promotional activities of approximately 20 basis points, the effect of exchange rate translation of approximately 20 basis points and a decrease in obsolescence charges of approximately 10 basis points.  Certain of these items reflect savings achieved during fiscal 2007 from our cost savings initiative, which commenced during fiscal 2006. Since certain promotional activities are a component of sales or cost of sales and the timing and level of promotions vary with our promotional calendar, we have experienced, and expect to continue to experience, fluctuations in the cost of sales percentage.  In addition, future cost of sales mix may be impacted by the inclusion of new brands which have margin and product cost structures different from those of our existing brands. Operating expenses improved to 64.1 of net sales as compared with 64.3 of net sales in fiscal 2006.  During fiscal 2006, we recorded a $92.1 million charge to operating expenses related to the implementation of our cost savings initiative that negatively impacted our operating expense margin by approximately 140 basis points.  Partially offsetting this improvement was an increase of approximately 50 basis points in selling, general and administrative expenses reflecting higher demonstration, field selling and training costs in support of our business.  In fiscal 2007, our operating expense margin was negatively impacted by approximately 40 basis points resulting from expenses related to our pharmacy channel for organizational costs, costs to streamline the distribution of goods, and the impairment of goodwill and other intangible assets.  An increase in costs incurred related to the implementation of SMI and higher stock-based compensation expenses lowered our operating expense margin by approximately 20 additional basis points, combined.  Overall operating expenses reflected savings achieved during fiscal 2007 from our cost savings initiative, which commenced during fiscal 2006. Changes in advertising, merchandising and sampling spending result from the type, timing and level of activities related to product launches and rollouts, as well as the markets being emphasized. - 30 - Table of Contents Due to the growth in net sales and the decreases in our cost of sales and operating expense margins as previously discussed, operating income increased 21, or $130.3 million, to $749.9 million as compared with fiscal 2006. Operating margins were 10.7 of net sales as compared with 9.6 in fiscal 2006, which was negatively impacted by 1.4 of net sales as a result of the special charge related to our cost savings initiative. The following discussions of Operating Results by _Product Categories_ and savings initiative of $1.1 million and $92.1 million for the fiscal years ended June 30, 2007 and 2006, respectively.  We believe the following analysis of operating results better reflects the manner in which we conduct and view our business.  See Note 21 of Notes to Consolidated Financial Statements. Fragrance operating results increased over 100, or $20.4 million, to $28.1 million, as profits from higher international net sales and lower spending at certain of our core brands in the United States more than offset spending behind new and developing brands.  Hair care operating results grew 60, or $16.0 million, to $42.5 million as the increase in net sales outpaced increased spending in support of new distribution points and product launches. Operating results increased 3, or $9.9 million, to $339.3 million in makeup, primarily as a result of higher net sales and profits from our makeup artist brands, which more than offset challenges among certain core brands.  Skin care operating results decreased 1, or $4.9 million, to $341.5 million.  The results in this product category were negatively impacted in fiscal 2007 by charges related to our pharmacy channel.  We recorded approximately $30 million for organizational costs, costs to streamline the distribution of goods, and the impairment of goodwill and other intangible assets.  In addition, improvements in international skin care results were partially offset by challenges in certain core brands in the United States. Operating income in the Americas decreased 2, or $7.7 million, to $336.4 million, reflecting spending behind strategic initiatives at our core brands, retailer consolidation and costs to develop new brands in the United States. Operating income growth from our makeup artist brands, hair care business and our internet distribution partially offset these results. In Europe, the Middle East  Africa, operating income increased 8, or $23.9 million, to $321.4 million primarily due to higher results of approximately $49 million from our travel retail business, the United Kingdom, Russia and Germany.  Lower results from France partially offset these improvements by approximately $10 million.  The fiscal 2007 operating results in France reflected the rebalancing of inventory levels at certain retailers as well as strategic investment spending behind the field sales force.  During fiscal 2007, the region was negatively impacted by the charges discussed above related to our pharmacy channel, partially offset by modest combined operating income growth from the remaining affiliates in this region. In AsiaPacific, operating income increased 33, or $23.1 million, to $93.2 million.  This increase reflected improved results of approximately $23 million in Hong Kong, China, Australia and Korea. Net interest expense was $38.9 million as compared with $23.8 million in fiscal 2006.  This change primarily resulted from higher average debt balances, primarily associated with the funding of our accelerated share repurchase program, and higher average interest rates.  Also contributing to the increase was reduced interest income generated from lower average investment balances internationally, partially offset by higher average investment rates.  These increases were partially offset by the capitalization of interest expense on internally developed software in connection with the upgrade of our information systems. The provision for income taxes represents Federal, foreign, state and local income taxes.  The effective rate differs from statutory rates due to the effect of state and local taxes, tax rates in foreign jurisdictions and certain nondeductible expenses.  Our effective tax rate will change from year to year based on non-recurring and recurring factors including, but not limited to, the geographical mix of earnings, enacted tax legislation, state and local taxes, tax audit settlements and the interaction of various global tax strategies.  The effective rate for income taxes for the year ended June 30, 2007 was 35.9 as compared with 43.6 in fiscal 2006.  The decrease in the effective income tax rate was primarily attributable to the fiscal 2006 effect of the IRS tax settlement of approximately 770 basis points. - 31 - Table of Contents On September 30, 2005, we committed to a plan to sell and on April 10, 2006, we completed the sale of certain assets and operations of our reporting unit that marketed and sold Stila brand products.  For the fiscal year ended June 30, 2007, $0.5 million, net of tax, of operating income was reflected as discontinued operations, reflecting the conclusion of transitional distribution services provided to the purchaser.  The fiscal 2006 charge of $80.3 million, net of tax, reflected the then-anticipated loss on the sale of the business of $69.9 million, net of tax, and the operating loss of $10.4 million, net of tax. Net earnings as compared with fiscal 2006 increased $205.0 million to $449.2 million and diluted net earnings per common share improved 93 from $1.12 to $2.16.  Net earnings from continuing operations as compared with fiscal 2006 increased by $124.2 million, or 38, to $448.7 million and diluted net earnings per common share from continuing operations increased 45 from $1.49 to $2.16. Our principal sources of funds historically have been cash flows from operations, borrowings pursuant to our commercial paper program, borrowings from the issuance of long-term debt and committed and uncommitted credit lines provided by banks and other lenders in the United States and abroad.  At June 30, 2008, we had cash and cash equivalents of $401.7 million compared with $253.7 million at June 30, 2007. At June 30, 2008, our outstanding borrowings were as follows: We have a $750.0 million commercial paper program under which we may issue commercial paper in the United States.  Our commercial paper is currently rated A-1 by Standard  Poors and P-1 by Moodys.  Our long-term credit ratings are A with a stable outlook by Standard  Poors and A2 with a stable outlook by Moodys.  At June 30, 2008, we had $83.9 million of commercial paper outstanding, which we may refinance on a periodic basis as it matures at then-prevailing market interest rates.  We also have $209.9 million in additional uncommitted credit facilities, of which $28.5 million was used as of June 30, 2008. - 32 - Table of Contents We have an undrawn $750.0 million senior unsecured revolving credit facility that expires on April 26, 2012.  This facility may be used primarily to provide credit support for our commercial paper program, to repurchase shares of our common stock and for general corporate purposes.  Up to the equivalent of $250 million of the credit facility is available for multi-currency loans. The interest rate on borrowings under the credit facility is based on LIBOR or on the higher of prime, which is the rate of interest publicly announced by the administrative agent, or ½ plus the Federal funds rate.  We incurred costs of approximately $0.3 million to establish the facility which will be amortized over the term of the facility.  The credit facility has an annual fee of $0.4 million, payable quarterly, based on our current credit ratings. As of June 30, 2008, we were in compliance with all related financial and other restrictive covenants, including limitations on indebtedness and liens. In July 2007, we acquired Ojon Corporation.  As part of the purchase price, we issued i a promissory note due July 31, 2009 with a notional value of $7.0 million present value of $7.4 million at June 30, 2008, bearing interest at 10.00 due at maturity and ii a promissory note due August 31, 2012 with a notional amount of $13.5 million present value of $15.7 million at June 30, 2008, bearing interest at 10.00 payable annually on July 31.  The notes due in 2009 and 2012 were recorded in the accompanying consolidated balance sheet at present value using effective rates of 5.11 and 5.42, respectively. We have a fixed rate promissory note agreement with a financial institution pursuant to which we may borrow up to $150.0 million in the form of loan participation notes through one of our subsidiaries in Europe.  The interest rate on borrowings under this agreement is at an all-in fixed rate determined by the lender and agreed to by us at the date of each borrowing.  At June 30, 2008, no borrowings were outstanding under this agreement.  Debt issuance costs incurred related to this agreement were de minimis. We have an overdraft borrowing agreement with a financial institution pursuant to which our subsidiary in Turkey may be credited to satisfy outstanding negative daily balances arising from its business operations.  The total balance outstanding at any time shall not exceed 20.0 million Turkish lira. The interest rate applicable to each such credit shall be 40 basis points per annum above the spot rate charged by the lender or the lenders floating call rate agreed to by us at each borrowing.  There were no debt issuance costs incurred related to this agreement.  The outstanding balance at June 30, 2008 $13.1 million at the exchange rate at June 30, 2008 is classified as short- term debt in our consolidated balance sheet.  Subsequent to June 30, 2008, this facility was increased to 30.0 million Turkish lira and the interest rate spread on borrowings was increased to 55 basis points per annum. We have a 3.0 billion yen revolving credit facility that expires on March 24, 2009.  The interest rate on borrowings under the credit facility is based on TIBOR Tokyo Interbank Offered Rate and a 10 basis point facility fee is incurred on the undrawn balance.  At June 30, 2008, no borrowings were outstanding under this facility. Our business is seasonal in nature and, accordingly, our working capital needs vary.  From time to time, we may enter into investing and financing transactions that require additional funding.  To the extent that these needs exceed cash from operations, we could, subject to market conditions, issue commercial paper, issue long-term debt securities or borrow under our revolving credit facilities. Total debt as a percent of total capitalization was 42 at June 30, 2008 and 48 at June 30, 2007. The effects of inflation have not been significant to our overall operating results in recent years.  Generally, we have been able to introduce new products at higher selling prices or increase selling prices sufficiently to offset cost increases, which have been moderate. Based on past performance and current expectations, we believe that cash on hand, cash generated from operations, available credit lines and access to credit markets will be adequate to support currently planned business operations, information systems enhancements, capital expenditures, stock repurchases, commitments and other contractual obligations on both a near-term and long-term basis. Net cash provided by operating activities was $690.1 million, $661.6 million and $709.8 million in fiscal 2008, 2007 and 2006, respectively.  The increase in fiscal 2008 as compared with fiscal 2007 primarily reflected a higher level of cash generated from net earnings before non-cash items such as depreciation, amortization and stock-based compensation.  Approximately $91 million of the change in deferred income taxes was offset by a correlative change in noncurrent accrued income taxes reflecting the balance sheet presentation of unrecognized tax benefits see Note 9 of Notes to Consolidated Financial Statements for further discussion.  These changes were partially offset by the timing and level of payments on trade payables in North America and higher accounts receivable levels, primarily reflecting the continuing significant sales growth from our international operations, which carry longer customer payment terms. The net decrease in operating cash flows from fiscal 2006 to fiscal 2007 reflected higher domestic and international inventory levels primarily driven by growth in new and emerging international markets, increased regulatory requirements and the building of safety stock for the implementation of SAP as part of our Strategic Modernization Initiative at our Aveda manufacturing facility.  In addition, the decrease in operating cash flows reflected higher accounts receivable balances, primarily related to significant sales growth from our international operations.  Cash flows were also impacted by cash payments made during fiscal 2007 related to our fiscal 2006 cost savings initiative.  Partially offsetting the decrease was an improvement in cash generated from net earnings from continuing operations. - 33 - Table of Contents Net cash used for investing activities was $478.5 million, $373.8 million and $303.2 million in fiscal 2008, 2007 and 2006.  The increase during fiscal 2008 primarily reflected cash payments related to the acquisition of Ojon Corporation and the exclusive rights to sell and distribute Ojon products worldwide, and to a lesser extent, the acquisition of an Aveda distributor. Capital expenditures also increased from the prior year reflecting incremental spending for counters and the higher costs of technology related to our continuing company-wide initiative to upgrade our information systems.  The increase in cash flows used for investing activities from fiscal 2006 to fiscal 2007 primarily reflected capital expenditures, which reflected our company-wide initiative to upgrade our information systems, as well as store improvements and counter construction.  Fiscal 2007 investing activities also reflected the purchase of the remaining equity interest in Bumble and Bumble Products, LLC and Bumble and Bumble, LLC, as well as the acquisition of businesses engaged in the wholesale distribution and retail sale of our products in the United States and other countries. Cash used for financing activities was $78.1 million, $411.6 million and $594.6 million in fiscal 2008, 2007 and 2006, respectively.  The fiscal 2008 improvement in cash used for financing activities primarily reflected higher treasury stock repurchases in the prior year, which were partially funded by the issuance of long-term debt.  Also contributing to the change in net cash used for financing activities was an increase in outstanding commercial paper, partially offset by lower cash inflows from stock option exercises.  The improvement in cash flows used for financing activities from fiscal 2006 to fiscal 2007 reflected a net increase in short-term and long-term borrowings and an increase in proceeds from employee stock transactions, partially offset by increases in treasury stock repurchases and an increase in dividends paid to stockholders. On November 9, 2007, the Board of Directors declared an annual dividend of $.55 per share on our Class A and Class B Common Stock, of which an aggregate of $106.6 million was paid on December 27, 2007 to stockholders of record at the close of business on December 7, 2007.  The annual common stock dividend declared during fiscal 2007 was $.50 per share, of which an aggregate of $103.6 million was paid on December 27, 2006 to stockholders of record at the close of business on December 8, 2006. We maintain pension plans covering substantially all of our full-time employees for our U.S. operations and a majority of our international operations.  Several plans provide pension benefits based primarily on years of service and employees earnings.  In the United States, we maintain a trust-based, noncontributory qualified defined benefit pension plan U.S. Qualified Plan.  Additionally, we have an unfunded, non-qualified domestic noncontributory pension plan to provide benefits in excess of statutory limitations.  Our international pension plans are comprised of defined benefit and defined contribution plans. Several factors influence our annual funding requirements.  For the U.S. Qualified Plan, our funding policy consists of annual contributions at a rate that provides for future plan benefits and maintains appropriate funded percentages.  Such contribution is not less than the minimum required by the Employee Retirement Income Security Act of 1974, as amended ERISA, and subsequent pension legislation, and is not more than the maximum amount deductible for income tax purposes.  For each international plan, our funding policies are determined by local laws and regulations.  In addition, amounts necessary to fund future obligations under these plans could vary depending on estimated assumptions as detailed in  _Critical Accounting Polices and Estimates_ .  The effect of our pension plan funding on future operating results will depend on economic conditions, employee demographics, mortality rates, the number of participants electing to take lump-sum distributions, investment performance and funding decisions. For fiscal 2008 and 2007, there was no minimum contribution to the U.S. Qualified Plan required by ERISA.  During the first quarter of fiscal 2007, the Pension Protection Act of 2006 was adopted into law in the United States. Certain provisions of this law changed the calculation related to the maximum contribution amount deductible for income tax purposes.  As a result of these provisions, we made discretionary contributions totaling $25.0 million and $20.0 million to the U.S. Qualified Plan during fiscal 2008 and 2007, respectively.  During fiscal 2009, we expect to make cash contributions totaling approximately $15 million to the U.S. Qualified Plan. For fiscal 2008 and 2007, we made benefit payments under our non-qualified domestic noncontributory pension plan of $7.7 million and $5.3 million, respectively.  We expect to make benefit payments under this plan during fiscal 2009 of approximately $7 million.  For fiscal 2008 and 2007, we made cash contributions to our international defined benefit pension plans of $35.3 million and $24.0 million, respectively.  We expect to make contributions under these plans during fiscal 2009 of approximately $46 million. Certain of our business acquisition agreements include earn-out provisions. These provisions generally require that we pay to the seller or sellers of the business additional amounts based on the performance of the acquired business. Since the size of each payment depends upon performance of the acquired business, we do not expect that such payments will have a material adverse impact on our future results of operations or financial condition. For additional contingencies, refer to _Item 3. Legal Proceedings._ - 34 - Table of Contents The following table summarizes scheduled maturities of our contractual obligations for which cash flows are fixed and determinable as of June 30, 2008: 1        Includes long-term and short-term debt and the related projected interest costs, and to a lesser extent, capital lease commitments.  Interest costs on long-term and short-term debt are projected to be $57.6 million in fiscal 2009, $58.8 million in fiscal 2010, $57.4 million in each of the years from fiscal 2011 through fiscal 2012, $42.5 million in fiscal 2013 and $713.8 million thereafter.  Projected interest costs on variable rate instruments were calculated using market rates at June 30, 2008.  Refer to Note 11 of Notes to Consolidated Financial Statements. 2        Unconditional purchase obligations primarily include inventory commitments, estimated future earn-out payments, estimated royalty payments pursuant to license agreements, advertising commitments, capital improvement commitments, planned funding of pension and other post-retirement benefit obligations, commitments pursuant to executive compensation arrangements and obligations related to our cost savings initiative.  Future earn-out payments and future royalty and advertising commitments were estimated based on planned future sales for the term that was in effect at June 30, 2008, without consideration for potential renewal periods. 3        Refer to Note 9 of Notes to Consolidated Financial Statements for information regarding unrecognized tax benefits.  During the fourth quarter of fiscal 2008, we made a cash payment of $35.0 million to the U.S. Treasury as an advance deposit, which is not reflected as a reduction to the $75.7 million.  As of June 30, 2008, the noncurrent portion of our unrecognized tax benefits, including related accrued interest and penalties was $177.3 million. At this time, the settlement period for the noncurrent portion of the unrecognized tax benefits, including related accrued interest and penalties, cannot be determined and therefore was not included. We address certain financial exposures through a controlled program of risk management that includes the use of derivative financial instruments.  We primarily enter into foreign currency forward and option contracts to reduce the effects of fluctuating foreign currency exchange rates.  We also enter into interest rate derivative contracts to manage the effects of fluctuating interest rates.  We categorize these instruments as entered into for purposes other than trading. For each derivative contract entered into where we look to obtain special hedge accounting treatment, we formally document the relationship between the hedging instrument and hedged item, as well as its risk-management objective and strategy for undertaking the hedge, the nature of the risk being hedged, how the hedging instruments effectiveness in offsetting the hedged risk will be assessed prospectively and retrospectively, and a description of the method of measuring ineffectiveness.  This process includes linking all derivatives that are designated as fair-value, cash-flow, or foreign-currency hedges to specific assets and liabilities on the balance sheet or to specific firm commitments or forecasted transactions.  We also formally assess, both at the hedges inception and on an ongoing basis, whether the derivatives that are used in hedging transactions are highly effective in offsetting changes in fair values or cash flows of hedged items.  If it is determined that a derivative is not highly effective, then we will be required to discontinue hedge accounting with respect to that derivative prospectively. - 35 - Table of Contents We enter into foreign currency forward contracts to hedge anticipated transactions, as well as receivables and payables denominated in foreign currencies, for periods consistent with our identified exposures.  The purpose of the hedging activities is to minimize the effect of foreign exchange rate movements on our costs and on the cash flows that we receive from foreign subsidiaries.  The majority of foreign currency forward contracts are denominated in currencies of major industrial countries and are with large financial institutions rated as strong investment grade by a major rating agency.  We also enter into foreign currency option contracts to hedge anticipated transactions where there is a high probability that anticipated exposures will materialize.  The foreign currency forward and option contracts entered into to hedge anticipated transactions have been designated as cash- flow hedges.  Hedge effectiveness of foreign currency forward contracts is based on a hypothetical derivative methodology and excludes the portion of fair value attributable to the spot-forward difference which is recorded in current-period earnings.  Hedge effectiveness of foreign currency option contracts is based on a dollar offset methodology.  The ineffective portion of both foreign currency forward and option contracts is recorded in current- period earnings.  For hedge contracts that are no longer deemed highly effective, hedge accounting is discontinued and gains and losses accumulated in other comprehensive income are reclassified to earnings when the underlying forecasted transaction occurs.  If it is probable that the forecasted transaction will no longer occur, then any gains or losses accumulated in other comprehensive income are reclassified to current-period earnings.  As of June 30, 2008, these cash-flow hedges were highly effective, in all material respects. As a matter of policy, we only enter into contracts with counterparties that have at least an A or equivalent credit rating.  The counterparties to these contracts are major financial institutions.  We do not have significant exposure to any one counterparty.  Our exposure to credit loss in the event of nonperformance by any of the counterparties is limited to only the recognized, but not realized, gains attributable to the contracts.  Management believes risk of default under these hedging contracts is remote and in any event would not be material to the consolidated financial results.  The contracts have varying maturities through the end of June 2009.  Costs associated with entering into such contracts have not been material to our consolidated financial results.  We do not utilize derivative financial instruments for trading or speculative purposes. At June 30, 2008, we had foreign currency forward contracts and option contracts in the amount of $1,229.0 million and $64.9 million, respectively. The foreign currencies included in foreign currency forward contracts notional value stated in U.S. dollars are principally the Euro $221.6 million, British pound $220.7 million, Swiss franc $206.5 million, Canadian dollar $130.0 million, Australian dollar $91.8 million, Russian ruble $71.9 million and Japanese yen $64.4 million.  The foreign currencies included in foreign currency option contracts notional value stated in U.S. dollars are principally the Canadian dollar $36.8 million and the South Korean won $23.1 million. We enter into interest rate derivative contracts to manage the exposure to fluctuations of interest rates on our funded indebtedness and anticipated issuance of debt for periods consistent with the identified exposures.  All interest rate derivative contracts are with large financial institutions rated as strong investment grade by a major rating agency. We have interest rate swap agreements, with a notional amount totaling $250.0 million, to effectively convert the fixed rate interest on our 2017 Senior Notes to variable interest rates based on six-month LIBOR.  The interest rate swaps were designated as fair-value hedges.  As of June 30, 2008, these fair- value hedges were highly effective, in all material respects. We use a value-at-risk model to assess the market risk of our derivative financial instruments.  Value-at-risk represents the potential losses for an instrument or portfolio from adverse changes in market factors for a specified time period and confidence level.  We estimate value-at-risk across all of our derivative financial instruments using a model with historical volatilities and correlations calculated over the past 250-day period.  The measured value- at-risk, calculated as an average, for the twelve months ended June 30, 2008 related to our foreign exchange contracts and our interest rate contracts was $11.3 million and $20.0 million, respectively. _  _The model estimates were made assuming normal market conditions and a 95 percent confidence level.  We used a statistical simulation model that valued our derivative financial instruments against one thousand randomly generated market price paths. Our calculated value-at-risk exposure represents an estimate of reasonably possible net losses that would be recognized on our portfolio of derivative financial instruments assuming hypothetical movements in future market rates and is not necessarily indicative of actual results, which may or may not occur.  It does not represent the maximum possible loss or any expected loss that may occur, since actual future gains and losses will differ from those estimated, based upon actual fluctuations in market rates, operating exposures, and the timing thereof, and changes in our portfolio of derivative financial instruments during the year. We believe, however, that any such loss incurred would be offset by the effects of market rate movements on the respective underlying transactions for which the derivative financial instrument was intended. - 36 - Table of Contents We do not maintain any off-balance sheet arrangements, transactions, obligations or other relationships with unconsolidated entities that would be expected to have a material current or future effect upon our financial condition or results of operations. In September 2006, the FASB issued SFAS No. 157, Fair Value Measurements SFAS No. 157, to clarify the definition of fair value, establish a framework for measuring fair value and expand the disclosures on fair value measurements.  SFAS No. 157 defines fair value as the price that would be received to sell an asset or paid to transfer a liability in an orderly transaction between market participants at the measurement date an exit price.  SFAS No. 157 also stipulates that, as a market-based measurement, fair value measurement should be determined based on the assumptions that market participants would use in pricing the asset or liability, and establishes a fair value hierarchy that distinguishes between a market participant assumptions developed based on market data obtained from sources independent of the reporting entity observable inputs and b the reporting entitys own assumptions about market participant assumptions developed based on the best information available in the circumstances unobservable inputs. In February 2008, the FASB issued FSP No. FAS 157-1, Application of FASB Statement No. 157 to FASB Statement No. 13 and Other Accounting Pronouncements That Address Fair Value Measurements for Purposes of Lease Classification or Measurement under Statement 13.  This FSP amends SFAS No. 157 to exclude certain leasing transactions accounted for under previously existing accounting guidance.  However, this scope exception does not apply to assets acquired and liabilities assumed in a business combination, regardless of whether those assets and liabilities are related to leases. SFAS No. 157 becomes effective for us in the beginning of fiscal 2009.  We are currently evaluating the impact of the provisions of SFAS No. 157 on our consolidated financial statements.  In February 2008, the FASB issued FSP No. FAS 157-2, Effective Date for FASB Statement No. 157.  This FSP permits the delayed application of SFAS No. 157 for nonfinancial assets and nonfinancial liabilities, as defined in this FSP, except for those that are recognized or disclosed at fair value in the financial statements at least annually, until the beginning of our fiscal 2010. In February 2007, the FASB issued SFAS No. 159, The Fair Value Option for Financial Assets and Financial Liabilities SFAS No. 159, to permit all entities to choose to elect, at specified election dates, to measure eligible financial instruments at fair value.  An entity shall report unrealized gains and losses on items for which the fair value option has been elected in earnings at each subsequent reporting date, and recognize upfront costs and fees related to those items in earnings as incurred and not deferred.  SFAS No. 159 applies to fiscal years beginning after November 15, 2007, with early adoption permitted for an entity that has also elected to apply the provisions of SFAS No. 157.  An entity is prohibited from retrospectively applying SFAS No. 159, unless it chooses early adoption.  We are currently evaluating the impact of the provisions of SFAS No. 159 on our consolidated financial statements, if any, when it becomes effective in the beginning of fiscal 2009. In December 2007, the FASB issued SFAS No. 141 revised 2007, Business Combinations SFAS No. 141R.  SFAS No. 141R replaces SFAS No. 141, Business Combinations, however, it retains the fundamental requirements of the former Statement that the acquisition method of accounting previously referred to as the purchase method be used for all business combinations and for an acquirer to be identified for each business combination.  SFAS No. 141R defines the acquirer as the entity that obtains control of one or more businesses in the business combination and establishes the acquisition date as the date that the acquirer achieves control.  Among other requirements, SFAS No. 141R requires the acquiring entity in a business combination to recognize the identifiable assets acquired, liabilities assumed and any noncontrolling interest in the acquiree at their acquisition-date fair values, with limited exceptions; acquisition-related costs generally will be expensed as incurred.  SFAS No. 141R requires certain financial statement disclosures to enable users to evaluate and understand the nature and financial effects of the business combination.  SFAS No. 141R must be applied prospectively to business combinations that are consummated on or after July 1, 2009. In December 2007, the FASB issued SFAS No. 160, Noncontrolling Interests in Consolidated Financial Statements, an Amendment of ARB No. 51 SFAS No. 160 to establish accounting and reporting standards for the noncontrolling interest in a subsidiary and for the deconsolidation of a subsidiary.  Among other requirements, SFAS No. 160 clarifies that a noncontrolling interest in a subsidiary, which is sometimes referred to as minority interest, is to be reported as a separate component of equity in the consolidated financial statements.  SFAS No. 160 also requires consolidated net income to include the amounts attributable to both the parent and the noncontrolling interest and to disclose those amounts on the face of the consolidated statement of income. SFAS No. 160 must be applied prospectively for fiscal years, and interim periods within those fiscal years, beginning in our fiscal 2010, except for the presentation and disclosure requirements, which will be applied retrospectively for all periods presented. - 37 - Table of Contents In December 2007, the FASB ratified the consensus reached on Emerging Issues Task Force EITF Issue No. 07-1, Collaborative Arrangements, EITF No. 07-1.  This EITF addresses accounting for collaborative arrangement activities that are conducted without the creation of a separate legal entity for the arrangement.  Revenues and costs incurred with third parties in connection with the collaborative arrangement should be presented gross or net by the collaborators pursuant to the guidance in EITF 99-19, Reporting Revenue Gross as a Principal versus Net as an Agent, and other applicable accounting literature.  Payments to or from collaborators should be presented in the income statement based on the nature of the arrangement, the nature of the companys business and whether the payments are within the scope of other accounting literature.  Other detailed information related to the collaborative arrangement is also required to be disclosed.  The requirements under this EITF must be applied to collaborative arrangements in existence at the beginning of our fiscal 2010 using a modified version of retrospective application.  We are currently evaluating the impact the provisions of EITF No. 07-1 will have on our consolidated financial statements. In March 2008, the FASB issued SFAS No. 161, Disclosures about Derivative Instruments and Hedging Activities  an amendment of FASB Statement No. 133 SFAS No. 161.  SFAS No. 161 requires companies to provide qualitative disclosures about their objectives and strategies for using derivative instruments, quantitative disclosures of the fair values and gains and losses of these derivative instruments in a tabular format, as well as more information about liquidity by requiring disclosure of a derivative contracts credit-risk-related contingent features.  SFAS No. 161 also requires cross- referencing within footnotes to enable financial statement users to locate important information about derivative instruments.  We are currently evaluating the disclosure requirements of SFAS No. 161.  As this is a disclosure-only standard, we do not anticipate an impact on our consolidated financial statements as a result of its adoption.  SFAS No. 161 becomes effective for our March 2009 interim consolidated financial statements. In April 2008, the FASB issued FSP No. FAS 142-3, Determination of the Useful Life of Intangible Assets.  This FSP amends the factors that should be considered in developing renewal or extension assumptions used to determine the useful life of a recognized intangible asset under SFAS No. 142, Goodwill and Other Intangible Assets SFAS No. 142.  This FSP also adds certain disclosures to those already prescribed in SFAS No. 142.  FSP No. FAS 142-3 becomes effective for fiscal years, and interim periods within those fiscal years, beginning in our fiscal 2010.  The guidance for determining useful lives must be applied prospectively to intangible assets acquired after the effective date.  The disclosure requirements must be applied prospectively to all intangible assets recognized as of the effective date. In June 2008, the FASB issued FSP No. EITF 03-6-1, Determining Whether Instruments Granted in Share-Based Payment Transactions Are Participating Securities.  This FSP provides that unvested share-based payment awards that contain nonforfeitable rights to dividends or dividend equivalents whether paid or unpaid are participating securities and shall be included in the computation of earnings per share pursuant to the two-class method.  This FSP is effective for financial statements issued for fiscal years beginning after December 15, 2008, and interim periods within those years.  Upon adoption, a company is required to retrospectively adjust its earnings per share data including any amounts related to interim periods, summaries of earnings and selected financial data to conform with the provisions in this FSP.  Early application of this FSP is prohibited.  We do not issue share-based payment awards that contain nonforfeitable rights to dividends or dividend equivalents. We and our representatives from time to time make written or oral forward- looking statements, including statements contained in this and other filings with the Securities and Exchange Commission, in our press releases and in our reports to stockholders.  The words and phrases will likely result, expect, believe, planned, may, should, could, anticipate, estimate, project, intend, forecast or similar expressions are intended to identify forward-looking statements within the meaning of the Private Securities Litigation Reform Act of 1995.  These statements include, without limitation, our expectations regarding sales, earnings or other future financial performance and liquidity, product introductions, entry into new geographic regions, information systems initiatives, new methods of sale and future operations or operating results.  Although we believe that our expectations are based on reasonable assumptions within the bounds of our knowledge of our business and operations, actual results may differ materially from our expectations.  Factors that could cause actual results to differ from expectations include, without limitation: 1 increased competitive activity from companies in the skin care, makeup, fragrance and hair care businesses, some of which have greater resources than we do; 2 our ability to develop, produce and market new products on which future operating results may depend and to successfully address challenges in our core brands, including gift with purchase, and in our fragrance business; 3 consolidations, restructurings, bankruptcies and reorganizations in the retail industry causing a decrease in the number of stores that sell our products, an increase in the ownership concentration within the retail industry, ownership of retailers by our competitors or ownership of competitors by our customers that are retailers; 4 destocking by retailers; - 38 - Table of Contents 5 the success, or changes in timing or scope, of new product launches and the success, or changes in the timing or the scope, of advertising, sampling and merchandising programs; 6 shifts in the preferences of consumers as to where and how they shop for the types of products and services we sell; 7 social, political and economic risks to our foreign or domestic manufacturing, distribution and retail operations, including changes in foreign investment and trade policies and regulations of the host countries and of the United States; 8 changes in the laws, regulations and policies including the interpretations and enforcement thereof that affect, or will affect, our business, including those relating to our products, changes in accounting standards, tax laws and regulations, trade rules and customs regulations, and the outcome and expense of legal or regulatory proceedings, and any action we may take as a result; 9 foreign currency fluctuations affecting our results of operations and the value of our foreign assets, the relative prices at which we and our foreign competitors sell products in the same markets and our operating and manufacturing costs outside of the United States; 10 changes in global or local conditions, including those due to natural or man-made disasters, real or perceived epidemics, or energy costs, that could affect consumer purchasing, the willingness or ability of consumers to travel andor purchase our products while traveling, the financial strength of our customers, suppliers or other contract counterparties, our operations, the cost and availability of capital which we may need for new equipment, facilities or acquisitions, the cost and availability of raw materials and the assumptions underlying our critical accounting estimates; 11 shipment delays, depletion of inventory and increased production costs resulting from disruptions of operations at any of the facilities that manufacture nearly all of our supply of a particular type of product i.e., focus factories or at our distribution or inventory centers, including disruptions that may be caused by the implementation of SAP as part of our Strategic Modernization Initiative; 12 real estate rates and availability, which may affect our ability to increase the number of retail locations at which we sell our products and the costs associated with our other facilities; 13 changes in product mix to products which are less profitable; 14 our ability to acquire, develop or implement new information and distribution technologies, on a timely basis and within our cost estimates; 15 our ability to capitalize on opportunities for improved efficiency, such as publicly-announced cost-savings initiatives, and to integrate acquired businesses and realize value therefrom; 16 consequences attributable to the events that are currently taking place in the Middle East, including terrorist attacks, retaliation and the threat of further attacks or retaliation; 17 the timing and impact of acquisitions and divestitures, which depend on willing sellers and buyers, respectively; and 18 additional factors as described in our filings with the Securities and Exchange Commission, including this Annual Report on Form 10-K for the fiscal year ended June 30, 2008. We assume no responsibility to update forward-looking statements made herein or otherwise. The information required by this item is set forth in Item 7 of this Annual Report on Form 10-K under the caption  _Liquidity and Capital Resources - Market Risk_  and is incorporated herein by reference. The information required by this item appears beginning on page F-1 of this Annual Report on Form 10-K and is incorporated herein by reference. - 39 - Table of Contents Financial Disclosure._ None. Our disclosure controls and procedures as defined in Rules 13a-15e and 15d-15e under the Securities Exchange Act of 1934, as amended the Exchange Act are designed to ensure that information required to be disclosed in the reports that we file or submit under the Exchange Act is recorded, processed, summarized and reported within the time periods specified in the rules and forms of the Securities and Exchange Commission.  The Chief Executive Officer and the Chief Financial Officer, with assistance from other members of management, have reviewed the effectiveness of our disclosure controls and procedures as of June 30, 2008 and, based on their evaluation, have concluded that the disclosure controls and procedures were effective as of such date. As part of our Strategic Modernization Initiative, we anticipate the continued migration of our operations to SAP, with the majority of our business being implemented through fiscal 2012.  Based on managements evaluation, the necessary steps have been taken to monitor and maintain appropriate internal control over financial reporting during this period. There have been no changes in our internal control over financial reporting as defined in Rules 13a-15f and 15d-15f of the Exchange Act that occurred during the fourth quarter of fiscal 2008 that has materially affected, or is reasonably likely to materially affect, the Companys internal control over financial reporting. Managements report on internal control over financial reporting and the report of independent registered public accounting firm on our internal control over financial reporting are incorporated herein from pages F-2 and F-3, respectively. None. The information required by this Item, not already provided herein under Statement for the 2008 Annual Meeting of Stockholders the 2008 Proxy Statement.  The 2008 Proxy Statement will be filed within 120 days after the close of the fiscal year ended June 30, 2008 and such information is incorporated herein by reference. The information required by this Item 11 Executive Compensation of Form 10-K will be included in the 2008 Proxy Statement.  The 2008 Proxy Statement will be filed within 120 days after the close of the fiscal year ended June 30, 2008 and such information is incorporated herein by reference. and Related Stockholder Matters._ The information required by this Item, not already provided under _Equity Compensation Plan Information_ as set forth below, will be included in the 2008 Proxy Statement.  The 2008 Proxy Statement will be filed within 120 days after the close of the fiscal year ended June 30, 2008 and such information is incorporated herein by reference. - 40 - Table of Contents The following table summarizes the equity compensation plans under which our securities may be issued as of June 30, 2008 and does not include grants made or cancelled and options exercised after such date.  The securities that may be issued consist solely of shares of our Class A Common Stock and all plans were approved by stockholders of the Company. a                                            Includes the Fiscal 1996 Share Incentive Plan the 1996 Plan, Fiscal 1999 Share Incentive Plan the 1999 Plan, Amended and Restated Fiscal 2002 Share Incentive Plan the 2002 Plan and the Non-Employee Director Share Incentive Plan. b                                           Consists of 20,307,221 shares issuable upon exercise of outstanding options, 813,967 issuable upon conversion of outstanding Restricted Stock Units, 401,525 upon conversion of outstanding Performance Share Units PSU assuming maximum payout and approval by the Stock Plan Subcommittee of the Companys Board of Directors of expected payouts for PSUs vested as of June 30, 2008 and 18,063 upon conversion of Share Units. c                                            Calculated based upon outstanding options in respect of 20,307,221 shares of our Class A Common Stock. d                                           The 1999 Plan and the 2002 Plan are similar omnibus plans.  Each authorizes the Stock Plan Subcommittee of the Board of Directors to grant shares and benefits other than stock options.  As of June 30, 2008, there were 618,186 shares and 6,280,459 shares of Class A Common Stock available for issuance under each plan, respectively subject to the approval by the Stock Plan Subcommittee of the Companys Board of Directors of expected payouts for PSUs vested as of June 30, 2008.  Shares underlying grants cancelled or forfeited under the 1999 Plan may be used for grants under the 2002 Plan.  Shares underlying grants cancelled or forfeited under the 1996 Plan may be used for grants under the 1999 Plan or the 2002 Plan.  The Non-Employee Director Share Incentive Plan provides for an annual grant of options and a grant of either options or stock units to non-employee directors.  As of June 30, 2008, there were 285,715 shares available for issuance under the Director Plan. If all of the outstanding options, warrants, rights, stock units and share units, as well as the securities available for future issuance, included in the first and third columns in the table above were converted to shares of Class A Common Stock as of June 30, 2008, the total shares of Common Stock outstanding i.e., Class A plus Class B would increase 15 to 223,632,232. Of the outstanding options to purchase 20,307,221 shares of Class A Common Stock, options in respect of 14,057,369 shares are exercisable at a price less than $46.45, the closing price on June 30, 2008.  Assuming the exercise of in- the-money options, the total shares outstanding would increase by 7 to 208,964,465. Independence._ The information required by this Item will be included in the 2008 Proxy Statement.  The 2008 Proxy Statement will be filed within 120 days after the close of the fiscal year ended June 30, 2008 and such information is incorporated herein by reference. The information required by this Item will be included in the 2008 Proxy Statement.  The 2008 Proxy Statement will be filed within 120 days after the close of the fiscal year ended June 30, 2008 and such information is incorporated herein by reference. - 41 - Table of Contents - 42 - Table of Contents - 43 - Table of Contents - 44 - Table of Contents   Exhibit is a management contract or compensatory plan or arrangement. - 45 - Table of Contents Pursuant to the requirements of Section 13 or 15d of the Securities Exchange Act of 1934, the registrant has duly caused this report to be signed on its behalf by the undersigned, thereunto duly authorized. Pursuant to the requirements of the Securities Exchange Act of 1934, this report has been signed below by the following persons on behalf of the registrant and in the capacities and on the date indicated. - 46 - Table of Contents All other schedules are omitted because they are not applicable or the required information is included in the consolidated financial statements or notes thereto. F - 1 Table of Contents Management of The Estée Lauder Companies Inc. including its subsidiaries the Company is responsible for establishing and maintaining adequate internal control over financial reporting as defined in Rules13a-15f of the Securities Exchange Act of 1934, as amended. A companys internal control over financial reporting is a process designed to provide reasonable assurance regarding the reliability of financial reporting and the preparation of financial statements for external purposes in accordance with U.S. generally accepted accounting principles.  A companys internal control over financial reporting includes those policies and procedures that 1 pertain to the maintenance of records that, in reasonable detail, accurately and fairly reflect the transactions and dispositions of the assets of the company; 2 provide reasonable assurance that transactions are recorded as necessary to permit preparation of financial statements in accordance with U.S. generally accepted accounting principles, and that receipts and expenditures of the company are being made only in accordance with authorizations of management and directors of the company; and 3 provide reasonable assurance regarding prevention or timely detection of unauthorized acquisition, use, or disposition of the companys assets that could have a material effect on the financial statements. Because of its inherent limitations, internal control over financial reporting may not prevent or detect misstatements.  Also, projections of any evaluation of effectiveness to future periods are subject to the risk that controls may become inadequate because of changes in conditions, or that the degree of compliance with the policies or procedures may deteriorate. Under the supervision of and with the participation of the Chief Executive Officer and the Chief Financial Officer, the Companys management conducted an assessment of the effectiveness of the Companys internal control over financial reporting based on the framework and criteria established in Sponsoring Organizations of the Treadway Commission.  Based on this assessment, the Companys management has concluded that, as of June 30, 2008, the Companys internal control over financial reporting was effective. F - 2 Table of Contents over Financial Reporting_ The Board of Directors and Stockholders The Estée Lauder Companies Inc.: We have audited The Estée Lauder Companies Inc.s the Company internal control over financial reporting as of June 30, 2008, based on criteria established in Internal Control  Integrated Framework issued by the Committee of Sponsoring Organizations of the Treadway Commission COSO.  The Companys management is responsible for maintaining effective internal control over financial reporting and for its assessment of the effectiveness of internal control over financial reporting, included in the accompanying Managements Report on Internal Control over Financial Reporting.  Our responsibility is to express an opinion on the Companys internal control over financial reporting based on our audit. We conducted our audit in accordance with the standards of the Public Company Accounting Oversight Board United States.  Those standards require that we plan and perform the audit to obtain reasonable assurance about whether effective internal control over financial reporting was maintained in all material respects.  Our audit included obtaining an understanding of internal control over financial reporting, assessing the risk that a material weakness exists, and testing and evaluating the design and operating effectiveness of internal control based on the assessed risk.  Our audit also included performing such other procedures as we considered necessary in the circumstances.  We believe that our audit provides a reasonable basis for our opinion. A companys internal control over financial reporting is a process designed to provide reasonable assurance regarding the reliability of financial reporting and the preparation of financial statements for external purposes in accordance with generally accepted accounting principles.  A companys internal control over financial reporting includes those policies and procedures that 1 pertain to the maintenance of records that, in reasonable detail, accurately and fairly reflect the transactions and dispositions of the assets of the company; 2 provide reasonable assurance that transactions are recorded as necessary to permit preparation of financial statements in accordance with generally accepted accounting principles, and that receipts and expenditures of the company are being made only in accordance with authorizations of management and directors of the company; and 3 provide reasonable assurance regarding prevention or timely detection of unauthorized acquisition, use, or disposition of the companys assets that could have a material effect on the financial statements. Because of its inherent limitations, internal control over financial reporting may not prevent or detect misstatements.  Also, projections of any evaluation of effectiveness to future periods are subject to the risk that controls may become inadequate because of changes in conditions, or that the degree of compliance with the policies or procedures may deteriorate. In our opinion, The Estée Lauder Companies Inc. maintained, in all material respects, effective internal control over financial reporting as of June 30, 2008, based on criteria established in Internal Control  Integrated Framework issued by the COSO. We also have audited, in accordance with the standards of the Public Company Accounting Oversight Board United States, the consolidated balance sheets of The Estée Lauder Companies Inc. and subsidiaries as of June 30, 2008 and 2007, and the related consolidated statements of earnings, stockholders equity and comprehensive income, and cash flows for each of the years in the three-year period ended June 30, 2008, and our report dated August 21, 2008 expressed an unqualified opinion on those consolidated financial statements. F - 3 Table of Contents The Board of Directors and Stockholders The Estée Lauder Companies Inc.: We have audited the accompanying consolidated balance sheets of The Estée Lauder Companies Inc. and subsidiaries the Company as of June 30, 2008 and 2007, and the related consolidated statements of earnings, stockholders equity and comprehensive income, and cash flows for each of the years in the three-year period ended June 30, 2008.  In connection with our audits of the consolidated financial statements, we also have audited the financial statement schedule as listed on the index on page F-1.  These consolidated financial statements and financial statement schedule are the responsibility of the Companys management.  Our responsibility is to express an opinion on these consolidated financial statements and financial statement schedule based on our audits. We conducted our audits in accordance with the standards of the Public Company Accounting Oversight Board United States.  Those standards require that we plan and perform the audit to obtain reasonable assurance about whether the financial statements are free of material misstatement.  An audit includes examining, on a test basis, evidence supporting the amounts and disclosures in the financial statements.  An audit also includes assessing the accounting principles used and significant estimates made by management, as well as evaluating the overall financial statement presentation.  We believe that our audits provide a reasonable basis for our opinion. In our opinion, the consolidated financial statements referred to above present fairly, in all material respects, the financial position of The Estée Lauder Companies Inc. and subsidiaries as of June 30, 2008 and 2007, and the results of their operations and their cash flows for each of the years in the three-year period ended June 30, 2008, in conformity with U.S. generally accepted accounting principles.  Also in our opinion, the related financial statement schedule, when considered in relation to the consolidated financial statements taken as a whole, presents fairly, in all material respects, the information set forth therein. We also have audited, in accordance with the standards of the Public Company Accounting Oversight Board United States, The Estée Lauder Companies Inc.s internal control over financial reporting as of June 30, 2008, based on criteria established in Internal Control  Integrated Framework issued by the Committee of Sponsoring Organizations of the Treadway Commission COSO, and our report dated August 21, 2008 expressed an unqualified opinion on the effectiveness of the Companys internal control over financial reporting. As discussed in the notes to the consolidated financial statements, effective July 1, 2006, the Company changed their method for quantifying errors based on SEC Staff Accounting Bulletin No. 108, Considering the Effects of Prior Year Misstatements when Quantifying Misstatements in Current Year Financial Statements,  and effective June 30, 2007, the Company adopted Statement of Financial Accounting Standard No. 158, Employers Accounting for Defined Benefit Pension and Other Postretirement Plans  an amendment of FASB Statements No. 87, 88, 106, and 132R.  Also as discussed in the notes to the consolidated financial statements, effective July 1, 2007, the Company adopted Financial Accounting Standards Board Interpretation No. 48, Accounting for Uncertainty in Income Taxes  an interpretation of FASB Statement No. 109. F - 4 Table of Contents See notes to consolidated financial statements. F - 5 Table of Contents See notes to consolidated financial statements. F - 6 Table of Contents See notes to consolidated financial statements. F - 7 Table of Contents See notes to consolidated financial statements. F - 8 Table of Contents The Estée Lauder Companies Inc. manufactures, markets and sells skin care, makeup, fragrance and hair care products around the world.  Products are marketed under the following brand names:  Estée Lauder, Aramis, Clinique, Prescriptives, Lab Series, Origins, MžAžC, Bobbi Brown _,_ La Mer _,_ Aveda, Jo Malone, Bumble and bumble, Darphin, American Beauty, Flirt, Good Skin, Grassroots, Ojon and Eyes by Design.  The Estée Lauder Companies Inc. is also the global licensee of the Tommy Hilfiger, Kiton, Donna Karan, Michael Kors, Sean John, Missoni, Daisy Fuentes, Tom Ford and Mustang brand names for fragrances andor cosmetics. The accompanying consolidated financial statements include the accounts of The Estée Lauder Companies Inc. and its subsidiaries collectively, the Company as continuing operations, with the exception of the operating results of its reporting unit that marketed and sold Stila brand products, which have been reflected as discontinued operations for fiscal 2007 and 2006 see Note 7. All significant intercompany balances and transactions have been eliminated. Certain amounts in the consolidated financial statements of prior years have been reclassified to conform to current year presentation for comparative purposes. The preparation of financial statements and related disclosures in conformity with U.S. generally accepted accounting principles requires management to make estimates and assumptions that affect the reported amounts of assets and liabilities and disclosure of contingent assets and liabilities at the date of the financial statements and the reported amounts of revenues and expenses reported in those financial statements.  Actual results could differ from those estimates and assumptions. All assets and liabilities of foreign subsidiaries and affiliates are translated at year-end rates of exchange, while revenue and expenses are translated at weighted average rates of exchange for the year.  Unrealized translation gains or losses are reported as cumulative translation adjustments through other comprehensive income.  Such adjustments amounted to $98.3 million, $53.1 million and $27.0 million of unrealized translation gains in fiscal 2008, 2007 and 2006, respectively. The Company enters into foreign currency forward and option contracts to hedge foreign currency transactions for periods consistent with its identified exposures.  Accordingly, the Company categorizes these instruments as entered into for purposes other than trading. The accompanying consolidated statements of earnings include net exchange gains losses of $3.9 million, $0.6 million and $4.0 million in fiscal 2008, 2007 and 2006, respectively. Cash and cash equivalents include $66.6 million and $51.3 million of short- term time deposits at June 30, 2008 and 2007, respectively.  The Company considers all highly liquid investments with original maturities of three months or less to be cash equivalents. Accounts receivable is stated net of the allowance for doubtful accounts and customer deductions of $26.3 million and $23.3 million as of June 30, 2008 and 2007, respectively. F - 9 Table of Contents Inventory and promotional merchandise only includes inventory considered saleable or usable in future periods, and is stated at the lower of cost or fair-market value, with cost being determined on the first-in, first-out method.  Cost components include raw materials, componentry, direct labor and overhead e.g., indirect labor, utilities, depreciation, purchasing, receiving, inspection and warehousing as well as inbound freight. Promotional merchandise is charged to expense at the time the merchandise is shipped to the Companys customers.  Included in inventory and promotional merchandise is an inventory obsolescence reserve, which represents the difference between the cost of the inventory and its estimated realizable value, based on various product sales projections.  This reserve is calculated using an estimated obsolescence percentage applied to the inventory based on age, historical trends and requirements to support forecasted sales.  In addition, and as necessary, specific reserves for future known or anticipated events may be established. The Company accounts for derivative financial instruments in accordance with Statement of Financial Accounting Standards SFAS No. 133, Accounting for Derivative Instruments and Hedging Activities, SFAS No. 133 as amended, which establishes accounting and reporting standards for derivative instruments, including certain derivative instruments embedded in other contracts, and for hedging activities.  SFAS No. 133 also requires the recognition of all derivative instruments as either assets or liabilities on the balance sheet and that they be measured at fair value. Property, plant and equipment, including leasehold and other improvements that extend an assets useful life or productive capabilities, are carried at cost less accumulated depreciation and amortization.  The cost of assets related to projects in progress of $129.0 million and $72.1 million as of June 30, 2008 and 2007, respectively, is included in their respective asset categories in Note 5.  For financial statement purposes, depreciation is provided principally on the straight-line method over the estimated useful lives of the assets ranging from 3 to 40 years.  Leasehold improvements are amortized on a straight-line basis over the shorter of the lives of the respective leases or the expected useful lives of those improvements. Under SFAS No. 115, Accounting for Certain Investments in Debt and Equity Securities SFAS No. 115, available-for-sale securities are recorded at market value.  Unrealized holding gains and losses, net of the related tax effect, on available-for-sale securities are excluded from earnings and are reported as a component of stockholders equity until realized.  The Companys investments subject to the provisions of SFAS No. 115 are treated as available-for-sale and, accordingly, the applicable investments have been adjusted to market value with a corresponding adjustment, net of tax, to net unrealized investment gains in accumulated other comprehensive income. Accumulated other comprehensive income includes an unrealized investment gain net of deferred taxes of $0.3 million and $0.8 million at June 30, 2008 and 2007, respectively. The Company follows the provisions of SFAS No. 141, Business Combinations SFAS No. 141 and SFAS No. 142, Goodwill and Other Intangible Assets SFAS No. 142.  These statements establish financial accounting and reporting standards for acquired goodwill and other intangible assets. Specifically, the standards address how acquired intangible assets should be accounted for both at the time of acquisition and after they have been recognized in the financial statements.  In accordance with SFAS No. 142, intangible assets, including purchased goodwill, must be evaluated for impairment.  Those intangible assets that will continue to be classified as goodwill or as other intangibles with indefinite lives are no longer amortized. In accordance with SFAS No. 142, the impairment testing is performed in two steps: i the Company determines impairment by comparing the fair value of a reporting unit with its carrying value, and ii if there is an impairment, the Company measures the amount of impairment loss by comparing the implied fair value of goodwill with the carrying amount of that goodwill.  To determine fair value, the Company relies on three valuation models: guideline public companies, acquisition analysis and discounted cash flow.  For goodwill valuation purposes only, the revised fair value of a reporting unit is allocated to the assets and liabilities of the business unit to arrive at an implied fair value of goodwill, based upon known facts and circumstances, as if the acquisition occurred at that time. F - 10 Table of Contents In accordance with SFAS No. 144, Accounting for the Impairment or Disposal of Long-Lived Assets, long-lived assets are reviewed for impairment whenever events or changes in circumstances indicate that the carrying amount of the assets in question may not be recoverable.  An impairment would be recorded in circumstances where expected undiscounted cash flows from the use and eventual disposition of an asset are less than the carrying value of that asset. The Company is a worldwide manufacturer, marketer and distributor of skin care, makeup, fragrance and hair care products.  Domestic and international sales are made primarily to department stores, perfumeries and specialty retailers.  The Company grants credit to all qualified customers and does not believe it is exposed significantly to any undue concentration of credit risk. During fiscal 2006, Federated Department Stores, Inc. acquired The May Department Stores Company, resulting in the merger of the Companys previous two largest customers collectively Macys, Inc..  This customer sells products primarily within North America and accounted for $951.4 million, or 12, $958.8 million, or 14, and $1,005.8 million, or 16, of the Companys consolidated net sales in fiscal 2008, 2007 and 2006, respectively.  This customer accounted for $109.2 million, or 11, and $105.3 million, or 12, of the Companys accounts receivable at June 30, 2008 and 2007, respectively. Revenues from merchandise sales are recognized upon transfer of ownership, including passage of title to the customer and transfer of the risk of loss related to those goods.  In the Americas region, sales are generally recognized at the time the product is shipped to the customer and in the Europe, Middle East  Africa and AsiaPacific regions sales are generally recognized based upon the customers receipt.  In certain circumstances, transfer of title takes place at the point of sale, for example, at the Companys retail stores.  Sales at the Companys retail stores and online are recognized in accordance with a traditional 4-4-5 retail calendar, where each fiscal quarter is comprised of two 4-week periods and one 5-week period, with one extra week in one quarter every seven years.  As a result, the retail quarter-end and the fiscal quarter-end may be different by up to six days. Revenues are reported on a net sales basis, which is computed by deducting from gross sales the amount of actual product returns received, discounts, incentive arrangements with retailers and an amount established for anticipated product returns.  The Companys practice is to accept product returns from retailers only if properly requested, authorized and approved. In accepting returns, the Company typically provides a credit to the retailer against accounts receivable from that retailer.  As a percentage of gross sales, returns were 4.4, 4.2 and 5.0 in fiscal 2008, 2007 and 2006, respectively. The Company is subject to the provisions of Emerging Issues Task Force EITF Issue No. 01-9, Accounting for Consideration Given by a Vendor to a Customer Including a Reseller of the Vendors Products.  In accordance with this guidance, the Company has recorded the revenues generated from purchase with purchase promotions as sales and the costs of its purchase with purchase and gift with purchase promotions as cost of sales.  Certain other incentive arrangements require the payment of a fee to customers based on their attainment of pre-established sales levels.  These fees have been recorded as a reduction of Net sales in the accompanying consolidated statements of earnings and were not material to the results of operations in any period presented. The Company enters into transactions related to advertising, product promotions and demonstrations, some of which involve cooperative relationships with customers.  These activities may be arranged either with unrelated third parties or in conjunction with the customer.  The Companys share of the cost of these transactions regardless of to whom they were paid are reflected in Selling, general and administrative expenses in the accompanying consolidated statements of earnings and were approximately $1,098 million, $978 million and $912 million in fiscal 2008, 2007 and 2006, respectively. F - 11 Table of Contents Global net expenses for advertising, merchandising, sampling and promotion were $2,034.6 million, $1,841.9 million and $1,721.1 million in fiscal 2008, 2007 and 2006, respectively, and are expensed as incurred.  These amounts include activities relating to purchase with purchase and gift with purchase promotions that are reflected in net sales and cost of sales.  Excluding the impact of purchase with purchase and gift with purchase promotions, advertising, merchandising, sampling and promotion expenses included in operating expenses were $1,836.1 million, $1,640.9 million and $1,514.3 million in fiscal 2008, 2007 and 2006, respectively. Research and development costs amounted to $80.9 million, $74.4 million and $72.0 million in fiscal 2008, 2007 and 2006, respectively.  Research and development costs are expensed as incurred. The Company recognizes rent expense from operating leases with periods of free and scheduled rent increases on a straight-line basis over the applicable lease term.  The Company considers lease renewals in the useful life of its leasehold improvements when such renewals are reasonably assured.  From time to time, the Company may receive capital improvement funding from its lessors. These amounts are recorded as deferred liabilities and amortized over the remaining lease term as a reduction of rent expense. The Companys license agreements provide the Company with worldwide rights to manufacture, market and sell beauty and beauty-related products or particular categories thereof using the licensors trademarks.  The licenses typically have an initial term of approximately 3 years to 11 years, and are renewable subject to the Companys compliance with the license agreement provisions. The remaining terms, including the potential renewal periods, range from approximately 2 years to 22 years.  Under each license, the Company is required to pay royalties to the licensor, at least annually, based on net sales to third parties. Most of the Companys licenses were entered into to create new business.  In some cases, the Company acquired, or entered into, a license where the licensor or another licensee was operating a pre-existing beauty products business.  In those cases, intangible assets are capitalized and amortized over their useful lives based on the terms of the agreement and are subject to impairment testing if certain events or circumstances indicate a potential impairment. The Company accounts for stock-based compensation in accordance with SFAS No. 123R, Share-Based Payment SFAS No. 123R.  This statement requires that all stock-based compensation be recognized as an expense in the financial statements and that such cost be measured at the fair value of the award. SFAS No. 123R also requires that excess tax benefits related to stock option exercises be reflected as financing cash inflows instead of operating cash inflows. The Company accounts for income taxes in accordance with SFAS No. 109, Accounting for Income Taxes, as amended.  This statement establishes financial accounting and reporting standards for the effects of income taxes that result from an enterprises activities during the current and preceding years.  It requires an asset and liability approach for financial accounting and reporting of income taxes. In June 2006, the Financial Accounting Standards Board FASB issued FASB Interpretation No. FIN 48, Accounting for Uncertainty in Income Taxes  an interpretation of FASB Statement No. 109 FIN 48.  FIN 48 clarifies the accounting for uncertainty in income taxes recognized in an enterprises financial statements in accordance with SFAS No. 109.  FIN 48 prescribes a two-step evaluation process for tax positions taken, or expected to be taken, in a tax return.  The first step is recognition and the second is measurement. FIN 48 also provides guidance on derecognition, measurement, classification, disclosures, transition and accounting for interim periods.  In May 2007, the FASB issued FASB Staff Position FSP No. FIN 48-1, Definition of Settlement in FASB Interpretation No. 48, an amendment of FASB Interpretation FIN No. 48, Accounting for Uncertainty in Income Taxes FSP No. FIN 48-1.  FSP No. FIN 48-1 provides guidance on how to determine whether a tax position is effectively settled for the purpose of recognizing previously unrecognized tax benefits.  The Company adopted the provisions of FIN 48, as amended, effective July 1, 2007. F - 12 Table of Contents In September 2006, the FASB issued SFAS No. 157, Fair Value Measurements SFAS No. 157, to clarify the definition of fair value, establish a framework for measuring fair value and expand the disclosures on fair value measurements.  SFAS No. 157 defines fair value as the price that would be received to sell an asset or paid to transfer a liability in an orderly transaction between market participants at the measurement date an exit price.  SFAS No. 157 also stipulates that, as a market-based measurement, fair value measurement should be determined based on the assumptions that market participants would use in pricing the asset or liability, and establishes a fair value hierarchy that distinguishes between a market participant assumptions developed based on market data obtained from sources independent of the reporting entity observable inputs and b the reporting entitys own assumptions about market participant assumptions developed based on the best information available in the circumstances unobservable inputs. In February 2008, the FASB issued FSP No. FAS 157-1, Application of FASB Statement No. 157 to FASB Statement No. 13 and Other Accounting Pronouncements That Address Fair Value Measurements for Purposes of Lease Classification or Measurement under Statement 13.  This FSP amends SFAS No. 157 to exclude certain leasing transactions accounted for under previously existing accounting guidance.  However, this scope exception does not apply to assets acquired and liabilities assumed in a business combination, regardless of whether those assets and liabilities are related to leases. SFAS No. 157 becomes effective for the Company in the beginning of fiscal 2009.  The Company is currently evaluating the impact of the provisions of SFAS No. 157 on its consolidated financial statements.  In February 2008, the FASB issued FSP No. FAS 157-2, Effective Date for FASB Statement No. 157. This FSP permits the delayed application of SFAS No. 157 for nonfinancial assets and nonfinancial liabilities, as defined in this FSP, except for those that are recognized or disclosed at fair value in the financial statements at least annually, until the beginning of the Companys fiscal 2010. In February 2007, the FASB issued SFAS No. 159, The Fair Value Option for Financial Assets and Financial Liabilities SFAS No. 159, to permit all entities to choose to elect, at specified election dates, to measure eligible financial instruments at fair value.  An entity shall report unrealized gains and losses on items for which the fair value option has been elected in earnings at each subsequent reporting date, and recognize upfront costs and fees related to those items in earnings as incurred and not deferred.  SFAS No. 159 applies to fiscal years beginning after November 15, 2007, with early adoption permitted for an entity that has also elected to apply the provisions of SFAS No. 157.  An entity is prohibited from retrospectively applying SFAS No. 159, unless it chooses early adoption.  The Company is currently evaluating the impact of the provisions of SFAS No. 159 on its consolidated financial statements, if any, when it becomes effective in the beginning of fiscal 2009. In December 2007, the FASB issued SFAS No. 141 revised 2007, Business Combinations SFAS No. 141R.  SFAS No. 141R replaces SFAS No. 141, Business Combinations, however, it retains the fundamental requirements of the former Statement that the acquisition method of accounting previously referred to as the purchase method be used for all business combinations and for an acquirer to be identified for each business combination.  SFAS No. 141R defines the acquirer as the entity that obtains control of one or more businesses in the business combination and establishes the acquisition date as the date that the acquirer achieves control.  Among other requirements, SFAS No. 141R requires the acquiring entity in a business combination to recognize the identifiable assets acquired, liabilities assumed and any noncontrolling interest in the acquiree at their acquisition-date fair values, with limited exceptions; acquisition-related costs generally will be expensed as incurred.  SFAS No. 141R requires certain financial statement disclosures to enable users to evaluate and understand the nature and financial effects of the business combination.  SFAS No. 141R must be applied prospectively to business combinations that are consummated on or after July 1, 2009. In December 2007, the FASB issued SFAS No. 160, Noncontrolling Interests in Consolidated Financial Statements, an Amendment of ARB No. 51 SFAS No. 160 to establish accounting and reporting standards for the noncontrolling interest in a subsidiary and for the deconsolidation of a subsidiary.  Among other requirements, SFAS No. 160 clarifies that a noncontrolling interest in a subsidiary, which is sometimes referred to as minority interest, is to be reported as a separate component of equity in the consolidated financial statements.  SFAS No. 160 also requires consolidated net income to include the amounts attributable to both the parent and the noncontrolling interest and to disclose those amounts on the face of the consolidated statement of income. SFAS No. 160 must be applied prospectively for fiscal years, and interim periods within those fiscal years, beginning in the Companys fiscal 2010, except for the presentation and disclosure requirements, which will be applied retrospectively for all periods presented. F - 13 Table of Contents In December 2007, the FASB ratified the consensus reached on EITF Issue No. 07-1, Collaborative Arrangements, EITF No. 07-1.  This EITF addresses accounting for collaborative arrangement activities that are conducted without the creation of a separate legal entity for the arrangement.  Revenues and costs incurred with third parties in connection with the collaborative arrangement should be presented gross or net by the collaborators pursuant to the guidance in EITF 99-19, Reporting Revenue Gross as a Principal versus Net as an Agent, and other applicable accounting literature.  Payments to or from collaborators should be presented in the income statement based on the nature of the arrangement, the nature of the companys business and whether the payments are within the scope of other accounting literature.  Other detailed information related to the collaborative arrangement is also required to be disclosed.  The requirements under this EITF must be applied to collaborative arrangements in existence at the beginning of the Companys fiscal 2010 using a modified version of retrospective application.  The Company is currently evaluating the impact the provisions of EITF No. 07-1 will have on its consolidated financial statements. In March 2008, the FASB issued SFAS No. 161, Disclosures about Derivative Instruments and Hedging Activities  an amendment of FASB Statement No. 133 SFAS No. 161.  SFAS No. 161 requires companies to provide qualitative disclosures about their objectives and strategies for using derivative instruments, quantitative disclosures of the fair values and gains and losses of these derivative instruments in a tabular format, as well as more information about liquidity by requiring disclosure of a derivative contracts credit-risk-related contingent features.  SFAS No. 161 also requires cross- referencing within footnotes to enable financial statement users to locate important information about derivative instruments.  The Company is currently evaluating the disclosure requirements of SFAS No. 161.  As this is a disclosure-only standard, the Company does not anticipate an impact on the consolidated financial statements as a result of its adoption.  SFAS No. 161 becomes effective for the March 2009 interim consolidated financial statements. In April 2008, the FASB issued FSP No. FAS 142-3, Determination of the Useful Life of Intangible Assets.  This FSP amends the factors that should be considered in developing renewal or extension assumptions used to determine the useful life of a recognized intangible asset under SFAS No. 142, Goodwill and Other Intangible Assets SFAS No. 142.  This FSP also adds certain disclosures to those already prescribed in SFAS No. 142.  FSP No. FAS 142-3 becomes effective for fiscal years, and interim periods within those fiscal years, beginning in the Companys fiscal 2010.  The guidance for determining useful lives must be applied prospectively to intangible assets acquired after the effective date.  The disclosure requirements must be applied prospectively to all intangible assets recognized as of the effective date. In June 2008, the FASB issued FSP No. EITF 03-6-1, Determining Whether Instruments Granted in Share-Based Payment Transactions Are Participating Securities.  This FSP provides that unvested share-based payment awards that contain nonforfeitable rights to dividends or dividend equivalents whether paid or unpaid are participating securities and shall be included in the computation of earnings per share pursuant to the two-class method.  This FSP is effective for financial statements issued for fiscal years beginning after December 15, 2008, and interim periods within those years.  Upon adoption, a company is required to retrospectively adjust its earnings per share data including any amounts related to interim periods, summaries of earnings and selected financial data to conform with the provisions in this FSP.  Early application of this FSP is prohibited.  The Company does not issue share-based payment awards that contain nonforfeitable rights to dividends or dividend equivalents. In September 2006, the Securities and Exchange Commission SEC issued Staff Accounting Bulletin SAB No. 108, Considering the Effects of Prior Year Misstatements when Quantifying Misstatements in Current Year Financial Statements SAB No. 108, which sets forth the SEC Staffs views on the proper methods for quantifying errors when there were uncorrected errors in a prior year.  Under SAB No. 108, companies should evaluate a misstatement that existed in prior years based on its impact on the current year income statement the rollover approach, as well as the cumulative effect of correcting such misstatements in the current years ending balance sheet the iron curtain approach, or collectively, the dual approach. SAB No. 108 became effective for the Companys fiscal year ended June 30, 2007.  Prior to application of this guidance, the Company utilized the rollover approach to evaluate uncorrected misstatements and believed the conclusions reached regarding its quantitative and qualitative assessments of materiality of such items, both individually and in the aggregate, were appropriate.  In accordance with the transition guidance set forth in SAB No. 108, the Company elected to record a one-time cumulative effect adjustment to opening retained earnings to correct errors in certain balance sheet accounts that arose in prior years, which previously had been considered immaterial using the rollover approach. F - 14 Table of Contents Since the fiscal 1996 acquisition of the Bobbi Brown brand and through the application of SAB No. 108 on July 1, 2006, the Company made payments to the sellers based on a percentage of Bobbi Brown sales internationally, which should have been capitalized as goodwill in accordance with SFAS No. 141, Business Combinations, as amended.  These payments were previously recorded as Selling, general and administrative expenses in the consolidated statements of earnings.  As such, goodwill increased by $10.5 million and opening retained earnings increased by $6.7 million, net of tax, in the accompanying fiscal 2007 consolidated balance sheet. In connection with the Companys defined benefit pension obligations, certain liability amounts were incorrectly reflected on the balance sheet in years prior to fiscal 2002, the majority of which related to benefit plans for the Companys international operations.  As such, upon initial application of SAB No. 108 on July 1, 2006, other noncurrent liabilities decreased by $8.7 million and opening retained earnings increased by $5.0 million, net of tax, in the accompanying fiscal 2007 consolidated balance sheet. Beginning in years prior to fiscal 2003, inventory valuation was impacted by the incorrect application of profit in ending inventory partially offset by the overstatement of inventory obsolescence reserves, culminating in a fiscal 2007 decrease to inventory of $2.5 million and an opening retained earnings decrease of $2.0 million, net of tax pursuant to initial application of SAB No. 108. In years prior to fiscal 2004 and through the initial application of SAB No. 108, the Company overstated certain accrued liability positions.  As such, Other accrued liabilities decreased by $19.1 million and opening retained earnings increased by $14.5 million, net of tax, in the accompanying fiscal 2007 consolidated balance sheet. Depreciation and amortization of property, plant and equipment was $233.9 million, $198.1 million and $189.9 million in fiscal 2008, 2007 and 2006, respectively.  Depreciation and amortization related to the Companys manufacturing process is included in Cost of sales and all other depreciation and amortization is included in Selling, general and administrative expenses in the accompanying consolidated statements of earnings. F - 15 Table of Contents During fiscal 2008, the Company acquired Ojon Corporation, which markets and sells Ojon hair care and skin care products primarily through direct response television and specialty stores.  In conjunction with this acquisition, the Company purchased, from an unrelated party, the exclusive rights to sell and distribute Ojon products worldwide.  In addition, the Company acquired a business engaged in the wholesale distribution and retail sale of Aveda products and recorded goodwill for earn-out payments related to the acquisition of the Bobbi Brown brand.  These activities resulted in an increase to goodwill of $51.9 million and other intangible assets of $85.5 million. During fiscal 2007, the Company purchased the remaining minority equity interest in the Bumble and bumble business, recorded additional goodwill related to payments made in prior years in connection with the acquisition of the Bobbi Brown brand see Note 3, and acquired businesses engaged in the wholesale distribution and retail sale of the Companys products in the United States and other countries.  The combined results of these activities increased goodwill by $20.4 million and other intangible assets by $47.0 million.  Also during fiscal 2007, as a result of the Companys annual impairment testing, the Company determined that the carrying values of its goodwill and intangible assets related to the Darphin and Rodan  Fields brands exceeded their respective fair values.  As such, the Company reduced its goodwill by $7.3 million and other intangible assets by $4.3 million, which are reported in Selling, general and administrative expenses in the accompanying consolidated statements of earnings. The Company assigns goodwill of a reporting unit to the product category in which that reporting unit predominantly operates at the time of its acquisition.  The change in the carrying amount of goodwill, including the effect of foreign exchange rates is as follows: Other intangible assets include trademarks and patents, as well as license agreements and other intangible assets resulting from or related to businesses and assets purchased by the Company.  Indefinite lived assets e.g., trademarks are not subject to amortization and are evaluated annually for impairment or more frequently if certain events or circumstances indicate a potential impairment.  Patents are amortized on a straight-line basis over the shorter of the legal term or the useful life of the patent, approximately 20 years.  Other intangible assets e.g., non-compete agreements, customer lists are amortized on a straight-line basis over their expected period of benefit, approximately 5 years to 14 years.  Intangible assets related to license agreements are amortized on a straight-line basis over their useful lives based on the term of the respective agreement, currently approximately 10 years to 16 years, and are subject to impairment testing if certain events or circumstances indicate a potential impairment. Other intangible assets consist of the following: F - 16 Table of Contents The aggregate amortization expense related to amortizable intangible assets for the years ended June 30, 2008, 2007 and 2006 was $14.0 million, $6.3 million and $5.5 million, respectively.  The estimated aggregate amortization expense for each of the next five fiscal years is as follows: ARRANGEMENTS During fiscal 2008, the Company acquired Ojon Corporation.  In conjunction with this acquisition, the Company purchased, from an unrelated party, the exclusive rights to sell and distribute Ojon products worldwide.  The initial purchase price, paid at closing, was funded by cash provided by operations and the issuance of commercial paper as well as the issuance of two promissory notes, as described in Note 11.  The purchase agreement also provides for an additional payment, which is expected to be made in fiscal 2013, contingent upon the attainment of certain net sales targets of Ojon products. During fiscal 2007, the Company purchased the remaining minority equity interests in Bumble and Bumble Products, LLC and Bumble and Bumble, LLC, which have been accounted for as indefinite lived intangible assets in the accompanying consolidated balance sheet. At various times during fiscal 2008, 2007 and 2006, the Company also acquired businesses engaged in the wholesale distribution and retail sale of the Companys products in the United States and other countries and made earn-out payments related to the acquisition of the Bobbi Brown brand. The aggregate cost for these activities, which includes purchase price, earn- out payments and acquisition costs, was $150.8 million, $61.2 million, and $51.7 million in fiscal 2008, 2007 and 2006, respectively.  The results of operations for each of the acquired businesses are included in the accompanying consolidated financial statements commencing with its date of original acquisition.  Pro forma results of operations have not been presented, as the impact on the Companys consolidated financial results would not have been material. In fiscal 2006, the Company completed the sale of certain assets and operations of the reporting unit that marketed and sold Stila brand products to Stila Corp. the Purchaser, an affiliate of Sun Capital Partners, Inc. The Company recorded charges of $80.3 million net of $43.3 million tax benefit to discontinued operations, which reflected the loss on the disposition of the business of $69.9 million, net of tax, and adjustments to the fair value of assets sold, the costs to dispose of those assets not acquired by the Purchaser and other costs in connection with the sale.  The charges also included the operating losses of $10.4 million, net of tax, for fiscal year ended June 30, 2006.  Net sales associated with the discontinued operations were $45.1 million for the fiscal year ended June 30, 2006. Since fiscal 2007, the Company signed an exclusive agreement to create fragrances and related products to be sold to Coach Inc., which are available at Coach retail stores in the United States.  Also since fiscal 2007, the Company entered into a license agreement with Ford Motor Company to create a fragrance using the name Mustang.  Since fiscal 2006, the Company developed and sold fragrance products pursuant to a license agreement with Daisy Fuentes. Certain license agreements may require minimum royalty payments, incremental royalties based on net sales levels and minimum spending on advertising and promotional activities.  Royalty expenses are accrued in the period in which net sales are earned while advertising and promotional expenses are accrued at the time these costs are incurred. F - 17 Table of Contents During fiscal 2006, the Company recorded special charges associated with a cost savings initiative that was designed to support its long-term financial objectives.  As part of this multi-faceted initiative, the Company had identified savings opportunities that include streamlined processes and organizational changes.  The principal component of the initiative was a voluntary separation program offered primarily to North America-based employees.  During the fourth quarter of fiscal 2006, involuntary separations were communicated to certain employees.  Under this initiative, the Company incurred expenses related to one-time termination benefits for 494 employees, of which 28 were involuntary, which benefits were based principally upon years of service.  Employees designated for separation under the cost savings initiative were separated by June 30, 2007. In addition, the Company identified other cost savings opportunities to improve efficiencies in the Companys distribution network and product offerings and to eliminate other nonessential costs.  These charges primarily related to employee severance for facilities that were closed, contract cancellations, counter and door closings and product returns. For the years ended June 30, 2008, 2007 and 2006, aggregate expenses of $0.4 million, $1.1 million and $92.1 million, respectively, were recorded as Special charges related to cost savings initiative in the accompanying consolidated statements of earnings.  The fiscal 2008 charges were related to employee separation expenses while the 2007 charges were primarily related to facility closings.  At June 30, 2008 and 2007, $4.4 million and $15.4 million, respectively, and $1.8 million and $7.5 million, respectively, related to the cost savings initiative were recorded in Other accrued liabilities and Other noncurrent liabilities, respectively, in the accompanying consolidated balance sheets. The following table summarizes the cost savings initiative, which impacted the Companys operating expenses and cost of sales: The provision for income taxes is comprised of the following: F - 18 Table of Contents A reconciliation between the provision for income taxes computed by applying the statutory Federal income tax rate to earnings before income taxes and minority interest and the actual provision for income taxes is as follows: The state and local tax benefit of $5.9 million in fiscal 2008 includes the favorable resolution of several state and local income tax examinations as well as statute lapses. On July 13, 2006, the Company announced a settlement with the Internal Revenue Service IRS regarding its examination of the Companys consolidated Federal income tax returns for the fiscal years ended June 30, 1998 through June 30, 2001.  The settlement resolved previously disclosed issues raised during the IRSs examination, including transfer pricing and foreign tax credit computations.  The settlement of these issues resulted in a tax charge of approximately $46 million in the fourth quarter of fiscal 2006 and represents the aggregate earnings impact of the settlement through fiscal 2006.  In addition, during the fourth quarter of fiscal 2006, the Company completed the repatriation of foreign earnings through intercompany dividends as required under the provisions of the American Jobs Creation Act of 2004 the AJCA.  In connection with the repatriation, the Company updated the computation of the related aggregate tax impact, resulting in a favorable adjustment of approximately $11 million.  The tax settlement, coupled with the AJCA favorable tax adjustment, resulted in a net increase to the Companys fiscal 2006 income tax provision of approximately $35 million. Federal income and foreign withholding taxes have not been provided on approximately $813 million of undistributed earnings of international subsidiaries at June 30, 2008.  The Company intends to reinvest these earnings in its foreign operations indefinitely, except where it is able to repatriate these earnings to the United States without material incremental tax provision.  As of June 30, 2007 and 2006, the Company had not provided federal income and foreign withholding taxes on approximately $539 million and $336 million, respectively, of undistributed earnings of international subsidiaries.  The determination and estimation of the future income tax consequences in all relevant taxing jurisdictions involves the application of highly complex tax laws in the countries involved, particularly in the United States, and is based on the tax profile of the Company in the year of earnings repatriation.  Accordingly, it is not practicable to determine the amount of tax associated with such undistributed earnings. F - 19 Table of Contents Significant components of the Companys deferred income tax assets and liabilities as of June 30, 2008 and 2007 were as follows: As of June 30, 2008 and 2007, the Company had current net deferred tax assets of $184.6 million and $124.0 million, respectively, which are included in Prepaid expenses and other current assets in the accompanying consolidated balance sheets.  In addition, the Company had noncurrent net deferred tax assets of $55.3 million as of June 30, 2008 which are included in Other assets, net in the accompanying consolidated balance sheet and noncurrent net deferred tax liabilities of $16.6 million as of June 30, 2007 which are included in Other noncurrent liabilities in the accompanying consolidated balance sheet. As of June 30, 2008 and 2007, certain international subsidiaries had tax loss carryforwards for local tax purposes of approximately $27 million and $11 million, respectively.  With the exception of $21.6 million of losses with an indefinite carryforward period as of June 30, 2008, these losses expire at various dates through fiscal 2023.  Deferred tax assets, net of valuation allowances, in the amount of $4.5 million and $1.2 million as of June 30, 2008 and 2007, respectively, have been recorded to reflect the tax benefits of the losses not utilized to date. A full valuation allowance has been provided for those deferred tax assets for which, in the opinion of management, it is more likely than not that the deferred tax assets will not be realized. Earnings before income taxes and minority interest include amounts contributed by the Companys international operations of approximately $905 million, $696 million and $603 million for fiscal 2008, 2007 and 2006, respectively.  A portion of these earnings are taxed in the United States. The Company adopted the provisions of FIN 48, as amended, effective July 1, 2007.  As a result, the Company recognized an increase in the liability for unrecognized tax benefits and interest of $13.1 million after tax, which, as required, was recorded as an adjustment to opening retained earnings as of July 1, 2007.  The Company elected to continue its historical practice of classifying applicable interest and penalties as a component of the provision for income taxes.  At adoption, the Company had $142.7 million of gross unrecognized tax benefits.  The Companys gross accrual for interest and penalties related to unrecognized tax benefits was $42.0 million upon adoption of FIN 48.  As of June 30, 2008, the Company had gross unrecognized tax benefits of $199.0 million.  The total amount of unrecognized tax benefits that, if recognized, would affect the effective tax rate was $119.4 million. The total gross accrued interest and penalties during the fiscal year ended June 30, 2008 in the accompanying consolidated statement of earnings was $12.0 million and the total gross accrued interest and penalties in the accompanying consolidated balance sheet at June 30, 2008 was $54.0 million.  As of June 30, 2008, current and noncurrent liabilities have been increased by $90.8 million, with a correlative increase in current and noncurrent assets to reflect the Compannys gross income tax and interest liabilities for unrecognized tax benefits as well as related deferred tax assets.  A reconciliation of the beginning and ending amount of gross unrecognized tax benefits is as follows: F - 20 Table of Contents Included in the balance at June 30, 2008 are $31.6 million of tax positions for which the ultimate deductibility is highly certain but for which there is uncertainty about the timing of such deductibility.  Because of the impact of deferred tax accounting, other than interest and penalties, the disallowance of the shorter deductibility period would not affect the annual effective tax rate but would accelerate the payment of cash to the taxing authority to an earlier period. Earnings from the Companys global operations are subject to tax in various jurisdictions both within and outside the United States.  The Company is routinely audited and examined in these jurisdictions.  The Company provides tax reserves for U.S. federal, state, local and international unrecognized tax benefits for periods subject to audit.  The development of reserves for these exposures requires judgments about tax issues, potential outcomes and timing, and is a subjective critical estimate.  The Company assesses its tax positions and records tax benefits for all years subject to examination based upon managements evaluation of the facts, circumstances, and information available at the reporting dates.  For those tax positions where it is more-likely-than- not that a tax benefit will be sustained, the Company has recorded the largest amount of tax benefit with a greater than 50 likelihood of being realized upon settlement with a tax authority that has full knowledge of all relevant information.  For those tax positions where it is not more-likely-than-not that a tax benefit will be sustained, no tax benefit has been recognized in the financial statements.  Where applicable, associated interest and penalties have also been recognized.  Although the outcome related to these exposures is uncertain, in managements opinion, adequate provisions for income taxes have been made for estimable potential liabilities emanating from these exposures. In certain circumstances, the ultimate outcome of exposures and risks involve significant uncertainties which render them inestimable.  If actual outcomes differ materially from these estimates, including those that cannot be quantified, they could have a material impact on the Companys results of operations. The Company is currently subject to a U.S. federal tax audit as well as examinations and controversies in several state, local, and international jurisdictions.  These matters are in various stages of completion and involve complex multi-jurisdictional issues common among multinational enterprises, including transfer pricing, that may require an extended period of time for resolution.  During the fourth quarter of fiscal 2008, the IRS completed the examination phase of fiscal years 2002 through 2005.  The Company has brought disputed adjustments concerning U.S. foreign tax credit determinations to the Appeals Division of the IRS for review as well as entered a claim pursuant to an administrative process of the tax treaty between the U.S. and Belgium commonly referred to as the Competent Authority process.  Notwithstanding the matters pending before the Appeals Division and Competent Authority, the Company has reached a tentative agreement with the IRS concerning the examination adjustments proposed.  In the fourth quarter, the Company made a cash payment of $35.0 million to the U.S. Treasury as an advance deposit in anticipation of a formal resolution to the tentatively agreed-to adjustments. Although the advance deposit limits the accrual of additional interest that would be due to the U.S. Treasury, there is no impact on the amount of unrecognized tax benefits until a formal settlement is reached.  Separately, the IRS has informally advised the Company that it intends to commence an examination of the fiscal years 2006 and 2007 during the second quarter of fiscal 2009. The Company had been notified of a disallowance of tax deductions claimed by its subsidiary in Spain for the fiscal years 1999 through 2002.  As a result, the subsidiary was reassessed corporate income tax of $3.3 million for this period, at current exchange rates.  An appeal against this reassessment was filed with the Chief Tax Inspector.  On July 18, 2005, the final assessment made by the Chief Tax Inspector was received, confirming the reassessment made by the tax auditors.  During fiscal 2006, an appeal against this final assessment was filed with the Madrid Regional Economic Administrative Tribunal TEAR.  In view of the TEARs silence, during fiscal 2007 the claim was presumed to be dismissed and an appeal was filed against it with the Central Economic-Administrative Tribunal TEAC.  During the fourth quarter of fiscal 2008, the TEAC dismissed the claim and, on June 10, 2008, the Company filed an appeal for judicial review with the National Appellate Court.  While no assurance can be given as to the outcome in respect of this assessment and pending appeal in the Spanish courts, management believes it is more-likely- than-not that the subsidiary will be successful in its defense against the assessment and continues to measure the full amount of the tax benefit. Accordingly, no tax reserve has been established for this potential exposure. F - 21 Table of Contents During fiscal 2008, the Company concluded various state, local and foreign income tax audits and examinations while several other matters, including those noted above, remained pending.  On the basis of the information available in this regard as of June 30, 2008, it is reasonably possible that a reduction in a range of $30 million to $60 million of unrecognized tax benefits may occur within 12 months as a result of projected resolutions of global tax examinations and controversies. The tax years subject to examination vary depending on the tax jurisdiction. As of June 30, 2008, the following tax years remain subject to examination by the major tax jurisdictions indicated: The Company is also subject to income tax examinations in numerous other state, local and foreign jurisdictions.  The Company believes that its tax reserves are adequate for all years subject to examination. Other accrued liabilities consist of the following: F - 22 Table of Contents The Companys short-term and long-term debt and available financing consist of the following: As of June 30, 2008, the Company had outstanding $296.2 million of 2037 Senior Notes consisting of $300.0 million principal and unamortized debt discount of $3.8 million.  The 2037 Senior Notes, when issued in May 2007, were priced at 98.722 with a yield of 6.093.  Interest payments are required to be made semi-annually on May 15 and November 15.  In April 2007, in anticipation of the issuance of the 2037 Senior Notes, the Company entered into a series of forward-starting interest rate swap agreements on a notional amount totaling $210.0 million at a weighted average all-in rate of 5.45.  The forward- starting interest rate swap agreements were settled upon the issuance of the new debt and the Company recognized a loss in other comprehensive income of $0.9 million that will be amortized to interest expense over the life of the 2037 Senior Notes.  As a result of the forward-starting interest rate swap agreements, the debt discount and debt issuance costs, the effective interest rate on the 2037 Senior Notes will be 6.181 over the life of the debt. As of June 30, 2008, the Company had outstanding $197.5 million of 2033 Senior Notes consisting of $200.0 million principal and unamortized debt discount of $2.5 million.  The 2033 Senior Notes, when issued in September 2003, were priced at 98.645 with a yield of 5.846.  Interest payments are required to be made semi-annually on April 15 and October 15.  In May 2003, in anticipation of the issuance of the 5.75 Senior Notes, the Company entered into a series of treasury lock agreements on a notional amount totaling $195.0 million at a weighted average all-in rate of 4.53.  The treasury lock agreements were settled upon the issuance of the new debt and the Company received a payment of $15.0 million that will be amortized against interest expense over the life of the 2033 Senior Notes.  As a result of the treasury lock agreements, the debt discount and debt issuance costs, the effective interest rate on the 2033 Senior Notes will be 5.395 over the life of the debt. As of June 30, 2008, the Company had outstanding $310.4 million of 2017 Senior Notes consisting of $300.0 million principal, an unamortized debt discount of $0.4 million, and a $10.8 million adjustment to reflect the fair value of outstanding interest rate swaps. The 2017 Senior Notes, when issued in May 2007, were priced at 99.845 with a yield of 5.570.  Interest payments are required to be made semi-annually on May 15 and November 15.  In April 2007, the Company entered into interest rate swap agreements with a notional amount totaling $250.0 million to effectively convert the fixed rate interest on its outstanding 2017 Senior Notes to variable interest rates based on six-month LIBOR. F - 23 Table of Contents As of June 30, 2008, the Company had outstanding $242.0 million of 2012 Senior Notes consisting of $250.0 million principal, an unamortized debt discount of $0.4 million, and a $7.6 million adjustment to reflect the remaining termination value of an interest rate swap.  The 2012 Senior Notes, when issued in January 2002, were priced at 99.538 with a yield of 6.062. Interest payments are required to be made semi-annually on January 15 and July 15.  In May 2003, the Company entered into an interest rate swap agreement with a notional amount of $250.0 million to effectively convert the fixed rate interest on its outstanding 2012 Senior Notes to variable interest rates based on six-month LIBOR.  In April 2007, the Company terminated this interest rate swap.  The instrument, which was classified as a liability, had a fair value of $11.1 million at cash settlement, which included $0.9 million of accrued interest payable to the counterparty.  Hedge accounting treatment was discontinued prospectively and the offsetting adjustment to the carrying amount of the related debt will be amortized to interest expense over the remaining life of the debt. In July 2007, the Company acquired Ojon Corporation.  As part of the purchase price, the Company issued i a promissory note due July 31, 2009 with a notional value of $7.0 million present value of $7.4 million at June 30, 2008, bearing interest at 10.00 due at maturity and ii a promissory note due August 31, 2012 with a notional amount of $13.5 million present value of $15.7 million at June 30, 2008, bearing interest at 10.00 payable annually on July 31.  The notes due in 2009 and 2012 were recorded in the accompanying consolidated balance sheet at present value using effective rates of 5.11 and 5.42, respectively. The Company has a $750.0 million commercial paper program under which it may issue commercial paper in the United States.  The Companys commercial paper is currently rated A-1 by Standard  Poors and P-1 by Moodys.  The Companys long-term credit ratings are A with a stable outlook by Standard  Poors and A2 with a stable outlook by Moodys.  At June 30, 2008, the Company had $83.9 million of commercial paper outstanding, due at various dates through July 2008 at an average interest rate of 2.24, which may be refinanced on a periodic basis as it matures at then-prevailing market interest rates. As of June 30, 2008, the Company had an overdraft borrowing agreement with a financial institution pursuant to which its subsidiary in Turkey may be credited to satisfy outstanding negative daily balances arising from its business operations.  The total balance outstanding at any time shall not exceed 20.0 million Turkish lira.  The interest rate applicable to each such credit shall be 40 basis points per annum above the spot rate charged by the lender or the lenders floating call rate agreed to by the Company at each borrowing.  There were no debt issuance costs incurred related to this agreement.  The outstanding balance at June 30, 2008 $13.1 million at the exchange rate at June 30, 2008 is classified as short-term debt on the Companys consolidated balance sheet. As of June 30, 2008, the Company had a fixed rate promissory note agreement with a financial institution pursuant to which the Company may borrow up to $150.0 million in the form of loan participation notes through one of its subsidiaries in Europe.  The interest rate on borrowings under this agreement is at an all-in fixed rate determined by the lender and agreed to by the Company at the date of each borrowing.  At June 30, 2008, no borrowings were outstanding under this agreement.  Debt issuance costs incurred related to this agreement were de minimis. As of June 30, 2008, the Company had a 3.0 billion yen revolving credit facility that expires on March 24, 2009.  The interest rate on borrowings under the credit facility is based on TIBOR Tokyo Interbank Offered Rate and a 10 basis point facility fee is incurred on the undrawn balance.  At June 30, 2008, the Company did not have any borrowings outstanding under this facility. The Company has an undrawn $750.0 million senior unsecured revolving credit facility that expires on April 26, 2012.  This facility may be used primarily to provide credit support for the Companys commercial paper program, to repurchase shares of its common stock and for general corporate purposes.  Up to the equivalent of $250 million of the credit facility is available for multi-currency loans.  The interest rate on borrowings under the credit facility is based on LIBOR or on the higher of prime, which is the rate of interest publicly announced by the administrative agent, or ½ plus the Federal funds rate.  The Company incurred costs of approximately $0.3 million to establish the facility which will be amortized over the term of the facility.  The credit facility has an annual fee of $0.4 million, payable quarterly, based on the Companys current credit ratings.  The credit facility contains various covenants, including one financial covenant which requires the Companys interest expense coverage ratio as defined in the facility at the last day of each fiscal quarter to be greater than 3.0:1.0.  As of June 30, 2008, the Company was in compliance with this financial covenant.  There are no other conditions where the lenders commitments may be withdrawn, other than certain events of default, as defined in the facility, which are customary for facilities of this type. F - 24 Table of Contents The Company maintains uncommitted credit facilities in various regions throughout the world.  Interest rate terms for these facilities vary by region and reflect prevailing market rates for companies with strong credit ratings. During fiscal 2008 and 2007, the monthly average amount outstanding was approximately $17.4 million and $20.0 million, respectively, and the annualized monthly weighted average interest rate incurred was approximately 5.76 and 5.96, respectively. Refer to Note 15 for the Companys projected debt service payments over the next five fiscal years. The Company addresses certain financial exposures through a controlled program of risk management that includes the use of derivative financial instruments. The Company primarily enters into foreign currency forward and option contracts to reduce the effects of fluctuating foreign currency exchange rates.  The Company, if necessary, enters into interest rate derivatives to manage the effects of interest rate movements on the Companys aggregate liability portfolio.  The Company categorizes these instruments as entered into for purposes other than trading. All derivatives are recognized at their fair value and are included in Prepaid expenses and other current assets or Other accrued __ liabilities in the accompanying balance sheets.  The associated gains and losses on these derivatives are recorded in Cost of sales and Selling, general and administrative expenses in the accompanying statements of earnings.  On the date the derivative contract is entered into, the Company designates the derivative as i a hedge of the fair value of a recognized asset or liability or of an unrecognized firm commitment fair-value hedge, ii a hedge of a forecasted transaction or of the variability of cash flows to be received or paid related to a recognized asset or liability cash-flow hedge, iii a foreign-currency fair-value or cash-flow hedge foreign-currency hedge, iv a hedge of a net investment in a foreign operation, or v other. Changes in the fair value of a derivative that is highly effective as and that is designated and qualifies as a fair-value hedge, along with the loss or gain on the hedged asset or liability that is attributable to the hedged risk including losses or gains on firm commitments, are recorded in current- period earnings.  Changes in the fair value of a derivative that is highly effective as and that is designated and qualifies as a cash-flow hedge are recorded in other comprehensive income, until earnings are affected by the variability of cash flows e.g., when periodic settlements on a variable-rate asset or liability are recorded in earnings.  Changes in the fair value of derivatives that are highly effective as and that are designated and qualify as foreign-currency hedges are recorded in either current-period earnings or other comprehensive income, depending on whether the hedge transaction is a fair-value hedge e.g., a hedge of a firm commitment that is to be settled in a foreign currency or a cash-flow hedge e.g., a foreign-currency-denominated forecasted transaction.  If, however, a derivative is used as a hedge of a net investment in a foreign operation, its changes in fair value, to the extent effective as a hedge, are recorded in accumulated other comprehensive income within equity.  Furthermore, changes in the fair value of other derivative instruments are reported in current-period earnings. For each derivative contract entered into where the Company looks to obtain special hedge accounting treatment, the Company formally documents all relationships between hedging instruments and hedged items, as well as its risk-management objective and strategy for undertaking the hedge transaction, the nature of the risk being hedged, how the hedging instruments effectiveness in offsetting the hedged risk will be assessed prospectively and retrospectively, and a description of the method of measuring ineffectiveness. This process includes linking all derivatives that are designated as fair- value, cash-flow, or foreign-currency hedges to specific assets and liabilities on the balance sheet or to specific firm commitments or forecasted transactions.  The Company also formally assesses, both at the hedges inception and on an ongoing basis, whether the derivatives that are used in hedging transactions are highly effective in offsetting changes in fair values or cash flows of hedged items.  If it is determined that a derivative is not highly effective, or that it has ceased to be a highly effective hedge, the Company will be required to discontinue hedge accounting with respect to that derivative prospectively. F - 25 Table of Contents The Company enters into foreign currency forward contracts to hedge anticipated transactions, as well as receivables and payables denominated in foreign currencies, for periods consistent with the Companys identified exposures.  The purpose of the hedging activities is to minimize the effect of foreign exchange rate movements on costs and on the cash flows that the Company receives from foreign subsidiaries.  The majority of foreign currency forward contracts are denominated in currencies of major industrial countries and are with large financial institutions rated as strong investment grade by a major rating agency.  The Company also enters into foreign currency option contracts to hedge anticipated transactions where there is a high probability that anticipated exposures will materialize.  The foreign currency forward and option contracts entered into to hedge anticipated transactions have been designated as cash-flow hedges.  Hedge effectiveness of foreign currency forward contracts is based on a hypothetical derivative methodology and excludes the portion of fair value attributable to the spot-forward difference which is recorded in current-period earnings.  Hedge effectiveness of foreign currency option contracts is based on a dollar offset methodology.  The ineffective portion of both foreign currency forward and option contracts is recorded in current-period earnings.  For hedge contracts that are no longer deemed highly effective, hedge accounting is discontinued and gains and losses accumulated in other comprehensive income are reclassified to earnings when the underlying forecasted transaction occurs.  If it is probable that the forecasted transaction will no longer occur, then any gains or losses accumulated in other comprehensive income are reclassified to current-period earnings.  As of June 30, 2008, these cash-flow hedges were highly effective, in all material respects. As a matter of policy, the Company only enters into contracts with counterparties that have at least an A or equivalent credit rating.  The counterparties to these contracts are major financial institutions.  The Company does not have significant exposure to any one counterparty.  Exposure to credit loss in the event of nonperformance by any of the counterparties is limited to only the recognized, but not realized, gains attributable to the contracts.  Management believes risk of loss under these hedging contracts is remote and in any event would not be material to the Companys consolidated financial results.  The contracts have varying maturities through the end of June 2009.  Costs associated with entering into such contracts have not been material to the Companys consolidated financial results.  The Company does not utilize derivative financial instruments for trading or speculative purposes. At June 30, 2008, the Company had foreign currency forward and option contracts in the amount of $1,229.0 million and $64.9 million, respectively. The foreign currencies included in foreign currency forward contracts notional value stated in U.S. dollars are principally the Euro $221.6 million, British pound $220.7 million, Swiss franc $206.5 million, Canadian dollar $130.0 million, Australian dollar $91.8 million, Russian ruble $71.9 million and Japanese yen $64.4 million.  The foreign currencies included in the foreign currency option contracts notional value stated in U.S. dollars are principally the Canadian dollar $36.8 million and the South Korean won $23.1 million. At June 30, 2007, the Company had foreign currency forward contracts in the amount of $862.0 million.  The foreign currencies included in foreign currency forward contracts notional value stated in U.S. dollars are principally the British pound $148.1 million, Canadian dollar $140.3 million, Euro $124.1 million, Swiss franc $113.1 million, Australian dollar $79.3 million, Japanese yen $42.6 million and South Korean won $33.6 million. The Company enters into interest rate derivative contracts to manage the exposure to fluctuations of interest rates on its funded indebtedness and anticipated issuance of debt for periods consistent with the identified exposures.  All interest rate derivative contracts are with large financial institutions rated as strong investment grade by a major rating agency. In April 2007, the Company entered into interest rate swap agreements with a notional amount totaling $250.0 million to effectively convert the fixed rate interest on its 2017 Senior Notes to variable interest rates based on six- month LIBOR.  The interest rate swaps were designated as fair-value hedges. As of June 30, 2008, these fair-value hedges were highly effective in all material respects. In April 2007, the Company terminated an interest-rate swap agreement with a notional amount of $250.0 million to effectively convert fixed rate interest on its 2012 Senior Notes to variable interest rates based on six-month LIBOR. This instrument was classified as a liability and had a termination fair value of $11.1 million at cash settlement, which included $0.9 million of accrued interest payable to the counterparty.  Hedge accounting treatment was discontinued prospectively and the offsetting adjustment to the carrying amount of the related debt will be amortized to interest expense over the remaining life of the debt. F - 26 Table of Contents Information regarding the Companys interest rate swap agreements is presented in the following table: The following methods and assumptions were used to estimate the fair value of each class of financial instruments for which it is practicable to estimate that value: Cash and cash equivalents: The carrying amount approximates fair value, primarily because of the short maturity of cash equivalent instruments. Investment securities: Investment securities are primarily designated as available-for-sale securities and are recorded at market value based on quoted market prices. Note receivable: The fair value of the note receivable reflects the creditworthiness of the counterparty, interest rates prevailing in the market for notes with comparable remaining maturities and an assessment of the ultimate collectability of the instrument. Short-term and long-term debt: The fair value of the Companys debt was estimated based on the current rates offered to the Company for debt with the same remaining maturities.  To a lesser extent, debt also includes capital lease obligations for which the carrying amount approximates the fair value. Foreign exchange and interest rate contracts: The fair value of forwards, swaps and options is the estimated amount the Company would receive or pay to terminate the agreements based on quoted market prices at June 30. The estimated fair values of the Companys financial instruments are as follows: 1             The fiscal 2008 carrying amount and fair value included an increase in valuation reserves reflecting the diminishing likelihood of realizing value from a promissory note and convertible preferred stock received in connection with the fiscal 2006 divestiture of the reporting unit that marketed and sold Stila products. F - 27 Table of Contents The Company maintains pension plans covering substantially all of its full- time employees for its U.S. operations and a majority of its international operations.  Several plans provide pension benefits based primarily on years of service and employees earnings.  In certain instances, the Company adjusts benefits in connection with international employee transfers. The Retirement Growth Account Plan is a trust-based, noncontributory qualified defined benefit pension plan.  The Companys funding policy consists of an annual contribution at a rate that provides for future plan benefits and maintains appropriate funded percentages.  Such contribution is not less than the minimum required by the Employee Retirement Income Security Act of 1974, as amended, ERISA and subsequent pension legislation and is not more than the maximum amount deductible for income tax purposes. The Company also has an unfunded, non-qualified domestic noncontributory pension Restoration Plan to provide benefits in excess of Internal Revenue Code limitations. The Company maintains International Pension Plans, the most significant of which are defined benefit pension plans.  The Companys funding policies for these plans are determined by local laws and regulations.  The Companys most significant defined benefit pension obligations are included in the plan summaries below.  Fiscal 2008 plan data reflects a plan amendment designed to provide certain employees of a particular affiliate an opportunity to participate in a defined benefit pension plan with enhanced benefits as compared with their current defined contribution plan.  In addition, fiscal 2008 plan data reflects the growth and relative significance of certain other defined benefit plans. The Company maintains a domestic post-retirement benefit plan which provides certain medical and dental benefits to eligible employees.  Employees hired after January 1, 2002 are not eligible for retiree medical benefits when they retire.  Certain retired employees who are receiving monthly pension benefits are eligible for participation in the plan.  Contributions required and benefits received by retirees and eligible family members are dependent on the age of the retiree.  It is the Companys practice to fund these benefits as incurred. Certain of the Companys international subsidiaries and affiliates have post- retirement plans, although most participants are covered by government- sponsored or administered programs. In September 2006, the FASB issued SFAS No. 158, Employers Accounting for Defined Benefit Pension and Other Postretirement Plans - an amendment of FASB Statements No. 87, 106, and 132R SFAS No. 158.  SFAS No. 158 requires employers to recognize a net liability or asset and an offsetting adjustment to accumulated other comprehensive income to report the funded status of defined benefit pension and other post-retirement benefit plans.  Previous standards required employers to disclose the complete funded status of its plans only in the notes to the consolidated financial statements.  Changes in the funded status of these plans will be recognized as they occur through other comprehensive income.  Additional minimum liability adjustments are no longer recognized upon adoption of SFAS No. 158.  As of June 30, 2007, the Company prospectively adopted the balance sheet recognition provisions of SFAS No. 158, which resulted in a net adjustment of $57.3 million after tax to reduce accumulated other comprehensive income. F - 28 Table of Contents The significant components of the above mentioned plans as of and for the years ended June 30 are summarized as follows: F - 29 Table of Contents The pre-retirement discount rate for each plan used for determining future net periodic benefit cost is based on a review of highly rated long-term bonds. The pre-retirement rate for the Companys U.S. Plans is based on a bond portfolio that includes only long-term bonds with an Aa rating, or equivalent, from a major rating agency.  The Company believes the timing and amount of cash flows related to the bonds included in this portfolio is expected to match the estimated defined benefit payment streams of its U.S. Plans.  In determining the long-term rate of return for a plan, the Company considers the historical rates of return, the nature of the plans investments and an expectation for the plans investment strategies. F - 30 Table of Contents Assumed health care cost trend rates have a significant effect on the amounts reported for the health care plans.  The assumed weighted-average health care cost trend rate for the coming year is 9.34 while the ultimate trend rate of 5.00 is expected to be reached in fiscal 2016.  A one-percentage-point change in assumed health care cost trend rates for fiscal 2008 would have had the following effects: Amounts recognized in accumulated other comprehensive income loss before tax as of June 30, 2008 are as follows: Amounts in accumulated other comprehensive income loss expected to be amortized as components of net periodic benefit cost during fiscal 2009 are as follows: The projected benefit obligation, accumulated benefit obligation and fair value of plan assets for the Companys pension plans at June 30 are as follows: F - 31 Table of Contents International pension plans with projected benefit obligations in excess of the plans assets had aggregate projected benefit obligations of $298.6 million and $115.4 million and aggregate fair value of plan assets of $216.2 million and $53.6 million at June 30, 2008 and 2007, respectively. International pension plans with accumulated benefit obligations in excess of the plans assets had aggregate accumulated benefit obligations of $95.2 million and $81.2 million and aggregate fair value of plan assets of $41.4 million and $35.3 million at June 30, 2008 and 2007, respectively. The target asset allocation policy was set to maximize returns with consideration to the long-term nature of the obligations and maintaining a lower level of overall volatility through the allocation to fixed income. During the year, the asset allocation is reviewed for adherence to the target policy and is rebalanced periodically towards the target weights. The Companys 401k Savings Plan Savings Plan is a contributory defined contribution plan covering substantially all regular U.S. employees who have completed the hours and service requirements, as defined by the plan document. Regular full-time employees are eligible to participate in the Savings Plan thirty days following their date of hire.  The Savings Plan is subject to the applicable provisions of ERISA.  The Company matches a portion of the participants contributions after one year of service under a predetermined formula based on the participants contribution level.  The Companys contributions were approximately $18.7 million, $13.7 million and $10.6 million for the fiscal years ended June 30, 2008, 2007 and 2006, respectively. Shares of the Companys Class A Common Stock are not an investment option in the Savings Plan and the Company does not use such shares to match participants contributions. F - 32 Table of Contents The Company accrues for deferred compensation and interest thereon, and for the increase in the value of share units pursuant to agreements with certain key executives and outside directors.  The amounts included in the accompanying consolidated balance sheets under these plans were $67.9 million and $69.6 million as of June 30, 2008 and 2007.  The expense for fiscal 2008, 2007 and 2006 was $9.2 million, $8.5 million and $11.6 million, respectively. The Company provides certain post-employment benefits to eligible former or inactive employees and their dependents during the period subsequent to employment but prior to retirement.  These benefits include health care coverage and severance benefits.  The cost of providing these benefits is accrued and any incremental benefits were not material to the Companys consolidated financial results. The following table summarizes scheduled maturities of the Companys contractual obligations for which cash flows are fixed and determinable as of June 30, 2008: The Company is involved, from time to time, in litigation and other legal proceedings incidental to its business.  Management believes that the outcome of current litigation and legal proceedings will not have a material adverse effect upon the Companys results of operations or financial condition. However, managements assessment of the Companys current litigation and other legal proceedings could change in light of the discovery of facts with respect to legal actions or other proceedings pending against the Company not presently known to the Company or determinations by judges, juries or other finders of fact which are not in accord with managements evaluation of the possible liability or outcome of such litigation or proceedings. F - 33 Table of Contents In 1999, the Office of the Attorney General of the State of New York the State notified the Company and ten other entities that they had been identified as potentially responsible parties PRPs with respect to the Blydenburgh landfill in Islip, New York.  Each PRP may be jointly and severally liable for the costs of investigation and cleanup, which the State estimated in 2006 to be approximately $19.7 million for all PRPs.  In 2001, the State sued other PRPs including Hickeys Carting, Inc., Dennis C. Hickey and Maria Hickey, collectively the Hickey Parties, in the U.S. District Court for the Eastern District of New York to recover such costs in connection with the site, and in September 2002, the Hickey Parties brought contribution actions against the Company and other Blydenburgh PRPs.  These contribution actions seek to recover, among other things, any damages for which the Hickey Parties are found liable in the States lawsuit against them, and related costs and expenses, including attorneys fees.  In June 2004, the State added the Company and other PRPs as defendants in its pending case against the Hickey Parties.  In April 2006, the Company and other defendants added numerous other parties to the case as third-party defendants.  The Company and certain other PRPs have engaged in settlement discussions which to date have been unsuccessful.  Settlement negotiations with the new third-party defendants, the State, the Company and other defendants began in July 2006. The Company has accrued an amount which it believes would be necessary to resolve its share of this matter.  If settlement discussions are not successful, the Company intends to vigorously defend the pending claims. While no assurance can be given as to the ultimate outcome, management believes that the resolution of the Blydenburgh matters will not have a material adverse effect on the Companys consolidated financial condition. As of June 30, 2008, the Companys authorized common stock consists of 650 million shares of Class A Common Stock, par value $.01 per share, and 240 million shares of Class B Common Stock, par value $.01 per share.  Class B Common Stock is convertible into Class A Common Stock, in whole or in part, at any time and from time to time at the option of the holder, on the basis of one share of Class A Common Stock for each share of Class B Common Stock converted.  Holders of the Companys Class A Common Stock are entitled to one vote per share and holders of the Companys Class B Common Stock are entitled to ten votes per share. Information about the Companys common stock outstanding is as follows: On September 18, 1998, the Companys Board of Directors authorized a share repurchase program to repurchase a total of up to 8.0 million shares of Class A Common Stock in the open market or in privately negotiated transactions, depending on market conditions and other factors.  The Board of Directors authorized the repurchase of up to 10.0 million additional shares of Class A Common Stock in both October 2002 and May 2004, and an additional 20.0 million in each of May 2005, February 2007 and November 2007, increasing the total authorization under the share repurchase program to 88.0 million shares.  As of June 30, 2008, approximately 64.1 million shares have been purchased under this program. F - 34 Table of Contents In March 2007, the Company repurchased approximately 15,960,800 shares of its outstanding Class A Common Stock for $750.0 million through an accelerated share repurchase program with a financial counterparty.  These shares were accounted for as treasury stock, carried at cost, and reflected as a reduction to stockholders equity.  In August 2007, the financial counterparty informed the Company that it had completed its obligations under the agreement.  The per-share price paid by the Company at inception of the program exceeded the final volume weighted average price per share, as defined by the contract. Accordingly, the Company received 97,417 shares of its Class A Common Stock from the financial counterparty as a price adjustment and final settlement, which was recorded as treasury stock and additional paid-in capital in the consolidated balance sheet. As of June 30, 2008, the Company has three active equity compensation plans which include the Amended and Restated Fiscal 2002 Share Incentive Plan, the Fiscal 1999 Share Incentive Plan and the Non-Employee Director Share Incentive Plan collectively, the Plans.  These Plans currently provide for the issuance of 33,194,400 shares, which consist of shares originally provided for and shares transferred to the Plans from a previous plan and employment agreement, to be granted in the form of stock-based awards to key employees, consultants and non-employee directors of the Company.  As of June 30, 2008, approximately 7,184,400 shares of Class A Common Stock were reserved and available to be granted pursuant to these Plans, subject to the approval by the Stock Plan Subcommittee of the Companys Board of Directors of expected payouts for performance share units PSU vested as of June 30, 2008.  The Company may satisfy the obligation of its stock-based compensation awards with either new or treasury shares.  The Companys stock compensation awards outstanding at June 30, 2008 include stock options, PSUs, restricted stock units RSU and share units. Total net stock-based compensation expense is attributable to the granting of, and the remaining requisite service periods of, stock options, PSUs, RSUs and share units.  Compensation expense attributable to net stock-based compensation for fiscal 2008, 2007 and 2006 was $47.2 million $31.2 million after tax, $43.2 million $28.3 million after tax and $35.7 million $23.4 million after tax, respectively.  As of June 30, 2008, the total unrecognized compensation cost related to nonvested stock-based awards was $27.6 million and the related weighted-average period over which it is expected to be recognized is approximately 1.6 years. A summary of the Companys stock option programs as of June 30, 2008 and changes during the fiscal year then ended, is presented below: 1 The intrinsic value of a stock option is the amount by which the current market value of the underlying stock exceeds the exercise price of the option. F - 35 Table of Contents The exercise period for all stock options generally may not exceed ten years from the date of grant.  Stock option grants to individuals generally become exercisable in three substantively equal tranches over a service period of up to four years.  The Company attributes the value of option awards on a straight-line basis over the requisite service period for each separately vesting portion of the award as if the award was, in substance, multiple awards. The per-share weighted-average grant date fair value of stock options granted during fiscal 2008, 2007 and 2006 was $14.36, $13.69 and $11.87, respectively. The total intrinsic value of stock options exercised during fiscal 2008, 2007 and 2006 was $33.2 million, $72.3 million and $38.0 million, respectively. The fair value of each option grant was estimated on the date of grant using the Black-Scholes option-pricing model with the following assumptions: During fiscal 2008, the Company issued 119,200 PSUs, which will be settled in stock subject to the achievement of the Companys net sales and net earnings per share goals for the three years ending June 30, 2010 and subject to the continued employment of the grantees.  Settlement will be made pursuant to a range of opportunities relative to the net sales and diluted net earnings per common share targets of the Company and, as such, the compensation cost of the PSU is subject to adjustment based upon the attainability of these target goals.  No settlement will occur for results below the applicable minimum threshold and additional shares shall be issued if performance exceeds the targeted performance goals.  PSUs are accompanied by dividend equivalent rights that will be payable in cash upon settlement of the PSU.  These awards are subject to the provisions of the agreement under which the PSUs are granted.  The PSUs were valued at the closing market value of the Companys Class A Common Stock on the date of grant and generally vest at the end of the performance period.  Approximately 78,400 shares of the Companys Class A Common Stock are anticipated to be issued, relative to the target goals set at the time of issuance, in settlement of the 96,600 PSUs that vested as of June 30, 2008.  These awards will be settled in the first quarter of fiscal 2009, subject to the approval of the Stock Plan Subcommittee of the Companys Board of Directors. The following is a summary of the status of the Companys PSUs as of June 30, 2008 and activity during the fiscal year then ended: F - 36 Table of Contents The Company granted approximately 585,000 RSUs during fiscal 2008.  At the time of grant, 324,700 were scheduled to vest on October 31, 2008, 169,000 on November 2, 2009 and 91,300 on November 1, 2010, all subject to the continued employment or retirement of the grantees.  Certain RSUs granted in fiscal 2008 are accompanied by dividend equivalent rights that will be payable in cash upon settlement of the RSU and, as such, were valued at the closing market value of the Companys Class A Common Stock on the date of grant.  Other RSUs granted in fiscal 2008 are not accompanied by dividend equivalent rights and, as such, were valued at the closing market value of the Companys Class A Common Stock on the date of grant less the discounted present value of the dividends expected to be paid on the shares during the vesting period. The following is a summary of the status of the Companys RSUs as of June 30, 2008 and activity during the fiscal year then ended: The Company grants share units to certain non-employee directors under the Non-Employee Director Share Incentive Plan.  The share units are convertible into shares of Class A Common Stock as provided for in that plan.  Share units are accompanied by dividend equivalent rights that are converted to additional share units when such dividends are declared.  The following is a summary of the status of the Companys share units as of June 30, 2008 and activity during the fiscal year then ended: Certain non-employee directors defer cash compensation in the form of cash payout share units, which are not subject to the Plans.  These share units are classified as liabilities and, as such, their fair value is adjusted to reflect the current market value of the Companys Class A Common Stock.  The Company recorded $0.5 million, $0.8 million and $0.5 million as compensation expense to reflect additional deferrals and the change in the market value for fiscal 2008, 2007 and 2006, respectively. F - 37 Table of Contents For the years ended June 30, 2008, 2007 and 2006, net earnings per common share basic EPS is computed by dividing net earnings by the weighted average number of common shares outstanding and contingently issuable shares which satisfy certain conditions.  Net earnings per common share assuming dilution diluted EPS is computed by reflecting potential dilution from stock-based awards and contingently issuable shares. A reconciliation between the numerators and denominators of the basic and diluted EPS computations is as follows: As of June 30, 2008, 2007 and 2006, outstanding options to purchase 7.1 million, 6.0 million and 13.6 million shares, respectively, of Class A Common Stock were not included in the computation of diluted EPS because their inclusion would be anti-dilutive.  As of June 30, 2008, 2007 and 2006, 0.2 million, 0.2 million and 0.1 million, respectively, of performance share units have been excluded from the calculation of diluted EPS because the number of shares ultimately issued is contingent on the achievement of certain performance targets of the Company, as discussed in Note 17. F - 38 Table of Contents The components of Accumulated other comprehensive income OCI included in the accompanying consolidated balance sheets consist of the following: Of the $7.9 million, net of tax, derivative instrument gain recorded in OCI at June 30, 2008, $9.0 million, net of tax, related to the October 2003 gain from the settlement of the treasury lock agreements upon the issuance of the Companys 5.75 Senior Notes due October 2033, which is being reclassified to earnings as an offset to interest expense over the life of the debt. Partially offsetting this gain was $0.6 million, net of tax, related to a loss from the settlement of a series of forward-starting interest rate swap agreements upon the issuance of the Companys 6.00 Senior Notes due May 2037, which will be reclassified to earnings as an addition to interest expense over the life of the debt.  Also partially offsetting the net derivative instrument gain recorded in OCI was $0.5 million in losses, net of tax, related to foreign currency forward and option contracts which the Company will reclassify to earnings during the next twelve months. Refer to Note 13 for the discussion regarding the net pension and post- retirement adjustments. F - 39 Table of Contents Supplemental cash flow information related to certain non-cash investing and financing transactions for fiscal 2008, 2007 and 2006 is as follows: Reportable operating segments, as defined by SFAS No. 131, Disclosures about Segments of an Enterprise and Related Information, include components of an enterprise about which separate financial information is available that is evaluated regularly by the chief operating decision maker the Chief Executive in deciding how to allocate resources and in assessing performance.  As a result of the similarities in the manufacturing, marketing and distribution processes for all of the Companys products, much of the information provided in the consolidated financial statements is similar to, or the same as, that reviewed on a regular basis by the Chief Executive. Although the Company operates in one business segment, beauty products, management also evaluates performance on a product category basis. While the Companys results of operations are also reviewed on a consolidated basis, the Chief Executive reviews data segmented on a basis that facilitates comparison to industry statistics.  Accordingly, net sales, depreciation and amortization, and operating income are available with respect to the manufacture and distribution of skin care, makeup, fragrance, hair care and other products.  These product categories meet the FASBs definition of operating segments and, accordingly, additional financial data are provided below.  The other segment includes the sales and related results of ancillary products and services that do not fit the definition of skin care, makeup, fragrance and hair care. The Company evaluates segment performance based upon operating income, which represents earnings before income taxes, minority interest, net interest expense and discontinued operations.  The accounting policies for each of the reportable segments are the same as those described in the summary of significant accounting policies, except for depreciation and amortization charges, which are allocated, primarily, based upon net sales.  The assets and liabilities of the Company are managed centrally and are reported internally in the same manner as the consolidated financial statements; thus, no additional information is produced for the Chief Executive or included herein. F - 40 Table of Contents The Company is domiciled in the United States.  Net sales in the United States in fiscal 2008, 2007 and 2006 were $3,276.2 million, $3,224.5 million and $3,141.4 million, respectively.  The Companys long-lived assets in the United States at June 30, 2008, 2007 and 2006 were $597.8 million, $520.1 million and $452.7 million, respectively. F - 41 Table of Contents The following summarizes the unaudited quarterly operating results of the Company for the years ended June 30, 2008 and 2007: F - 42 Table of Contents a          Includes amounts written-off, net of recoveries. S - 1 Table of Contents Table of Contents Table of Contents Table of Contents   Exhibit is a management contract or compensatory plan or arrangement. '"
      ]
     },
     "execution_count": 123,
     "metadata": {},
     "output_type": "execute_result"
    }
   ],
   "source": [
    "all_comps.loc[2,'Text']"
   ]
  },
  {
   "cell_type": "code",
   "execution_count": null,
   "metadata": {},
   "outputs": [],
   "source": []
  },
  {
   "cell_type": "code",
   "execution_count": null,
   "metadata": {},
   "outputs": [],
   "source": []
  },
  {
   "cell_type": "code",
   "execution_count": null,
   "metadata": {},
   "outputs": [],
   "source": []
  },
  {
   "cell_type": "code",
   "execution_count": null,
   "metadata": {},
   "outputs": [],
   "source": []
  },
  {
   "cell_type": "code",
   "execution_count": 530,
   "metadata": {},
   "outputs": [
    {
     "name": "stderr",
     "output_type": "stream",
     "text": [
      "100%|██████████████████████████████████████████████████████████████████████████████████| 45/45 [00:26<00:00,  1.68it/s]\n"
     ]
    }
   ],
   "source": [
    "fval_words = []\n",
    "fval_preds = []\n",
    "for inputs,targets,sentence_lens in tqdm(dataloaders['val']):\n",
    "    inputs = inputs.to(device)\n",
    "    sentence_lens = torch.tensor(sentence_lens,dtype=torch.long,device=device)\n",
    "    with torch.no_grad():\n",
    "        outputs = model(inputs,sentence_lens)\n",
    "        preds = torch.argmax(outputs,dim=1).permute(1,0)\n",
    "        words = inputs.flatten()\n",
    "        word_preds = preds.flatten()\n",
    "        for i in range(words.size()[0]):\n",
    "            if words[i].item() != 0:\n",
    "                fval_words.append(train_data.vocabulary.idx2word[words[i].item()])\n",
    "                fval_preds.append(word_preds[i].item())"
   ]
  },
  {
   "cell_type": "code",
   "execution_count": 533,
   "metadata": {},
   "outputs": [],
   "source": [
    "cluster_preds = {}\n",
    "for i in range(29):\n",
    "    cluster_preds[i]=[]\n",
    "for word,pred in zip(fval_words,fval_preds):\n",
    "    cluster_preds[pred].append(word)\n",
    "for i in range(29):\n",
    "    cluster_preds[i]=list(set(cluster_preds[i]))"
   ]
  },
  {
   "cell_type": "code",
   "execution_count": 541,
   "metadata": {},
   "outputs": [],
   "source": [
    "file1 = open('first_run_preds.pkl','wb')\n",
    "pickle.dump(cluster_preds,file1)\n",
    "file1.close()\n",
    "file2 = open('first_run_og.pkl','wb')\n",
    "pickle.dump(cluster_dict,file2)\n",
    "file2.close()"
   ]
  },
  {
   "cell_type": "code",
   "execution_count": 559,
   "metadata": {
    "scrolled": true
   },
   "outputs": [
    {
     "name": "stdout",
     "output_type": "stream",
     "text": [
      "['wgi', 'biotic', 'hypoxemia', 'stee', 'whe', 'lampitt', 'calcify', 'lakebeds', 'milly', 'illustrative', 'arr', 'rng', 'chroniclers', 'seasonality', 'situ', 'plagues', 'multiscale', 'ellie', 'ottmar', 'cloudier', 'pauline', 'wm', 'avoidable', 'sérgio', 'homeostatic', 'dx', 'stimulatory', 'inversely', 'cdr', 'bathypelagic', 'cece', 'troposphere', 'berkes', 'chem', 'exacerbation', 'breakpoints', 'modulations', 'poleward', 'ei', 'continuations', 'attributional', 'neutralization', 'localized', 'hsd', 'priori', 'scaler', 'eal', 'concessional', 'gnv', 'disrupts', 'timescale', 'huxleyi', 'insolation', 'raper', 'photosystem', 'borehole', 'susanne', 'regulary', 'nuttall', 'typologies', 'constrains', 'overestimation', 'limacina', 'skiba', 'hore', 'gf', 'nonlinear', 'baselines', 'phenology', 'upwelling', 'tor', 'sio', 'thickening', 'hwp', 'urbanization', 'vv', 'reto', 'renner', 'wanninkhof', 'lemelin', 'modifies', 'gridded', 'biophysical', 'timescales', 'arbuscula', 'porites', 'depletions', 'thresholds', 'biogeochemistry', 'tes', 'barcelos', 'imprecision', 'aishihik', 'inchi', 'thermodynamically', 'incubated', 'acknowledgement', 'likelihoods', 'oscillation', 'gwt', 'diversions', 'castrates', 'occurring', 'organizacion', 'berkhout', 'thermohaline', 'modellers', 'autonoma', 'intentional', 'conceptualization', 'lamarque', 'eet', 'homogeneity', 'meriting', 'erda', 'wg', 'paleoclimate', 'gcms', 'firn', 'evaporation', 'hotspots', 'oq', 'kristie', 'tren', 'mathiesen', 'representativeness', 'rendu', 'stammler', 'finalization', 'decoupling', 'radiosonde', 'concomitant', 'ebm', 'invariant', 'kinne', 'engendered', 'contrails', 'varghese', 'intensification', 'interannual', 'impacts', 'sedges', 'synergistic', 'characterised', 'paresh', 'lovecraft', 'calcifying', 'hypothesized', 'rediscovery', 'biogeochemical', 'reflexive', 'folke', 'mainstreaming', 'strassmann', 'tetrafluoride', 'zwiers', 'labarthe', 'furgal', 'shishmaref', 'dorey', 'anomaly', 'interpolation', 'vuuren', 'bluetongue', 'aerosols', 'annular', 'deterministic', 'elinor', 'acclimatization', 'dieback', 'gien', 'biochar', 'radiative', 'thawing', 'gradients', 'otf', 'watler', 'posited', 'dof', 'downscaled', 'yukaghir', 'foce', 'plattner', 'cela', 'subtractions', 'droughts', 'ered', 'pht', 'chap', 'ghgs', 'maunder', 'airconditioning', 'oscillations', 'sahelian', 'timm', 'foram', 'gyres', 'bex', 'arrigo', 'moy', 'haruko', 'buffering', 'premised', 'provisioning', 'elemental', 'anomalous', 'socolow', 'depletion', 'stratosphere', 'moony', 'ulrike', 'prowse', 'detectability', 'lessened', 'unquantified', 'stickiness', 'gees', 'timberline', 'turbid', 'discharges', 'guyot', 'discontinuation', 'vegetated', 'reconstructions', 'glossary', 'acidification', 'impinges', 'disconnections', 'boreas', 'sakai', 'subtidal', 'acclimation', 'inferred', 'cp', 'constraining', 'hydrological', 'phys', 'ebene', 'correspondingly', 'millennia', 'ishimatsu', 'ceca', 'accelerometers', 'ey', 'fluxes', 'vanstone', 'salinity', 'stratospheric', 'opal', 'ppb', 'gwp', 'birgitta', 'mechanistic', 'shrinkage', 'ministerio', 'yoshihisa', 'intraregional', 'latinoamericana', 'kyr', 'optima', 'quadrupling', 'hemispheres', 'kazuhiko', 'gg', 'spatially', 'vel', 'javanicus', 'moel', 'oe', 'precession', 'emori', 'lobell', 'sediments', 'initialized', 'detectable', 'bleaching', 'reanalysis', 'cumulated', 'gratefully', 'subtropics', 'nebojsa', 'disaggregated', 'wigley', 'keigo', 'bifurcation', 'intentionality', 'subpolar', 'breakouts', 'spatiotemporal', 'kram', 'cloudiness', 'cirrus', 'sargasso', 'srm', 'exacerbated', 'freshening', 'itex', 'inset', 'drawdown', 'combinatory', 'daneman', 'schlossplatz', 'fortunat', 'integrations', 'preindustrial', 'southcott', 'bjork', 'sprayers', 'simulating', 'chini', 'comparability', 'acidified', 'mnp', 'longwave', 'climatic', 'enso', 'breading', 'nonlinearities', 'técnico', 'equilibration', 'exacerbating', 'kholm', 'kandeh', 'attributable', 'riahi', 'tropospheric', 'ppps', 'iz', 'parameterization', 'recharges', 'anokhin', 'typology', 'gonad', 'mitigating', 'relabeling', 'subarctic', 'esse', 'bifurcations', 'elaborates', 'resultant', 'surges', 'hester', 'upwell', 'reporte', 'thermocline', 'akbari', 'kplc', 'dispersal', 'unexplained', 'gcm', 'teeb', 'distinguishable', 'adger', 'reflectivity', 'inundation', 'situating', 'localised', 'sequestration', 'redfield', 'unevenness', 'spm', 'contrasted', 'oryzias', 'coarser', 'yy', 'gef', 'nonequilibrium', 'trom', 'anthropogenic', 'phenomena', 'halocarbons', 'perceiving', 'exteriores', 'ora', 'maccracken', 'weathering', 'joelle', 'hydrologic', 'quantifies', 'percentiles', 'overviews', 'albedo', 'disaggregation', 'malyshev', 'conflating', 'summarizes', 'brightening', 'ambiguously', 'petm', 'degrades', 'mesoscale', 'thierno', 'bioenergy', 'isotopically', 'permafrost', 'pentafluoride', 'summertime', 'perturbing', 'perturbations', 'interacademy', 'cascading', 'oligotrophic', 'lgm', 'observable', 'tet', 'comprehensiveness', 'supersaturation', 'thicknesses', 'sres', 'oy', 'erosional', 'feedbacks', 'meridional', 'fugacity', 'heterogeneity', 'bw', 'syntheses', 'perturbation', 'realizations', 'tcc', 'joos', 'forcings', 'overemphasizing', 'sedimentation', 'overshoot', 'espace', 'attenuation', 'nucleation', 'remineralization', 'briet', 'daniela', 'albedos', 'uscs', 'dynamical', 'sedimentary', 'subsidence', 'onsen', 'magnitudes', 'mikiko', 'wastage', 'downscaling', 'prioritizes', 'zl', 'lindblad', 'ph', 'stylized', 'quantification', 'amap', 'interpolated', 'cryosphere', 'farahani', 'caldeira', 'quantifying', 'yr', 'geochemical', 'unavoidable', 'gtp', 'bracketed', 'replenishment', 'minicam', 'amplifications', 'dataset', 'geoengineering', 'etal', 'latitudes', 'eset', 'luers', 'mitigation', 'kinoshita', 'transgressing', 'é', 'anoxic', 'caff', 'coccolithophores', 'hypercapnia', 'occurs', 'euler']\n",
      "['acidification', 'anthropogenic', 'albedo', 'permafrost', 'stratospheric', 'tropospheric', 'biochar', 'overshoot', 'brightening', 'sequestration', 'acclimation', 'salinity', 'enso', 'nebojsa', 'situ', 'subsurface', 'reflectivity', 'hydrologic', 'paleoclimate', 'insolation', 'bleaching', 'tropopause', 'annular', 'poleward', 'thermohaline', 'stressor', 'depletion', 'subpolar', 'stratocumulus', 'shrinkage', 'meltwater', 'consequent', 'irradiance', 'alteration', 'intensification', 'evaporation', 'buffering', 'mesoscale', 'equilibration', 'anoxic', 'stratification', 'subsidence', 'remineralization', 'replenishment', 'resultant', 'snowpack', 'maladaptive', 'stepwise', 'hysteresis', 'turbid', 'revegetation', 'cloudiness', 'parameterization', 'obliquity', 'pluvial', 'dispersal', 'hypercapnia', 'fugacity', 'equatorward', 'transect', 'eutrophication', 'dieback', 'inundation', 'streamflow', 'accretion', 'snowmelt', 'prohibitive', 'periglacial', 'contrail', 'minima', 'wintertime', 'summertime', 'thermocline', 'gyre', 'longwave', 'sequester', 'areal', 'supersaturation', 'nucleation', 'discontinuation', 'nonlinearity', 'coarser', 'steric', 'fecund', 'bioaccumulation', 'phanerozoic', 'neutralization', 'flagellar', 'percolation', 'evapotranspiration', 'midwater', 'wildland', 'retrofit', 'unavailability', 'overexploitation', 'drawdown', 'escapement', 'contextualization', 'rossby', 'underlain', 'inthe', 'interspecific', 'subsea', 'depopulation', 'collectivization', 'urbanisation', 'hotspot', 'treeline', 'bimodal', 'washout', 'phaseout', 'cosmogenic', 'cloudier', 'dryness', 'wastage', 'icesheet', 'compaction', 'roughness', 'storminess', 'infrequent', 'borehole', 'largescale', 'monsoonal', 'spline', 'inset', 'overlain', 'droplet', 'tillage', 'combust', 'micronutrient', 'reversion', 'detectability', 'misalignment', 'orography', 'handoff', 'impulsion', 'discontinuity', 'intraspecific', 'ccd', 'sepia', 'equilibrate', 'sedimentation', 'underestimation', 'overestimation', 'substratum', 'fecundity', 'photosystem', 'radionuclide', 'exacerbation', 'hypoxemia', 'acclimatization', 'reallocation', 'seafloor', 'outflow']\n"
     ]
    }
   ],
   "source": [
    "x = 16\n",
    "print(cluster_preds[x])\n",
    "print(cluster_dict[x])"
   ]
  },
  {
   "cell_type": "code",
   "execution_count": 515,
   "metadata": {},
   "outputs": [],
   "source": []
  },
  {
   "cell_type": "code",
   "execution_count": null,
   "metadata": {},
   "outputs": [],
   "source": []
  }
 ],
 "metadata": {
  "kernelspec": {
   "display_name": "Python 3",
   "language": "python",
   "name": "python3"
  },
  "language_info": {
   "codemirror_mode": {
    "name": "ipython",
    "version": 3
   },
   "file_extension": ".py",
   "mimetype": "text/x-python",
   "name": "python",
   "nbconvert_exporter": "python",
   "pygments_lexer": "ipython3",
   "version": "3.7.6"
  }
 },
 "nbformat": 4,
 "nbformat_minor": 2
}
